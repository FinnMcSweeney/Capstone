{
 "cells": [
  {
   "cell_type": "code",
   "execution_count": 1,
   "metadata": {},
   "outputs": [],
   "source": [
    "import tensorflow as tf\n",
    "import os\n",
    "import pandas as pd\n",
    "import numpy as np"
   ]
  },
  {
   "attachments": {},
   "cell_type": "markdown",
   "metadata": {},
   "source": [
    "1. Load in the csv file. "
   ]
  },
  {
   "cell_type": "code",
   "execution_count": 2,
   "metadata": {},
   "outputs": [],
   "source": [
    "df = pd.read_csv('aqi_ny.csv')"
   ]
  },
  {
   "attachments": {},
   "cell_type": "markdown",
   "metadata": {},
   "source": [
    "2. Drop the extra index."
   ]
  },
  {
   "cell_type": "code",
   "execution_count": 3,
   "metadata": {},
   "outputs": [],
   "source": [
    "df = df.drop('Unnamed: 0', axis=1)"
   ]
  },
  {
   "cell_type": "code",
   "execution_count": 4,
   "metadata": {},
   "outputs": [
    {
     "data": {
      "text/html": [
       "<div>\n",
       "<style scoped>\n",
       "    .dataframe tbody tr th:only-of-type {\n",
       "        vertical-align: middle;\n",
       "    }\n",
       "\n",
       "    .dataframe tbody tr th {\n",
       "        vertical-align: top;\n",
       "    }\n",
       "\n",
       "    .dataframe thead th {\n",
       "        text-align: right;\n",
       "    }\n",
       "</style>\n",
       "<table border=\"1\" class=\"dataframe\">\n",
       "  <thead>\n",
       "    <tr style=\"text-align: right;\">\n",
       "      <th></th>\n",
       "      <th>date</th>\n",
       "      <th>co</th>\n",
       "      <th>no</th>\n",
       "      <th>no2</th>\n",
       "      <th>o3</th>\n",
       "      <th>so2</th>\n",
       "      <th>pm2_5</th>\n",
       "      <th>pm10</th>\n",
       "      <th>nh3</th>\n",
       "      <th>aqi</th>\n",
       "      <th>latitude</th>\n",
       "      <th>longitude</th>\n",
       "      <th>city</th>\n",
       "    </tr>\n",
       "  </thead>\n",
       "  <tbody>\n",
       "    <tr>\n",
       "      <th>0</th>\n",
       "      <td>2020-12-01 05:00:00</td>\n",
       "      <td>373.84</td>\n",
       "      <td>1.50</td>\n",
       "      <td>43.87</td>\n",
       "      <td>8.49</td>\n",
       "      <td>6.86</td>\n",
       "      <td>9.31</td>\n",
       "      <td>11.75</td>\n",
       "      <td>1.30</td>\n",
       "      <td>2</td>\n",
       "      <td>40.7127</td>\n",
       "      <td>-74.006</td>\n",
       "      <td>New York, NY</td>\n",
       "    </tr>\n",
       "    <tr>\n",
       "      <th>1</th>\n",
       "      <td>2020-12-01 06:00:00</td>\n",
       "      <td>343.80</td>\n",
       "      <td>1.16</td>\n",
       "      <td>37.70</td>\n",
       "      <td>9.39</td>\n",
       "      <td>7.09</td>\n",
       "      <td>8.43</td>\n",
       "      <td>10.47</td>\n",
       "      <td>1.09</td>\n",
       "      <td>1</td>\n",
       "      <td>40.7127</td>\n",
       "      <td>-74.006</td>\n",
       "      <td>New York, NY</td>\n",
       "    </tr>\n",
       "    <tr>\n",
       "      <th>2</th>\n",
       "      <td>2020-12-01 07:00:00</td>\n",
       "      <td>337.12</td>\n",
       "      <td>1.79</td>\n",
       "      <td>35.99</td>\n",
       "      <td>6.35</td>\n",
       "      <td>7.21</td>\n",
       "      <td>8.55</td>\n",
       "      <td>10.80</td>\n",
       "      <td>1.08</td>\n",
       "      <td>1</td>\n",
       "      <td>40.7127</td>\n",
       "      <td>-74.006</td>\n",
       "      <td>New York, NY</td>\n",
       "    </tr>\n",
       "    <tr>\n",
       "      <th>3</th>\n",
       "      <td>2020-12-01 08:00:00</td>\n",
       "      <td>337.12</td>\n",
       "      <td>3.38</td>\n",
       "      <td>34.96</td>\n",
       "      <td>3.09</td>\n",
       "      <td>7.63</td>\n",
       "      <td>8.92</td>\n",
       "      <td>11.57</td>\n",
       "      <td>1.08</td>\n",
       "      <td>1</td>\n",
       "      <td>40.7127</td>\n",
       "      <td>-74.006</td>\n",
       "      <td>New York, NY</td>\n",
       "    </tr>\n",
       "    <tr>\n",
       "      <th>4</th>\n",
       "      <td>2020-12-01 09:00:00</td>\n",
       "      <td>340.46</td>\n",
       "      <td>5.87</td>\n",
       "      <td>33.59</td>\n",
       "      <td>1.16</td>\n",
       "      <td>8.23</td>\n",
       "      <td>9.62</td>\n",
       "      <td>12.64</td>\n",
       "      <td>1.09</td>\n",
       "      <td>1</td>\n",
       "      <td>40.7127</td>\n",
       "      <td>-74.006</td>\n",
       "      <td>New York, NY</td>\n",
       "    </tr>\n",
       "    <tr>\n",
       "      <th>...</th>\n",
       "      <td>...</td>\n",
       "      <td>...</td>\n",
       "      <td>...</td>\n",
       "      <td>...</td>\n",
       "      <td>...</td>\n",
       "      <td>...</td>\n",
       "      <td>...</td>\n",
       "      <td>...</td>\n",
       "      <td>...</td>\n",
       "      <td>...</td>\n",
       "      <td>...</td>\n",
       "      <td>...</td>\n",
       "      <td>...</td>\n",
       "    </tr>\n",
       "    <tr>\n",
       "      <th>18056</th>\n",
       "      <td>2022-12-31 13:00:00</td>\n",
       "      <td>821.11</td>\n",
       "      <td>62.58</td>\n",
       "      <td>61.69</td>\n",
       "      <td>0.00</td>\n",
       "      <td>5.48</td>\n",
       "      <td>36.08</td>\n",
       "      <td>44.15</td>\n",
       "      <td>3.39</td>\n",
       "      <td>3</td>\n",
       "      <td>40.7127</td>\n",
       "      <td>-74.006</td>\n",
       "      <td>New York, NY</td>\n",
       "    </tr>\n",
       "    <tr>\n",
       "      <th>18057</th>\n",
       "      <td>2022-12-31 14:00:00</td>\n",
       "      <td>1028.06</td>\n",
       "      <td>92.09</td>\n",
       "      <td>69.23</td>\n",
       "      <td>0.12</td>\n",
       "      <td>6.56</td>\n",
       "      <td>45.75</td>\n",
       "      <td>56.04</td>\n",
       "      <td>3.96</td>\n",
       "      <td>3</td>\n",
       "      <td>40.7127</td>\n",
       "      <td>-74.006</td>\n",
       "      <td>New York, NY</td>\n",
       "    </tr>\n",
       "    <tr>\n",
       "      <th>18058</th>\n",
       "      <td>2022-12-31 15:00:00</td>\n",
       "      <td>1134.87</td>\n",
       "      <td>104.61</td>\n",
       "      <td>69.23</td>\n",
       "      <td>0.46</td>\n",
       "      <td>8.11</td>\n",
       "      <td>50.21</td>\n",
       "      <td>61.68</td>\n",
       "      <td>4.12</td>\n",
       "      <td>4</td>\n",
       "      <td>40.7127</td>\n",
       "      <td>-74.006</td>\n",
       "      <td>New York, NY</td>\n",
       "    </tr>\n",
       "    <tr>\n",
       "      <th>18059</th>\n",
       "      <td>2022-12-31 16:00:00</td>\n",
       "      <td>1121.52</td>\n",
       "      <td>101.92</td>\n",
       "      <td>64.43</td>\n",
       "      <td>0.44</td>\n",
       "      <td>9.42</td>\n",
       "      <td>48.14</td>\n",
       "      <td>59.03</td>\n",
       "      <td>4.18</td>\n",
       "      <td>3</td>\n",
       "      <td>40.7127</td>\n",
       "      <td>-74.006</td>\n",
       "      <td>New York, NY</td>\n",
       "    </tr>\n",
       "    <tr>\n",
       "      <th>18060</th>\n",
       "      <td>2022-12-31 17:00:00</td>\n",
       "      <td>1054.76</td>\n",
       "      <td>97.45</td>\n",
       "      <td>56.89</td>\n",
       "      <td>0.51</td>\n",
       "      <td>10.25</td>\n",
       "      <td>44.33</td>\n",
       "      <td>54.28</td>\n",
       "      <td>4.24</td>\n",
       "      <td>3</td>\n",
       "      <td>40.7127</td>\n",
       "      <td>-74.006</td>\n",
       "      <td>New York, NY</td>\n",
       "    </tr>\n",
       "  </tbody>\n",
       "</table>\n",
       "<p>18061 rows × 13 columns</p>\n",
       "</div>"
      ],
      "text/plain": [
       "                      date       co      no    no2    o3    so2  pm2_5   pm10  \\\n",
       "0      2020-12-01 05:00:00   373.84    1.50  43.87  8.49   6.86   9.31  11.75   \n",
       "1      2020-12-01 06:00:00   343.80    1.16  37.70  9.39   7.09   8.43  10.47   \n",
       "2      2020-12-01 07:00:00   337.12    1.79  35.99  6.35   7.21   8.55  10.80   \n",
       "3      2020-12-01 08:00:00   337.12    3.38  34.96  3.09   7.63   8.92  11.57   \n",
       "4      2020-12-01 09:00:00   340.46    5.87  33.59  1.16   8.23   9.62  12.64   \n",
       "...                    ...      ...     ...    ...   ...    ...    ...    ...   \n",
       "18056  2022-12-31 13:00:00   821.11   62.58  61.69  0.00   5.48  36.08  44.15   \n",
       "18057  2022-12-31 14:00:00  1028.06   92.09  69.23  0.12   6.56  45.75  56.04   \n",
       "18058  2022-12-31 15:00:00  1134.87  104.61  69.23  0.46   8.11  50.21  61.68   \n",
       "18059  2022-12-31 16:00:00  1121.52  101.92  64.43  0.44   9.42  48.14  59.03   \n",
       "18060  2022-12-31 17:00:00  1054.76   97.45  56.89  0.51  10.25  44.33  54.28   \n",
       "\n",
       "        nh3  aqi  latitude  longitude          city  \n",
       "0      1.30    2   40.7127    -74.006  New York, NY  \n",
       "1      1.09    1   40.7127    -74.006  New York, NY  \n",
       "2      1.08    1   40.7127    -74.006  New York, NY  \n",
       "3      1.08    1   40.7127    -74.006  New York, NY  \n",
       "4      1.09    1   40.7127    -74.006  New York, NY  \n",
       "...     ...  ...       ...        ...           ...  \n",
       "18056  3.39    3   40.7127    -74.006  New York, NY  \n",
       "18057  3.96    3   40.7127    -74.006  New York, NY  \n",
       "18058  4.12    4   40.7127    -74.006  New York, NY  \n",
       "18059  4.18    3   40.7127    -74.006  New York, NY  \n",
       "18060  4.24    3   40.7127    -74.006  New York, NY  \n",
       "\n",
       "[18061 rows x 13 columns]"
      ]
     },
     "execution_count": 4,
     "metadata": {},
     "output_type": "execute_result"
    }
   ],
   "source": [
    "df"
   ]
  },
  {
   "attachments": {},
   "cell_type": "markdown",
   "metadata": {},
   "source": [
    "3. Make the date column the index, and get rid of the extra date column so there's not a duplicate."
   ]
  },
  {
   "cell_type": "code",
   "execution_count": 5,
   "metadata": {},
   "outputs": [],
   "source": [
    "df.index = pd.to_datetime(df['date'])"
   ]
  },
  {
   "cell_type": "code",
   "execution_count": 6,
   "metadata": {},
   "outputs": [],
   "source": [
    "df = df.drop('date', axis=1)"
   ]
  },
  {
   "cell_type": "code",
   "execution_count": 7,
   "metadata": {},
   "outputs": [],
   "source": [
    "pm25 = df['pm2_5']"
   ]
  },
  {
   "attachments": {},
   "cell_type": "markdown",
   "metadata": {},
   "source": [
    "4. Visualize your data. "
   ]
  },
  {
   "cell_type": "code",
   "execution_count": 8,
   "metadata": {},
   "outputs": [
    {
     "data": {
      "image/png": "[encoded data removed]",
      "text/plain": [
       "<Figure size 640x480 with 1 Axes>"
      ]
     },
     "metadata": {},
     "output_type": "display_data"
    }
   ],
   "source": [
    "pm25.plot(title= 'PM2.5 Over Time', ylabel = 'PM2.5', xlabel = 'Date');"
   ]
  },
  {
   "attachments": {},
   "cell_type": "markdown",
   "metadata": {},
   "source": [
    "6. What makes LSTM much better at predicting time series data is that it takes into account a certain amount of values to predict the next one. In this case, the window size is 8, so it is looking at the first 8 values to predict value number 9, next it uses values 2 to 9 to predict 10, and so on. This function gets the data into this format, where X are the predictor values and y is what is being predicted. "
   ]
  },
  {
   "cell_type": "code",
   "execution_count": 9,
   "metadata": {},
   "outputs": [],
   "source": [
    "def df_to_X_y(df, window_size=8):\n",
    "    df_as_np = df.to_numpy()\n",
    "    X = []\n",
    "    y = []\n",
    "    for i in range(len(df_as_np)-window_size):\n",
    "        row = [[a] for a in df_as_np[i:i+8]]\n",
    "        X.append(row)\n",
    "        label = df_as_np[i+5]\n",
    "        y.append(label)\n",
    "    return np.array(X), np.array(y)"
   ]
  },
  {
   "attachments": {},
   "cell_type": "markdown",
   "metadata": {},
   "source": [
    "7. This shows us the shape of X and y, for both there are 18056 arrays, but X has 8 lists in each array since our window size is 8, and y only has one since we are predicting one value at a time. "
   ]
  },
  {
   "cell_type": "code",
   "execution_count": 10,
   "metadata": {},
   "outputs": [
    {
     "data": {
      "text/plain": [
       "((18053, 8, 1), (18053,))"
      ]
     },
     "execution_count": 10,
     "metadata": {},
     "output_type": "execute_result"
    }
   ],
   "source": [
    "window_size = 8\n",
    "X, y = df_to_X_y(pm25, window_size)\n",
    "X.shape, y.shape"
   ]
  },
  {
   "attachments": {},
   "cell_type": "markdown",
   "metadata": {},
   "source": [
    "8. Split the data into a training set, a validation set, and a testing set. "
   ]
  },
  {
   "cell_type": "code",
   "execution_count": 11,
   "metadata": {},
   "outputs": [
    {
     "data": {
      "text/plain": [
       "((12000, 8, 1), (12000,), (3000, 8, 1), (3000,), (3053, 8, 1), (3053,))"
      ]
     },
     "execution_count": 11,
     "metadata": {},
     "output_type": "execute_result"
    }
   ],
   "source": [
    "X_train, y_train = X[:12000], y[:12000]\n",
    "X_val, y_val = X[12000:15000], y[12000:15000]\n",
    "X_test, y_test = X[15000:], y[15000:]\n",
    "X_train.shape, y_train.shape, X_val.shape, y_val.shape, X_test.shape, y_test.shape"
   ]
  },
  {
   "cell_type": "code",
   "execution_count": 12,
   "metadata": {},
   "outputs": [],
   "source": [
    "from keras.models import Sequential\n",
    "from keras.layers import *\n",
    "from keras.callbacks import ModelCheckpoint\n",
    "from keras.losses import MeanSquaredError\n",
    "from keras.metrics import RootMeanSquaredError\n",
    "from keras.optimizers import Adam "
   ]
  },
  {
   "attachments": {},
   "cell_type": "markdown",
   "metadata": {},
   "source": [
    "9. Create the model. For the first layer you have to specify the shape of your model, since the window size is 8 and we only have one predictor the layer is 8 by 1. Next comes 1 LSTM layer, since LSTM is a neural network you have to specify the number of neurons, 32, 64, 128, and 256 are all common. Two dense layers follow the LSTM layer, the last dense layer is responsible for the regression task, and in this case we specify 1 because we want the output to be 1 predicted value."
   ]
  },
  {
   "cell_type": "code",
   "execution_count": 13,
   "metadata": {},
   "outputs": [
    {
     "name": "stdout",
     "output_type": "stream",
     "text": [
      "Model: \"sequential\"\n",
      "_________________________________________________________________\n",
      " Layer (type)                Output Shape              Param #   \n",
      "=================================================================\n",
      " lstm (LSTM)                 (None, 64)                16896     \n",
      "                                                                 \n",
      " dense (Dense)               (None, 8)                 520       \n",
      "                                                                 \n",
      " dense_1 (Dense)             (None, 1)                 9         \n",
      "                                                                 \n",
      "=================================================================\n",
      "Total params: 17,425\n",
      "Trainable params: 17,425\n",
      "Non-trainable params: 0\n",
      "_________________________________________________________________\n"
     ]
    }
   ],
   "source": [
    "model1 = Sequential()\n",
    "model1.add(InputLayer((8,1)))\n",
    "model1.add(LSTM(64))\n",
    "model1.add(Dense(8,'relu'))\n",
    "model1.add(Dense(1,'linear'))\n",
    "\n",
    "model1.summary()"
   ]
  },
  {
   "attachments": {},
   "cell_type": "markdown",
   "metadata": {},
   "source": [
    "10. Create two callbacks, the first is a checkpoint that saves the best performing model. Just like our XGBoost model, we are using a low learning rate to avoid overfitting so it will be slower. The second is early stopping with patience set equal to 5, so if \"val_loss\" does not lower for five rounds, the model will stop running. "
   ]
  },
  {
   "cell_type": "code",
   "execution_count": 14,
   "metadata": {},
   "outputs": [],
   "source": [
    "from tensorflow.keras.callbacks import EarlyStopping"
   ]
  },
  {
   "cell_type": "code",
   "execution_count": 15,
   "metadata": {},
   "outputs": [],
   "source": [
    "es = EarlyStopping(monitor='val_loss', mode='min', verbose=1, patience=5)\n",
    "cp = ModelCheckpoint('model1/', monitor='val_loss', mode='min', save_best_only=True)\n",
    "cb_list = [es, cp]"
   ]
  },
  {
   "cell_type": "code",
   "execution_count": 16,
   "metadata": {},
   "outputs": [],
   "source": [
    "model1.compile(loss=MeanSquaredError(), optimizer = Adam(learning_rate=0.0001), metrics=RootMeanSquaredError())"
   ]
  },
  {
   "attachments": {},
   "cell_type": "markdown",
   "metadata": {},
   "source": [
    "11. Fit the model. The number you choose for your epochs specifies how many times you will run through the data, so the larger the number the longer it will take to run. "
   ]
  },
  {
   "cell_type": "code",
   "execution_count": 17,
   "metadata": {},
   "outputs": [
    {
     "name": "stdout",
     "output_type": "stream",
     "text": [
      "Epoch 1/50\n",
      "370/375 [============================>.] - ETA: 0s - loss: 975.9042 - root_mean_squared_error: 31.2395"
     ]
    },
    {
     "name": "stderr",
     "output_type": "stream",
     "text": [
      "WARNING:absl:Found untraced functions such as lstm_cell_layer_call_fn, lstm_cell_layer_call_and_return_conditional_losses while saving (showing 2 of 2). These functions will not be directly callable after loading.\n"
     ]
    },
    {
     "name": "stdout",
     "output_type": "stream",
     "text": [
      "INFO:tensorflow:Assets written to: model1\\assets\n"
     ]
    },
    {
     "name": "stderr",
     "output_type": "stream",
     "text": [
      "INFO:tensorflow:Assets written to: model1\\assets\n"
     ]
    },
    {
     "name": "stdout",
     "output_type": "stream",
     "text": [
      "375/375 [==============================] - 6s 13ms/step - loss: 967.5792 - root_mean_squared_error: 31.1059 - val_loss: 96.6662 - val_root_mean_squared_error: 9.8319\n",
      "Epoch 2/50\n",
      "369/375 [============================>.] - ETA: 0s - loss: 711.3365 - root_mean_squared_error: 26.6709"
     ]
    },
    {
     "name": "stderr",
     "output_type": "stream",
     "text": [
      "WARNING:absl:Found untraced functions such as lstm_cell_layer_call_fn, lstm_cell_layer_call_and_return_conditional_losses while saving (showing 2 of 2). These functions will not be directly callable after loading.\n"
     ]
    },
    {
     "name": "stdout",
     "output_type": "stream",
     "text": [
      "INFO:tensorflow:Assets written to: model1\\assets\n"
     ]
    },
    {
     "name": "stderr",
     "output_type": "stream",
     "text": [
      "INFO:tensorflow:Assets written to: model1\\assets\n"
     ]
    },
    {
     "name": "stdout",
     "output_type": "stream",
     "text": [
      "375/375 [==============================] - 4s 12ms/step - loss: 709.6847 - root_mean_squared_error: 26.6399 - val_loss: 40.8234 - val_root_mean_squared_error: 6.3893\n",
      "Epoch 3/50\n",
      "362/375 [===========================>..] - ETA: 0s - loss: 548.8766 - root_mean_squared_error: 23.4281"
     ]
    },
    {
     "name": "stderr",
     "output_type": "stream",
     "text": [
      "WARNING:absl:Found untraced functions such as lstm_cell_layer_call_fn, lstm_cell_layer_call_and_return_conditional_losses while saving (showing 2 of 2). These functions will not be directly callable after loading.\n"
     ]
    },
    {
     "name": "stdout",
     "output_type": "stream",
     "text": [
      "INFO:tensorflow:Assets written to: model1\\assets\n"
     ]
    },
    {
     "name": "stderr",
     "output_type": "stream",
     "text": [
      "INFO:tensorflow:Assets written to: model1\\assets\n"
     ]
    },
    {
     "name": "stdout",
     "output_type": "stream",
     "text": [
      "375/375 [==============================] - 5s 12ms/step - loss: 545.3887 - root_mean_squared_error: 23.3536 - val_loss: 23.0131 - val_root_mean_squared_error: 4.7972\n",
      "Epoch 4/50\n",
      "362/375 [===========================>..] - ETA: 0s - loss: 450.0830 - root_mean_squared_error: 21.2152"
     ]
    },
    {
     "name": "stderr",
     "output_type": "stream",
     "text": [
      "WARNING:absl:Found untraced functions such as lstm_cell_layer_call_fn, lstm_cell_layer_call_and_return_conditional_losses while saving (showing 2 of 2). These functions will not be directly callable after loading.\n"
     ]
    },
    {
     "name": "stdout",
     "output_type": "stream",
     "text": [
      "INFO:tensorflow:Assets written to: model1\\assets\n"
     ]
    },
    {
     "name": "stderr",
     "output_type": "stream",
     "text": [
      "INFO:tensorflow:Assets written to: model1\\assets\n"
     ]
    },
    {
     "name": "stdout",
     "output_type": "stream",
     "text": [
      "375/375 [==============================] - 5s 13ms/step - loss: 445.3234 - root_mean_squared_error: 21.1027 - val_loss: 13.8951 - val_root_mean_squared_error: 3.7276\n",
      "Epoch 5/50\n",
      "368/375 [============================>.] - ETA: 0s - loss: 368.6377 - root_mean_squared_error: 19.1999"
     ]
    },
    {
     "name": "stderr",
     "output_type": "stream",
     "text": [
      "WARNING:absl:Found untraced functions such as lstm_cell_layer_call_fn, lstm_cell_layer_call_and_return_conditional_losses while saving (showing 2 of 2). These functions will not be directly callable after loading.\n"
     ]
    },
    {
     "name": "stdout",
     "output_type": "stream",
     "text": [
      "INFO:tensorflow:Assets written to: model1\\assets\n"
     ]
    },
    {
     "name": "stderr",
     "output_type": "stream",
     "text": [
      "INFO:tensorflow:Assets written to: model1\\assets\n"
     ]
    },
    {
     "name": "stdout",
     "output_type": "stream",
     "text": [
      "375/375 [==============================] - 4s 12ms/step - loss: 367.1903 - root_mean_squared_error: 19.1622 - val_loss: 9.5440 - val_root_mean_squared_error: 3.0893\n",
      "Epoch 6/50\n",
      "372/375 [============================>.] - ETA: 0s - loss: 309.1582 - root_mean_squared_error: 17.5829"
     ]
    },
    {
     "name": "stderr",
     "output_type": "stream",
     "text": [
      "WARNING:absl:Found untraced functions such as lstm_cell_layer_call_fn, lstm_cell_layer_call_and_return_conditional_losses while saving (showing 2 of 2). These functions will not be directly callable after loading.\n"
     ]
    },
    {
     "name": "stdout",
     "output_type": "stream",
     "text": [
      "INFO:tensorflow:Assets written to: model1\\assets\n"
     ]
    },
    {
     "name": "stderr",
     "output_type": "stream",
     "text": [
      "INFO:tensorflow:Assets written to: model1\\assets\n"
     ]
    },
    {
     "name": "stdout",
     "output_type": "stream",
     "text": [
      "375/375 [==============================] - 5s 12ms/step - loss: 307.0218 - root_mean_squared_error: 17.5220 - val_loss: 6.8520 - val_root_mean_squared_error: 2.6176\n",
      "Epoch 7/50\n",
      "373/375 [============================>.] - ETA: 0s - loss: 257.4482 - root_mean_squared_error: 16.0452"
     ]
    },
    {
     "name": "stderr",
     "output_type": "stream",
     "text": [
      "WARNING:absl:Found untraced functions such as lstm_cell_layer_call_fn, lstm_cell_layer_call_and_return_conditional_losses while saving (showing 2 of 2). These functions will not be directly callable after loading.\n"
     ]
    },
    {
     "name": "stdout",
     "output_type": "stream",
     "text": [
      "INFO:tensorflow:Assets written to: model1\\assets\n"
     ]
    },
    {
     "name": "stderr",
     "output_type": "stream",
     "text": [
      "INFO:tensorflow:Assets written to: model1\\assets\n"
     ]
    },
    {
     "name": "stdout",
     "output_type": "stream",
     "text": [
      "375/375 [==============================] - 4s 12ms/step - loss: 260.4237 - root_mean_squared_error: 16.1376 - val_loss: 4.7908 - val_root_mean_squared_error: 2.1888\n",
      "Epoch 8/50\n",
      "371/375 [============================>.] - ETA: 0s - loss: 223.7339 - root_mean_squared_error: 14.9577"
     ]
    },
    {
     "name": "stderr",
     "output_type": "stream",
     "text": [
      "WARNING:absl:Found untraced functions such as lstm_cell_layer_call_fn, lstm_cell_layer_call_and_return_conditional_losses while saving (showing 2 of 2). These functions will not be directly callable after loading.\n"
     ]
    },
    {
     "name": "stdout",
     "output_type": "stream",
     "text": [
      "INFO:tensorflow:Assets written to: model1\\assets\n"
     ]
    },
    {
     "name": "stderr",
     "output_type": "stream",
     "text": [
      "INFO:tensorflow:Assets written to: model1\\assets\n"
     ]
    },
    {
     "name": "stdout",
     "output_type": "stream",
     "text": [
      "375/375 [==============================] - 5s 13ms/step - loss: 222.4342 - root_mean_squared_error: 14.9142 - val_loss: 3.5937 - val_root_mean_squared_error: 1.8957\n",
      "Epoch 9/50\n",
      "373/375 [============================>.] - ETA: 0s - loss: 189.6632 - root_mean_squared_error: 13.7718"
     ]
    },
    {
     "name": "stderr",
     "output_type": "stream",
     "text": [
      "WARNING:absl:Found untraced functions such as lstm_cell_layer_call_fn, lstm_cell_layer_call_and_return_conditional_losses while saving (showing 2 of 2). These functions will not be directly callable after loading.\n"
     ]
    },
    {
     "name": "stdout",
     "output_type": "stream",
     "text": [
      "INFO:tensorflow:Assets written to: model1\\assets\n"
     ]
    },
    {
     "name": "stderr",
     "output_type": "stream",
     "text": [
      "INFO:tensorflow:Assets written to: model1\\assets\n"
     ]
    },
    {
     "name": "stdout",
     "output_type": "stream",
     "text": [
      "375/375 [==============================] - 5s 13ms/step - loss: 190.9477 - root_mean_squared_error: 13.8184 - val_loss: 2.7410 - val_root_mean_squared_error: 1.6556\n",
      "Epoch 10/50\n",
      "364/375 [============================>.] - ETA: 0s - loss: 161.7569 - root_mean_squared_error: 12.7184"
     ]
    },
    {
     "name": "stderr",
     "output_type": "stream",
     "text": [
      "WARNING:absl:Found untraced functions such as lstm_cell_layer_call_fn, lstm_cell_layer_call_and_return_conditional_losses while saving (showing 2 of 2). These functions will not be directly callable after loading.\n"
     ]
    },
    {
     "name": "stdout",
     "output_type": "stream",
     "text": [
      "INFO:tensorflow:Assets written to: model1\\assets\n"
     ]
    },
    {
     "name": "stderr",
     "output_type": "stream",
     "text": [
      "INFO:tensorflow:Assets written to: model1\\assets\n"
     ]
    },
    {
     "name": "stdout",
     "output_type": "stream",
     "text": [
      "375/375 [==============================] - 5s 12ms/step - loss: 164.2525 - root_mean_squared_error: 12.8161 - val_loss: 2.2994 - val_root_mean_squared_error: 1.5164\n",
      "Epoch 11/50\n",
      "367/375 [============================>.] - ETA: 0s - loss: 142.2721 - root_mean_squared_error: 11.9278"
     ]
    },
    {
     "name": "stderr",
     "output_type": "stream",
     "text": [
      "WARNING:absl:Found untraced functions such as lstm_cell_layer_call_fn, lstm_cell_layer_call_and_return_conditional_losses while saving (showing 2 of 2). These functions will not be directly callable after loading.\n"
     ]
    },
    {
     "name": "stdout",
     "output_type": "stream",
     "text": [
      "INFO:tensorflow:Assets written to: model1\\assets\n"
     ]
    },
    {
     "name": "stderr",
     "output_type": "stream",
     "text": [
      "INFO:tensorflow:Assets written to: model1\\assets\n"
     ]
    },
    {
     "name": "stdout",
     "output_type": "stream",
     "text": [
      "375/375 [==============================] - 5s 12ms/step - loss: 141.6451 - root_mean_squared_error: 11.9015 - val_loss: 1.8805 - val_root_mean_squared_error: 1.3713\n",
      "Epoch 12/50\n",
      "374/375 [============================>.] - ETA: 0s - loss: 122.7788 - root_mean_squared_error: 11.0806"
     ]
    },
    {
     "name": "stderr",
     "output_type": "stream",
     "text": [
      "WARNING:absl:Found untraced functions such as lstm_cell_layer_call_fn, lstm_cell_layer_call_and_return_conditional_losses while saving (showing 2 of 2). These functions will not be directly callable after loading.\n"
     ]
    },
    {
     "name": "stdout",
     "output_type": "stream",
     "text": [
      "INFO:tensorflow:Assets written to: model1\\assets\n"
     ]
    },
    {
     "name": "stderr",
     "output_type": "stream",
     "text": [
      "INFO:tensorflow:Assets written to: model1\\assets\n"
     ]
    },
    {
     "name": "stdout",
     "output_type": "stream",
     "text": [
      "375/375 [==============================] - 5s 13ms/step - loss: 122.4593 - root_mean_squared_error: 11.0661 - val_loss: 1.5841 - val_root_mean_squared_error: 1.2586\n",
      "Epoch 13/50\n",
      "367/375 [============================>.] - ETA: 0s - loss: 106.9156 - root_mean_squared_error: 10.3400"
     ]
    },
    {
     "name": "stderr",
     "output_type": "stream",
     "text": [
      "WARNING:absl:Found untraced functions such as lstm_cell_layer_call_fn, lstm_cell_layer_call_and_return_conditional_losses while saving (showing 2 of 2). These functions will not be directly callable after loading.\n"
     ]
    },
    {
     "name": "stdout",
     "output_type": "stream",
     "text": [
      "INFO:tensorflow:Assets written to: model1\\assets\n"
     ]
    },
    {
     "name": "stderr",
     "output_type": "stream",
     "text": [
      "INFO:tensorflow:Assets written to: model1\\assets\n"
     ]
    },
    {
     "name": "stdout",
     "output_type": "stream",
     "text": [
      "375/375 [==============================] - 5s 13ms/step - loss: 106.0359 - root_mean_squared_error: 10.2974 - val_loss: 1.3522 - val_root_mean_squared_error: 1.1628\n",
      "Epoch 14/50\n",
      "375/375 [==============================] - ETA: 0s - loss: 91.8891 - root_mean_squared_error: 9.5859"
     ]
    },
    {
     "name": "stderr",
     "output_type": "stream",
     "text": [
      "WARNING:absl:Found untraced functions such as lstm_cell_layer_call_fn, lstm_cell_layer_call_and_return_conditional_losses while saving (showing 2 of 2). These functions will not be directly callable after loading.\n"
     ]
    },
    {
     "name": "stdout",
     "output_type": "stream",
     "text": [
      "INFO:tensorflow:Assets written to: model1\\assets\n"
     ]
    },
    {
     "name": "stderr",
     "output_type": "stream",
     "text": [
      "INFO:tensorflow:Assets written to: model1\\assets\n"
     ]
    },
    {
     "name": "stdout",
     "output_type": "stream",
     "text": [
      "375/375 [==============================] - 5s 13ms/step - loss: 91.8891 - root_mean_squared_error: 9.5859 - val_loss: 1.3120 - val_root_mean_squared_error: 1.1454\n",
      "Epoch 15/50\n",
      "370/375 [============================>.] - ETA: 0s - loss: 80.3648 - root_mean_squared_error: 8.9646"
     ]
    },
    {
     "name": "stderr",
     "output_type": "stream",
     "text": [
      "WARNING:absl:Found untraced functions such as lstm_cell_layer_call_fn, lstm_cell_layer_call_and_return_conditional_losses while saving (showing 2 of 2). These functions will not be directly callable after loading.\n"
     ]
    },
    {
     "name": "stdout",
     "output_type": "stream",
     "text": [
      "INFO:tensorflow:Assets written to: model1\\assets\n"
     ]
    },
    {
     "name": "stderr",
     "output_type": "stream",
     "text": [
      "INFO:tensorflow:Assets written to: model1\\assets\n"
     ]
    },
    {
     "name": "stdout",
     "output_type": "stream",
     "text": [
      "375/375 [==============================] - 5s 12ms/step - loss: 80.2903 - root_mean_squared_error: 8.9605 - val_loss: 1.1009 - val_root_mean_squared_error: 1.0492\n",
      "Epoch 16/50\n",
      "369/375 [============================>.] - ETA: 0s - loss: 70.5476 - root_mean_squared_error: 8.3993"
     ]
    },
    {
     "name": "stderr",
     "output_type": "stream",
     "text": [
      "WARNING:absl:Found untraced functions such as lstm_cell_layer_call_fn, lstm_cell_layer_call_and_return_conditional_losses while saving (showing 2 of 2). These functions will not be directly callable after loading.\n"
     ]
    },
    {
     "name": "stdout",
     "output_type": "stream",
     "text": [
      "INFO:tensorflow:Assets written to: model1\\assets\n"
     ]
    },
    {
     "name": "stderr",
     "output_type": "stream",
     "text": [
      "INFO:tensorflow:Assets written to: model1\\assets\n"
     ]
    },
    {
     "name": "stdout",
     "output_type": "stream",
     "text": [
      "375/375 [==============================] - 5s 13ms/step - loss: 70.3997 - root_mean_squared_error: 8.3905 - val_loss: 1.0521 - val_root_mean_squared_error: 1.0257\n",
      "Epoch 17/50\n",
      "362/375 [===========================>..] - ETA: 0s - loss: 63.6634 - root_mean_squared_error: 7.9789"
     ]
    },
    {
     "name": "stderr",
     "output_type": "stream",
     "text": [
      "WARNING:absl:Found untraced functions such as lstm_cell_layer_call_fn, lstm_cell_layer_call_and_return_conditional_losses while saving (showing 2 of 2). These functions will not be directly callable after loading.\n"
     ]
    },
    {
     "name": "stdout",
     "output_type": "stream",
     "text": [
      "INFO:tensorflow:Assets written to: model1\\assets\n"
     ]
    },
    {
     "name": "stderr",
     "output_type": "stream",
     "text": [
      "INFO:tensorflow:Assets written to: model1\\assets\n"
     ]
    },
    {
     "name": "stdout",
     "output_type": "stream",
     "text": [
      "375/375 [==============================] - 4s 12ms/step - loss: 61.9769 - root_mean_squared_error: 7.8725 - val_loss: 0.9963 - val_root_mean_squared_error: 0.9982\n",
      "Epoch 18/50\n",
      "373/375 [============================>.] - ETA: 0s - loss: 54.6223 - root_mean_squared_error: 7.3907"
     ]
    },
    {
     "name": "stderr",
     "output_type": "stream",
     "text": [
      "WARNING:absl:Found untraced functions such as lstm_cell_layer_call_fn, lstm_cell_layer_call_and_return_conditional_losses while saving (showing 2 of 2). These functions will not be directly callable after loading.\n"
     ]
    },
    {
     "name": "stdout",
     "output_type": "stream",
     "text": [
      "INFO:tensorflow:Assets written to: model1\\assets\n"
     ]
    },
    {
     "name": "stderr",
     "output_type": "stream",
     "text": [
      "INFO:tensorflow:Assets written to: model1\\assets\n"
     ]
    },
    {
     "name": "stdout",
     "output_type": "stream",
     "text": [
      "375/375 [==============================] - 5s 13ms/step - loss: 54.3792 - root_mean_squared_error: 7.3742 - val_loss: 0.8761 - val_root_mean_squared_error: 0.9360\n",
      "Epoch 19/50\n",
      "362/375 [===========================>..] - ETA: 0s - loss: 49.4694 - root_mean_squared_error: 7.0334"
     ]
    },
    {
     "name": "stderr",
     "output_type": "stream",
     "text": [
      "WARNING:absl:Found untraced functions such as lstm_cell_layer_call_fn, lstm_cell_layer_call_and_return_conditional_losses while saving (showing 2 of 2). These functions will not be directly callable after loading.\n"
     ]
    },
    {
     "name": "stdout",
     "output_type": "stream",
     "text": [
      "INFO:tensorflow:Assets written to: model1\\assets\n"
     ]
    },
    {
     "name": "stderr",
     "output_type": "stream",
     "text": [
      "INFO:tensorflow:Assets written to: model1\\assets\n"
     ]
    },
    {
     "name": "stdout",
     "output_type": "stream",
     "text": [
      "375/375 [==============================] - 5s 13ms/step - loss: 48.0792 - root_mean_squared_error: 6.9339 - val_loss: 0.8304 - val_root_mean_squared_error: 0.9113\n",
      "Epoch 20/50\n",
      "374/375 [============================>.] - ETA: 0s - loss: 42.8799 - root_mean_squared_error: 6.5483"
     ]
    },
    {
     "name": "stderr",
     "output_type": "stream",
     "text": [
      "WARNING:absl:Found untraced functions such as lstm_cell_layer_call_fn, lstm_cell_layer_call_and_return_conditional_losses while saving (showing 2 of 2). These functions will not be directly callable after loading.\n"
     ]
    },
    {
     "name": "stdout",
     "output_type": "stream",
     "text": [
      "INFO:tensorflow:Assets written to: model1\\assets\n"
     ]
    },
    {
     "name": "stderr",
     "output_type": "stream",
     "text": [
      "INFO:tensorflow:Assets written to: model1\\assets\n"
     ]
    },
    {
     "name": "stdout",
     "output_type": "stream",
     "text": [
      "375/375 [==============================] - 5s 12ms/step - loss: 42.7668 - root_mean_squared_error: 6.5396 - val_loss: 0.7763 - val_root_mean_squared_error: 0.8811\n",
      "Epoch 21/50\n",
      "375/375 [==============================] - 2s 5ms/step - loss: 38.2958 - root_mean_squared_error: 6.1884 - val_loss: 0.7846 - val_root_mean_squared_error: 0.8858\n",
      "Epoch 22/50\n",
      "375/375 [==============================] - 2s 4ms/step - loss: 34.1768 - root_mean_squared_error: 5.8461 - val_loss: 0.7767 - val_root_mean_squared_error: 0.8813\n",
      "Epoch 23/50\n",
      "375/375 [==============================] - ETA: 0s - loss: 30.6037 - root_mean_squared_error: 5.5321"
     ]
    },
    {
     "name": "stderr",
     "output_type": "stream",
     "text": [
      "WARNING:absl:Found untraced functions such as lstm_cell_layer_call_fn, lstm_cell_layer_call_and_return_conditional_losses while saving (showing 2 of 2). These functions will not be directly callable after loading.\n"
     ]
    },
    {
     "name": "stdout",
     "output_type": "stream",
     "text": [
      "INFO:tensorflow:Assets written to: model1\\assets\n"
     ]
    },
    {
     "name": "stderr",
     "output_type": "stream",
     "text": [
      "INFO:tensorflow:Assets written to: model1\\assets\n"
     ]
    },
    {
     "name": "stdout",
     "output_type": "stream",
     "text": [
      "375/375 [==============================] - 5s 13ms/step - loss: 30.6037 - root_mean_squared_error: 5.5321 - val_loss: 0.7159 - val_root_mean_squared_error: 0.8461\n",
      "Epoch 24/50\n",
      "375/375 [==============================] - 2s 5ms/step - loss: 27.4017 - root_mean_squared_error: 5.2347 - val_loss: 0.7181 - val_root_mean_squared_error: 0.8474\n",
      "Epoch 25/50\n",
      "374/375 [============================>.] - ETA: 0s - loss: 24.3162 - root_mean_squared_error: 4.9311"
     ]
    },
    {
     "name": "stderr",
     "output_type": "stream",
     "text": [
      "WARNING:absl:Found untraced functions such as lstm_cell_layer_call_fn, lstm_cell_layer_call_and_return_conditional_losses while saving (showing 2 of 2). These functions will not be directly callable after loading.\n"
     ]
    },
    {
     "name": "stdout",
     "output_type": "stream",
     "text": [
      "INFO:tensorflow:Assets written to: model1\\assets\n"
     ]
    },
    {
     "name": "stderr",
     "output_type": "stream",
     "text": [
      "INFO:tensorflow:Assets written to: model1\\assets\n"
     ]
    },
    {
     "name": "stdout",
     "output_type": "stream",
     "text": [
      "375/375 [==============================] - 5s 12ms/step - loss: 24.4691 - root_mean_squared_error: 4.9466 - val_loss: 0.6903 - val_root_mean_squared_error: 0.8309\n",
      "Epoch 26/50\n",
      "375/375 [==============================] - 2s 5ms/step - loss: 21.7935 - root_mean_squared_error: 4.6684 - val_loss: 0.7234 - val_root_mean_squared_error: 0.8506\n",
      "Epoch 27/50\n",
      "375/375 [==============================] - ETA: 0s - loss: 19.5892 - root_mean_squared_error: 4.4260"
     ]
    },
    {
     "name": "stderr",
     "output_type": "stream",
     "text": [
      "WARNING:absl:Found untraced functions such as lstm_cell_layer_call_fn, lstm_cell_layer_call_and_return_conditional_losses while saving (showing 2 of 2). These functions will not be directly callable after loading.\n"
     ]
    },
    {
     "name": "stdout",
     "output_type": "stream",
     "text": [
      "INFO:tensorflow:Assets written to: model1\\assets\n"
     ]
    },
    {
     "name": "stderr",
     "output_type": "stream",
     "text": [
      "INFO:tensorflow:Assets written to: model1\\assets\n"
     ]
    },
    {
     "name": "stdout",
     "output_type": "stream",
     "text": [
      "375/375 [==============================] - 5s 13ms/step - loss: 19.5892 - root_mean_squared_error: 4.4260 - val_loss: 0.6887 - val_root_mean_squared_error: 0.8299\n",
      "Epoch 28/50\n",
      "375/375 [==============================] - 2s 5ms/step - loss: 17.7341 - root_mean_squared_error: 4.2112 - val_loss: 0.6892 - val_root_mean_squared_error: 0.8302\n",
      "Epoch 29/50\n",
      "366/375 [============================>.] - ETA: 0s - loss: 16.2078 - root_mean_squared_error: 4.0259"
     ]
    },
    {
     "name": "stderr",
     "output_type": "stream",
     "text": [
      "WARNING:absl:Found untraced functions such as lstm_cell_layer_call_fn, lstm_cell_layer_call_and_return_conditional_losses while saving (showing 2 of 2). These functions will not be directly callable after loading.\n"
     ]
    },
    {
     "name": "stdout",
     "output_type": "stream",
     "text": [
      "INFO:tensorflow:Assets written to: model1\\assets\n"
     ]
    },
    {
     "name": "stderr",
     "output_type": "stream",
     "text": [
      "INFO:tensorflow:Assets written to: model1\\assets\n"
     ]
    },
    {
     "name": "stdout",
     "output_type": "stream",
     "text": [
      "375/375 [==============================] - 5s 12ms/step - loss: 15.8986 - root_mean_squared_error: 3.9873 - val_loss: 0.6443 - val_root_mean_squared_error: 0.8027\n",
      "Epoch 30/50\n",
      "375/375 [==============================] - 2s 5ms/step - loss: 14.3867 - root_mean_squared_error: 3.7930 - val_loss: 0.6580 - val_root_mean_squared_error: 0.8111\n",
      "Epoch 31/50\n",
      "375/375 [==============================] - 2s 5ms/step - loss: 12.8116 - root_mean_squared_error: 3.5793 - val_loss: 0.6461 - val_root_mean_squared_error: 0.8038\n",
      "Epoch 32/50\n",
      "375/375 [==============================] - 2s 6ms/step - loss: 11.6023 - root_mean_squared_error: 3.4062 - val_loss: 0.6800 - val_root_mean_squared_error: 0.8246\n",
      "Epoch 33/50\n",
      "374/375 [============================>.] - ETA: 0s - loss: 10.4038 - root_mean_squared_error: 3.2255"
     ]
    },
    {
     "name": "stderr",
     "output_type": "stream",
     "text": [
      "WARNING:absl:Found untraced functions such as lstm_cell_layer_call_fn, lstm_cell_layer_call_and_return_conditional_losses while saving (showing 2 of 2). These functions will not be directly callable after loading.\n"
     ]
    },
    {
     "name": "stdout",
     "output_type": "stream",
     "text": [
      "INFO:tensorflow:Assets written to: model1\\assets\n"
     ]
    },
    {
     "name": "stderr",
     "output_type": "stream",
     "text": [
      "INFO:tensorflow:Assets written to: model1\\assets\n"
     ]
    },
    {
     "name": "stdout",
     "output_type": "stream",
     "text": [
      "375/375 [==============================] - 5s 12ms/step - loss: 10.3770 - root_mean_squared_error: 3.2213 - val_loss: 0.6088 - val_root_mean_squared_error: 0.7802\n",
      "Epoch 34/50\n",
      "371/375 [============================>.] - ETA: 0s - loss: 9.3388 - root_mean_squared_error: 3.0559"
     ]
    },
    {
     "name": "stderr",
     "output_type": "stream",
     "text": [
      "WARNING:absl:Found untraced functions such as lstm_cell_layer_call_fn, lstm_cell_layer_call_and_return_conditional_losses while saving (showing 2 of 2). These functions will not be directly callable after loading.\n"
     ]
    },
    {
     "name": "stdout",
     "output_type": "stream",
     "text": [
      "INFO:tensorflow:Assets written to: model1\\assets\n"
     ]
    },
    {
     "name": "stderr",
     "output_type": "stream",
     "text": [
      "INFO:tensorflow:Assets written to: model1\\assets\n"
     ]
    },
    {
     "name": "stdout",
     "output_type": "stream",
     "text": [
      "375/375 [==============================] - 5s 13ms/step - loss: 9.5259 - root_mean_squared_error: 3.0864 - val_loss: 0.6033 - val_root_mean_squared_error: 0.7768\n",
      "Epoch 35/50\n",
      "375/375 [==============================] - 2s 5ms/step - loss: 8.5323 - root_mean_squared_error: 2.9210 - val_loss: 0.6234 - val_root_mean_squared_error: 0.7896\n",
      "Epoch 36/50\n",
      "375/375 [==============================] - 2s 5ms/step - loss: 7.9521 - root_mean_squared_error: 2.8199 - val_loss: 0.6441 - val_root_mean_squared_error: 0.8025\n",
      "Epoch 37/50\n",
      "373/375 [============================>.] - ETA: 0s - loss: 7.0785 - root_mean_squared_error: 2.6605"
     ]
    },
    {
     "name": "stderr",
     "output_type": "stream",
     "text": [
      "WARNING:absl:Found untraced functions such as lstm_cell_layer_call_fn, lstm_cell_layer_call_and_return_conditional_losses while saving (showing 2 of 2). These functions will not be directly callable after loading.\n"
     ]
    },
    {
     "name": "stdout",
     "output_type": "stream",
     "text": [
      "INFO:tensorflow:Assets written to: model1\\assets\n"
     ]
    },
    {
     "name": "stderr",
     "output_type": "stream",
     "text": [
      "INFO:tensorflow:Assets written to: model1\\assets\n"
     ]
    },
    {
     "name": "stdout",
     "output_type": "stream",
     "text": [
      "375/375 [==============================] - 5s 15ms/step - loss: 7.1156 - root_mean_squared_error: 2.6675 - val_loss: 0.5820 - val_root_mean_squared_error: 0.7629\n",
      "Epoch 38/50\n",
      "375/375 [==============================] - 2s 5ms/step - loss: 6.5391 - root_mean_squared_error: 2.5572 - val_loss: 0.5940 - val_root_mean_squared_error: 0.7707\n",
      "Epoch 39/50\n",
      "375/375 [==============================] - 2s 5ms/step - loss: 6.0862 - root_mean_squared_error: 2.4670 - val_loss: 0.5966 - val_root_mean_squared_error: 0.7724\n",
      "Epoch 40/50\n",
      "375/375 [==============================] - ETA: 0s - loss: 5.6191 - root_mean_squared_error: 2.3705"
     ]
    },
    {
     "name": "stderr",
     "output_type": "stream",
     "text": [
      "WARNING:absl:Found untraced functions such as lstm_cell_layer_call_fn, lstm_cell_layer_call_and_return_conditional_losses while saving (showing 2 of 2). These functions will not be directly callable after loading.\n"
     ]
    },
    {
     "name": "stdout",
     "output_type": "stream",
     "text": [
      "INFO:tensorflow:Assets written to: model1\\assets\n"
     ]
    },
    {
     "name": "stderr",
     "output_type": "stream",
     "text": [
      "INFO:tensorflow:Assets written to: model1\\assets\n"
     ]
    },
    {
     "name": "stdout",
     "output_type": "stream",
     "text": [
      "375/375 [==============================] - 5s 13ms/step - loss: 5.6191 - root_mean_squared_error: 2.3705 - val_loss: 0.5542 - val_root_mean_squared_error: 0.7445\n",
      "Epoch 41/50\n",
      "375/375 [==============================] - 2s 5ms/step - loss: 5.2494 - root_mean_squared_error: 2.2912 - val_loss: 0.5633 - val_root_mean_squared_error: 0.7505\n",
      "Epoch 42/50\n",
      "369/375 [============================>.] - ETA: 0s - loss: 4.8879 - root_mean_squared_error: 2.2109"
     ]
    },
    {
     "name": "stderr",
     "output_type": "stream",
     "text": [
      "WARNING:absl:Found untraced functions such as lstm_cell_layer_call_fn, lstm_cell_layer_call_and_return_conditional_losses while saving (showing 2 of 2). These functions will not be directly callable after loading.\n"
     ]
    },
    {
     "name": "stdout",
     "output_type": "stream",
     "text": [
      "INFO:tensorflow:Assets written to: model1\\assets\n"
     ]
    },
    {
     "name": "stderr",
     "output_type": "stream",
     "text": [
      "INFO:tensorflow:Assets written to: model1\\assets\n"
     ]
    },
    {
     "name": "stdout",
     "output_type": "stream",
     "text": [
      "375/375 [==============================] - 5s 14ms/step - loss: 4.8345 - root_mean_squared_error: 2.1987 - val_loss: 0.5411 - val_root_mean_squared_error: 0.7356\n",
      "Epoch 43/50\n",
      "375/375 [==============================] - 2s 5ms/step - loss: 4.6805 - root_mean_squared_error: 2.1634 - val_loss: 0.5696 - val_root_mean_squared_error: 0.7547\n",
      "Epoch 44/50\n",
      "367/375 [============================>.] - ETA: 0s - loss: 4.3350 - root_mean_squared_error: 2.0821"
     ]
    },
    {
     "name": "stderr",
     "output_type": "stream",
     "text": [
      "WARNING:absl:Found untraced functions such as lstm_cell_layer_call_fn, lstm_cell_layer_call_and_return_conditional_losses while saving (showing 2 of 2). These functions will not be directly callable after loading.\n"
     ]
    },
    {
     "name": "stdout",
     "output_type": "stream",
     "text": [
      "INFO:tensorflow:Assets written to: model1\\assets\n"
     ]
    },
    {
     "name": "stderr",
     "output_type": "stream",
     "text": [
      "INFO:tensorflow:Assets written to: model1\\assets\n"
     ]
    },
    {
     "name": "stdout",
     "output_type": "stream",
     "text": [
      "375/375 [==============================] - 5s 13ms/step - loss: 4.3372 - root_mean_squared_error: 2.0826 - val_loss: 0.5236 - val_root_mean_squared_error: 0.7236\n",
      "Epoch 45/50\n",
      "370/375 [============================>.] - ETA: 0s - loss: 4.1287 - root_mean_squared_error: 2.0319"
     ]
    },
    {
     "name": "stderr",
     "output_type": "stream",
     "text": [
      "WARNING:absl:Found untraced functions such as lstm_cell_layer_call_fn, lstm_cell_layer_call_and_return_conditional_losses while saving (showing 2 of 2). These functions will not be directly callable after loading.\n"
     ]
    },
    {
     "name": "stdout",
     "output_type": "stream",
     "text": [
      "INFO:tensorflow:Assets written to: model1\\assets\n"
     ]
    },
    {
     "name": "stderr",
     "output_type": "stream",
     "text": [
      "INFO:tensorflow:Assets written to: model1\\assets\n"
     ]
    },
    {
     "name": "stdout",
     "output_type": "stream",
     "text": [
      "375/375 [==============================] - 5s 14ms/step - loss: 4.0857 - root_mean_squared_error: 2.0213 - val_loss: 0.5006 - val_root_mean_squared_error: 0.7075\n",
      "Epoch 46/50\n",
      "375/375 [==============================] - 2s 5ms/step - loss: 3.7815 - root_mean_squared_error: 1.9446 - val_loss: 0.5234 - val_root_mean_squared_error: 0.7235\n",
      "Epoch 47/50\n",
      "375/375 [==============================] - 2s 6ms/step - loss: 3.8480 - root_mean_squared_error: 1.9616 - val_loss: 0.5503 - val_root_mean_squared_error: 0.7418\n",
      "Epoch 48/50\n",
      "375/375 [==============================] - 2s 6ms/step - loss: 3.6053 - root_mean_squared_error: 1.8988 - val_loss: 0.5377 - val_root_mean_squared_error: 0.7333\n",
      "Epoch 49/50\n",
      "372/375 [============================>.] - ETA: 0s - loss: 3.3555 - root_mean_squared_error: 1.8318"
     ]
    },
    {
     "name": "stderr",
     "output_type": "stream",
     "text": [
      "WARNING:absl:Found untraced functions such as lstm_cell_layer_call_fn, lstm_cell_layer_call_and_return_conditional_losses while saving (showing 2 of 2). These functions will not be directly callable after loading.\n"
     ]
    },
    {
     "name": "stdout",
     "output_type": "stream",
     "text": [
      "INFO:tensorflow:Assets written to: model1\\assets\n"
     ]
    },
    {
     "name": "stderr",
     "output_type": "stream",
     "text": [
      "INFO:tensorflow:Assets written to: model1\\assets\n"
     ]
    },
    {
     "name": "stdout",
     "output_type": "stream",
     "text": [
      "375/375 [==============================] - 5s 13ms/step - loss: 3.3390 - root_mean_squared_error: 1.8273 - val_loss: 0.4978 - val_root_mean_squared_error: 0.7055\n",
      "Epoch 50/50\n",
      "371/375 [============================>.] - ETA: 0s - loss: 3.1350 - root_mean_squared_error: 1.7706"
     ]
    },
    {
     "name": "stderr",
     "output_type": "stream",
     "text": [
      "WARNING:absl:Found untraced functions such as lstm_cell_layer_call_fn, lstm_cell_layer_call_and_return_conditional_losses while saving (showing 2 of 2). These functions will not be directly callable after loading.\n"
     ]
    },
    {
     "name": "stdout",
     "output_type": "stream",
     "text": [
      "INFO:tensorflow:Assets written to: model1\\assets\n"
     ]
    },
    {
     "name": "stderr",
     "output_type": "stream",
     "text": [
      "INFO:tensorflow:Assets written to: model1\\assets\n"
     ]
    },
    {
     "name": "stdout",
     "output_type": "stream",
     "text": [
      "375/375 [==============================] - 5s 14ms/step - loss: 3.1081 - root_mean_squared_error: 1.7630 - val_loss: 0.4911 - val_root_mean_squared_error: 0.7008\n"
     ]
    },
    {
     "data": {
      "text/plain": [
       "<keras.callbacks.History at 0x155ebd9a1f0>"
      ]
     },
     "execution_count": 17,
     "metadata": {},
     "output_type": "execute_result"
    }
   ],
   "source": [
    "model1.fit(X_train,y_train, validation_data=(X_val,y_val), epochs=50, callbacks=cb_list)"
   ]
  },
  {
   "cell_type": "code",
   "execution_count": 18,
   "metadata": {},
   "outputs": [],
   "source": [
    "from keras.models import load_model"
   ]
  },
  {
   "attachments": {},
   "cell_type": "markdown",
   "metadata": {},
   "source": [
    "12. Load the model so we can work with the best one. "
   ]
  },
  {
   "cell_type": "code",
   "execution_count": 19,
   "metadata": {},
   "outputs": [],
   "source": [
    "model1 = load_model('model1/')"
   ]
  },
  {
   "attachments": {},
   "cell_type": "markdown",
   "metadata": {},
   "source": [
    "13. Calculate the predicted values for the training set and add them to a dataframe with the actuals."
   ]
  },
  {
   "cell_type": "code",
   "execution_count": 20,
   "metadata": {},
   "outputs": [
    {
     "name": "stdout",
     "output_type": "stream",
     "text": [
      "375/375 [==============================] - 1s 2ms/step\n"
     ]
    },
    {
     "data": {
      "text/html": [
       "<div>\n",
       "<style scoped>\n",
       "    .dataframe tbody tr th:only-of-type {\n",
       "        vertical-align: middle;\n",
       "    }\n",
       "\n",
       "    .dataframe tbody tr th {\n",
       "        vertical-align: top;\n",
       "    }\n",
       "\n",
       "    .dataframe thead th {\n",
       "        text-align: right;\n",
       "    }\n",
       "</style>\n",
       "<table border=\"1\" class=\"dataframe\">\n",
       "  <thead>\n",
       "    <tr style=\"text-align: right;\">\n",
       "      <th></th>\n",
       "      <th>Train Predictions</th>\n",
       "      <th>Actuals</th>\n",
       "    </tr>\n",
       "  </thead>\n",
       "  <tbody>\n",
       "    <tr>\n",
       "      <th>0</th>\n",
       "      <td>10.294749</td>\n",
       "      <td>10.60</td>\n",
       "    </tr>\n",
       "    <tr>\n",
       "      <th>1</th>\n",
       "      <td>12.114127</td>\n",
       "      <td>11.92</td>\n",
       "    </tr>\n",
       "    <tr>\n",
       "      <th>2</th>\n",
       "      <td>14.814240</td>\n",
       "      <td>15.04</td>\n",
       "    </tr>\n",
       "    <tr>\n",
       "      <th>3</th>\n",
       "      <td>16.520330</td>\n",
       "      <td>16.85</td>\n",
       "    </tr>\n",
       "    <tr>\n",
       "      <th>4</th>\n",
       "      <td>16.077166</td>\n",
       "      <td>15.64</td>\n",
       "    </tr>\n",
       "    <tr>\n",
       "      <th>...</th>\n",
       "      <td>...</td>\n",
       "      <td>...</td>\n",
       "    </tr>\n",
       "    <tr>\n",
       "      <th>11995</th>\n",
       "      <td>2.290220</td>\n",
       "      <td>2.45</td>\n",
       "    </tr>\n",
       "    <tr>\n",
       "      <th>11996</th>\n",
       "      <td>2.653621</td>\n",
       "      <td>2.90</td>\n",
       "    </tr>\n",
       "    <tr>\n",
       "      <th>11997</th>\n",
       "      <td>3.271680</td>\n",
       "      <td>3.48</td>\n",
       "    </tr>\n",
       "    <tr>\n",
       "      <th>11998</th>\n",
       "      <td>4.211524</td>\n",
       "      <td>4.54</td>\n",
       "    </tr>\n",
       "    <tr>\n",
       "      <th>11999</th>\n",
       "      <td>5.407907</td>\n",
       "      <td>5.91</td>\n",
       "    </tr>\n",
       "  </tbody>\n",
       "</table>\n",
       "<p>12000 rows × 2 columns</p>\n",
       "</div>"
      ],
      "text/plain": [
       "       Train Predictions  Actuals\n",
       "0              10.294749    10.60\n",
       "1              12.114127    11.92\n",
       "2              14.814240    15.04\n",
       "3              16.520330    16.85\n",
       "4              16.077166    15.64\n",
       "...                  ...      ...\n",
       "11995           2.290220     2.45\n",
       "11996           2.653621     2.90\n",
       "11997           3.271680     3.48\n",
       "11998           4.211524     4.54\n",
       "11999           5.407907     5.91\n",
       "\n",
       "[12000 rows x 2 columns]"
      ]
     },
     "execution_count": 20,
     "metadata": {},
     "output_type": "execute_result"
    }
   ],
   "source": [
    "train_predictions = model1.predict(X_train).flatten()\n",
    "train_results = pd.DataFrame(data={'Train Predictions':train_predictions, 'Actuals':y_train})\n",
    "train_results"
   ]
  },
  {
   "attachments": {},
   "cell_type": "markdown",
   "metadata": {},
   "source": [
    "14. Visualize the data to compare predicted values to the actual values for the training set. As you can see, the model did a very good job of predicting values since the lines are pretty much on top of each other."
   ]
  },
  {
   "cell_type": "code",
   "execution_count": 21,
   "metadata": {},
   "outputs": [
    {
     "data": {
      "image/png": "[encoded data removed]",
      "text/plain": [
       "<Figure size 640x480 with 1 Axes>"
      ]
     },
     "metadata": {},
     "output_type": "display_data"
    }
   ],
   "source": [
    "import matplotlib.pyplot as plt\n",
    "plt.plot(train_results['Train Predictions'][:100])\n",
    "plt.plot(train_results['Actuals'][:100])\n",
    "plt.title('Predicted vs Actual Values for Training Set')\n",
    "plt.legend(['Predictions','Actuals']);"
   ]
  },
  {
   "attachments": {},
   "cell_type": "markdown",
   "metadata": {},
   "source": [
    "15. Calculate the predicted values for the validation set and add them to a dataframe with the actuals."
   ]
  },
  {
   "cell_type": "code",
   "execution_count": 22,
   "metadata": {},
   "outputs": [
    {
     "name": "stdout",
     "output_type": "stream",
     "text": [
      "94/94 [==============================] - 1s 3ms/step\n"
     ]
    },
    {
     "data": {
      "text/html": [
       "<div>\n",
       "<style scoped>\n",
       "    .dataframe tbody tr th:only-of-type {\n",
       "        vertical-align: middle;\n",
       "    }\n",
       "\n",
       "    .dataframe tbody tr th {\n",
       "        vertical-align: top;\n",
       "    }\n",
       "\n",
       "    .dataframe thead th {\n",
       "        text-align: right;\n",
       "    }\n",
       "</style>\n",
       "<table border=\"1\" class=\"dataframe\">\n",
       "  <thead>\n",
       "    <tr style=\"text-align: right;\">\n",
       "      <th></th>\n",
       "      <th>Val Predictions</th>\n",
       "      <th>Actuals</th>\n",
       "    </tr>\n",
       "  </thead>\n",
       "  <tbody>\n",
       "    <tr>\n",
       "      <th>0</th>\n",
       "      <td>8.071652</td>\n",
       "      <td>7.60</td>\n",
       "    </tr>\n",
       "    <tr>\n",
       "      <th>1</th>\n",
       "      <td>11.380260</td>\n",
       "      <td>11.78</td>\n",
       "    </tr>\n",
       "    <tr>\n",
       "      <th>2</th>\n",
       "      <td>10.302791</td>\n",
       "      <td>12.08</td>\n",
       "    </tr>\n",
       "    <tr>\n",
       "      <th>3</th>\n",
       "      <td>6.962555</td>\n",
       "      <td>5.95</td>\n",
       "    </tr>\n",
       "    <tr>\n",
       "      <th>4</th>\n",
       "      <td>6.689896</td>\n",
       "      <td>6.47</td>\n",
       "    </tr>\n",
       "    <tr>\n",
       "      <th>...</th>\n",
       "      <td>...</td>\n",
       "      <td>...</td>\n",
       "    </tr>\n",
       "    <tr>\n",
       "      <th>2995</th>\n",
       "      <td>20.151451</td>\n",
       "      <td>20.61</td>\n",
       "    </tr>\n",
       "    <tr>\n",
       "      <th>2996</th>\n",
       "      <td>19.369207</td>\n",
       "      <td>19.86</td>\n",
       "    </tr>\n",
       "    <tr>\n",
       "      <th>2997</th>\n",
       "      <td>18.330036</td>\n",
       "      <td>18.63</td>\n",
       "    </tr>\n",
       "    <tr>\n",
       "      <th>2998</th>\n",
       "      <td>17.846189</td>\n",
       "      <td>17.85</td>\n",
       "    </tr>\n",
       "    <tr>\n",
       "      <th>2999</th>\n",
       "      <td>18.469467</td>\n",
       "      <td>18.36</td>\n",
       "    </tr>\n",
       "  </tbody>\n",
       "</table>\n",
       "<p>3000 rows × 2 columns</p>\n",
       "</div>"
      ],
      "text/plain": [
       "      Val Predictions  Actuals\n",
       "0            8.071652     7.60\n",
       "1           11.380260    11.78\n",
       "2           10.302791    12.08\n",
       "3            6.962555     5.95\n",
       "4            6.689896     6.47\n",
       "...               ...      ...\n",
       "2995        20.151451    20.61\n",
       "2996        19.369207    19.86\n",
       "2997        18.330036    18.63\n",
       "2998        17.846189    17.85\n",
       "2999        18.469467    18.36\n",
       "\n",
       "[3000 rows x 2 columns]"
      ]
     },
     "execution_count": 22,
     "metadata": {},
     "output_type": "execute_result"
    }
   ],
   "source": [
    "val_predictions = model1.predict(X_val).flatten()\n",
    "val_results = pd.DataFrame(data={'Val Predictions':val_predictions, 'Actuals':y_val})\n",
    "val_results"
   ]
  },
  {
   "attachments": {},
   "cell_type": "markdown",
   "metadata": {},
   "source": [
    "16. Visualize the data to compare predicted values to the actual values for the validation set. Again, it looks like the model did a good job of predicting values. "
   ]
  },
  {
   "cell_type": "code",
   "execution_count": 23,
   "metadata": {},
   "outputs": [
    {
     "data": {
      "image/png": "[encoded data removed]",
      "text/plain": [
       "<Figure size 640x480 with 1 Axes>"
      ]
     },
     "metadata": {},
     "output_type": "display_data"
    }
   ],
   "source": [
    "plt.plot(val_results['Val Predictions'][:100])\n",
    "plt.plot(val_results['Actuals'][:100])\n",
    "plt.title('Predicted vs Actual Values for Validation Set')\n",
    "plt.legend(['Predictions','Actuals']);"
   ]
  },
  {
   "attachments": {},
   "cell_type": "markdown",
   "metadata": {},
   "source": [
    "17. Calculate the predicted values for the test set and add them to a dataframe along with the actuals."
   ]
  },
  {
   "cell_type": "code",
   "execution_count": 24,
   "metadata": {},
   "outputs": [
    {
     "name": "stdout",
     "output_type": "stream",
     "text": [
      "96/96 [==============================] - 0s 3ms/step\n"
     ]
    },
    {
     "data": {
      "text/html": [
       "<div>\n",
       "<style scoped>\n",
       "    .dataframe tbody tr th:only-of-type {\n",
       "        vertical-align: middle;\n",
       "    }\n",
       "\n",
       "    .dataframe tbody tr th {\n",
       "        vertical-align: top;\n",
       "    }\n",
       "\n",
       "    .dataframe thead th {\n",
       "        text-align: right;\n",
       "    }\n",
       "</style>\n",
       "<table border=\"1\" class=\"dataframe\">\n",
       "  <thead>\n",
       "    <tr style=\"text-align: right;\">\n",
       "      <th></th>\n",
       "      <th>Test Predictions</th>\n",
       "      <th>Actuals</th>\n",
       "    </tr>\n",
       "  </thead>\n",
       "  <tbody>\n",
       "    <tr>\n",
       "      <th>0</th>\n",
       "      <td>18.116283</td>\n",
       "      <td>18.85</td>\n",
       "    </tr>\n",
       "    <tr>\n",
       "      <th>1</th>\n",
       "      <td>17.197718</td>\n",
       "      <td>16.84</td>\n",
       "    </tr>\n",
       "    <tr>\n",
       "      <th>2</th>\n",
       "      <td>17.374121</td>\n",
       "      <td>17.90</td>\n",
       "    </tr>\n",
       "    <tr>\n",
       "      <th>3</th>\n",
       "      <td>19.230680</td>\n",
       "      <td>19.42</td>\n",
       "    </tr>\n",
       "    <tr>\n",
       "      <th>4</th>\n",
       "      <td>22.954025</td>\n",
       "      <td>22.37</td>\n",
       "    </tr>\n",
       "    <tr>\n",
       "      <th>...</th>\n",
       "      <td>...</td>\n",
       "      <td>...</td>\n",
       "    </tr>\n",
       "    <tr>\n",
       "      <th>3048</th>\n",
       "      <td>15.704947</td>\n",
       "      <td>16.50</td>\n",
       "    </tr>\n",
       "    <tr>\n",
       "      <th>3049</th>\n",
       "      <td>17.820337</td>\n",
       "      <td>17.82</td>\n",
       "    </tr>\n",
       "    <tr>\n",
       "      <th>3050</th>\n",
       "      <td>25.369282</td>\n",
       "      <td>24.86</td>\n",
       "    </tr>\n",
       "    <tr>\n",
       "      <th>3051</th>\n",
       "      <td>36.077686</td>\n",
       "      <td>36.08</td>\n",
       "    </tr>\n",
       "    <tr>\n",
       "      <th>3052</th>\n",
       "      <td>46.027401</td>\n",
       "      <td>45.75</td>\n",
       "    </tr>\n",
       "  </tbody>\n",
       "</table>\n",
       "<p>3053 rows × 2 columns</p>\n",
       "</div>"
      ],
      "text/plain": [
       "      Test Predictions  Actuals\n",
       "0            18.116283    18.85\n",
       "1            17.197718    16.84\n",
       "2            17.374121    17.90\n",
       "3            19.230680    19.42\n",
       "4            22.954025    22.37\n",
       "...                ...      ...\n",
       "3048         15.704947    16.50\n",
       "3049         17.820337    17.82\n",
       "3050         25.369282    24.86\n",
       "3051         36.077686    36.08\n",
       "3052         46.027401    45.75\n",
       "\n",
       "[3053 rows x 2 columns]"
      ]
     },
     "execution_count": 24,
     "metadata": {},
     "output_type": "execute_result"
    }
   ],
   "source": [
    "test_predictions = model1.predict(X_test).flatten()\n",
    "test_results = pd.DataFrame(data={'Test Predictions':test_predictions, 'Actuals':y_test})\n",
    "test_results"
   ]
  },
  {
   "attachments": {},
   "cell_type": "markdown",
   "metadata": {},
   "source": [
    "18. Visualize the data to compare predicted values to the actual values for the test set. This time, it looks like the model struggled a bit when predicting those first two larger spikes. But overall, it looks like the model performed well again.  "
   ]
  },
  {
   "cell_type": "code",
   "execution_count": 25,
   "metadata": {},
   "outputs": [
    {
     "data": {
      "image/png": "[encoded data removed]",
      "text/plain": [
       "<Figure size 640x480 with 1 Axes>"
      ]
     },
     "metadata": {},
     "output_type": "display_data"
    }
   ],
   "source": [
    "plt.plot(test_results['Test Predictions'][:100])\n",
    "plt.plot(test_results['Actuals'][:100])\n",
    "plt.title('Predicted vs Actual Values for Testing Set')\n",
    "plt.legend(['Predictions','Actuals']);"
   ]
  },
  {
   "cell_type": "code",
   "execution_count": 26,
   "metadata": {},
   "outputs": [],
   "source": [
    "from sklearn.metrics import r2_score"
   ]
  },
  {
   "attachments": {},
   "cell_type": "markdown",
   "metadata": {},
   "source": [
    "19. Calculate the coefficient of determination for the training set, validation set, and testing set. As you can see, the model performed very well, especially when you consider that we did not have to add any extra features like we had to for the XGBoost model. When we tested the XGBoost model's training score with no added features it was .12, so this model performs much better at its most basic level. "
   ]
  },
  {
   "cell_type": "code",
   "execution_count": 27,
   "metadata": {},
   "outputs": [
    {
     "data": {
      "text/plain": [
       "0.9945357315726592"
      ]
     },
     "execution_count": 27,
     "metadata": {},
     "output_type": "execute_result"
    }
   ],
   "source": [
    "train_r2 = r2_score(train_results['Actuals'],train_results['Train Predictions'])\n",
    "train_r2"
   ]
  },
  {
   "cell_type": "code",
   "execution_count": 28,
   "metadata": {},
   "outputs": [
    {
     "data": {
      "text/plain": [
       "0.9953435590749444"
      ]
     },
     "execution_count": 28,
     "metadata": {},
     "output_type": "execute_result"
    }
   ],
   "source": [
    "val_r2 = r2_score(val_results['Actuals'],val_results['Val Predictions'])\n",
    "val_r2"
   ]
  },
  {
   "cell_type": "code",
   "execution_count": 29,
   "metadata": {},
   "outputs": [
    {
     "data": {
      "text/plain": [
       "0.9873399362607875"
      ]
     },
     "execution_count": 29,
     "metadata": {},
     "output_type": "execute_result"
    }
   ],
   "source": [
    "test_r2 = r2_score(test_results['Actuals'],test_results['Test Predictions'])\n",
    "test_r2"
   ]
  },
  {
   "cell_type": "code",
   "execution_count": 30,
   "metadata": {},
   "outputs": [],
   "source": [
    "from sklearn.metrics import mean_squared_error "
   ]
  },
  {
   "attachments": {},
   "cell_type": "markdown",
   "metadata": {},
   "source": [
    "20. Calculate the Mean Squared Error and the Root Mean Squared Error. The MSE for the XGBoost model's testing set was 40.62, while this model's MSE is much lower at 7.37. "
   ]
  },
  {
   "cell_type": "code",
   "execution_count": 31,
   "metadata": {},
   "outputs": [
    {
     "data": {
      "text/plain": [
       "3.93464681906428"
      ]
     },
     "execution_count": 31,
     "metadata": {},
     "output_type": "execute_result"
    }
   ],
   "source": [
    "realVals_train = train_results.Actuals\n",
    "predictedVals_train = train_results['Train Predictions']\n",
    "mse_train = mean_squared_error(realVals_train, predictedVals_train)\n",
    "mse_train"
   ]
  },
  {
   "cell_type": "code",
   "execution_count": 32,
   "metadata": {},
   "outputs": [
    {
     "data": {
      "text/plain": [
       "1.9835944189940342"
      ]
     },
     "execution_count": 32,
     "metadata": {},
     "output_type": "execute_result"
    }
   ],
   "source": [
    "realVals_train = train_results.Actuals\n",
    "predictedVals_train = train_results['Train Predictions']\n",
    "rmse_train = mean_squared_error(realVals_train, predictedVals_train, squared = False)\n",
    "rmse_train"
   ]
  },
  {
   "cell_type": "code",
   "execution_count": 33,
   "metadata": {},
   "outputs": [
    {
     "data": {
      "text/plain": [
       "0.4911127607574381"
      ]
     },
     "execution_count": 33,
     "metadata": {},
     "output_type": "execute_result"
    }
   ],
   "source": [
    "realVals_val = val_results.Actuals\n",
    "predictedVals_val = val_results['Val Predictions']\n",
    "mse_val = mean_squared_error(realVals_val, predictedVals_val)\n",
    "mse_val"
   ]
  },
  {
   "cell_type": "code",
   "execution_count": 34,
   "metadata": {},
   "outputs": [
    {
     "data": {
      "text/plain": [
       "0.7007943783717433"
      ]
     },
     "execution_count": 34,
     "metadata": {},
     "output_type": "execute_result"
    }
   ],
   "source": [
    "realVals_val = val_results.Actuals\n",
    "predictedVals_val = val_results['Val Predictions']\n",
    "rmse_val = mean_squared_error(realVals_val, predictedVals_val, squared = False)\n",
    "rmse_val"
   ]
  },
  {
   "cell_type": "code",
   "execution_count": 35,
   "metadata": {},
   "outputs": [
    {
     "data": {
      "text/plain": [
       "7.378983472158171"
      ]
     },
     "execution_count": 35,
     "metadata": {},
     "output_type": "execute_result"
    }
   ],
   "source": [
    "realVals_test = test_results.Actuals\n",
    "predictedVals_test = test_results['Test Predictions']\n",
    "mse_test = mean_squared_error(realVals_test, predictedVals_test)\n",
    "mse_test"
   ]
  },
  {
   "cell_type": "code",
   "execution_count": 36,
   "metadata": {},
   "outputs": [
    {
     "data": {
      "text/plain": [
       "2.7164284404633543"
      ]
     },
     "execution_count": 36,
     "metadata": {},
     "output_type": "execute_result"
    }
   ],
   "source": [
    "realVals_test = test_results.Actuals\n",
    "predictedVals_test = test_results['Test Predictions']\n",
    "rmse_test = mean_squared_error(realVals_test, predictedVals_test, squared = False)\n",
    "rmse_test"
   ]
  },
  {
   "attachments": {},
   "cell_type": "markdown",
   "metadata": {},
   "source": [
    "21. Create a second model. This time we are adding features to help it get a better sense of how the data progresses with time so that its performance is hopefully improved. As we saw before, this is not as necessary as when you use XGBoost to predict time series data, but we want to try and refine our model. "
   ]
  },
  {
   "cell_type": "code",
   "execution_count": 37,
   "metadata": {},
   "outputs": [
    {
     "data": {
      "text/html": [
       "<div>\n",
       "<style scoped>\n",
       "    .dataframe tbody tr th:only-of-type {\n",
       "        vertical-align: middle;\n",
       "    }\n",
       "\n",
       "    .dataframe tbody tr th {\n",
       "        vertical-align: top;\n",
       "    }\n",
       "\n",
       "    .dataframe thead th {\n",
       "        text-align: right;\n",
       "    }\n",
       "</style>\n",
       "<table border=\"1\" class=\"dataframe\">\n",
       "  <thead>\n",
       "    <tr style=\"text-align: right;\">\n",
       "      <th></th>\n",
       "      <th>pm2_5</th>\n",
       "      <th>seconds</th>\n",
       "    </tr>\n",
       "    <tr>\n",
       "      <th>date</th>\n",
       "      <th></th>\n",
       "      <th></th>\n",
       "    </tr>\n",
       "  </thead>\n",
       "  <tbody>\n",
       "    <tr>\n",
       "      <th>2020-12-01 05:00:00</th>\n",
       "      <td>9.31</td>\n",
       "      <td>1.606799e+09</td>\n",
       "    </tr>\n",
       "    <tr>\n",
       "      <th>2020-12-01 06:00:00</th>\n",
       "      <td>8.43</td>\n",
       "      <td>1.606802e+09</td>\n",
       "    </tr>\n",
       "    <tr>\n",
       "      <th>2020-12-01 07:00:00</th>\n",
       "      <td>8.55</td>\n",
       "      <td>1.606806e+09</td>\n",
       "    </tr>\n",
       "    <tr>\n",
       "      <th>2020-12-01 08:00:00</th>\n",
       "      <td>8.92</td>\n",
       "      <td>1.606810e+09</td>\n",
       "    </tr>\n",
       "    <tr>\n",
       "      <th>2020-12-01 09:00:00</th>\n",
       "      <td>9.62</td>\n",
       "      <td>1.606813e+09</td>\n",
       "    </tr>\n",
       "    <tr>\n",
       "      <th>...</th>\n",
       "      <td>...</td>\n",
       "      <td>...</td>\n",
       "    </tr>\n",
       "    <tr>\n",
       "      <th>2022-12-31 13:00:00</th>\n",
       "      <td>36.08</td>\n",
       "      <td>1.672492e+09</td>\n",
       "    </tr>\n",
       "    <tr>\n",
       "      <th>2022-12-31 14:00:00</th>\n",
       "      <td>45.75</td>\n",
       "      <td>1.672495e+09</td>\n",
       "    </tr>\n",
       "    <tr>\n",
       "      <th>2022-12-31 15:00:00</th>\n",
       "      <td>50.21</td>\n",
       "      <td>1.672499e+09</td>\n",
       "    </tr>\n",
       "    <tr>\n",
       "      <th>2022-12-31 16:00:00</th>\n",
       "      <td>48.14</td>\n",
       "      <td>1.672502e+09</td>\n",
       "    </tr>\n",
       "    <tr>\n",
       "      <th>2022-12-31 17:00:00</th>\n",
       "      <td>44.33</td>\n",
       "      <td>1.672506e+09</td>\n",
       "    </tr>\n",
       "  </tbody>\n",
       "</table>\n",
       "<p>18061 rows × 2 columns</p>\n",
       "</div>"
      ],
      "text/plain": [
       "                     pm2_5       seconds\n",
       "date                                    \n",
       "2020-12-01 05:00:00   9.31  1.606799e+09\n",
       "2020-12-01 06:00:00   8.43  1.606802e+09\n",
       "2020-12-01 07:00:00   8.55  1.606806e+09\n",
       "2020-12-01 08:00:00   8.92  1.606810e+09\n",
       "2020-12-01 09:00:00   9.62  1.606813e+09\n",
       "...                    ...           ...\n",
       "2022-12-31 13:00:00  36.08  1.672492e+09\n",
       "2022-12-31 14:00:00  45.75  1.672495e+09\n",
       "2022-12-31 15:00:00  50.21  1.672499e+09\n",
       "2022-12-31 16:00:00  48.14  1.672502e+09\n",
       "2022-12-31 17:00:00  44.33  1.672506e+09\n",
       "\n",
       "[18061 rows x 2 columns]"
      ]
     },
     "execution_count": 37,
     "metadata": {},
     "output_type": "execute_result"
    }
   ],
   "source": [
    "pm25_df = pd.DataFrame({'pm2_5':pm25})\n",
    "pm25_df['seconds'] = pm25_df.index.map(pd.Timestamp.timestamp)\n",
    "pm25_df"
   ]
  },
  {
   "attachments": {},
   "cell_type": "markdown",
   "metadata": {},
   "source": [
    "22. Use the seconds column to create columns for Day sin, Day cos, Year sin, and Year cos. These features are similar to the lag features that we used for our XGBoost model in that they are there to give a sense of relative time, but these are referred to as cyclical features. "
   ]
  },
  {
   "cell_type": "code",
   "execution_count": 38,
   "metadata": {},
   "outputs": [],
   "source": [
    "day = 60*60*24\n",
    "year = 365.2425*day \n",
    "\n",
    "pm25_df['Day sin'] = np.sin(pm25_df['seconds'] * (2*np.pi / day))\n",
    "pm25_df['Day cos'] = np.cos(pm25_df['seconds'] * (2*np.pi / day))\n",
    "pm25_df['Year sin'] = np.sin(pm25_df['seconds'] * (2*np.pi / year))\n",
    "pm25_df['Year cos'] = np.cos(pm25_df['seconds'] * (2*np.pi / year))"
   ]
  },
  {
   "cell_type": "code",
   "execution_count": 39,
   "metadata": {},
   "outputs": [
    {
     "data": {
      "text/html": [
       "<div>\n",
       "<style scoped>\n",
       "    .dataframe tbody tr th:only-of-type {\n",
       "        vertical-align: middle;\n",
       "    }\n",
       "\n",
       "    .dataframe tbody tr th {\n",
       "        vertical-align: top;\n",
       "    }\n",
       "\n",
       "    .dataframe thead th {\n",
       "        text-align: right;\n",
       "    }\n",
       "</style>\n",
       "<table border=\"1\" class=\"dataframe\">\n",
       "  <thead>\n",
       "    <tr style=\"text-align: right;\">\n",
       "      <th></th>\n",
       "      <th>pm2_5</th>\n",
       "      <th>seconds</th>\n",
       "      <th>Day sin</th>\n",
       "      <th>Day cos</th>\n",
       "      <th>Year sin</th>\n",
       "      <th>Year cos</th>\n",
       "    </tr>\n",
       "    <tr>\n",
       "      <th>date</th>\n",
       "      <th></th>\n",
       "      <th></th>\n",
       "      <th></th>\n",
       "      <th></th>\n",
       "      <th></th>\n",
       "      <th></th>\n",
       "    </tr>\n",
       "  </thead>\n",
       "  <tbody>\n",
       "    <tr>\n",
       "      <th>2020-12-01 05:00:00</th>\n",
       "      <td>9.31</td>\n",
       "      <td>1.606799e+09</td>\n",
       "      <td>0.965926</td>\n",
       "      <td>2.588190e-01</td>\n",
       "      <td>-0.495857</td>\n",
       "      <td>0.868404</td>\n",
       "    </tr>\n",
       "    <tr>\n",
       "      <th>2020-12-01 06:00:00</th>\n",
       "      <td>8.43</td>\n",
       "      <td>1.606802e+09</td>\n",
       "      <td>1.000000</td>\n",
       "      <td>1.086286e-11</td>\n",
       "      <td>-0.495234</td>\n",
       "      <td>0.868759</td>\n",
       "    </tr>\n",
       "    <tr>\n",
       "      <th>2020-12-01 07:00:00</th>\n",
       "      <td>8.55</td>\n",
       "      <td>1.606806e+09</td>\n",
       "      <td>0.965926</td>\n",
       "      <td>-2.588190e-01</td>\n",
       "      <td>-0.494612</td>\n",
       "      <td>0.869114</td>\n",
       "    </tr>\n",
       "    <tr>\n",
       "      <th>2020-12-01 08:00:00</th>\n",
       "      <td>8.92</td>\n",
       "      <td>1.606810e+09</td>\n",
       "      <td>0.866025</td>\n",
       "      <td>-5.000000e-01</td>\n",
       "      <td>-0.493988</td>\n",
       "      <td>0.869468</td>\n",
       "    </tr>\n",
       "    <tr>\n",
       "      <th>2020-12-01 09:00:00</th>\n",
       "      <td>9.62</td>\n",
       "      <td>1.606813e+09</td>\n",
       "      <td>0.707107</td>\n",
       "      <td>-7.071068e-01</td>\n",
       "      <td>-0.493365</td>\n",
       "      <td>0.869822</td>\n",
       "    </tr>\n",
       "    <tr>\n",
       "      <th>...</th>\n",
       "      <td>...</td>\n",
       "      <td>...</td>\n",
       "      <td>...</td>\n",
       "      <td>...</td>\n",
       "      <td>...</td>\n",
       "      <td>...</td>\n",
       "    </tr>\n",
       "    <tr>\n",
       "      <th>2022-12-31 13:00:00</th>\n",
       "      <td>36.08</td>\n",
       "      <td>1.672492e+09</td>\n",
       "      <td>-0.258819</td>\n",
       "      <td>-9.659258e-01</td>\n",
       "      <td>-0.005347</td>\n",
       "      <td>0.999986</td>\n",
       "    </tr>\n",
       "    <tr>\n",
       "      <th>2022-12-31 14:00:00</th>\n",
       "      <td>45.75</td>\n",
       "      <td>1.672495e+09</td>\n",
       "      <td>-0.500000</td>\n",
       "      <td>-8.660254e-01</td>\n",
       "      <td>-0.004630</td>\n",
       "      <td>0.999989</td>\n",
       "    </tr>\n",
       "    <tr>\n",
       "      <th>2022-12-31 15:00:00</th>\n",
       "      <td>50.21</td>\n",
       "      <td>1.672499e+09</td>\n",
       "      <td>-0.707107</td>\n",
       "      <td>-7.071068e-01</td>\n",
       "      <td>-0.003914</td>\n",
       "      <td>0.999992</td>\n",
       "    </tr>\n",
       "    <tr>\n",
       "      <th>2022-12-31 16:00:00</th>\n",
       "      <td>48.14</td>\n",
       "      <td>1.672502e+09</td>\n",
       "      <td>-0.866025</td>\n",
       "      <td>-5.000000e-01</td>\n",
       "      <td>-0.003197</td>\n",
       "      <td>0.999995</td>\n",
       "    </tr>\n",
       "    <tr>\n",
       "      <th>2022-12-31 17:00:00</th>\n",
       "      <td>44.33</td>\n",
       "      <td>1.672506e+09</td>\n",
       "      <td>-0.965926</td>\n",
       "      <td>-2.588190e-01</td>\n",
       "      <td>-0.002480</td>\n",
       "      <td>0.999997</td>\n",
       "    </tr>\n",
       "  </tbody>\n",
       "</table>\n",
       "<p>18061 rows × 6 columns</p>\n",
       "</div>"
      ],
      "text/plain": [
       "                     pm2_5       seconds   Day sin       Day cos  Year sin  \\\n",
       "date                                                                         \n",
       "2020-12-01 05:00:00   9.31  1.606799e+09  0.965926  2.588190e-01 -0.495857   \n",
       "2020-12-01 06:00:00   8.43  1.606802e+09  1.000000  1.086286e-11 -0.495234   \n",
       "2020-12-01 07:00:00   8.55  1.606806e+09  0.965926 -2.588190e-01 -0.494612   \n",
       "2020-12-01 08:00:00   8.92  1.606810e+09  0.866025 -5.000000e-01 -0.493988   \n",
       "2020-12-01 09:00:00   9.62  1.606813e+09  0.707107 -7.071068e-01 -0.493365   \n",
       "...                    ...           ...       ...           ...       ...   \n",
       "2022-12-31 13:00:00  36.08  1.672492e+09 -0.258819 -9.659258e-01 -0.005347   \n",
       "2022-12-31 14:00:00  45.75  1.672495e+09 -0.500000 -8.660254e-01 -0.004630   \n",
       "2022-12-31 15:00:00  50.21  1.672499e+09 -0.707107 -7.071068e-01 -0.003914   \n",
       "2022-12-31 16:00:00  48.14  1.672502e+09 -0.866025 -5.000000e-01 -0.003197   \n",
       "2022-12-31 17:00:00  44.33  1.672506e+09 -0.965926 -2.588190e-01 -0.002480   \n",
       "\n",
       "                     Year cos  \n",
       "date                           \n",
       "2020-12-01 05:00:00  0.868404  \n",
       "2020-12-01 06:00:00  0.868759  \n",
       "2020-12-01 07:00:00  0.869114  \n",
       "2020-12-01 08:00:00  0.869468  \n",
       "2020-12-01 09:00:00  0.869822  \n",
       "...                       ...  \n",
       "2022-12-31 13:00:00  0.999986  \n",
       "2022-12-31 14:00:00  0.999989  \n",
       "2022-12-31 15:00:00  0.999992  \n",
       "2022-12-31 16:00:00  0.999995  \n",
       "2022-12-31 17:00:00  0.999997  \n",
       "\n",
       "[18061 rows x 6 columns]"
      ]
     },
     "execution_count": 39,
     "metadata": {},
     "output_type": "execute_result"
    }
   ],
   "source": [
    "pm25_df"
   ]
  },
  {
   "attachments": {},
   "cell_type": "markdown",
   "metadata": {},
   "source": [
    "23. Drop the seconds column since it is no longer necessary now that we have created the extra columns. "
   ]
  },
  {
   "cell_type": "code",
   "execution_count": 40,
   "metadata": {},
   "outputs": [],
   "source": [
    "aqi_df = pm25_df.drop('seconds', axis=1)"
   ]
  },
  {
   "cell_type": "code",
   "execution_count": 41,
   "metadata": {},
   "outputs": [
    {
     "data": {
      "text/html": [
       "<div>\n",
       "<style scoped>\n",
       "    .dataframe tbody tr th:only-of-type {\n",
       "        vertical-align: middle;\n",
       "    }\n",
       "\n",
       "    .dataframe tbody tr th {\n",
       "        vertical-align: top;\n",
       "    }\n",
       "\n",
       "    .dataframe thead th {\n",
       "        text-align: right;\n",
       "    }\n",
       "</style>\n",
       "<table border=\"1\" class=\"dataframe\">\n",
       "  <thead>\n",
       "    <tr style=\"text-align: right;\">\n",
       "      <th></th>\n",
       "      <th>pm2_5</th>\n",
       "      <th>Day sin</th>\n",
       "      <th>Day cos</th>\n",
       "      <th>Year sin</th>\n",
       "      <th>Year cos</th>\n",
       "    </tr>\n",
       "    <tr>\n",
       "      <th>date</th>\n",
       "      <th></th>\n",
       "      <th></th>\n",
       "      <th></th>\n",
       "      <th></th>\n",
       "      <th></th>\n",
       "    </tr>\n",
       "  </thead>\n",
       "  <tbody>\n",
       "    <tr>\n",
       "      <th>2020-12-01 05:00:00</th>\n",
       "      <td>9.31</td>\n",
       "      <td>0.965926</td>\n",
       "      <td>2.588190e-01</td>\n",
       "      <td>-0.495857</td>\n",
       "      <td>0.868404</td>\n",
       "    </tr>\n",
       "    <tr>\n",
       "      <th>2020-12-01 06:00:00</th>\n",
       "      <td>8.43</td>\n",
       "      <td>1.000000</td>\n",
       "      <td>1.086286e-11</td>\n",
       "      <td>-0.495234</td>\n",
       "      <td>0.868759</td>\n",
       "    </tr>\n",
       "    <tr>\n",
       "      <th>2020-12-01 07:00:00</th>\n",
       "      <td>8.55</td>\n",
       "      <td>0.965926</td>\n",
       "      <td>-2.588190e-01</td>\n",
       "      <td>-0.494612</td>\n",
       "      <td>0.869114</td>\n",
       "    </tr>\n",
       "    <tr>\n",
       "      <th>2020-12-01 08:00:00</th>\n",
       "      <td>8.92</td>\n",
       "      <td>0.866025</td>\n",
       "      <td>-5.000000e-01</td>\n",
       "      <td>-0.493988</td>\n",
       "      <td>0.869468</td>\n",
       "    </tr>\n",
       "    <tr>\n",
       "      <th>2020-12-01 09:00:00</th>\n",
       "      <td>9.62</td>\n",
       "      <td>0.707107</td>\n",
       "      <td>-7.071068e-01</td>\n",
       "      <td>-0.493365</td>\n",
       "      <td>0.869822</td>\n",
       "    </tr>\n",
       "    <tr>\n",
       "      <th>...</th>\n",
       "      <td>...</td>\n",
       "      <td>...</td>\n",
       "      <td>...</td>\n",
       "      <td>...</td>\n",
       "      <td>...</td>\n",
       "    </tr>\n",
       "    <tr>\n",
       "      <th>2022-12-31 13:00:00</th>\n",
       "      <td>36.08</td>\n",
       "      <td>-0.258819</td>\n",
       "      <td>-9.659258e-01</td>\n",
       "      <td>-0.005347</td>\n",
       "      <td>0.999986</td>\n",
       "    </tr>\n",
       "    <tr>\n",
       "      <th>2022-12-31 14:00:00</th>\n",
       "      <td>45.75</td>\n",
       "      <td>-0.500000</td>\n",
       "      <td>-8.660254e-01</td>\n",
       "      <td>-0.004630</td>\n",
       "      <td>0.999989</td>\n",
       "    </tr>\n",
       "    <tr>\n",
       "      <th>2022-12-31 15:00:00</th>\n",
       "      <td>50.21</td>\n",
       "      <td>-0.707107</td>\n",
       "      <td>-7.071068e-01</td>\n",
       "      <td>-0.003914</td>\n",
       "      <td>0.999992</td>\n",
       "    </tr>\n",
       "    <tr>\n",
       "      <th>2022-12-31 16:00:00</th>\n",
       "      <td>48.14</td>\n",
       "      <td>-0.866025</td>\n",
       "      <td>-5.000000e-01</td>\n",
       "      <td>-0.003197</td>\n",
       "      <td>0.999995</td>\n",
       "    </tr>\n",
       "    <tr>\n",
       "      <th>2022-12-31 17:00:00</th>\n",
       "      <td>44.33</td>\n",
       "      <td>-0.965926</td>\n",
       "      <td>-2.588190e-01</td>\n",
       "      <td>-0.002480</td>\n",
       "      <td>0.999997</td>\n",
       "    </tr>\n",
       "  </tbody>\n",
       "</table>\n",
       "<p>18061 rows × 5 columns</p>\n",
       "</div>"
      ],
      "text/plain": [
       "                     pm2_5   Day sin       Day cos  Year sin  Year cos\n",
       "date                                                                  \n",
       "2020-12-01 05:00:00   9.31  0.965926  2.588190e-01 -0.495857  0.868404\n",
       "2020-12-01 06:00:00   8.43  1.000000  1.086286e-11 -0.495234  0.868759\n",
       "2020-12-01 07:00:00   8.55  0.965926 -2.588190e-01 -0.494612  0.869114\n",
       "2020-12-01 08:00:00   8.92  0.866025 -5.000000e-01 -0.493988  0.869468\n",
       "2020-12-01 09:00:00   9.62  0.707107 -7.071068e-01 -0.493365  0.869822\n",
       "...                    ...       ...           ...       ...       ...\n",
       "2022-12-31 13:00:00  36.08 -0.258819 -9.659258e-01 -0.005347  0.999986\n",
       "2022-12-31 14:00:00  45.75 -0.500000 -8.660254e-01 -0.004630  0.999989\n",
       "2022-12-31 15:00:00  50.21 -0.707107 -7.071068e-01 -0.003914  0.999992\n",
       "2022-12-31 16:00:00  48.14 -0.866025 -5.000000e-01 -0.003197  0.999995\n",
       "2022-12-31 17:00:00  44.33 -0.965926 -2.588190e-01 -0.002480  0.999997\n",
       "\n",
       "[18061 rows x 5 columns]"
      ]
     },
     "execution_count": 41,
     "metadata": {},
     "output_type": "execute_result"
    }
   ],
   "source": [
    "aqi_df"
   ]
  },
  {
   "attachments": {},
   "cell_type": "markdown",
   "metadata": {},
   "source": [
    "24. This is the same function as before, but it makes it so that there are 8 lists in each array since the window size is 8, and each array has 5 values since we have 5 features now (PM2.5, day sin, day cos, year sin, and year cos)."
   ]
  },
  {
   "cell_type": "code",
   "execution_count": 42,
   "metadata": {},
   "outputs": [],
   "source": [
    "def df_to_X_y2(df, window_size=8):\n",
    "    df_as_np = df.to_numpy()\n",
    "    X = []\n",
    "    y = []\n",
    "    for i in range(len(df_as_np)-window_size):\n",
    "        row = [r for r in df_as_np[i:i+window_size]]\n",
    "        X.append(row)\n",
    "        label = df_as_np[i+window_size][0]\n",
    "        y.append(label)\n",
    "    return np.array(X), np.array(y)"
   ]
  },
  {
   "cell_type": "code",
   "execution_count": 43,
   "metadata": {},
   "outputs": [
    {
     "data": {
      "text/plain": [
       "((18053, 8, 5), (18053,))"
      ]
     },
     "execution_count": 43,
     "metadata": {},
     "output_type": "execute_result"
    }
   ],
   "source": [
    "X2, y2 = df_to_X_y2(aqi_df)\n",
    "X2.shape, y2.shape "
   ]
  },
  {
   "attachments": {},
   "cell_type": "markdown",
   "metadata": {},
   "source": [
    "25. Separate the data into a training set, a validation set, and a testing set. "
   ]
  },
  {
   "cell_type": "code",
   "execution_count": 44,
   "metadata": {},
   "outputs": [
    {
     "data": {
      "text/plain": [
       "((12000, 8, 5), (12000,), (3000, 8, 5), (3000,), (3053, 8, 5), (3053,))"
      ]
     },
     "execution_count": 44,
     "metadata": {},
     "output_type": "execute_result"
    }
   ],
   "source": [
    "X2_train, y2_train = X2[:12000], y2[:12000]\n",
    "X2_val, y2_val = X2[12000:15000], y2[12000:15000]\n",
    "X2_test, y2_test = X2[15000:], y2[15000:]\n",
    "X2_train.shape, y2_train.shape, X2_val.shape, y2_val.shape, X2_test.shape, y2_test.shape"
   ]
  },
  {
   "attachments": {},
   "cell_type": "markdown",
   "metadata": {},
   "source": [
    "26. Standardize the data so that all the values are on a similar scale. "
   ]
  },
  {
   "cell_type": "code",
   "execution_count": 45,
   "metadata": {},
   "outputs": [],
   "source": [
    "pm25_training_mean = np.mean(X2_train[:, :, 0])\n",
    "pm25_training_std = np.std(X2_train[:, :, 0])\n",
    "\n",
    "def preprocess(X):\n",
    "    X[:, :, 0] = (X[:, :, 0] - pm25_training_mean) / pm25_training_std\n",
    "    return X"
   ]
  },
  {
   "cell_type": "code",
   "execution_count": 46,
   "metadata": {},
   "outputs": [
    {
     "data": {
      "text/plain": [
       "array([[[ 7.63055244e-02,  9.65925826e-01,  2.58819045e-01,\n",
       "         -7.79677220e-01, -6.26181629e-01],\n",
       "        [ 4.83556901e-02,  1.00000000e+00,  9.43975630e-12,\n",
       "         -7.80125855e-01, -6.25622610e-01],\n",
       "        [ 2.51796176e-03,  9.65925826e-01, -2.58819045e-01,\n",
       "         -7.80574090e-01, -6.25063269e-01],\n",
       "        ...,\n",
       "        [ 1.07165798e-02,  5.00000000e-01, -8.66025404e-01,\n",
       "         -7.81916387e-01, -6.23383320e-01],\n",
       "        [-6.41889762e-02,  2.58819045e-01, -9.65925826e-01,\n",
       "         -7.82363017e-01, -6.22822696e-01],\n",
       "        [-2.46865437e-02,  1.20031004e-11, -1.00000000e+00,\n",
       "         -7.82809244e-01, -6.22261752e-01]],\n",
       "\n",
       "       [[ 4.83556901e-02,  1.00000000e+00,  9.43975630e-12,\n",
       "         -7.80125855e-01, -6.25622610e-01],\n",
       "        [ 2.51796176e-03,  9.65925826e-01, -2.58819045e-01,\n",
       "         -7.80574090e-01, -6.25063269e-01],\n",
       "        [-2.65498660e-02,  8.66025404e-01, -5.00000000e-01,\n",
       "         -7.81021924e-01, -6.24503606e-01],\n",
       "        ...,\n",
       "        [-6.41889762e-02,  2.58819045e-01, -9.65925826e-01,\n",
       "         -7.82363017e-01, -6.22822696e-01],\n",
       "        [-2.46865437e-02,  1.20031004e-11, -1.00000000e+00,\n",
       "         -7.82809244e-01, -6.22261752e-01],\n",
       "        [ 3.19584539e-02, -2.58819045e-01, -9.65925826e-01,\n",
       "         -7.83255069e-01, -6.21700488e-01]],\n",
       "\n",
       "       [[ 2.51796176e-03,  9.65925826e-01, -2.58819045e-01,\n",
       "         -7.80574090e-01, -6.25063269e-01],\n",
       "        [-2.65498660e-02,  8.66025404e-01, -5.00000000e-01,\n",
       "         -7.81021924e-01, -6.24503606e-01],\n",
       "        [-7.54397861e-03,  7.07106781e-01, -7.07106781e-01,\n",
       "         -7.81469356e-01, -6.23943623e-01],\n",
       "        ...,\n",
       "        [-2.46865437e-02,  1.20031004e-11, -1.00000000e+00,\n",
       "         -7.82809244e-01, -6.22261752e-01],\n",
       "        [ 3.19584539e-02, -2.58819045e-01, -9.65925826e-01,\n",
       "         -7.83255069e-01, -6.21700488e-01],\n",
       "        [ 1.41894469e-01, -5.00000000e-01, -8.66025404e-01,\n",
       "         -7.83700492e-01, -6.21138905e-01]],\n",
       "\n",
       "       ...,\n",
       "\n",
       "       [[-2.20778925e-02,  9.65925826e-01, -2.58819045e-01,\n",
       "         -9.64774114e-03,  9.99953459e-01],\n",
       "        [-7.27602588e-02,  8.66025404e-01, -5.00000000e-01,\n",
       "         -8.93098970e-03,  9.99960118e-01],\n",
       "        [-8.54308503e-02,  7.07106781e-01, -7.07106781e-01,\n",
       "         -8.21423368e-03,  9.99966263e-01],\n",
       "        ...,\n",
       "        [ 2.34687919e-01,  6.16585827e-12, -1.00000000e+00,\n",
       "         -6.06394176e-03,  9.99981614e-01],\n",
       "        [ 6.52817441e-01, -2.58819045e-01, -9.65925826e-01,\n",
       "         -5.34717106e-03,  9.99985704e-01],\n",
       "        [ 1.01318397e+00, -5.00000000e-01, -8.66025404e-01,\n",
       "         -4.63039762e-03,  9.99989280e-01]],\n",
       "\n",
       "       [[-7.27602588e-02,  8.66025404e-01, -5.00000000e-01,\n",
       "         -8.93098970e-03,  9.99960118e-01],\n",
       "        [-8.54308503e-02,  7.07106781e-01, -7.07106781e-01,\n",
       "         -8.21423368e-03,  9.99966263e-01],\n",
       "        [-7.68595678e-02,  5.00000000e-01, -8.66025404e-01,\n",
       "         -7.49747343e-03,  9.99971894e-01],\n",
       "        ...,\n",
       "        [ 6.52817441e-01, -2.58819045e-01, -9.65925826e-01,\n",
       "         -5.34717106e-03,  9.99985704e-01],\n",
       "        [ 1.01318397e+00, -5.00000000e-01, -8.66025404e-01,\n",
       "         -4.63039762e-03,  9.99989280e-01],\n",
       "        [ 1.17939232e+00, -7.07106781e-01, -7.07106781e-01,\n",
       "         -3.91362179e-03,  9.99992342e-01]],\n",
       "\n",
       "       [[-8.54308503e-02,  7.07106781e-01, -7.07106781e-01,\n",
       "         -8.21423368e-03,  9.99966263e-01],\n",
       "        [-7.68595678e-02,  5.00000000e-01, -8.66025404e-01,\n",
       "         -7.49747343e-03,  9.99971894e-01],\n",
       "        [-2.76678593e-02,  2.58819045e-01, -9.65925826e-01,\n",
       "         -6.78070934e-03,  9.99977011e-01],\n",
       "        ...,\n",
       "        [ 1.01318397e+00, -5.00000000e-01, -8.66025404e-01,\n",
       "         -4.63039762e-03,  9.99989280e-01],\n",
       "        [ 1.17939232e+00, -7.07106781e-01, -7.07106781e-01,\n",
       "         -3.91362179e-03,  9.99992342e-01],\n",
       "        [ 1.10225078e+00, -8.66025404e-01, -5.00000000e-01,\n",
       "         -3.19684396e-03,  9.99994890e-01]]])"
      ]
     },
     "execution_count": 46,
     "metadata": {},
     "output_type": "execute_result"
    }
   ],
   "source": [
    "preprocess(X2_train)\n",
    "preprocess(X2_val)\n",
    "preprocess(X2_test)"
   ]
  },
  {
   "attachments": {},
   "cell_type": "markdown",
   "metadata": {},
   "source": [
    "27. Create the model, everything stays the same as the first attempt but the InputLayer since the dimensions have now changed because we added those extra time features. "
   ]
  },
  {
   "cell_type": "code",
   "execution_count": 47,
   "metadata": {},
   "outputs": [
    {
     "name": "stdout",
     "output_type": "stream",
     "text": [
      "Model: \"sequential_1\"\n",
      "_________________________________________________________________\n",
      " Layer (type)                Output Shape              Param #   \n",
      "=================================================================\n",
      " lstm_1 (LSTM)               (None, 64)                17920     \n",
      "                                                                 \n",
      " dense_2 (Dense)             (None, 8)                 520       \n",
      "                                                                 \n",
      " dense_3 (Dense)             (None, 1)                 9         \n",
      "                                                                 \n",
      "=================================================================\n",
      "Total params: 18,449\n",
      "Trainable params: 18,449\n",
      "Non-trainable params: 0\n",
      "_________________________________________________________________\n"
     ]
    }
   ],
   "source": [
    "model2 = Sequential()\n",
    "model2.add(InputLayer((8, 5)))\n",
    "model2.add(LSTM(64))\n",
    "model2.add(Dense(8,'relu'))\n",
    "model2.add(Dense(1,'linear'))\n",
    "\n",
    "model2.summary()"
   ]
  },
  {
   "attachments": {},
   "cell_type": "markdown",
   "metadata": {},
   "source": [
    "28. Create the two callbacks once again."
   ]
  },
  {
   "cell_type": "code",
   "execution_count": 48,
   "metadata": {},
   "outputs": [],
   "source": [
    "es2 = EarlyStopping(monitor='val_loss', mode='min', verbose=1, patience=5)\n",
    "cp2 = ModelCheckpoint('model2/', monitor='val_loss', mode='min', save_best_only=True)\n",
    "cb_list2 = [es2, cp2]"
   ]
  },
  {
   "cell_type": "code",
   "execution_count": 49,
   "metadata": {},
   "outputs": [],
   "source": [
    "model2.compile(loss=MeanSquaredError(), optimizer = Adam(learning_rate=0.0001), metrics=RootMeanSquaredError())"
   ]
  },
  {
   "attachments": {},
   "cell_type": "markdown",
   "metadata": {},
   "source": [
    "29. Fit the model."
   ]
  },
  {
   "cell_type": "code",
   "execution_count": 50,
   "metadata": {},
   "outputs": [
    {
     "name": "stdout",
     "output_type": "stream",
     "text": [
      "Epoch 1/50\n",
      "361/375 [===========================>..] - ETA: 0s - loss: 963.1251 - root_mean_squared_error: 31.0343"
     ]
    },
    {
     "name": "stderr",
     "output_type": "stream",
     "text": [
      "WARNING:absl:Found untraced functions such as lstm_cell_2_layer_call_fn, lstm_cell_2_layer_call_and_return_conditional_losses while saving (showing 2 of 2). These functions will not be directly callable after loading.\n"
     ]
    },
    {
     "name": "stdout",
     "output_type": "stream",
     "text": [
      "INFO:tensorflow:Assets written to: model2\\assets\n"
     ]
    },
    {
     "name": "stderr",
     "output_type": "stream",
     "text": [
      "INFO:tensorflow:Assets written to: model2\\assets\n"
     ]
    },
    {
     "name": "stdout",
     "output_type": "stream",
     "text": [
      "375/375 [==============================] - 6s 13ms/step - loss: 967.9074 - root_mean_squared_error: 31.1112 - val_loss: 209.1398 - val_root_mean_squared_error: 14.4617\n",
      "Epoch 2/50\n",
      "359/375 [===========================>..] - ETA: 0s - loss: 688.7014 - root_mean_squared_error: 26.2431"
     ]
    },
    {
     "name": "stderr",
     "output_type": "stream",
     "text": [
      "WARNING:absl:Found untraced functions such as lstm_cell_2_layer_call_fn, lstm_cell_2_layer_call_and_return_conditional_losses while saving (showing 2 of 2). These functions will not be directly callable after loading.\n"
     ]
    },
    {
     "name": "stdout",
     "output_type": "stream",
     "text": [
      "INFO:tensorflow:Assets written to: model2\\assets\n"
     ]
    },
    {
     "name": "stderr",
     "output_type": "stream",
     "text": [
      "INFO:tensorflow:Assets written to: model2\\assets\n"
     ]
    },
    {
     "name": "stdout",
     "output_type": "stream",
     "text": [
      "375/375 [==============================] - 5s 12ms/step - loss: 682.6810 - root_mean_squared_error: 26.1282 - val_loss: 81.1943 - val_root_mean_squared_error: 9.0108\n",
      "Epoch 3/50\n",
      "363/375 [============================>.] - ETA: 0s - loss: 583.2553 - root_mean_squared_error: 24.1507"
     ]
    },
    {
     "name": "stderr",
     "output_type": "stream",
     "text": [
      "WARNING:absl:Found untraced functions such as lstm_cell_2_layer_call_fn, lstm_cell_2_layer_call_and_return_conditional_losses while saving (showing 2 of 2). These functions will not be directly callable after loading.\n"
     ]
    },
    {
     "name": "stdout",
     "output_type": "stream",
     "text": [
      "INFO:tensorflow:Assets written to: model2\\assets\n"
     ]
    },
    {
     "name": "stderr",
     "output_type": "stream",
     "text": [
      "INFO:tensorflow:Assets written to: model2\\assets\n"
     ]
    },
    {
     "name": "stdout",
     "output_type": "stream",
     "text": [
      "375/375 [==============================] - 4s 12ms/step - loss: 583.9327 - root_mean_squared_error: 24.1647 - val_loss: 79.5917 - val_root_mean_squared_error: 8.9214\n",
      "Epoch 4/50\n",
      "369/375 [============================>.] - ETA: 0s - loss: 525.7845 - root_mean_squared_error: 22.9300"
     ]
    },
    {
     "name": "stderr",
     "output_type": "stream",
     "text": [
      "WARNING:absl:Found untraced functions such as lstm_cell_2_layer_call_fn, lstm_cell_2_layer_call_and_return_conditional_losses while saving (showing 2 of 2). These functions will not be directly callable after loading.\n"
     ]
    },
    {
     "name": "stdout",
     "output_type": "stream",
     "text": [
      "INFO:tensorflow:Assets written to: model2\\assets\n"
     ]
    },
    {
     "name": "stderr",
     "output_type": "stream",
     "text": [
      "INFO:tensorflow:Assets written to: model2\\assets\n"
     ]
    },
    {
     "name": "stdout",
     "output_type": "stream",
     "text": [
      "375/375 [==============================] - 4s 12ms/step - loss: 523.6971 - root_mean_squared_error: 22.8844 - val_loss: 70.8432 - val_root_mean_squared_error: 8.4168\n",
      "Epoch 5/50\n",
      "370/375 [============================>.] - ETA: 0s - loss: 470.6666 - root_mean_squared_error: 21.6949"
     ]
    },
    {
     "name": "stderr",
     "output_type": "stream",
     "text": [
      "WARNING:absl:Found untraced functions such as lstm_cell_2_layer_call_fn, lstm_cell_2_layer_call_and_return_conditional_losses while saving (showing 2 of 2). These functions will not be directly callable after loading.\n"
     ]
    },
    {
     "name": "stdout",
     "output_type": "stream",
     "text": [
      "INFO:tensorflow:Assets written to: model2\\assets\n"
     ]
    },
    {
     "name": "stderr",
     "output_type": "stream",
     "text": [
      "INFO:tensorflow:Assets written to: model2\\assets\n"
     ]
    },
    {
     "name": "stdout",
     "output_type": "stream",
     "text": [
      "375/375 [==============================] - 5s 12ms/step - loss: 467.3805 - root_mean_squared_error: 21.6190 - val_loss: 59.7601 - val_root_mean_squared_error: 7.7305\n",
      "Epoch 6/50\n",
      "374/375 [============================>.] - ETA: 0s - loss: 411.7500 - root_mean_squared_error: 20.2916"
     ]
    },
    {
     "name": "stderr",
     "output_type": "stream",
     "text": [
      "WARNING:absl:Found untraced functions such as lstm_cell_2_layer_call_fn, lstm_cell_2_layer_call_and_return_conditional_losses while saving (showing 2 of 2). These functions will not be directly callable after loading.\n"
     ]
    },
    {
     "name": "stdout",
     "output_type": "stream",
     "text": [
      "INFO:tensorflow:Assets written to: model2\\assets\n"
     ]
    },
    {
     "name": "stderr",
     "output_type": "stream",
     "text": [
      "INFO:tensorflow:Assets written to: model2\\assets\n"
     ]
    },
    {
     "name": "stdout",
     "output_type": "stream",
     "text": [
      "375/375 [==============================] - 4s 12ms/step - loss: 411.6430 - root_mean_squared_error: 20.2890 - val_loss: 49.3684 - val_root_mean_squared_error: 7.0263\n",
      "Epoch 7/50\n",
      "361/375 [===========================>..] - ETA: 0s - loss: 364.0977 - root_mean_squared_error: 19.0813"
     ]
    },
    {
     "name": "stderr",
     "output_type": "stream",
     "text": [
      "WARNING:absl:Found untraced functions such as lstm_cell_2_layer_call_fn, lstm_cell_2_layer_call_and_return_conditional_losses while saving (showing 2 of 2). These functions will not be directly callable after loading.\n"
     ]
    },
    {
     "name": "stdout",
     "output_type": "stream",
     "text": [
      "INFO:tensorflow:Assets written to: model2\\assets\n"
     ]
    },
    {
     "name": "stderr",
     "output_type": "stream",
     "text": [
      "INFO:tensorflow:Assets written to: model2\\assets\n"
     ]
    },
    {
     "name": "stdout",
     "output_type": "stream",
     "text": [
      "375/375 [==============================] - 5s 13ms/step - loss: 361.6798 - root_mean_squared_error: 19.0179 - val_loss: 44.0695 - val_root_mean_squared_error: 6.6385\n",
      "Epoch 8/50\n",
      "374/375 [============================>.] - ETA: 0s - loss: 319.3165 - root_mean_squared_error: 17.8694"
     ]
    },
    {
     "name": "stderr",
     "output_type": "stream",
     "text": [
      "WARNING:absl:Found untraced functions such as lstm_cell_2_layer_call_fn, lstm_cell_2_layer_call_and_return_conditional_losses while saving (showing 2 of 2). These functions will not be directly callable after loading.\n"
     ]
    },
    {
     "name": "stdout",
     "output_type": "stream",
     "text": [
      "INFO:tensorflow:Assets written to: model2\\assets\n"
     ]
    },
    {
     "name": "stderr",
     "output_type": "stream",
     "text": [
      "INFO:tensorflow:Assets written to: model2\\assets\n"
     ]
    },
    {
     "name": "stdout",
     "output_type": "stream",
     "text": [
      "375/375 [==============================] - 4s 12ms/step - loss: 318.5221 - root_mean_squared_error: 17.8472 - val_loss: 38.1359 - val_root_mean_squared_error: 6.1754\n",
      "Epoch 9/50\n",
      "368/375 [============================>.] - ETA: 0s - loss: 279.1569 - root_mean_squared_error: 16.7080"
     ]
    },
    {
     "name": "stderr",
     "output_type": "stream",
     "text": [
      "WARNING:absl:Found untraced functions such as lstm_cell_2_layer_call_fn, lstm_cell_2_layer_call_and_return_conditional_losses while saving (showing 2 of 2). These functions will not be directly callable after loading.\n"
     ]
    },
    {
     "name": "stdout",
     "output_type": "stream",
     "text": [
      "INFO:tensorflow:Assets written to: model2\\assets\n"
     ]
    },
    {
     "name": "stderr",
     "output_type": "stream",
     "text": [
      "INFO:tensorflow:Assets written to: model2\\assets\n"
     ]
    },
    {
     "name": "stdout",
     "output_type": "stream",
     "text": [
      "375/375 [==============================] - 5s 13ms/step - loss: 280.9404 - root_mean_squared_error: 16.7613 - val_loss: 34.9144 - val_root_mean_squared_error: 5.9088\n",
      "Epoch 10/50\n",
      "373/375 [============================>.] - ETA: 0s - loss: 248.0121 - root_mean_squared_error: 15.7484"
     ]
    },
    {
     "name": "stderr",
     "output_type": "stream",
     "text": [
      "WARNING:absl:Found untraced functions such as lstm_cell_2_layer_call_fn, lstm_cell_2_layer_call_and_return_conditional_losses while saving (showing 2 of 2). These functions will not be directly callable after loading.\n"
     ]
    },
    {
     "name": "stdout",
     "output_type": "stream",
     "text": [
      "INFO:tensorflow:Assets written to: model2\\assets\n"
     ]
    },
    {
     "name": "stderr",
     "output_type": "stream",
     "text": [
      "INFO:tensorflow:Assets written to: model2\\assets\n"
     ]
    },
    {
     "name": "stdout",
     "output_type": "stream",
     "text": [
      "375/375 [==============================] - 4s 12ms/step - loss: 247.7145 - root_mean_squared_error: 15.7389 - val_loss: 29.5454 - val_root_mean_squared_error: 5.4356\n",
      "Epoch 11/50\n",
      "368/375 [============================>.] - ETA: 0s - loss: 220.6580 - root_mean_squared_error: 14.8546"
     ]
    },
    {
     "name": "stderr",
     "output_type": "stream",
     "text": [
      "WARNING:absl:Found untraced functions such as lstm_cell_2_layer_call_fn, lstm_cell_2_layer_call_and_return_conditional_losses while saving (showing 2 of 2). These functions will not be directly callable after loading.\n"
     ]
    },
    {
     "name": "stdout",
     "output_type": "stream",
     "text": [
      "INFO:tensorflow:Assets written to: model2\\assets\n"
     ]
    },
    {
     "name": "stderr",
     "output_type": "stream",
     "text": [
      "INFO:tensorflow:Assets written to: model2\\assets\n"
     ]
    },
    {
     "name": "stdout",
     "output_type": "stream",
     "text": [
      "375/375 [==============================] - 5s 13ms/step - loss: 218.4178 - root_mean_squared_error: 14.7790 - val_loss: 26.5282 - val_root_mean_squared_error: 5.1506\n",
      "Epoch 12/50\n",
      "371/375 [============================>.] - ETA: 0s - loss: 192.8368 - root_mean_squared_error: 13.8866"
     ]
    },
    {
     "name": "stderr",
     "output_type": "stream",
     "text": [
      "WARNING:absl:Found untraced functions such as lstm_cell_2_layer_call_fn, lstm_cell_2_layer_call_and_return_conditional_losses while saving (showing 2 of 2). These functions will not be directly callable after loading.\n"
     ]
    },
    {
     "name": "stdout",
     "output_type": "stream",
     "text": [
      "INFO:tensorflow:Assets written to: model2\\assets\n"
     ]
    },
    {
     "name": "stderr",
     "output_type": "stream",
     "text": [
      "INFO:tensorflow:Assets written to: model2\\assets\n"
     ]
    },
    {
     "name": "stdout",
     "output_type": "stream",
     "text": [
      "375/375 [==============================] - 4s 12ms/step - loss: 193.8460 - root_mean_squared_error: 13.9229 - val_loss: 24.1401 - val_root_mean_squared_error: 4.9133\n",
      "Epoch 13/50\n",
      "368/375 [============================>.] - ETA: 0s - loss: 175.6998 - root_mean_squared_error: 13.2552"
     ]
    },
    {
     "name": "stderr",
     "output_type": "stream",
     "text": [
      "WARNING:absl:Found untraced functions such as lstm_cell_2_layer_call_fn, lstm_cell_2_layer_call_and_return_conditional_losses while saving (showing 2 of 2). These functions will not be directly callable after loading.\n"
     ]
    },
    {
     "name": "stdout",
     "output_type": "stream",
     "text": [
      "INFO:tensorflow:Assets written to: model2\\assets\n"
     ]
    },
    {
     "name": "stderr",
     "output_type": "stream",
     "text": [
      "INFO:tensorflow:Assets written to: model2\\assets\n"
     ]
    },
    {
     "name": "stdout",
     "output_type": "stream",
     "text": [
      "375/375 [==============================] - 5s 14ms/step - loss: 173.4391 - root_mean_squared_error: 13.1696 - val_loss: 21.9252 - val_root_mean_squared_error: 4.6824\n",
      "Epoch 14/50\n",
      "366/375 [============================>.] - ETA: 0s - loss: 158.1141 - root_mean_squared_error: 12.5743"
     ]
    },
    {
     "name": "stderr",
     "output_type": "stream",
     "text": [
      "WARNING:absl:Found untraced functions such as lstm_cell_2_layer_call_fn, lstm_cell_2_layer_call_and_return_conditional_losses while saving (showing 2 of 2). These functions will not be directly callable after loading.\n"
     ]
    },
    {
     "name": "stdout",
     "output_type": "stream",
     "text": [
      "INFO:tensorflow:Assets written to: model2\\assets\n"
     ]
    },
    {
     "name": "stderr",
     "output_type": "stream",
     "text": [
      "INFO:tensorflow:Assets written to: model2\\assets\n"
     ]
    },
    {
     "name": "stdout",
     "output_type": "stream",
     "text": [
      "375/375 [==============================] - 4s 12ms/step - loss: 155.8103 - root_mean_squared_error: 12.4824 - val_loss: 19.7788 - val_root_mean_squared_error: 4.4473\n",
      "Epoch 15/50\n",
      "374/375 [============================>.] - ETA: 0s - loss: 140.4077 - root_mean_squared_error: 11.8494"
     ]
    },
    {
     "name": "stderr",
     "output_type": "stream",
     "text": [
      "WARNING:absl:Found untraced functions such as lstm_cell_2_layer_call_fn, lstm_cell_2_layer_call_and_return_conditional_losses while saving (showing 2 of 2). These functions will not be directly callable after loading.\n"
     ]
    },
    {
     "name": "stdout",
     "output_type": "stream",
     "text": [
      "INFO:tensorflow:Assets written to: model2\\assets\n"
     ]
    },
    {
     "name": "stderr",
     "output_type": "stream",
     "text": [
      "INFO:tensorflow:Assets written to: model2\\assets\n"
     ]
    },
    {
     "name": "stdout",
     "output_type": "stream",
     "text": [
      "375/375 [==============================] - 5s 13ms/step - loss: 140.1275 - root_mean_squared_error: 11.8375 - val_loss: 17.3683 - val_root_mean_squared_error: 4.1675\n",
      "Epoch 16/50\n",
      "362/375 [===========================>..] - ETA: 0s - loss: 128.6788 - root_mean_squared_error: 11.3437"
     ]
    },
    {
     "name": "stderr",
     "output_type": "stream",
     "text": [
      "WARNING:absl:Found untraced functions such as lstm_cell_2_layer_call_fn, lstm_cell_2_layer_call_and_return_conditional_losses while saving (showing 2 of 2). These functions will not be directly callable after loading.\n"
     ]
    },
    {
     "name": "stdout",
     "output_type": "stream",
     "text": [
      "INFO:tensorflow:Assets written to: model2\\assets\n"
     ]
    },
    {
     "name": "stderr",
     "output_type": "stream",
     "text": [
      "INFO:tensorflow:Assets written to: model2\\assets\n"
     ]
    },
    {
     "name": "stdout",
     "output_type": "stream",
     "text": [
      "375/375 [==============================] - 4s 12ms/step - loss: 126.1662 - root_mean_squared_error: 11.2324 - val_loss: 15.7200 - val_root_mean_squared_error: 3.9648\n",
      "Epoch 17/50\n",
      "367/375 [============================>.] - ETA: 0s - loss: 113.2340 - root_mean_squared_error: 10.6411"
     ]
    },
    {
     "name": "stderr",
     "output_type": "stream",
     "text": [
      "WARNING:absl:Found untraced functions such as lstm_cell_2_layer_call_fn, lstm_cell_2_layer_call_and_return_conditional_losses while saving (showing 2 of 2). These functions will not be directly callable after loading.\n"
     ]
    },
    {
     "name": "stdout",
     "output_type": "stream",
     "text": [
      "INFO:tensorflow:Assets written to: model2\\assets\n"
     ]
    },
    {
     "name": "stderr",
     "output_type": "stream",
     "text": [
      "INFO:tensorflow:Assets written to: model2\\assets\n"
     ]
    },
    {
     "name": "stdout",
     "output_type": "stream",
     "text": [
      "375/375 [==============================] - 5s 13ms/step - loss: 114.1190 - root_mean_squared_error: 10.6826 - val_loss: 14.7796 - val_root_mean_squared_error: 3.8444\n",
      "Epoch 18/50\n",
      "375/375 [==============================] - ETA: 0s - loss: 103.7433 - root_mean_squared_error: 10.1854"
     ]
    },
    {
     "name": "stderr",
     "output_type": "stream",
     "text": [
      "WARNING:absl:Found untraced functions such as lstm_cell_2_layer_call_fn, lstm_cell_2_layer_call_and_return_conditional_losses while saving (showing 2 of 2). These functions will not be directly callable after loading.\n"
     ]
    },
    {
     "name": "stdout",
     "output_type": "stream",
     "text": [
      "INFO:tensorflow:Assets written to: model2\\assets\n"
     ]
    },
    {
     "name": "stderr",
     "output_type": "stream",
     "text": [
      "INFO:tensorflow:Assets written to: model2\\assets\n"
     ]
    },
    {
     "name": "stdout",
     "output_type": "stream",
     "text": [
      "375/375 [==============================] - 4s 12ms/step - loss: 103.7433 - root_mean_squared_error: 10.1854 - val_loss: 13.5325 - val_root_mean_squared_error: 3.6787\n",
      "Epoch 19/50\n",
      "366/375 [============================>.] - ETA: 0s - loss: 95.0645 - root_mean_squared_error: 9.7501"
     ]
    },
    {
     "name": "stderr",
     "output_type": "stream",
     "text": [
      "WARNING:absl:Found untraced functions such as lstm_cell_2_layer_call_fn, lstm_cell_2_layer_call_and_return_conditional_losses while saving (showing 2 of 2). These functions will not be directly callable after loading.\n"
     ]
    },
    {
     "name": "stdout",
     "output_type": "stream",
     "text": [
      "INFO:tensorflow:Assets written to: model2\\assets\n"
     ]
    },
    {
     "name": "stderr",
     "output_type": "stream",
     "text": [
      "INFO:tensorflow:Assets written to: model2\\assets\n"
     ]
    },
    {
     "name": "stdout",
     "output_type": "stream",
     "text": [
      "375/375 [==============================] - 5s 13ms/step - loss: 94.5586 - root_mean_squared_error: 9.7241 - val_loss: 12.2015 - val_root_mean_squared_error: 3.4931\n",
      "Epoch 20/50\n",
      "361/375 [===========================>..] - ETA: 0s - loss: 84.1532 - root_mean_squared_error: 9.1735"
     ]
    },
    {
     "name": "stderr",
     "output_type": "stream",
     "text": [
      "WARNING:absl:Found untraced functions such as lstm_cell_2_layer_call_fn, lstm_cell_2_layer_call_and_return_conditional_losses while saving (showing 2 of 2). These functions will not be directly callable after loading.\n"
     ]
    },
    {
     "name": "stdout",
     "output_type": "stream",
     "text": [
      "INFO:tensorflow:Assets written to: model2\\assets\n"
     ]
    },
    {
     "name": "stderr",
     "output_type": "stream",
     "text": [
      "INFO:tensorflow:Assets written to: model2\\assets\n"
     ]
    },
    {
     "name": "stdout",
     "output_type": "stream",
     "text": [
      "375/375 [==============================] - 5s 12ms/step - loss: 86.6034 - root_mean_squared_error: 9.3061 - val_loss: 11.6438 - val_root_mean_squared_error: 3.4123\n",
      "Epoch 21/50\n",
      "371/375 [============================>.] - ETA: 0s - loss: 79.4152 - root_mean_squared_error: 8.9115"
     ]
    },
    {
     "name": "stderr",
     "output_type": "stream",
     "text": [
      "WARNING:absl:Found untraced functions such as lstm_cell_2_layer_call_fn, lstm_cell_2_layer_call_and_return_conditional_losses while saving (showing 2 of 2). These functions will not be directly callable after loading.\n"
     ]
    },
    {
     "name": "stdout",
     "output_type": "stream",
     "text": [
      "INFO:tensorflow:Assets written to: model2\\assets\n"
     ]
    },
    {
     "name": "stderr",
     "output_type": "stream",
     "text": [
      "INFO:tensorflow:Assets written to: model2\\assets\n"
     ]
    },
    {
     "name": "stdout",
     "output_type": "stream",
     "text": [
      "375/375 [==============================] - 5s 12ms/step - loss: 79.4134 - root_mean_squared_error: 8.9114 - val_loss: 10.9715 - val_root_mean_squared_error: 3.3123\n",
      "Epoch 22/50\n",
      "365/375 [============================>.] - ETA: 0s - loss: 73.2430 - root_mean_squared_error: 8.5582"
     ]
    },
    {
     "name": "stderr",
     "output_type": "stream",
     "text": [
      "WARNING:absl:Found untraced functions such as lstm_cell_2_layer_call_fn, lstm_cell_2_layer_call_and_return_conditional_losses while saving (showing 2 of 2). These functions will not be directly callable after loading.\n"
     ]
    },
    {
     "name": "stdout",
     "output_type": "stream",
     "text": [
      "INFO:tensorflow:Assets written to: model2\\assets\n"
     ]
    },
    {
     "name": "stderr",
     "output_type": "stream",
     "text": [
      "INFO:tensorflow:Assets written to: model2\\assets\n"
     ]
    },
    {
     "name": "stdout",
     "output_type": "stream",
     "text": [
      "375/375 [==============================] - 5s 13ms/step - loss: 73.0961 - root_mean_squared_error: 8.5496 - val_loss: 10.6033 - val_root_mean_squared_error: 3.2563\n",
      "Epoch 23/50\n",
      "365/375 [============================>.] - ETA: 0s - loss: 65.1707 - root_mean_squared_error: 8.0728"
     ]
    },
    {
     "name": "stderr",
     "output_type": "stream",
     "text": [
      "WARNING:absl:Found untraced functions such as lstm_cell_2_layer_call_fn, lstm_cell_2_layer_call_and_return_conditional_losses while saving (showing 2 of 2). These functions will not be directly callable after loading.\n"
     ]
    },
    {
     "name": "stdout",
     "output_type": "stream",
     "text": [
      "INFO:tensorflow:Assets written to: model2\\assets\n"
     ]
    },
    {
     "name": "stderr",
     "output_type": "stream",
     "text": [
      "INFO:tensorflow:Assets written to: model2\\assets\n"
     ]
    },
    {
     "name": "stdout",
     "output_type": "stream",
     "text": [
      "375/375 [==============================] - 5s 13ms/step - loss: 67.4034 - root_mean_squared_error: 8.2100 - val_loss: 10.0756 - val_root_mean_squared_error: 3.1742\n",
      "Epoch 24/50\n",
      "367/375 [============================>.] - ETA: 0s - loss: 63.1183 - root_mean_squared_error: 7.9447"
     ]
    },
    {
     "name": "stderr",
     "output_type": "stream",
     "text": [
      "WARNING:absl:Found untraced functions such as lstm_cell_2_layer_call_fn, lstm_cell_2_layer_call_and_return_conditional_losses while saving (showing 2 of 2). These functions will not be directly callable after loading.\n"
     ]
    },
    {
     "name": "stdout",
     "output_type": "stream",
     "text": [
      "INFO:tensorflow:Assets written to: model2\\assets\n"
     ]
    },
    {
     "name": "stderr",
     "output_type": "stream",
     "text": [
      "INFO:tensorflow:Assets written to: model2\\assets\n"
     ]
    },
    {
     "name": "stdout",
     "output_type": "stream",
     "text": [
      "375/375 [==============================] - 4s 12ms/step - loss: 62.5819 - root_mean_squared_error: 7.9109 - val_loss: 9.5645 - val_root_mean_squared_error: 3.0926\n",
      "Epoch 25/50\n",
      "375/375 [==============================] - ETA: 0s - loss: 58.4405 - root_mean_squared_error: 7.6446"
     ]
    },
    {
     "name": "stderr",
     "output_type": "stream",
     "text": [
      "WARNING:absl:Found untraced functions such as lstm_cell_2_layer_call_fn, lstm_cell_2_layer_call_and_return_conditional_losses while saving (showing 2 of 2). These functions will not be directly callable after loading.\n"
     ]
    },
    {
     "name": "stdout",
     "output_type": "stream",
     "text": [
      "INFO:tensorflow:Assets written to: model2\\assets\n"
     ]
    },
    {
     "name": "stderr",
     "output_type": "stream",
     "text": [
      "INFO:tensorflow:Assets written to: model2\\assets\n"
     ]
    },
    {
     "name": "stdout",
     "output_type": "stream",
     "text": [
      "375/375 [==============================] - 5s 13ms/step - loss: 58.4405 - root_mean_squared_error: 7.6446 - val_loss: 9.4882 - val_root_mean_squared_error: 3.0803\n",
      "Epoch 26/50\n",
      "368/375 [============================>.] - ETA: 0s - loss: 55.5000 - root_mean_squared_error: 7.4498"
     ]
    },
    {
     "name": "stderr",
     "output_type": "stream",
     "text": [
      "WARNING:absl:Found untraced functions such as lstm_cell_2_layer_call_fn, lstm_cell_2_layer_call_and_return_conditional_losses while saving (showing 2 of 2). These functions will not be directly callable after loading.\n"
     ]
    },
    {
     "name": "stdout",
     "output_type": "stream",
     "text": [
      "INFO:tensorflow:Assets written to: model2\\assets\n"
     ]
    },
    {
     "name": "stderr",
     "output_type": "stream",
     "text": [
      "INFO:tensorflow:Assets written to: model2\\assets\n"
     ]
    },
    {
     "name": "stdout",
     "output_type": "stream",
     "text": [
      "375/375 [==============================] - 5s 12ms/step - loss: 54.7338 - root_mean_squared_error: 7.3982 - val_loss: 9.2393 - val_root_mean_squared_error: 3.0396\n",
      "Epoch 27/50\n",
      "372/375 [============================>.] - ETA: 0s - loss: 51.8145 - root_mean_squared_error: 7.1982"
     ]
    },
    {
     "name": "stderr",
     "output_type": "stream",
     "text": [
      "WARNING:absl:Found untraced functions such as lstm_cell_2_layer_call_fn, lstm_cell_2_layer_call_and_return_conditional_losses while saving (showing 2 of 2). These functions will not be directly callable after loading.\n"
     ]
    },
    {
     "name": "stdout",
     "output_type": "stream",
     "text": [
      "INFO:tensorflow:Assets written to: model2\\assets\n"
     ]
    },
    {
     "name": "stderr",
     "output_type": "stream",
     "text": [
      "INFO:tensorflow:Assets written to: model2\\assets\n"
     ]
    },
    {
     "name": "stdout",
     "output_type": "stream",
     "text": [
      "375/375 [==============================] - 5s 13ms/step - loss: 51.5593 - root_mean_squared_error: 7.1805 - val_loss: 8.9590 - val_root_mean_squared_error: 2.9932\n",
      "Epoch 28/50\n",
      "366/375 [============================>.] - ETA: 0s - loss: 49.3261 - root_mean_squared_error: 7.0233"
     ]
    },
    {
     "name": "stderr",
     "output_type": "stream",
     "text": [
      "WARNING:absl:Found untraced functions such as lstm_cell_2_layer_call_fn, lstm_cell_2_layer_call_and_return_conditional_losses while saving (showing 2 of 2). These functions will not be directly callable after loading.\n"
     ]
    },
    {
     "name": "stdout",
     "output_type": "stream",
     "text": [
      "INFO:tensorflow:Assets written to: model2\\assets\n"
     ]
    },
    {
     "name": "stderr",
     "output_type": "stream",
     "text": [
      "INFO:tensorflow:Assets written to: model2\\assets\n"
     ]
    },
    {
     "name": "stdout",
     "output_type": "stream",
     "text": [
      "375/375 [==============================] - 5s 12ms/step - loss: 48.8479 - root_mean_squared_error: 6.9891 - val_loss: 8.8818 - val_root_mean_squared_error: 2.9802\n",
      "Epoch 29/50\n",
      "364/375 [============================>.] - ETA: 0s - loss: 45.0457 - root_mean_squared_error: 6.7116"
     ]
    },
    {
     "name": "stderr",
     "output_type": "stream",
     "text": [
      "WARNING:absl:Found untraced functions such as lstm_cell_2_layer_call_fn, lstm_cell_2_layer_call_and_return_conditional_losses while saving (showing 2 of 2). These functions will not be directly callable after loading.\n"
     ]
    },
    {
     "name": "stdout",
     "output_type": "stream",
     "text": [
      "INFO:tensorflow:Assets written to: model2\\assets\n"
     ]
    },
    {
     "name": "stderr",
     "output_type": "stream",
     "text": [
      "INFO:tensorflow:Assets written to: model2\\assets\n"
     ]
    },
    {
     "name": "stdout",
     "output_type": "stream",
     "text": [
      "375/375 [==============================] - 5s 13ms/step - loss: 46.4255 - root_mean_squared_error: 6.8136 - val_loss: 8.7477 - val_root_mean_squared_error: 2.9576\n",
      "Epoch 30/50\n",
      "372/375 [============================>.] - ETA: 0s - loss: 44.4496 - root_mean_squared_error: 6.6671"
     ]
    },
    {
     "name": "stderr",
     "output_type": "stream",
     "text": [
      "WARNING:absl:Found untraced functions such as lstm_cell_2_layer_call_fn, lstm_cell_2_layer_call_and_return_conditional_losses while saving (showing 2 of 2). These functions will not be directly callable after loading.\n"
     ]
    },
    {
     "name": "stdout",
     "output_type": "stream",
     "text": [
      "INFO:tensorflow:Assets written to: model2\\assets\n"
     ]
    },
    {
     "name": "stderr",
     "output_type": "stream",
     "text": [
      "INFO:tensorflow:Assets written to: model2\\assets\n"
     ]
    },
    {
     "name": "stdout",
     "output_type": "stream",
     "text": [
      "375/375 [==============================] - 4s 12ms/step - loss: 44.2163 - root_mean_squared_error: 6.6495 - val_loss: 8.6510 - val_root_mean_squared_error: 2.9413\n",
      "Epoch 31/50\n",
      "364/375 [============================>.] - ETA: 0s - loss: 42.4180 - root_mean_squared_error: 6.5129"
     ]
    },
    {
     "name": "stderr",
     "output_type": "stream",
     "text": [
      "WARNING:absl:Found untraced functions such as lstm_cell_2_layer_call_fn, lstm_cell_2_layer_call_and_return_conditional_losses while saving (showing 2 of 2). These functions will not be directly callable after loading.\n"
     ]
    },
    {
     "name": "stdout",
     "output_type": "stream",
     "text": [
      "INFO:tensorflow:Assets written to: model2\\assets\n"
     ]
    },
    {
     "name": "stderr",
     "output_type": "stream",
     "text": [
      "INFO:tensorflow:Assets written to: model2\\assets\n"
     ]
    },
    {
     "name": "stdout",
     "output_type": "stream",
     "text": [
      "375/375 [==============================] - 5s 13ms/step - loss: 42.3880 - root_mean_squared_error: 6.5106 - val_loss: 8.6300 - val_root_mean_squared_error: 2.9377\n",
      "Epoch 32/50\n",
      "361/375 [===========================>..] - ETA: 0s - loss: 40.6194 - root_mean_squared_error: 6.3733"
     ]
    },
    {
     "name": "stderr",
     "output_type": "stream",
     "text": [
      "WARNING:absl:Found untraced functions such as lstm_cell_2_layer_call_fn, lstm_cell_2_layer_call_and_return_conditional_losses while saving (showing 2 of 2). These functions will not be directly callable after loading.\n"
     ]
    },
    {
     "name": "stdout",
     "output_type": "stream",
     "text": [
      "INFO:tensorflow:Assets written to: model2\\assets\n"
     ]
    },
    {
     "name": "stderr",
     "output_type": "stream",
     "text": [
      "INFO:tensorflow:Assets written to: model2\\assets\n"
     ]
    },
    {
     "name": "stdout",
     "output_type": "stream",
     "text": [
      "375/375 [==============================] - 5s 12ms/step - loss: 40.7015 - root_mean_squared_error: 6.3798 - val_loss: 8.6287 - val_root_mean_squared_error: 2.9375\n",
      "Epoch 33/50\n",
      "374/375 [============================>.] - ETA: 0s - loss: 38.9987 - root_mean_squared_error: 6.2449"
     ]
    },
    {
     "name": "stderr",
     "output_type": "stream",
     "text": [
      "WARNING:absl:Found untraced functions such as lstm_cell_2_layer_call_fn, lstm_cell_2_layer_call_and_return_conditional_losses while saving (showing 2 of 2). These functions will not be directly callable after loading.\n"
     ]
    },
    {
     "name": "stdout",
     "output_type": "stream",
     "text": [
      "INFO:tensorflow:Assets written to: model2\\assets\n"
     ]
    },
    {
     "name": "stderr",
     "output_type": "stream",
     "text": [
      "INFO:tensorflow:Assets written to: model2\\assets\n"
     ]
    },
    {
     "name": "stdout",
     "output_type": "stream",
     "text": [
      "375/375 [==============================] - 5s 13ms/step - loss: 38.9254 - root_mean_squared_error: 6.2390 - val_loss: 8.5841 - val_root_mean_squared_error: 2.9299\n",
      "Epoch 34/50\n",
      "373/375 [============================>.] - ETA: 0s - loss: 37.7368 - root_mean_squared_error: 6.1430"
     ]
    },
    {
     "name": "stderr",
     "output_type": "stream",
     "text": [
      "WARNING:absl:Found untraced functions such as lstm_cell_2_layer_call_fn, lstm_cell_2_layer_call_and_return_conditional_losses while saving (showing 2 of 2). These functions will not be directly callable after loading.\n"
     ]
    },
    {
     "name": "stdout",
     "output_type": "stream",
     "text": [
      "INFO:tensorflow:Assets written to: model2\\assets\n"
     ]
    },
    {
     "name": "stderr",
     "output_type": "stream",
     "text": [
      "INFO:tensorflow:Assets written to: model2\\assets\n"
     ]
    },
    {
     "name": "stdout",
     "output_type": "stream",
     "text": [
      "375/375 [==============================] - 4s 12ms/step - loss: 37.5829 - root_mean_squared_error: 6.1305 - val_loss: 8.3334 - val_root_mean_squared_error: 2.8868\n",
      "Epoch 35/50\n",
      "375/375 [==============================] - 2s 5ms/step - loss: 36.2452 - root_mean_squared_error: 6.0204 - val_loss: 8.4313 - val_root_mean_squared_error: 2.9037\n",
      "Epoch 36/50\n",
      "375/375 [==============================] - ETA: 0s - loss: 35.0709 - root_mean_squared_error: 5.9221"
     ]
    },
    {
     "name": "stderr",
     "output_type": "stream",
     "text": [
      "WARNING:absl:Found untraced functions such as lstm_cell_2_layer_call_fn, lstm_cell_2_layer_call_and_return_conditional_losses while saving (showing 2 of 2). These functions will not be directly callable after loading.\n"
     ]
    },
    {
     "name": "stdout",
     "output_type": "stream",
     "text": [
      "INFO:tensorflow:Assets written to: model2\\assets\n"
     ]
    },
    {
     "name": "stderr",
     "output_type": "stream",
     "text": [
      "INFO:tensorflow:Assets written to: model2\\assets\n"
     ]
    },
    {
     "name": "stdout",
     "output_type": "stream",
     "text": [
      "375/375 [==============================] - 5s 13ms/step - loss: 35.0709 - root_mean_squared_error: 5.9221 - val_loss: 8.2453 - val_root_mean_squared_error: 2.8715\n",
      "Epoch 37/50\n",
      "373/375 [============================>.] - ETA: 0s - loss: 34.2205 - root_mean_squared_error: 5.8498"
     ]
    },
    {
     "name": "stderr",
     "output_type": "stream",
     "text": [
      "WARNING:absl:Found untraced functions such as lstm_cell_2_layer_call_fn, lstm_cell_2_layer_call_and_return_conditional_losses while saving (showing 2 of 2). These functions will not be directly callable after loading.\n"
     ]
    },
    {
     "name": "stdout",
     "output_type": "stream",
     "text": [
      "INFO:tensorflow:Assets written to: model2\\assets\n"
     ]
    },
    {
     "name": "stderr",
     "output_type": "stream",
     "text": [
      "INFO:tensorflow:Assets written to: model2\\assets\n"
     ]
    },
    {
     "name": "stdout",
     "output_type": "stream",
     "text": [
      "375/375 [==============================] - 5s 12ms/step - loss: 34.0859 - root_mean_squared_error: 5.8383 - val_loss: 8.2430 - val_root_mean_squared_error: 2.8711\n",
      "Epoch 38/50\n",
      "374/375 [============================>.] - ETA: 0s - loss: 33.0649 - root_mean_squared_error: 5.7502"
     ]
    },
    {
     "name": "stderr",
     "output_type": "stream",
     "text": [
      "WARNING:absl:Found untraced functions such as lstm_cell_2_layer_call_fn, lstm_cell_2_layer_call_and_return_conditional_losses while saving (showing 2 of 2). These functions will not be directly callable after loading.\n"
     ]
    },
    {
     "name": "stdout",
     "output_type": "stream",
     "text": [
      "INFO:tensorflow:Assets written to: model2\\assets\n"
     ]
    },
    {
     "name": "stderr",
     "output_type": "stream",
     "text": [
      "INFO:tensorflow:Assets written to: model2\\assets\n"
     ]
    },
    {
     "name": "stdout",
     "output_type": "stream",
     "text": [
      "375/375 [==============================] - 5s 14ms/step - loss: 33.0017 - root_mean_squared_error: 5.7447 - val_loss: 8.2218 - val_root_mean_squared_error: 2.8674\n",
      "Epoch 39/50\n",
      "362/375 [===========================>..] - ETA: 0s - loss: 31.9728 - root_mean_squared_error: 5.6544"
     ]
    },
    {
     "name": "stderr",
     "output_type": "stream",
     "text": [
      "WARNING:absl:Found untraced functions such as lstm_cell_2_layer_call_fn, lstm_cell_2_layer_call_and_return_conditional_losses while saving (showing 2 of 2). These functions will not be directly callable after loading.\n"
     ]
    },
    {
     "name": "stdout",
     "output_type": "stream",
     "text": [
      "INFO:tensorflow:Assets written to: model2\\assets\n"
     ]
    },
    {
     "name": "stderr",
     "output_type": "stream",
     "text": [
      "INFO:tensorflow:Assets written to: model2\\assets\n"
     ]
    },
    {
     "name": "stdout",
     "output_type": "stream",
     "text": [
      "375/375 [==============================] - 5s 12ms/step - loss: 32.0924 - root_mean_squared_error: 5.6650 - val_loss: 8.0229 - val_root_mean_squared_error: 2.8325\n",
      "Epoch 40/50\n",
      "375/375 [==============================] - 2s 5ms/step - loss: 31.3623 - root_mean_squared_error: 5.6002 - val_loss: 8.1386 - val_root_mean_squared_error: 2.8528\n",
      "Epoch 41/50\n",
      "375/375 [==============================] - 2s 5ms/step - loss: 30.6005 - root_mean_squared_error: 5.5318 - val_loss: 8.1261 - val_root_mean_squared_error: 2.8506\n",
      "Epoch 42/50\n",
      "375/375 [==============================] - 2s 5ms/step - loss: 29.7388 - root_mean_squared_error: 5.4533 - val_loss: 8.1071 - val_root_mean_squared_error: 2.8473\n",
      "Epoch 43/50\n",
      "374/375 [============================>.] - ETA: 0s - loss: 29.3165 - root_mean_squared_error: 5.4145"
     ]
    },
    {
     "name": "stderr",
     "output_type": "stream",
     "text": [
      "WARNING:absl:Found untraced functions such as lstm_cell_2_layer_call_fn, lstm_cell_2_layer_call_and_return_conditional_losses while saving (showing 2 of 2). These functions will not be directly callable after loading.\n"
     ]
    },
    {
     "name": "stdout",
     "output_type": "stream",
     "text": [
      "INFO:tensorflow:Assets written to: model2\\assets\n"
     ]
    },
    {
     "name": "stderr",
     "output_type": "stream",
     "text": [
      "INFO:tensorflow:Assets written to: model2\\assets\n"
     ]
    },
    {
     "name": "stdout",
     "output_type": "stream",
     "text": [
      "375/375 [==============================] - 5s 13ms/step - loss: 29.2519 - root_mean_squared_error: 5.4085 - val_loss: 7.9281 - val_root_mean_squared_error: 2.8157\n",
      "Epoch 44/50\n",
      "375/375 [==============================] - 2s 5ms/step - loss: 28.5912 - root_mean_squared_error: 5.3471 - val_loss: 8.0434 - val_root_mean_squared_error: 2.8361\n",
      "Epoch 45/50\n",
      "375/375 [==============================] - ETA: 0s - loss: 28.1347 - root_mean_squared_error: 5.3042"
     ]
    },
    {
     "name": "stderr",
     "output_type": "stream",
     "text": [
      "WARNING:absl:Found untraced functions such as lstm_cell_2_layer_call_fn, lstm_cell_2_layer_call_and_return_conditional_losses while saving (showing 2 of 2). These functions will not be directly callable after loading.\n"
     ]
    },
    {
     "name": "stdout",
     "output_type": "stream",
     "text": [
      "INFO:tensorflow:Assets written to: model2\\assets\n"
     ]
    },
    {
     "name": "stderr",
     "output_type": "stream",
     "text": [
      "INFO:tensorflow:Assets written to: model2\\assets\n"
     ]
    },
    {
     "name": "stdout",
     "output_type": "stream",
     "text": [
      "375/375 [==============================] - 4s 12ms/step - loss: 28.1347 - root_mean_squared_error: 5.3042 - val_loss: 7.8765 - val_root_mean_squared_error: 2.8065\n",
      "Epoch 46/50\n",
      "375/375 [==============================] - 2s 6ms/step - loss: 27.5133 - root_mean_squared_error: 5.2453 - val_loss: 7.9055 - val_root_mean_squared_error: 2.8117\n",
      "Epoch 47/50\n",
      "373/375 [============================>.] - ETA: 0s - loss: 26.7699 - root_mean_squared_error: 5.1740"
     ]
    },
    {
     "name": "stderr",
     "output_type": "stream",
     "text": [
      "WARNING:absl:Found untraced functions such as lstm_cell_2_layer_call_fn, lstm_cell_2_layer_call_and_return_conditional_losses while saving (showing 2 of 2). These functions will not be directly callable after loading.\n"
     ]
    },
    {
     "name": "stdout",
     "output_type": "stream",
     "text": [
      "INFO:tensorflow:Assets written to: model2\\assets\n"
     ]
    },
    {
     "name": "stderr",
     "output_type": "stream",
     "text": [
      "INFO:tensorflow:Assets written to: model2\\assets\n"
     ]
    },
    {
     "name": "stdout",
     "output_type": "stream",
     "text": [
      "375/375 [==============================] - 5s 13ms/step - loss: 27.0951 - root_mean_squared_error: 5.2053 - val_loss: 7.8046 - val_root_mean_squared_error: 2.7937\n",
      "Epoch 48/50\n",
      "375/375 [==============================] - 2s 5ms/step - loss: 26.6538 - root_mean_squared_error: 5.1627 - val_loss: 7.8561 - val_root_mean_squared_error: 2.8029\n",
      "Epoch 49/50\n",
      "370/375 [============================>.] - ETA: 0s - loss: 25.7460 - root_mean_squared_error: 5.0741"
     ]
    },
    {
     "name": "stderr",
     "output_type": "stream",
     "text": [
      "WARNING:absl:Found untraced functions such as lstm_cell_2_layer_call_fn, lstm_cell_2_layer_call_and_return_conditional_losses while saving (showing 2 of 2). These functions will not be directly callable after loading.\n"
     ]
    },
    {
     "name": "stdout",
     "output_type": "stream",
     "text": [
      "INFO:tensorflow:Assets written to: model2\\assets\n"
     ]
    },
    {
     "name": "stderr",
     "output_type": "stream",
     "text": [
      "INFO:tensorflow:Assets written to: model2\\assets\n"
     ]
    },
    {
     "name": "stdout",
     "output_type": "stream",
     "text": [
      "375/375 [==============================] - 5s 12ms/step - loss: 26.2093 - root_mean_squared_error: 5.1195 - val_loss: 7.7799 - val_root_mean_squared_error: 2.7892\n",
      "Epoch 50/50\n",
      "375/375 [==============================] - 2s 5ms/step - loss: 25.8809 - root_mean_squared_error: 5.0873 - val_loss: 7.8105 - val_root_mean_squared_error: 2.7947\n"
     ]
    },
    {
     "data": {
      "text/plain": [
       "<keras.callbacks.History at 0x155fd5d2580>"
      ]
     },
     "execution_count": 50,
     "metadata": {},
     "output_type": "execute_result"
    }
   ],
   "source": [
    "model2.fit(X2_train,y2_train, validation_data=(X2_val,y2_val), epochs=50, callbacks=cb_list2)"
   ]
  },
  {
   "attachments": {},
   "cell_type": "markdown",
   "metadata": {},
   "source": [
    "30. Load the model so we can work with the best one. "
   ]
  },
  {
   "cell_type": "code",
   "execution_count": 51,
   "metadata": {},
   "outputs": [],
   "source": [
    "model2 = load_model('model2/')"
   ]
  },
  {
   "attachments": {},
   "cell_type": "markdown",
   "metadata": {},
   "source": [
    "31. Calculate the predicted values for the training set and add them to a dataframe along with the actuals."
   ]
  },
  {
   "cell_type": "code",
   "execution_count": 52,
   "metadata": {},
   "outputs": [
    {
     "name": "stdout",
     "output_type": "stream",
     "text": [
      "375/375 [==============================] - 1s 2ms/step\n"
     ]
    },
    {
     "data": {
      "text/html": [
       "<div>\n",
       "<style scoped>\n",
       "    .dataframe tbody tr th:only-of-type {\n",
       "        vertical-align: middle;\n",
       "    }\n",
       "\n",
       "    .dataframe tbody tr th {\n",
       "        vertical-align: top;\n",
       "    }\n",
       "\n",
       "    .dataframe thead th {\n",
       "        text-align: right;\n",
       "    }\n",
       "</style>\n",
       "<table border=\"1\" class=\"dataframe\">\n",
       "  <thead>\n",
       "    <tr style=\"text-align: right;\">\n",
       "      <th></th>\n",
       "      <th>Train Predictions</th>\n",
       "      <th>Actuals</th>\n",
       "    </tr>\n",
       "  </thead>\n",
       "  <tbody>\n",
       "    <tr>\n",
       "      <th>0</th>\n",
       "      <td>18.372450</td>\n",
       "      <td>16.85</td>\n",
       "    </tr>\n",
       "    <tr>\n",
       "      <th>1</th>\n",
       "      <td>16.641527</td>\n",
       "      <td>15.64</td>\n",
       "    </tr>\n",
       "    <tr>\n",
       "      <th>2</th>\n",
       "      <td>12.521891</td>\n",
       "      <td>13.76</td>\n",
       "    </tr>\n",
       "    <tr>\n",
       "      <th>3</th>\n",
       "      <td>11.345402</td>\n",
       "      <td>9.90</td>\n",
       "    </tr>\n",
       "    <tr>\n",
       "      <th>4</th>\n",
       "      <td>6.865012</td>\n",
       "      <td>6.93</td>\n",
       "    </tr>\n",
       "    <tr>\n",
       "      <th>...</th>\n",
       "      <td>...</td>\n",
       "      <td>...</td>\n",
       "    </tr>\n",
       "    <tr>\n",
       "      <th>11995</th>\n",
       "      <td>4.074801</td>\n",
       "      <td>4.54</td>\n",
       "    </tr>\n",
       "    <tr>\n",
       "      <th>11996</th>\n",
       "      <td>5.559284</td>\n",
       "      <td>5.91</td>\n",
       "    </tr>\n",
       "    <tr>\n",
       "      <th>11997</th>\n",
       "      <td>7.155097</td>\n",
       "      <td>7.60</td>\n",
       "    </tr>\n",
       "    <tr>\n",
       "      <th>11998</th>\n",
       "      <td>9.199500</td>\n",
       "      <td>11.78</td>\n",
       "    </tr>\n",
       "    <tr>\n",
       "      <th>11999</th>\n",
       "      <td>15.698711</td>\n",
       "      <td>12.08</td>\n",
       "    </tr>\n",
       "  </tbody>\n",
       "</table>\n",
       "<p>12000 rows × 2 columns</p>\n",
       "</div>"
      ],
      "text/plain": [
       "       Train Predictions  Actuals\n",
       "0              18.372450    16.85\n",
       "1              16.641527    15.64\n",
       "2              12.521891    13.76\n",
       "3              11.345402     9.90\n",
       "4               6.865012     6.93\n",
       "...                  ...      ...\n",
       "11995           4.074801     4.54\n",
       "11996           5.559284     5.91\n",
       "11997           7.155097     7.60\n",
       "11998           9.199500    11.78\n",
       "11999          15.698711    12.08\n",
       "\n",
       "[12000 rows x 2 columns]"
      ]
     },
     "execution_count": 52,
     "metadata": {},
     "output_type": "execute_result"
    }
   ],
   "source": [
    "train_predictions2 = model2.predict(X2_train).flatten()\n",
    "train_results2 = pd.DataFrame(data={'Train Predictions': train_predictions2, 'Actuals': y2_train})\n",
    "train_results2"
   ]
  },
  {
   "attachments": {},
   "cell_type": "markdown",
   "metadata": {},
   "source": [
    "32. Visualize the data to compare predicted values to the actual values for the training set. Again, the model did a pretty good job of predicting values since the lines are pretty close together, but it seems like it had a harder time predicting the larger spikes since the prediction line is lower than the actual line. "
   ]
  },
  {
   "cell_type": "code",
   "execution_count": 53,
   "metadata": {},
   "outputs": [
    {
     "data": {
      "image/png": "[encoded data removed]",
      "text/plain": [
       "<Figure size 640x480 with 1 Axes>"
      ]
     },
     "metadata": {},
     "output_type": "display_data"
    }
   ],
   "source": [
    "plt.plot(train_results2['Train Predictions'][:100])\n",
    "plt.plot(train_results2['Actuals'][:100])\n",
    "plt.title('Predicted vs Actual Values for Training Set')\n",
    "plt.legend(['Predictions','Actuals']);"
   ]
  },
  {
   "attachments": {},
   "cell_type": "markdown",
   "metadata": {},
   "source": [
    "33. Calculate the predicted values for the validation set and add them to a dataframe along with the actuals."
   ]
  },
  {
   "cell_type": "code",
   "execution_count": 54,
   "metadata": {},
   "outputs": [
    {
     "name": "stdout",
     "output_type": "stream",
     "text": [
      "94/94 [==============================] - 1s 2ms/step\n"
     ]
    },
    {
     "data": {
      "text/html": [
       "<div>\n",
       "<style scoped>\n",
       "    .dataframe tbody tr th:only-of-type {\n",
       "        vertical-align: middle;\n",
       "    }\n",
       "\n",
       "    .dataframe tbody tr th {\n",
       "        vertical-align: top;\n",
       "    }\n",
       "\n",
       "    .dataframe thead th {\n",
       "        text-align: right;\n",
       "    }\n",
       "</style>\n",
       "<table border=\"1\" class=\"dataframe\">\n",
       "  <thead>\n",
       "    <tr style=\"text-align: right;\">\n",
       "      <th></th>\n",
       "      <th>Val Predictions</th>\n",
       "      <th>Actuals</th>\n",
       "    </tr>\n",
       "  </thead>\n",
       "  <tbody>\n",
       "    <tr>\n",
       "      <th>0</th>\n",
       "      <td>11.466919</td>\n",
       "      <td>5.95</td>\n",
       "    </tr>\n",
       "    <tr>\n",
       "      <th>1</th>\n",
       "      <td>1.406476</td>\n",
       "      <td>6.47</td>\n",
       "    </tr>\n",
       "    <tr>\n",
       "      <th>2</th>\n",
       "      <td>8.134508</td>\n",
       "      <td>8.21</td>\n",
       "    </tr>\n",
       "    <tr>\n",
       "      <th>3</th>\n",
       "      <td>8.679008</td>\n",
       "      <td>4.67</td>\n",
       "    </tr>\n",
       "    <tr>\n",
       "      <th>4</th>\n",
       "      <td>2.221463</td>\n",
       "      <td>4.16</td>\n",
       "    </tr>\n",
       "    <tr>\n",
       "      <th>...</th>\n",
       "      <td>...</td>\n",
       "      <td>...</td>\n",
       "    </tr>\n",
       "    <tr>\n",
       "      <th>2995</th>\n",
       "      <td>17.637659</td>\n",
       "      <td>17.85</td>\n",
       "    </tr>\n",
       "    <tr>\n",
       "      <th>2996</th>\n",
       "      <td>17.589710</td>\n",
       "      <td>18.36</td>\n",
       "    </tr>\n",
       "    <tr>\n",
       "      <th>2997</th>\n",
       "      <td>19.083309</td>\n",
       "      <td>18.85</td>\n",
       "    </tr>\n",
       "    <tr>\n",
       "      <th>2998</th>\n",
       "      <td>18.999483</td>\n",
       "      <td>16.84</td>\n",
       "    </tr>\n",
       "    <tr>\n",
       "      <th>2999</th>\n",
       "      <td>15.177532</td>\n",
       "      <td>17.90</td>\n",
       "    </tr>\n",
       "  </tbody>\n",
       "</table>\n",
       "<p>3000 rows × 2 columns</p>\n",
       "</div>"
      ],
      "text/plain": [
       "      Val Predictions  Actuals\n",
       "0           11.466919     5.95\n",
       "1            1.406476     6.47\n",
       "2            8.134508     8.21\n",
       "3            8.679008     4.67\n",
       "4            2.221463     4.16\n",
       "...               ...      ...\n",
       "2995        17.637659    17.85\n",
       "2996        17.589710    18.36\n",
       "2997        19.083309    18.85\n",
       "2998        18.999483    16.84\n",
       "2999        15.177532    17.90\n",
       "\n",
       "[3000 rows x 2 columns]"
      ]
     },
     "execution_count": 54,
     "metadata": {},
     "output_type": "execute_result"
    }
   ],
   "source": [
    "val_predictions2 = model2.predict(X2_val).flatten()\n",
    "val_results2 = pd.DataFrame(data={'Val Predictions': val_predictions2, 'Actuals': y2_val})\n",
    "val_results2"
   ]
  },
  {
   "attachments": {},
   "cell_type": "markdown",
   "metadata": {},
   "source": [
    "34. Visualize the data to compare predicted values to the actual values for the validation set. For this set, it looks like the model did a little better at predicting that larger spike."
   ]
  },
  {
   "cell_type": "code",
   "execution_count": 55,
   "metadata": {},
   "outputs": [
    {
     "data": {
      "image/png": "[encoded data removed]",
      "text/plain": [
       "<Figure size 640x480 with 1 Axes>"
      ]
     },
     "metadata": {},
     "output_type": "display_data"
    }
   ],
   "source": [
    "plt.plot(val_results2['Val Predictions'][:100])\n",
    "plt.plot(val_results2['Actuals'][:100])\n",
    "plt.title('Predicted vs Actual Values for Validation Set')\n",
    "plt.legend(['Predictions','Actuals']);"
   ]
  },
  {
   "attachments": {},
   "cell_type": "markdown",
   "metadata": {},
   "source": [
    "35. Calculate the predicted values for the training set and add them to a dataframe along with the actuals."
   ]
  },
  {
   "cell_type": "code",
   "execution_count": 56,
   "metadata": {},
   "outputs": [
    {
     "name": "stdout",
     "output_type": "stream",
     "text": [
      "96/96 [==============================] - 0s 2ms/step\n"
     ]
    },
    {
     "data": {
      "text/html": [
       "<div>\n",
       "<style scoped>\n",
       "    .dataframe tbody tr th:only-of-type {\n",
       "        vertical-align: middle;\n",
       "    }\n",
       "\n",
       "    .dataframe tbody tr th {\n",
       "        vertical-align: top;\n",
       "    }\n",
       "\n",
       "    .dataframe thead th {\n",
       "        text-align: right;\n",
       "    }\n",
       "</style>\n",
       "<table border=\"1\" class=\"dataframe\">\n",
       "  <thead>\n",
       "    <tr style=\"text-align: right;\">\n",
       "      <th></th>\n",
       "      <th>Test Predictions</th>\n",
       "      <th>Actuals</th>\n",
       "    </tr>\n",
       "  </thead>\n",
       "  <tbody>\n",
       "    <tr>\n",
       "      <th>0</th>\n",
       "      <td>19.863728</td>\n",
       "      <td>19.42</td>\n",
       "    </tr>\n",
       "    <tr>\n",
       "      <th>1</th>\n",
       "      <td>20.534004</td>\n",
       "      <td>22.37</td>\n",
       "    </tr>\n",
       "    <tr>\n",
       "      <th>2</th>\n",
       "      <td>24.925224</td>\n",
       "      <td>26.01</td>\n",
       "    </tr>\n",
       "    <tr>\n",
       "      <th>3</th>\n",
       "      <td>27.821531</td>\n",
       "      <td>23.03</td>\n",
       "    </tr>\n",
       "    <tr>\n",
       "      <th>4</th>\n",
       "      <td>19.943226</td>\n",
       "      <td>17.09</td>\n",
       "    </tr>\n",
       "    <tr>\n",
       "      <th>...</th>\n",
       "      <td>...</td>\n",
       "      <td>...</td>\n",
       "    </tr>\n",
       "    <tr>\n",
       "      <th>3048</th>\n",
       "      <td>33.256470</td>\n",
       "      <td>36.08</td>\n",
       "    </tr>\n",
       "    <tr>\n",
       "      <th>3049</th>\n",
       "      <td>44.069641</td>\n",
       "      <td>45.75</td>\n",
       "    </tr>\n",
       "    <tr>\n",
       "      <th>3050</th>\n",
       "      <td>47.742439</td>\n",
       "      <td>50.21</td>\n",
       "    </tr>\n",
       "    <tr>\n",
       "      <th>3051</th>\n",
       "      <td>45.641624</td>\n",
       "      <td>48.14</td>\n",
       "    </tr>\n",
       "    <tr>\n",
       "      <th>3052</th>\n",
       "      <td>41.185204</td>\n",
       "      <td>44.33</td>\n",
       "    </tr>\n",
       "  </tbody>\n",
       "</table>\n",
       "<p>3053 rows × 2 columns</p>\n",
       "</div>"
      ],
      "text/plain": [
       "      Test Predictions  Actuals\n",
       "0            19.863728    19.42\n",
       "1            20.534004    22.37\n",
       "2            24.925224    26.01\n",
       "3            27.821531    23.03\n",
       "4            19.943226    17.09\n",
       "...                ...      ...\n",
       "3048         33.256470    36.08\n",
       "3049         44.069641    45.75\n",
       "3050         47.742439    50.21\n",
       "3051         45.641624    48.14\n",
       "3052         41.185204    44.33\n",
       "\n",
       "[3053 rows x 2 columns]"
      ]
     },
     "execution_count": 56,
     "metadata": {},
     "output_type": "execute_result"
    }
   ],
   "source": [
    "test_predictions2 = model2.predict(X2_test).flatten()\n",
    "test_results2 = pd.DataFrame(data={'Test Predictions': test_predictions2, 'Actuals': y2_test})\n",
    "test_results2"
   ]
  },
  {
   "attachments": {},
   "cell_type": "markdown",
   "metadata": {},
   "source": [
    "36. Visualize the data to compare predicted values to the actual values for the testing set. For this set, it looks like the model's predictions overshot the actuals for the larger spikes."
   ]
  },
  {
   "cell_type": "code",
   "execution_count": 57,
   "metadata": {},
   "outputs": [
    {
     "data": {
      "image/png": "[encoded data removed]",
      "text/plain": [
       "<Figure size 640x480 with 1 Axes>"
      ]
     },
     "metadata": {},
     "output_type": "display_data"
    }
   ],
   "source": [
    "plt.plot(test_results2['Test Predictions'][:100])\n",
    "plt.plot(test_results2['Actuals'][:100])\n",
    "plt.title('Predicted vs Actual Values for Testing Set')\n",
    "plt.legend(['Predictions','Actuals']);"
   ]
  },
  {
   "attachments": {},
   "cell_type": "markdown",
   "metadata": {},
   "source": [
    "37. Calculate the coefficient of determination for the training set, validation set, and testing set. As you can see, in general the model performed well, though it did not perform as well as that first model. The first model's values for training, validation, and testing were .99, .99, and .98 respectively, and now they are .96, .92, and .96. If you average all three scores for each model you get .98 and .93 respectively, so in general the second model did not improve. In this case, adding time features did not improve the model which suggests that they are not as necessary for predicting time series data with a LSTM model as compared to a XGBoost model. "
   ]
  },
  {
   "cell_type": "code",
   "execution_count": 58,
   "metadata": {},
   "outputs": [
    {
     "data": {
      "text/plain": [
       "0.9643338417417432"
      ]
     },
     "execution_count": 58,
     "metadata": {},
     "output_type": "execute_result"
    }
   ],
   "source": [
    "train2_r2 = r2_score(train_results2['Actuals'],train_results2['Train Predictions'])\n",
    "train2_r2"
   ]
  },
  {
   "cell_type": "code",
   "execution_count": 59,
   "metadata": {},
   "outputs": [
    {
     "data": {
      "text/plain": [
       "0.9262602883123824"
      ]
     },
     "execution_count": 59,
     "metadata": {},
     "output_type": "execute_result"
    }
   ],
   "source": [
    "val2_r2 = r2_score(val_results2['Actuals'],val_results2['Val Predictions'])\n",
    "val2_r2"
   ]
  },
  {
   "cell_type": "code",
   "execution_count": 60,
   "metadata": {},
   "outputs": [
    {
     "data": {
      "text/plain": [
       "0.9624305022469802"
      ]
     },
     "execution_count": 60,
     "metadata": {},
     "output_type": "execute_result"
    }
   ],
   "source": [
    "test2_r2 = r2_score(test_results2['Actuals'],test_results2['Test Predictions'])\n",
    "test2_r2"
   ]
  },
  {
   "attachments": {},
   "cell_type": "markdown",
   "metadata": {},
   "source": [
    "38. Calculate the Mean Squared Error and the Root Mean Squared Error. As you can see, all three values are larger than the MSE values from the last model. This model's MSE for the testing set is 21.93, which although it is lower than the first model, it is still better than the XGBoost model's MSE of 40.62. "
   ]
  },
  {
   "cell_type": "code",
   "execution_count": 61,
   "metadata": {},
   "outputs": [
    {
     "data": {
      "text/plain": [
       "25.68233449262368"
      ]
     },
     "execution_count": 61,
     "metadata": {},
     "output_type": "execute_result"
    }
   ],
   "source": [
    "realVals_train2 = train_results2.Actuals\n",
    "predictedVals_train2 = train_results2['Train Predictions']\n",
    "mse_train2 = mean_squared_error(realVals_train2, predictedVals_train2)\n",
    "mse_train2"
   ]
  },
  {
   "cell_type": "code",
   "execution_count": 62,
   "metadata": {},
   "outputs": [
    {
     "data": {
      "text/plain": [
       "5.0677741161799705"
      ]
     },
     "execution_count": 62,
     "metadata": {},
     "output_type": "execute_result"
    }
   ],
   "source": [
    "realVals_train2 = train_results2.Actuals\n",
    "predictedVals_train2 = train_results2['Train Predictions']\n",
    "rmse_train2 = mean_squared_error(realVals_train2, predictedVals_train2, squared = False)\n",
    "rmse_train2"
   ]
  },
  {
   "cell_type": "code",
   "execution_count": 63,
   "metadata": {},
   "outputs": [
    {
     "data": {
      "text/plain": [
       "7.779916228579169"
      ]
     },
     "execution_count": 63,
     "metadata": {},
     "output_type": "execute_result"
    }
   ],
   "source": [
    "realVals_val2 = val_results2.Actuals\n",
    "predictedVals_val2 = val_results2['Val Predictions']\n",
    "mse_val2 = mean_squared_error(realVals_val2, predictedVals_val2)\n",
    "mse_val2"
   ]
  },
  {
   "cell_type": "code",
   "execution_count": 64,
   "metadata": {},
   "outputs": [
    {
     "data": {
      "text/plain": [
       "2.789250119401121"
      ]
     },
     "execution_count": 64,
     "metadata": {},
     "output_type": "execute_result"
    }
   ],
   "source": [
    "realVals_val2 = val_results2.Actuals\n",
    "predictedVals_val2 = val_results2['Val Predictions']\n",
    "rmse_val2 = mean_squared_error(realVals_val2, predictedVals_val2, squared = False)\n",
    "rmse_val2"
   ]
  },
  {
   "cell_type": "code",
   "execution_count": 65,
   "metadata": {},
   "outputs": [
    {
     "data": {
      "text/plain": [
       "21.934435809025803"
      ]
     },
     "execution_count": 65,
     "metadata": {},
     "output_type": "execute_result"
    }
   ],
   "source": [
    "realVals_test2 = test_results2.Actuals\n",
    "predictedVals_test2 = test_results2['Test Predictions']\n",
    "mse_test2 = mean_squared_error(realVals_test2, predictedVals_test2)\n",
    "mse_test2"
   ]
  },
  {
   "cell_type": "code",
   "execution_count": 66,
   "metadata": {},
   "outputs": [
    {
     "data": {
      "text/plain": [
       "4.683421378546436"
      ]
     },
     "execution_count": 66,
     "metadata": {},
     "output_type": "execute_result"
    }
   ],
   "source": [
    "realVals_test2 = test_results2.Actuals\n",
    "predictedVals_test2 = test_results2['Test Predictions']\n",
    "rmse_test2 = mean_squared_error(realVals_test2, predictedVals_test2, squared = False)\n",
    "rmse_test2"
   ]
  }
 ],
 "metadata": {
  "kernelspec": {
   "display_name": "base",
   "language": "python",
   "name": "python3"
  },
  "language_info": {
   "codemirror_mode": {
    "name": "ipython",
    "version": 3
   },
   "file_extension": ".py",
   "mimetype": "text/x-python",
   "name": "python",
   "nbconvert_exporter": "python",
   "pygments_lexer": "ipython3",
   "version": "3.9.13"
  },
  "orig_nbformat": 4,
  "vscode": {
   "interpreter": {
    "hash": "7939009c0f665b034ac7d0d020f8ea7c93f1de027612b5d929de2dae80f6a8fb"
   }
  }
 },
 "nbformat": 4,
 "nbformat_minor": 2
}
