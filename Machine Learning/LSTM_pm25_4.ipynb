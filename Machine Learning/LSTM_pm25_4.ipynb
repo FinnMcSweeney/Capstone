{
 "cells": [
  {
   "cell_type": "code",
   "execution_count": 1,
   "metadata": {},
   "outputs": [],
   "source": [
    "import tensorflow as tf\n",
    "import os\n",
    "import pandas as pd\n",
    "import numpy as np"
   ]
  },
  {
   "attachments": {},
   "cell_type": "markdown",
   "metadata": {},
   "source": [
    "1. Load in the csv file. "
   ]
  },
  {
   "cell_type": "code",
   "execution_count": 2,
   "metadata": {},
   "outputs": [],
   "source": [
    "df = pd.read_csv('aqi_ny.csv')"
   ]
  },
  {
   "attachments": {},
   "cell_type": "markdown",
   "metadata": {},
   "source": [
    "2. Drop the extra index."
   ]
  },
  {
   "cell_type": "code",
   "execution_count": 3,
   "metadata": {},
   "outputs": [],
   "source": [
    "df = df.drop('Unnamed: 0', axis=1)"
   ]
  },
  {
   "cell_type": "code",
   "execution_count": 4,
   "metadata": {},
   "outputs": [
    {
     "data": {
      "text/html": [
       "<div>\n",
       "<style scoped>\n",
       "    .dataframe tbody tr th:only-of-type {\n",
       "        vertical-align: middle;\n",
       "    }\n",
       "\n",
       "    .dataframe tbody tr th {\n",
       "        vertical-align: top;\n",
       "    }\n",
       "\n",
       "    .dataframe thead th {\n",
       "        text-align: right;\n",
       "    }\n",
       "</style>\n",
       "<table border=\"1\" class=\"dataframe\">\n",
       "  <thead>\n",
       "    <tr style=\"text-align: right;\">\n",
       "      <th></th>\n",
       "      <th>date</th>\n",
       "      <th>co</th>\n",
       "      <th>no</th>\n",
       "      <th>no2</th>\n",
       "      <th>o3</th>\n",
       "      <th>so2</th>\n",
       "      <th>pm2_5</th>\n",
       "      <th>pm10</th>\n",
       "      <th>nh3</th>\n",
       "      <th>aqi</th>\n",
       "      <th>latitude</th>\n",
       "      <th>longitude</th>\n",
       "      <th>city</th>\n",
       "    </tr>\n",
       "  </thead>\n",
       "  <tbody>\n",
       "    <tr>\n",
       "      <th>0</th>\n",
       "      <td>2020-12-01 05:00:00</td>\n",
       "      <td>373.84</td>\n",
       "      <td>1.50</td>\n",
       "      <td>43.87</td>\n",
       "      <td>8.49</td>\n",
       "      <td>6.86</td>\n",
       "      <td>9.31</td>\n",
       "      <td>11.75</td>\n",
       "      <td>1.30</td>\n",
       "      <td>2</td>\n",
       "      <td>40.7127</td>\n",
       "      <td>-74.006</td>\n",
       "      <td>New York, NY</td>\n",
       "    </tr>\n",
       "    <tr>\n",
       "      <th>1</th>\n",
       "      <td>2020-12-01 06:00:00</td>\n",
       "      <td>343.80</td>\n",
       "      <td>1.16</td>\n",
       "      <td>37.70</td>\n",
       "      <td>9.39</td>\n",
       "      <td>7.09</td>\n",
       "      <td>8.43</td>\n",
       "      <td>10.47</td>\n",
       "      <td>1.09</td>\n",
       "      <td>1</td>\n",
       "      <td>40.7127</td>\n",
       "      <td>-74.006</td>\n",
       "      <td>New York, NY</td>\n",
       "    </tr>\n",
       "    <tr>\n",
       "      <th>2</th>\n",
       "      <td>2020-12-01 07:00:00</td>\n",
       "      <td>337.12</td>\n",
       "      <td>1.79</td>\n",
       "      <td>35.99</td>\n",
       "      <td>6.35</td>\n",
       "      <td>7.21</td>\n",
       "      <td>8.55</td>\n",
       "      <td>10.80</td>\n",
       "      <td>1.08</td>\n",
       "      <td>1</td>\n",
       "      <td>40.7127</td>\n",
       "      <td>-74.006</td>\n",
       "      <td>New York, NY</td>\n",
       "    </tr>\n",
       "    <tr>\n",
       "      <th>3</th>\n",
       "      <td>2020-12-01 08:00:00</td>\n",
       "      <td>337.12</td>\n",
       "      <td>3.38</td>\n",
       "      <td>34.96</td>\n",
       "      <td>3.09</td>\n",
       "      <td>7.63</td>\n",
       "      <td>8.92</td>\n",
       "      <td>11.57</td>\n",
       "      <td>1.08</td>\n",
       "      <td>1</td>\n",
       "      <td>40.7127</td>\n",
       "      <td>-74.006</td>\n",
       "      <td>New York, NY</td>\n",
       "    </tr>\n",
       "    <tr>\n",
       "      <th>4</th>\n",
       "      <td>2020-12-01 09:00:00</td>\n",
       "      <td>340.46</td>\n",
       "      <td>5.87</td>\n",
       "      <td>33.59</td>\n",
       "      <td>1.16</td>\n",
       "      <td>8.23</td>\n",
       "      <td>9.62</td>\n",
       "      <td>12.64</td>\n",
       "      <td>1.09</td>\n",
       "      <td>1</td>\n",
       "      <td>40.7127</td>\n",
       "      <td>-74.006</td>\n",
       "      <td>New York, NY</td>\n",
       "    </tr>\n",
       "    <tr>\n",
       "      <th>...</th>\n",
       "      <td>...</td>\n",
       "      <td>...</td>\n",
       "      <td>...</td>\n",
       "      <td>...</td>\n",
       "      <td>...</td>\n",
       "      <td>...</td>\n",
       "      <td>...</td>\n",
       "      <td>...</td>\n",
       "      <td>...</td>\n",
       "      <td>...</td>\n",
       "      <td>...</td>\n",
       "      <td>...</td>\n",
       "      <td>...</td>\n",
       "    </tr>\n",
       "    <tr>\n",
       "      <th>18056</th>\n",
       "      <td>2022-12-31 13:00:00</td>\n",
       "      <td>821.11</td>\n",
       "      <td>62.58</td>\n",
       "      <td>61.69</td>\n",
       "      <td>0.00</td>\n",
       "      <td>5.48</td>\n",
       "      <td>36.08</td>\n",
       "      <td>44.15</td>\n",
       "      <td>3.39</td>\n",
       "      <td>3</td>\n",
       "      <td>40.7127</td>\n",
       "      <td>-74.006</td>\n",
       "      <td>New York, NY</td>\n",
       "    </tr>\n",
       "    <tr>\n",
       "      <th>18057</th>\n",
       "      <td>2022-12-31 14:00:00</td>\n",
       "      <td>1028.06</td>\n",
       "      <td>92.09</td>\n",
       "      <td>69.23</td>\n",
       "      <td>0.12</td>\n",
       "      <td>6.56</td>\n",
       "      <td>45.75</td>\n",
       "      <td>56.04</td>\n",
       "      <td>3.96</td>\n",
       "      <td>3</td>\n",
       "      <td>40.7127</td>\n",
       "      <td>-74.006</td>\n",
       "      <td>New York, NY</td>\n",
       "    </tr>\n",
       "    <tr>\n",
       "      <th>18058</th>\n",
       "      <td>2022-12-31 15:00:00</td>\n",
       "      <td>1134.87</td>\n",
       "      <td>104.61</td>\n",
       "      <td>69.23</td>\n",
       "      <td>0.46</td>\n",
       "      <td>8.11</td>\n",
       "      <td>50.21</td>\n",
       "      <td>61.68</td>\n",
       "      <td>4.12</td>\n",
       "      <td>4</td>\n",
       "      <td>40.7127</td>\n",
       "      <td>-74.006</td>\n",
       "      <td>New York, NY</td>\n",
       "    </tr>\n",
       "    <tr>\n",
       "      <th>18059</th>\n",
       "      <td>2022-12-31 16:00:00</td>\n",
       "      <td>1121.52</td>\n",
       "      <td>101.92</td>\n",
       "      <td>64.43</td>\n",
       "      <td>0.44</td>\n",
       "      <td>9.42</td>\n",
       "      <td>48.14</td>\n",
       "      <td>59.03</td>\n",
       "      <td>4.18</td>\n",
       "      <td>3</td>\n",
       "      <td>40.7127</td>\n",
       "      <td>-74.006</td>\n",
       "      <td>New York, NY</td>\n",
       "    </tr>\n",
       "    <tr>\n",
       "      <th>18060</th>\n",
       "      <td>2022-12-31 17:00:00</td>\n",
       "      <td>1054.76</td>\n",
       "      <td>97.45</td>\n",
       "      <td>56.89</td>\n",
       "      <td>0.51</td>\n",
       "      <td>10.25</td>\n",
       "      <td>44.33</td>\n",
       "      <td>54.28</td>\n",
       "      <td>4.24</td>\n",
       "      <td>3</td>\n",
       "      <td>40.7127</td>\n",
       "      <td>-74.006</td>\n",
       "      <td>New York, NY</td>\n",
       "    </tr>\n",
       "  </tbody>\n",
       "</table>\n",
       "<p>18061 rows × 13 columns</p>\n",
       "</div>"
      ],
      "text/plain": [
       "                      date       co      no    no2    o3    so2  pm2_5   pm10  \\\n",
       "0      2020-12-01 05:00:00   373.84    1.50  43.87  8.49   6.86   9.31  11.75   \n",
       "1      2020-12-01 06:00:00   343.80    1.16  37.70  9.39   7.09   8.43  10.47   \n",
       "2      2020-12-01 07:00:00   337.12    1.79  35.99  6.35   7.21   8.55  10.80   \n",
       "3      2020-12-01 08:00:00   337.12    3.38  34.96  3.09   7.63   8.92  11.57   \n",
       "4      2020-12-01 09:00:00   340.46    5.87  33.59  1.16   8.23   9.62  12.64   \n",
       "...                    ...      ...     ...    ...   ...    ...    ...    ...   \n",
       "18056  2022-12-31 13:00:00   821.11   62.58  61.69  0.00   5.48  36.08  44.15   \n",
       "18057  2022-12-31 14:00:00  1028.06   92.09  69.23  0.12   6.56  45.75  56.04   \n",
       "18058  2022-12-31 15:00:00  1134.87  104.61  69.23  0.46   8.11  50.21  61.68   \n",
       "18059  2022-12-31 16:00:00  1121.52  101.92  64.43  0.44   9.42  48.14  59.03   \n",
       "18060  2022-12-31 17:00:00  1054.76   97.45  56.89  0.51  10.25  44.33  54.28   \n",
       "\n",
       "        nh3  aqi  latitude  longitude          city  \n",
       "0      1.30    2   40.7127    -74.006  New York, NY  \n",
       "1      1.09    1   40.7127    -74.006  New York, NY  \n",
       "2      1.08    1   40.7127    -74.006  New York, NY  \n",
       "3      1.08    1   40.7127    -74.006  New York, NY  \n",
       "4      1.09    1   40.7127    -74.006  New York, NY  \n",
       "...     ...  ...       ...        ...           ...  \n",
       "18056  3.39    3   40.7127    -74.006  New York, NY  \n",
       "18057  3.96    3   40.7127    -74.006  New York, NY  \n",
       "18058  4.12    4   40.7127    -74.006  New York, NY  \n",
       "18059  4.18    3   40.7127    -74.006  New York, NY  \n",
       "18060  4.24    3   40.7127    -74.006  New York, NY  \n",
       "\n",
       "[18061 rows x 13 columns]"
      ]
     },
     "execution_count": 4,
     "metadata": {},
     "output_type": "execute_result"
    }
   ],
   "source": [
    "df"
   ]
  },
  {
   "attachments": {},
   "cell_type": "markdown",
   "metadata": {},
   "source": [
    "3. Make the date column the index, and get rid of the extra date column so there's not a duplicate."
   ]
  },
  {
   "cell_type": "code",
   "execution_count": 5,
   "metadata": {},
   "outputs": [],
   "source": [
    "df.index = pd.to_datetime(df['date'])"
   ]
  },
  {
   "cell_type": "code",
   "execution_count": 6,
   "metadata": {},
   "outputs": [],
   "source": [
    "df = df.drop('date', axis=1)"
   ]
  },
  {
   "cell_type": "code",
   "execution_count": 7,
   "metadata": {},
   "outputs": [],
   "source": [
    "pm25 = df['pm2_5']"
   ]
  },
  {
   "attachments": {},
   "cell_type": "markdown",
   "metadata": {},
   "source": [
    "4. Visualize your data. "
   ]
  },
  {
   "cell_type": "code",
   "execution_count": 8,
   "metadata": {},
   "outputs": [
    {
     "data": {
      "image/png": "[encoded data removed]",
      "text/plain": [
       "<Figure size 640x480 with 1 Axes>"
      ]
     },
     "metadata": {},
     "output_type": "display_data"
    }
   ],
   "source": [
    "pm25.plot(title= 'PM2.5 Over Time', ylabel = 'PM2.5', xlabel = 'Date');"
   ]
  },
  {
   "attachments": {},
   "cell_type": "markdown",
   "metadata": {},
   "source": [
    "6. What makes LSTM much better at predicting time series data is that it takes into account a certain amount of values to predict the next one. In this case, the window size is 8, so it is looking at the first 8 values to predict value number 9, next it uses values 2 to 9 to predict 10, and so on. This function gets the data into this format, where X are the predictor values and y is what is being predicted. "
   ]
  },
  {
   "cell_type": "code",
   "execution_count": 9,
   "metadata": {},
   "outputs": [],
   "source": [
    "def df_to_X_y(df, window_size=8):\n",
    "    df_as_np = df.to_numpy()\n",
    "    X = []\n",
    "    y = []\n",
    "    for i in range(len(df_as_np)-window_size):\n",
    "        row = [[a] for a in df_as_np[i:i+8]]\n",
    "        X.append(row)\n",
    "        label = df_as_np[i+5]\n",
    "        y.append(label)\n",
    "    return np.array(X), np.array(y)"
   ]
  },
  {
   "attachments": {},
   "cell_type": "markdown",
   "metadata": {},
   "source": [
    "7. This shows us the shape of X and y, for both there are 18056 arrays, but X has 8 lists in each array since our window size is 8, and y only has one since we are predicting one value at a time. "
   ]
  },
  {
   "cell_type": "code",
   "execution_count": 10,
   "metadata": {},
   "outputs": [
    {
     "data": {
      "text/plain": [
       "((18053, 8, 1), (18053,))"
      ]
     },
     "execution_count": 10,
     "metadata": {},
     "output_type": "execute_result"
    }
   ],
   "source": [
    "window_size = 8\n",
    "X, y = df_to_X_y(pm25, window_size)\n",
    "X.shape, y.shape"
   ]
  },
  {
   "attachments": {},
   "cell_type": "markdown",
   "metadata": {},
   "source": [
    "8. Split the data into a training set, a validation set, and a testing set. "
   ]
  },
  {
   "cell_type": "code",
   "execution_count": 11,
   "metadata": {},
   "outputs": [
    {
     "data": {
      "text/plain": [
       "((12000, 8, 1), (12000,), (3000, 8, 1), (3000,), (3053, 8, 1), (3053,))"
      ]
     },
     "execution_count": 11,
     "metadata": {},
     "output_type": "execute_result"
    }
   ],
   "source": [
    "X_train, y_train = X[:12000], y[:12000]\n",
    "X_val, y_val = X[12000:15000], y[12000:15000]\n",
    "X_test, y_test = X[15000:], y[15000:]\n",
    "X_train.shape, y_train.shape, X_val.shape, y_val.shape, X_test.shape, y_test.shape"
   ]
  },
  {
   "cell_type": "code",
   "execution_count": 12,
   "metadata": {},
   "outputs": [],
   "source": [
    "from keras.models import Sequential\n",
    "from keras.layers import *\n",
    "from keras.callbacks import ModelCheckpoint\n",
    "from keras.losses import MeanSquaredError\n",
    "from keras.metrics import RootMeanSquaredError\n",
    "from keras.optimizers import Adam "
   ]
  },
  {
   "attachments": {},
   "cell_type": "markdown",
   "metadata": {},
   "source": [
    "9. Create the model. For the first layer you have to specify the shape of your model, since the window size is 8 and we only have one predictor the layer is 8 by 1. Next comes 1 LSTM layer, since LSTM is a neural network you have to specify the number of neurons, 32, 64, 128, and 256 are all common. Two dense layers follow the LSTM layer, the last dense layer is responsible for the regression task, and in this case we specify 1 because we want the output to be 1 predicted value."
   ]
  },
  {
   "cell_type": "code",
   "execution_count": 13,
   "metadata": {},
   "outputs": [
    {
     "name": "stdout",
     "output_type": "stream",
     "text": [
      "Model: \"sequential\"\n",
      "_________________________________________________________________\n",
      " Layer (type)                Output Shape              Param #   \n",
      "=================================================================\n",
      " lstm (LSTM)                 (None, 64)                16896     \n",
      "                                                                 \n",
      " dense (Dense)               (None, 8)                 520       \n",
      "                                                                 \n",
      " dense_1 (Dense)             (None, 1)                 9         \n",
      "                                                                 \n",
      "=================================================================\n",
      "Total params: 17,425\n",
      "Trainable params: 17,425\n",
      "Non-trainable params: 0\n",
      "_________________________________________________________________\n"
     ]
    }
   ],
   "source": [
    "model1 = Sequential()\n",
    "model1.add(InputLayer((8,1)))\n",
    "model1.add(LSTM(64))\n",
    "model1.add(Dense(8,'relu'))\n",
    "model1.add(Dense(1,'linear'))\n",
    "\n",
    "model1.summary()"
   ]
  },
  {
   "attachments": {},
   "cell_type": "markdown",
   "metadata": {},
   "source": [
    "10. Create a checkpoint that saves the best performing model. Just like our XGBoost model, we are using a low learning rate so it will be slower. "
   ]
  },
  {
   "cell_type": "code",
   "execution_count": 14,
   "metadata": {},
   "outputs": [],
   "source": [
    "cp = ModelCheckpoint('model1/',save_best_only=True)\n",
    "model1.compile(loss=MeanSquaredError(), optimizer = Adam(learning_rate=0.0001), metrics=RootMeanSquaredError())"
   ]
  },
  {
   "attachments": {},
   "cell_type": "markdown",
   "metadata": {},
   "source": [
    "11. Fit the model. The number you choose for your epochs specifies how many times you will run through the data, so the larger the number the longer it will take to run. "
   ]
  },
  {
   "cell_type": "code",
   "execution_count": 15,
   "metadata": {},
   "outputs": [
    {
     "name": "stdout",
     "output_type": "stream",
     "text": [
      "Epoch 1/50\n",
      "369/375 [============================>.] - ETA: 0s - loss: 914.8969 - root_mean_squared_error: 30.2473"
     ]
    },
    {
     "name": "stderr",
     "output_type": "stream",
     "text": [
      "WARNING:absl:Found untraced functions such as lstm_cell_layer_call_fn, lstm_cell_layer_call_and_return_conditional_losses while saving (showing 2 of 2). These functions will not be directly callable after loading.\n"
     ]
    },
    {
     "name": "stdout",
     "output_type": "stream",
     "text": [
      "INFO:tensorflow:Assets written to: model1\\assets\n"
     ]
    },
    {
     "name": "stderr",
     "output_type": "stream",
     "text": [
      "INFO:tensorflow:Assets written to: model1\\assets\n"
     ]
    },
    {
     "name": "stdout",
     "output_type": "stream",
     "text": [
      "375/375 [==============================] - 6s 12ms/step - loss: 911.3558 - root_mean_squared_error: 30.1887 - val_loss: 86.0932 - val_root_mean_squared_error: 9.2786\n",
      "Epoch 2/50\n",
      "374/375 [============================>.] - ETA: 0s - loss: 687.1358 - root_mean_squared_error: 26.2133"
     ]
    },
    {
     "name": "stderr",
     "output_type": "stream",
     "text": [
      "WARNING:absl:Found untraced functions such as lstm_cell_layer_call_fn, lstm_cell_layer_call_and_return_conditional_losses while saving (showing 2 of 2). These functions will not be directly callable after loading.\n"
     ]
    },
    {
     "name": "stdout",
     "output_type": "stream",
     "text": [
      "INFO:tensorflow:Assets written to: model1\\assets\n"
     ]
    },
    {
     "name": "stderr",
     "output_type": "stream",
     "text": [
      "INFO:tensorflow:Assets written to: model1\\assets\n"
     ]
    },
    {
     "name": "stdout",
     "output_type": "stream",
     "text": [
      "375/375 [==============================] - 4s 11ms/step - loss: 686.3568 - root_mean_squared_error: 26.1984 - val_loss: 38.0993 - val_root_mean_squared_error: 6.1725\n",
      "Epoch 3/50\n",
      "373/375 [============================>.] - ETA: 0s - loss: 535.4378 - root_mean_squared_error: 23.1395"
     ]
    },
    {
     "name": "stderr",
     "output_type": "stream",
     "text": [
      "WARNING:absl:Found untraced functions such as lstm_cell_layer_call_fn, lstm_cell_layer_call_and_return_conditional_losses while saving (showing 2 of 2). These functions will not be directly callable after loading.\n"
     ]
    },
    {
     "name": "stdout",
     "output_type": "stream",
     "text": [
      "INFO:tensorflow:Assets written to: model1\\assets\n"
     ]
    },
    {
     "name": "stderr",
     "output_type": "stream",
     "text": [
      "INFO:tensorflow:Assets written to: model1\\assets\n"
     ]
    },
    {
     "name": "stdout",
     "output_type": "stream",
     "text": [
      "375/375 [==============================] - 4s 11ms/step - loss: 532.9927 - root_mean_squared_error: 23.0866 - val_loss: 21.5463 - val_root_mean_squared_error: 4.6418\n",
      "Epoch 4/50\n",
      "369/375 [============================>.] - ETA: 0s - loss: 440.9548 - root_mean_squared_error: 20.9989"
     ]
    },
    {
     "name": "stderr",
     "output_type": "stream",
     "text": [
      "WARNING:absl:Found untraced functions such as lstm_cell_layer_call_fn, lstm_cell_layer_call_and_return_conditional_losses while saving (showing 2 of 2). These functions will not be directly callable after loading.\n"
     ]
    },
    {
     "name": "stdout",
     "output_type": "stream",
     "text": [
      "INFO:tensorflow:Assets written to: model1\\assets\n"
     ]
    },
    {
     "name": "stderr",
     "output_type": "stream",
     "text": [
      "INFO:tensorflow:Assets written to: model1\\assets\n"
     ]
    },
    {
     "name": "stdout",
     "output_type": "stream",
     "text": [
      "375/375 [==============================] - 4s 11ms/step - loss: 437.6976 - root_mean_squared_error: 20.9212 - val_loss: 13.7282 - val_root_mean_squared_error: 3.7052\n",
      "Epoch 5/50\n",
      "362/375 [===========================>..] - ETA: 0s - loss: 368.0753 - root_mean_squared_error: 19.1853"
     ]
    },
    {
     "name": "stderr",
     "output_type": "stream",
     "text": [
      "WARNING:absl:Found untraced functions such as lstm_cell_layer_call_fn, lstm_cell_layer_call_and_return_conditional_losses while saving (showing 2 of 2). These functions will not be directly callable after loading.\n"
     ]
    },
    {
     "name": "stdout",
     "output_type": "stream",
     "text": [
      "INFO:tensorflow:Assets written to: model1\\assets\n"
     ]
    },
    {
     "name": "stderr",
     "output_type": "stream",
     "text": [
      "INFO:tensorflow:Assets written to: model1\\assets\n"
     ]
    },
    {
     "name": "stdout",
     "output_type": "stream",
     "text": [
      "375/375 [==============================] - 4s 11ms/step - loss: 367.8674 - root_mean_squared_error: 19.1799 - val_loss: 9.4078 - val_root_mean_squared_error: 3.0672\n",
      "Epoch 6/50\n",
      "363/375 [============================>.] - ETA: 0s - loss: 313.7531 - root_mean_squared_error: 17.7131"
     ]
    },
    {
     "name": "stderr",
     "output_type": "stream",
     "text": [
      "WARNING:absl:Found untraced functions such as lstm_cell_layer_call_fn, lstm_cell_layer_call_and_return_conditional_losses while saving (showing 2 of 2). These functions will not be directly callable after loading.\n"
     ]
    },
    {
     "name": "stdout",
     "output_type": "stream",
     "text": [
      "INFO:tensorflow:Assets written to: model1\\assets\n"
     ]
    },
    {
     "name": "stderr",
     "output_type": "stream",
     "text": [
      "INFO:tensorflow:Assets written to: model1\\assets\n"
     ]
    },
    {
     "name": "stdout",
     "output_type": "stream",
     "text": [
      "375/375 [==============================] - 4s 12ms/step - loss: 307.4845 - root_mean_squared_error: 17.5352 - val_loss: 6.8868 - val_root_mean_squared_error: 2.6243\n",
      "Epoch 7/50\n",
      "359/375 [===========================>..] - ETA: 0s - loss: 266.6202 - root_mean_squared_error: 16.3285"
     ]
    },
    {
     "name": "stderr",
     "output_type": "stream",
     "text": [
      "WARNING:absl:Found untraced functions such as lstm_cell_layer_call_fn, lstm_cell_layer_call_and_return_conditional_losses while saving (showing 2 of 2). These functions will not be directly callable after loading.\n"
     ]
    },
    {
     "name": "stdout",
     "output_type": "stream",
     "text": [
      "INFO:tensorflow:Assets written to: model1\\assets\n"
     ]
    },
    {
     "name": "stderr",
     "output_type": "stream",
     "text": [
      "INFO:tensorflow:Assets written to: model1\\assets\n"
     ]
    },
    {
     "name": "stdout",
     "output_type": "stream",
     "text": [
      "375/375 [==============================] - 4s 11ms/step - loss: 262.6285 - root_mean_squared_error: 16.2058 - val_loss: 4.8725 - val_root_mean_squared_error: 2.2074\n",
      "Epoch 8/50\n",
      "371/375 [============================>.] - ETA: 0s - loss: 228.1372 - root_mean_squared_error: 15.1042"
     ]
    },
    {
     "name": "stderr",
     "output_type": "stream",
     "text": [
      "WARNING:absl:Found untraced functions such as lstm_cell_layer_call_fn, lstm_cell_layer_call_and_return_conditional_losses while saving (showing 2 of 2). These functions will not be directly callable after loading.\n"
     ]
    },
    {
     "name": "stdout",
     "output_type": "stream",
     "text": [
      "INFO:tensorflow:Assets written to: model1\\assets\n"
     ]
    },
    {
     "name": "stderr",
     "output_type": "stream",
     "text": [
      "INFO:tensorflow:Assets written to: model1\\assets\n"
     ]
    },
    {
     "name": "stdout",
     "output_type": "stream",
     "text": [
      "375/375 [==============================] - 4s 11ms/step - loss: 226.7676 - root_mean_squared_error: 15.0588 - val_loss: 3.4770 - val_root_mean_squared_error: 1.8647\n",
      "Epoch 9/50\n",
      "362/375 [===========================>..] - ETA: 0s - loss: 196.3176 - root_mean_squared_error: 14.0113"
     ]
    },
    {
     "name": "stderr",
     "output_type": "stream",
     "text": [
      "WARNING:absl:Found untraced functions such as lstm_cell_layer_call_fn, lstm_cell_layer_call_and_return_conditional_losses while saving (showing 2 of 2). These functions will not be directly callable after loading.\n"
     ]
    },
    {
     "name": "stdout",
     "output_type": "stream",
     "text": [
      "INFO:tensorflow:Assets written to: model1\\assets\n"
     ]
    },
    {
     "name": "stderr",
     "output_type": "stream",
     "text": [
      "INFO:tensorflow:Assets written to: model1\\assets\n"
     ]
    },
    {
     "name": "stdout",
     "output_type": "stream",
     "text": [
      "375/375 [==============================] - 4s 11ms/step - loss: 195.4735 - root_mean_squared_error: 13.9812 - val_loss: 2.6038 - val_root_mean_squared_error: 1.6136\n",
      "Epoch 10/50\n",
      "362/375 [===========================>..] - ETA: 0s - loss: 173.5025 - root_mean_squared_error: 13.1720"
     ]
    },
    {
     "name": "stderr",
     "output_type": "stream",
     "text": [
      "WARNING:absl:Found untraced functions such as lstm_cell_layer_call_fn, lstm_cell_layer_call_and_return_conditional_losses while saving (showing 2 of 2). These functions will not be directly callable after loading.\n"
     ]
    },
    {
     "name": "stdout",
     "output_type": "stream",
     "text": [
      "INFO:tensorflow:Assets written to: model1\\assets\n"
     ]
    },
    {
     "name": "stderr",
     "output_type": "stream",
     "text": [
      "INFO:tensorflow:Assets written to: model1\\assets\n"
     ]
    },
    {
     "name": "stdout",
     "output_type": "stream",
     "text": [
      "375/375 [==============================] - 4s 11ms/step - loss: 169.5441 - root_mean_squared_error: 13.0209 - val_loss: 2.1383 - val_root_mean_squared_error: 1.4623\n",
      "Epoch 11/50\n",
      "372/375 [============================>.] - ETA: 0s - loss: 148.7917 - root_mean_squared_error: 12.1980"
     ]
    },
    {
     "name": "stderr",
     "output_type": "stream",
     "text": [
      "WARNING:absl:Found untraced functions such as lstm_cell_layer_call_fn, lstm_cell_layer_call_and_return_conditional_losses while saving (showing 2 of 2). These functions will not be directly callable after loading.\n"
     ]
    },
    {
     "name": "stdout",
     "output_type": "stream",
     "text": [
      "INFO:tensorflow:Assets written to: model1\\assets\n"
     ]
    },
    {
     "name": "stderr",
     "output_type": "stream",
     "text": [
      "INFO:tensorflow:Assets written to: model1\\assets\n"
     ]
    },
    {
     "name": "stdout",
     "output_type": "stream",
     "text": [
      "375/375 [==============================] - 4s 11ms/step - loss: 147.6906 - root_mean_squared_error: 12.1528 - val_loss: 1.8542 - val_root_mean_squared_error: 1.3617\n",
      "Epoch 12/50\n",
      "372/375 [============================>.] - ETA: 0s - loss: 128.5590 - root_mean_squared_error: 11.3384"
     ]
    },
    {
     "name": "stderr",
     "output_type": "stream",
     "text": [
      "WARNING:absl:Found untraced functions such as lstm_cell_layer_call_fn, lstm_cell_layer_call_and_return_conditional_losses while saving (showing 2 of 2). These functions will not be directly callable after loading.\n"
     ]
    },
    {
     "name": "stdout",
     "output_type": "stream",
     "text": [
      "INFO:tensorflow:Assets written to: model1\\assets\n"
     ]
    },
    {
     "name": "stderr",
     "output_type": "stream",
     "text": [
      "INFO:tensorflow:Assets written to: model1\\assets\n"
     ]
    },
    {
     "name": "stdout",
     "output_type": "stream",
     "text": [
      "375/375 [==============================] - 4s 10ms/step - loss: 128.8966 - root_mean_squared_error: 11.3533 - val_loss: 1.4622 - val_root_mean_squared_error: 1.2092\n",
      "Epoch 13/50\n",
      "367/375 [============================>.] - ETA: 0s - loss: 111.3303 - root_mean_squared_error: 10.5513"
     ]
    },
    {
     "name": "stderr",
     "output_type": "stream",
     "text": [
      "WARNING:absl:Found untraced functions such as lstm_cell_layer_call_fn, lstm_cell_layer_call_and_return_conditional_losses while saving (showing 2 of 2). These functions will not be directly callable after loading.\n"
     ]
    },
    {
     "name": "stdout",
     "output_type": "stream",
     "text": [
      "INFO:tensorflow:Assets written to: model1\\assets\n"
     ]
    },
    {
     "name": "stderr",
     "output_type": "stream",
     "text": [
      "INFO:tensorflow:Assets written to: model1\\assets\n"
     ]
    },
    {
     "name": "stdout",
     "output_type": "stream",
     "text": [
      "375/375 [==============================] - 4s 11ms/step - loss: 112.8678 - root_mean_squared_error: 10.6239 - val_loss: 1.2692 - val_root_mean_squared_error: 1.1266\n",
      "Epoch 14/50\n",
      "366/375 [============================>.] - ETA: 0s - loss: 99.0272 - root_mean_squared_error: 9.9512  "
     ]
    },
    {
     "name": "stderr",
     "output_type": "stream",
     "text": [
      "WARNING:absl:Found untraced functions such as lstm_cell_layer_call_fn, lstm_cell_layer_call_and_return_conditional_losses while saving (showing 2 of 2). These functions will not be directly callable after loading.\n"
     ]
    },
    {
     "name": "stdout",
     "output_type": "stream",
     "text": [
      "INFO:tensorflow:Assets written to: model1\\assets\n"
     ]
    },
    {
     "name": "stderr",
     "output_type": "stream",
     "text": [
      "INFO:tensorflow:Assets written to: model1\\assets\n"
     ]
    },
    {
     "name": "stdout",
     "output_type": "stream",
     "text": [
      "375/375 [==============================] - 4s 11ms/step - loss: 99.0743 - root_mean_squared_error: 9.9536 - val_loss: 1.1779 - val_root_mean_squared_error: 1.0853\n",
      "Epoch 15/50\n",
      "373/375 [============================>.] - ETA: 0s - loss: 87.5631 - root_mean_squared_error: 9.3575"
     ]
    },
    {
     "name": "stderr",
     "output_type": "stream",
     "text": [
      "WARNING:absl:Found untraced functions such as lstm_cell_layer_call_fn, lstm_cell_layer_call_and_return_conditional_losses while saving (showing 2 of 2). These functions will not be directly callable after loading.\n"
     ]
    },
    {
     "name": "stdout",
     "output_type": "stream",
     "text": [
      "INFO:tensorflow:Assets written to: model1\\assets\n"
     ]
    },
    {
     "name": "stderr",
     "output_type": "stream",
     "text": [
      "INFO:tensorflow:Assets written to: model1\\assets\n"
     ]
    },
    {
     "name": "stdout",
     "output_type": "stream",
     "text": [
      "375/375 [==============================] - 4s 11ms/step - loss: 87.0983 - root_mean_squared_error: 9.3326 - val_loss: 0.9739 - val_root_mean_squared_error: 0.9869\n",
      "Epoch 16/50\n",
      "364/375 [============================>.] - ETA: 0s - loss: 77.7466 - root_mean_squared_error: 8.8174"
     ]
    },
    {
     "name": "stderr",
     "output_type": "stream",
     "text": [
      "WARNING:absl:Found untraced functions such as lstm_cell_layer_call_fn, lstm_cell_layer_call_and_return_conditional_losses while saving (showing 2 of 2). These functions will not be directly callable after loading.\n"
     ]
    },
    {
     "name": "stdout",
     "output_type": "stream",
     "text": [
      "INFO:tensorflow:Assets written to: model1\\assets\n"
     ]
    },
    {
     "name": "stderr",
     "output_type": "stream",
     "text": [
      "INFO:tensorflow:Assets written to: model1\\assets\n"
     ]
    },
    {
     "name": "stdout",
     "output_type": "stream",
     "text": [
      "375/375 [==============================] - 4s 12ms/step - loss: 76.8381 - root_mean_squared_error: 8.7657 - val_loss: 0.9068 - val_root_mean_squared_error: 0.9522\n",
      "Epoch 17/50\n",
      "375/375 [==============================] - 1s 4ms/step - loss: 67.8895 - root_mean_squared_error: 8.2395 - val_loss: 1.0164 - val_root_mean_squared_error: 1.0082\n",
      "Epoch 18/50\n",
      "371/375 [============================>.] - ETA: 0s - loss: 61.1234 - root_mean_squared_error: 7.8181"
     ]
    },
    {
     "name": "stderr",
     "output_type": "stream",
     "text": [
      "WARNING:absl:Found untraced functions such as lstm_cell_layer_call_fn, lstm_cell_layer_call_and_return_conditional_losses while saving (showing 2 of 2). These functions will not be directly callable after loading.\n"
     ]
    },
    {
     "name": "stdout",
     "output_type": "stream",
     "text": [
      "INFO:tensorflow:Assets written to: model1\\assets\n"
     ]
    },
    {
     "name": "stderr",
     "output_type": "stream",
     "text": [
      "INFO:tensorflow:Assets written to: model1\\assets\n"
     ]
    },
    {
     "name": "stdout",
     "output_type": "stream",
     "text": [
      "375/375 [==============================] - 4s 11ms/step - loss: 60.4797 - root_mean_squared_error: 7.7769 - val_loss: 0.7750 - val_root_mean_squared_error: 0.8803\n",
      "Epoch 19/50\n",
      "360/375 [===========================>..] - ETA: 0s - loss: 54.4299 - root_mean_squared_error: 7.3777"
     ]
    },
    {
     "name": "stderr",
     "output_type": "stream",
     "text": [
      "WARNING:absl:Found untraced functions such as lstm_cell_layer_call_fn, lstm_cell_layer_call_and_return_conditional_losses while saving (showing 2 of 2). These functions will not be directly callable after loading.\n"
     ]
    },
    {
     "name": "stdout",
     "output_type": "stream",
     "text": [
      "INFO:tensorflow:Assets written to: model1\\assets\n"
     ]
    },
    {
     "name": "stderr",
     "output_type": "stream",
     "text": [
      "INFO:tensorflow:Assets written to: model1\\assets\n"
     ]
    },
    {
     "name": "stdout",
     "output_type": "stream",
     "text": [
      "375/375 [==============================] - 4s 12ms/step - loss: 53.9518 - root_mean_squared_error: 7.3452 - val_loss: 0.7673 - val_root_mean_squared_error: 0.8760\n",
      "Epoch 20/50\n",
      "375/375 [==============================] - 2s 5ms/step - loss: 48.2512 - root_mean_squared_error: 6.9463 - val_loss: 0.7977 - val_root_mean_squared_error: 0.8932\n",
      "Epoch 21/50\n",
      "373/375 [============================>.] - ETA: 0s - loss: 43.4893 - root_mean_squared_error: 6.5946"
     ]
    },
    {
     "name": "stderr",
     "output_type": "stream",
     "text": [
      "WARNING:absl:Found untraced functions such as lstm_cell_layer_call_fn, lstm_cell_layer_call_and_return_conditional_losses while saving (showing 2 of 2). These functions will not be directly callable after loading.\n"
     ]
    },
    {
     "name": "stdout",
     "output_type": "stream",
     "text": [
      "INFO:tensorflow:Assets written to: model1\\assets\n"
     ]
    },
    {
     "name": "stderr",
     "output_type": "stream",
     "text": [
      "INFO:tensorflow:Assets written to: model1\\assets\n"
     ]
    },
    {
     "name": "stdout",
     "output_type": "stream",
     "text": [
      "375/375 [==============================] - 4s 11ms/step - loss: 43.2733 - root_mean_squared_error: 6.5782 - val_loss: 0.7118 - val_root_mean_squared_error: 0.8437\n",
      "Epoch 22/50\n",
      "364/375 [============================>.] - ETA: 0s - loss: 38.4069 - root_mean_squared_error: 6.1973"
     ]
    },
    {
     "name": "stderr",
     "output_type": "stream",
     "text": [
      "WARNING:absl:Found untraced functions such as lstm_cell_layer_call_fn, lstm_cell_layer_call_and_return_conditional_losses while saving (showing 2 of 2). These functions will not be directly callable after loading.\n"
     ]
    },
    {
     "name": "stdout",
     "output_type": "stream",
     "text": [
      "INFO:tensorflow:Assets written to: model1\\assets\n"
     ]
    },
    {
     "name": "stderr",
     "output_type": "stream",
     "text": [
      "INFO:tensorflow:Assets written to: model1\\assets\n"
     ]
    },
    {
     "name": "stdout",
     "output_type": "stream",
     "text": [
      "375/375 [==============================] - 4s 11ms/step - loss: 38.8107 - root_mean_squared_error: 6.2298 - val_loss: 0.6784 - val_root_mean_squared_error: 0.8236\n",
      "Epoch 23/50\n",
      "367/375 [============================>.] - ETA: 0s - loss: 33.9208 - root_mean_squared_error: 5.8242"
     ]
    },
    {
     "name": "stderr",
     "output_type": "stream",
     "text": [
      "WARNING:absl:Found untraced functions such as lstm_cell_layer_call_fn, lstm_cell_layer_call_and_return_conditional_losses while saving (showing 2 of 2). These functions will not be directly callable after loading.\n"
     ]
    },
    {
     "name": "stdout",
     "output_type": "stream",
     "text": [
      "INFO:tensorflow:Assets written to: model1\\assets\n"
     ]
    },
    {
     "name": "stderr",
     "output_type": "stream",
     "text": [
      "INFO:tensorflow:Assets written to: model1\\assets\n"
     ]
    },
    {
     "name": "stdout",
     "output_type": "stream",
     "text": [
      "375/375 [==============================] - 4s 12ms/step - loss: 34.9276 - root_mean_squared_error: 5.9100 - val_loss: 0.6695 - val_root_mean_squared_error: 0.8182\n",
      "Epoch 24/50\n",
      "373/375 [============================>.] - ETA: 0s - loss: 31.5628 - root_mean_squared_error: 5.6181"
     ]
    },
    {
     "name": "stderr",
     "output_type": "stream",
     "text": [
      "WARNING:absl:Found untraced functions such as lstm_cell_layer_call_fn, lstm_cell_layer_call_and_return_conditional_losses while saving (showing 2 of 2). These functions will not be directly callable after loading.\n"
     ]
    },
    {
     "name": "stdout",
     "output_type": "stream",
     "text": [
      "INFO:tensorflow:Assets written to: model1\\assets\n"
     ]
    },
    {
     "name": "stderr",
     "output_type": "stream",
     "text": [
      "INFO:tensorflow:Assets written to: model1\\assets\n"
     ]
    },
    {
     "name": "stdout",
     "output_type": "stream",
     "text": [
      "375/375 [==============================] - 4s 11ms/step - loss: 31.4076 - root_mean_squared_error: 5.6043 - val_loss: 0.6625 - val_root_mean_squared_error: 0.8139\n",
      "Epoch 25/50\n",
      "369/375 [============================>.] - ETA: 0s - loss: 28.7422 - root_mean_squared_error: 5.3612"
     ]
    },
    {
     "name": "stderr",
     "output_type": "stream",
     "text": [
      "WARNING:absl:Found untraced functions such as lstm_cell_layer_call_fn, lstm_cell_layer_call_and_return_conditional_losses while saving (showing 2 of 2). These functions will not be directly callable after loading.\n"
     ]
    },
    {
     "name": "stdout",
     "output_type": "stream",
     "text": [
      "INFO:tensorflow:Assets written to: model1\\assets\n"
     ]
    },
    {
     "name": "stderr",
     "output_type": "stream",
     "text": [
      "INFO:tensorflow:Assets written to: model1\\assets\n"
     ]
    },
    {
     "name": "stdout",
     "output_type": "stream",
     "text": [
      "375/375 [==============================] - 4s 12ms/step - loss: 28.3086 - root_mean_squared_error: 5.3206 - val_loss: 0.6321 - val_root_mean_squared_error: 0.7951\n",
      "Epoch 26/50\n",
      "375/375 [==============================] - 2s 4ms/step - loss: 25.5786 - root_mean_squared_error: 5.0575 - val_loss: 0.6919 - val_root_mean_squared_error: 0.8318\n",
      "Epoch 27/50\n",
      "362/375 [===========================>..] - ETA: 0s - loss: 23.5296 - root_mean_squared_error: 4.8507"
     ]
    },
    {
     "name": "stderr",
     "output_type": "stream",
     "text": [
      "WARNING:absl:Found untraced functions such as lstm_cell_layer_call_fn, lstm_cell_layer_call_and_return_conditional_losses while saving (showing 2 of 2). These functions will not be directly callable after loading.\n"
     ]
    },
    {
     "name": "stdout",
     "output_type": "stream",
     "text": [
      "INFO:tensorflow:Assets written to: model1\\assets\n"
     ]
    },
    {
     "name": "stderr",
     "output_type": "stream",
     "text": [
      "INFO:tensorflow:Assets written to: model1\\assets\n"
     ]
    },
    {
     "name": "stdout",
     "output_type": "stream",
     "text": [
      "375/375 [==============================] - 4s 11ms/step - loss: 23.0770 - root_mean_squared_error: 4.8039 - val_loss: 0.6097 - val_root_mean_squared_error: 0.7808\n",
      "Epoch 28/50\n",
      "375/375 [==============================] - 2s 4ms/step - loss: 20.8592 - root_mean_squared_error: 4.5672 - val_loss: 0.6111 - val_root_mean_squared_error: 0.7817\n",
      "Epoch 29/50\n",
      "362/375 [===========================>..] - ETA: 0s - loss: 19.0082 - root_mean_squared_error: 4.3598"
     ]
    },
    {
     "name": "stderr",
     "output_type": "stream",
     "text": [
      "WARNING:absl:Found untraced functions such as lstm_cell_layer_call_fn, lstm_cell_layer_call_and_return_conditional_losses while saving (showing 2 of 2). These functions will not be directly callable after loading.\n"
     ]
    },
    {
     "name": "stdout",
     "output_type": "stream",
     "text": [
      "INFO:tensorflow:Assets written to: model1\\assets\n"
     ]
    },
    {
     "name": "stderr",
     "output_type": "stream",
     "text": [
      "INFO:tensorflow:Assets written to: model1\\assets\n"
     ]
    },
    {
     "name": "stdout",
     "output_type": "stream",
     "text": [
      "375/375 [==============================] - 4s 11ms/step - loss: 18.9668 - root_mean_squared_error: 4.3551 - val_loss: 0.5850 - val_root_mean_squared_error: 0.7649\n",
      "Epoch 30/50\n",
      "375/375 [==============================] - 2s 4ms/step - loss: 17.2071 - root_mean_squared_error: 4.1481 - val_loss: 0.5859 - val_root_mean_squared_error: 0.7655\n",
      "Epoch 31/50\n",
      "364/375 [============================>.] - ETA: 0s - loss: 16.0291 - root_mean_squared_error: 4.0036"
     ]
    },
    {
     "name": "stderr",
     "output_type": "stream",
     "text": [
      "WARNING:absl:Found untraced functions such as lstm_cell_layer_call_fn, lstm_cell_layer_call_and_return_conditional_losses while saving (showing 2 of 2). These functions will not be directly callable after loading.\n"
     ]
    },
    {
     "name": "stdout",
     "output_type": "stream",
     "text": [
      "INFO:tensorflow:Assets written to: model1\\assets\n"
     ]
    },
    {
     "name": "stderr",
     "output_type": "stream",
     "text": [
      "INFO:tensorflow:Assets written to: model1\\assets\n"
     ]
    },
    {
     "name": "stdout",
     "output_type": "stream",
     "text": [
      "375/375 [==============================] - 4s 12ms/step - loss: 15.6082 - root_mean_squared_error: 3.9507 - val_loss: 0.5552 - val_root_mean_squared_error: 0.7451\n",
      "Epoch 32/50\n",
      "369/375 [============================>.] - ETA: 0s - loss: 14.3730 - root_mean_squared_error: 3.7912"
     ]
    },
    {
     "name": "stderr",
     "output_type": "stream",
     "text": [
      "WARNING:absl:Found untraced functions such as lstm_cell_layer_call_fn, lstm_cell_layer_call_and_return_conditional_losses while saving (showing 2 of 2). These functions will not be directly callable after loading.\n"
     ]
    },
    {
     "name": "stdout",
     "output_type": "stream",
     "text": [
      "INFO:tensorflow:Assets written to: model1\\assets\n"
     ]
    },
    {
     "name": "stderr",
     "output_type": "stream",
     "text": [
      "INFO:tensorflow:Assets written to: model1\\assets\n"
     ]
    },
    {
     "name": "stdout",
     "output_type": "stream",
     "text": [
      "375/375 [==============================] - 4s 11ms/step - loss: 14.1591 - root_mean_squared_error: 3.7629 - val_loss: 0.5267 - val_root_mean_squared_error: 0.7257\n",
      "Epoch 33/50\n",
      "375/375 [==============================] - 2s 4ms/step - loss: 12.8085 - root_mean_squared_error: 3.5789 - val_loss: 0.5318 - val_root_mean_squared_error: 0.7292\n",
      "Epoch 34/50\n",
      "375/375 [==============================] - 1s 4ms/step - loss: 11.5771 - root_mean_squared_error: 3.4025 - val_loss: 0.5314 - val_root_mean_squared_error: 0.7290\n",
      "Epoch 35/50\n",
      "368/375 [============================>.] - ETA: 0s - loss: 10.6794 - root_mean_squared_error: 3.2679"
     ]
    },
    {
     "name": "stderr",
     "output_type": "stream",
     "text": [
      "WARNING:absl:Found untraced functions such as lstm_cell_layer_call_fn, lstm_cell_layer_call_and_return_conditional_losses while saving (showing 2 of 2). These functions will not be directly callable after loading.\n"
     ]
    },
    {
     "name": "stdout",
     "output_type": "stream",
     "text": [
      "INFO:tensorflow:Assets written to: model1\\assets\n"
     ]
    },
    {
     "name": "stderr",
     "output_type": "stream",
     "text": [
      "INFO:tensorflow:Assets written to: model1\\assets\n"
     ]
    },
    {
     "name": "stdout",
     "output_type": "stream",
     "text": [
      "375/375 [==============================] - 4s 12ms/step - loss: 10.6262 - root_mean_squared_error: 3.2598 - val_loss: 0.4762 - val_root_mean_squared_error: 0.6901\n",
      "Epoch 36/50\n",
      "375/375 [==============================] - 1s 4ms/step - loss: 9.5845 - root_mean_squared_error: 3.0959 - val_loss: 0.4963 - val_root_mean_squared_error: 0.7045\n",
      "Epoch 37/50\n",
      "370/375 [============================>.] - ETA: 0s - loss: 8.5895 - root_mean_squared_error: 2.9308"
     ]
    },
    {
     "name": "stderr",
     "output_type": "stream",
     "text": [
      "WARNING:absl:Found untraced functions such as lstm_cell_layer_call_fn, lstm_cell_layer_call_and_return_conditional_losses while saving (showing 2 of 2). These functions will not be directly callable after loading.\n"
     ]
    },
    {
     "name": "stdout",
     "output_type": "stream",
     "text": [
      "INFO:tensorflow:Assets written to: model1\\assets\n"
     ]
    },
    {
     "name": "stderr",
     "output_type": "stream",
     "text": [
      "INFO:tensorflow:Assets written to: model1\\assets\n"
     ]
    },
    {
     "name": "stdout",
     "output_type": "stream",
     "text": [
      "375/375 [==============================] - 4s 11ms/step - loss: 8.7484 - root_mean_squared_error: 2.9578 - val_loss: 0.4755 - val_root_mean_squared_error: 0.6895\n",
      "Epoch 38/50\n",
      "374/375 [============================>.] - ETA: 0s - loss: 8.1938 - root_mean_squared_error: 2.8625"
     ]
    },
    {
     "name": "stderr",
     "output_type": "stream",
     "text": [
      "WARNING:absl:Found untraced functions such as lstm_cell_layer_call_fn, lstm_cell_layer_call_and_return_conditional_losses while saving (showing 2 of 2). These functions will not be directly callable after loading.\n"
     ]
    },
    {
     "name": "stdout",
     "output_type": "stream",
     "text": [
      "INFO:tensorflow:Assets written to: model1\\assets\n"
     ]
    },
    {
     "name": "stderr",
     "output_type": "stream",
     "text": [
      "INFO:tensorflow:Assets written to: model1\\assets\n"
     ]
    },
    {
     "name": "stdout",
     "output_type": "stream",
     "text": [
      "375/375 [==============================] - 4s 11ms/step - loss: 8.1745 - root_mean_squared_error: 2.8591 - val_loss: 0.4231 - val_root_mean_squared_error: 0.6504\n",
      "Epoch 39/50\n",
      "375/375 [==============================] - 2s 4ms/step - loss: 7.4958 - root_mean_squared_error: 2.7379 - val_loss: 0.4604 - val_root_mean_squared_error: 0.6785\n",
      "Epoch 40/50\n",
      "375/375 [==============================] - 2s 4ms/step - loss: 6.7506 - root_mean_squared_error: 2.5982 - val_loss: 0.4242 - val_root_mean_squared_error: 0.6513\n",
      "Epoch 41/50\n",
      "369/375 [============================>.] - ETA: 0s - loss: 6.4402 - root_mean_squared_error: 2.5378"
     ]
    },
    {
     "name": "stderr",
     "output_type": "stream",
     "text": [
      "WARNING:absl:Found untraced functions such as lstm_cell_layer_call_fn, lstm_cell_layer_call_and_return_conditional_losses while saving (showing 2 of 2). These functions will not be directly callable after loading.\n"
     ]
    },
    {
     "name": "stdout",
     "output_type": "stream",
     "text": [
      "INFO:tensorflow:Assets written to: model1\\assets\n"
     ]
    },
    {
     "name": "stderr",
     "output_type": "stream",
     "text": [
      "INFO:tensorflow:Assets written to: model1\\assets\n"
     ]
    },
    {
     "name": "stdout",
     "output_type": "stream",
     "text": [
      "375/375 [==============================] - 4s 12ms/step - loss: 6.3576 - root_mean_squared_error: 2.5214 - val_loss: 0.3730 - val_root_mean_squared_error: 0.6108\n",
      "Epoch 42/50\n",
      "375/375 [==============================] - 1s 4ms/step - loss: 5.8148 - root_mean_squared_error: 2.4114 - val_loss: 0.3773 - val_root_mean_squared_error: 0.6142\n",
      "Epoch 43/50\n",
      "361/375 [===========================>..] - ETA: 0s - loss: 5.4504 - root_mean_squared_error: 2.3346"
     ]
    },
    {
     "name": "stderr",
     "output_type": "stream",
     "text": [
      "WARNING:absl:Found untraced functions such as lstm_cell_layer_call_fn, lstm_cell_layer_call_and_return_conditional_losses while saving (showing 2 of 2). These functions will not be directly callable after loading.\n"
     ]
    },
    {
     "name": "stdout",
     "output_type": "stream",
     "text": [
      "INFO:tensorflow:Assets written to: model1\\assets\n"
     ]
    },
    {
     "name": "stderr",
     "output_type": "stream",
     "text": [
      "INFO:tensorflow:Assets written to: model1\\assets\n"
     ]
    },
    {
     "name": "stdout",
     "output_type": "stream",
     "text": [
      "375/375 [==============================] - 4s 11ms/step - loss: 5.3995 - root_mean_squared_error: 2.3237 - val_loss: 0.3452 - val_root_mean_squared_error: 0.5876\n",
      "Epoch 44/50\n",
      "375/375 [==============================] - 2s 4ms/step - loss: 5.0343 - root_mean_squared_error: 2.2437 - val_loss: 0.3512 - val_root_mean_squared_error: 0.5926\n",
      "Epoch 45/50\n",
      "375/375 [==============================] - ETA: 0s - loss: 4.8151 - root_mean_squared_error: 2.1943"
     ]
    },
    {
     "name": "stderr",
     "output_type": "stream",
     "text": [
      "WARNING:absl:Found untraced functions such as lstm_cell_layer_call_fn, lstm_cell_layer_call_and_return_conditional_losses while saving (showing 2 of 2). These functions will not be directly callable after loading.\n"
     ]
    },
    {
     "name": "stdout",
     "output_type": "stream",
     "text": [
      "INFO:tensorflow:Assets written to: model1\\assets\n"
     ]
    },
    {
     "name": "stderr",
     "output_type": "stream",
     "text": [
      "INFO:tensorflow:Assets written to: model1\\assets\n"
     ]
    },
    {
     "name": "stdout",
     "output_type": "stream",
     "text": [
      "375/375 [==============================] - 5s 12ms/step - loss: 4.8151 - root_mean_squared_error: 2.1943 - val_loss: 0.3178 - val_root_mean_squared_error: 0.5638\n",
      "Epoch 46/50\n",
      "366/375 [============================>.] - ETA: 0s - loss: 4.5520 - root_mean_squared_error: 2.1335"
     ]
    },
    {
     "name": "stderr",
     "output_type": "stream",
     "text": [
      "WARNING:absl:Found untraced functions such as lstm_cell_layer_call_fn, lstm_cell_layer_call_and_return_conditional_losses while saving (showing 2 of 2). These functions will not be directly callable after loading.\n"
     ]
    },
    {
     "name": "stdout",
     "output_type": "stream",
     "text": [
      "INFO:tensorflow:Assets written to: model1\\assets\n"
     ]
    },
    {
     "name": "stderr",
     "output_type": "stream",
     "text": [
      "INFO:tensorflow:Assets written to: model1\\assets\n"
     ]
    },
    {
     "name": "stdout",
     "output_type": "stream",
     "text": [
      "375/375 [==============================] - 4s 11ms/step - loss: 4.5195 - root_mean_squared_error: 2.1259 - val_loss: 0.2956 - val_root_mean_squared_error: 0.5437\n",
      "Epoch 47/50\n",
      "370/375 [============================>.] - ETA: 0s - loss: 4.2638 - root_mean_squared_error: 2.0649"
     ]
    },
    {
     "name": "stderr",
     "output_type": "stream",
     "text": [
      "WARNING:absl:Found untraced functions such as lstm_cell_layer_call_fn, lstm_cell_layer_call_and_return_conditional_losses while saving (showing 2 of 2). These functions will not be directly callable after loading.\n"
     ]
    },
    {
     "name": "stdout",
     "output_type": "stream",
     "text": [
      "INFO:tensorflow:Assets written to: model1\\assets\n"
     ]
    },
    {
     "name": "stderr",
     "output_type": "stream",
     "text": [
      "INFO:tensorflow:Assets written to: model1\\assets\n"
     ]
    },
    {
     "name": "stdout",
     "output_type": "stream",
     "text": [
      "375/375 [==============================] - 4s 11ms/step - loss: 4.2330 - root_mean_squared_error: 2.0574 - val_loss: 0.2747 - val_root_mean_squared_error: 0.5241\n",
      "Epoch 48/50\n",
      "375/375 [==============================] - ETA: 0s - loss: 3.9259 - root_mean_squared_error: 1.9814"
     ]
    },
    {
     "name": "stderr",
     "output_type": "stream",
     "text": [
      "WARNING:absl:Found untraced functions such as lstm_cell_layer_call_fn, lstm_cell_layer_call_and_return_conditional_losses while saving (showing 2 of 2). These functions will not be directly callable after loading.\n"
     ]
    },
    {
     "name": "stdout",
     "output_type": "stream",
     "text": [
      "INFO:tensorflow:Assets written to: model1\\assets\n"
     ]
    },
    {
     "name": "stderr",
     "output_type": "stream",
     "text": [
      "INFO:tensorflow:Assets written to: model1\\assets\n"
     ]
    },
    {
     "name": "stdout",
     "output_type": "stream",
     "text": [
      "375/375 [==============================] - 4s 12ms/step - loss: 3.9259 - root_mean_squared_error: 1.9814 - val_loss: 0.2640 - val_root_mean_squared_error: 0.5138\n",
      "Epoch 49/50\n",
      "375/375 [==============================] - 2s 4ms/step - loss: 3.8304 - root_mean_squared_error: 1.9572 - val_loss: 0.2717 - val_root_mean_squared_error: 0.5212\n",
      "Epoch 50/50\n",
      "370/375 [============================>.] - ETA: 0s - loss: 3.6370 - root_mean_squared_error: 1.9071"
     ]
    },
    {
     "name": "stderr",
     "output_type": "stream",
     "text": [
      "WARNING:absl:Found untraced functions such as lstm_cell_layer_call_fn, lstm_cell_layer_call_and_return_conditional_losses while saving (showing 2 of 2). These functions will not be directly callable after loading.\n"
     ]
    },
    {
     "name": "stdout",
     "output_type": "stream",
     "text": [
      "INFO:tensorflow:Assets written to: model1\\assets\n"
     ]
    },
    {
     "name": "stderr",
     "output_type": "stream",
     "text": [
      "INFO:tensorflow:Assets written to: model1\\assets\n"
     ]
    },
    {
     "name": "stdout",
     "output_type": "stream",
     "text": [
      "375/375 [==============================] - 4s 11ms/step - loss: 3.6192 - root_mean_squared_error: 1.9024 - val_loss: 0.2553 - val_root_mean_squared_error: 0.5053\n"
     ]
    },
    {
     "data": {
      "text/plain": [
       "<keras.callbacks.History at 0x23ac9bf8730>"
      ]
     },
     "execution_count": 15,
     "metadata": {},
     "output_type": "execute_result"
    }
   ],
   "source": [
    "model1.fit(X_train,y_train, validation_data=(X_val,y_val), epochs=50, callbacks=[cp])"
   ]
  },
  {
   "cell_type": "code",
   "execution_count": 16,
   "metadata": {},
   "outputs": [],
   "source": [
    "from keras.models import load_model"
   ]
  },
  {
   "attachments": {},
   "cell_type": "markdown",
   "metadata": {},
   "source": [
    "12. Load the model so we can work with the best one. "
   ]
  },
  {
   "cell_type": "code",
   "execution_count": 17,
   "metadata": {},
   "outputs": [],
   "source": [
    "model1 = load_model('model1/')"
   ]
  },
  {
   "attachments": {},
   "cell_type": "markdown",
   "metadata": {},
   "source": [
    "13. Calculate the predicted values for the training set and add them to a dataframe with the actuals."
   ]
  },
  {
   "cell_type": "code",
   "execution_count": 18,
   "metadata": {},
   "outputs": [
    {
     "name": "stdout",
     "output_type": "stream",
     "text": [
      "375/375 [==============================] - 1s 2ms/step\n"
     ]
    },
    {
     "data": {
      "text/html": [
       "<div>\n",
       "<style scoped>\n",
       "    .dataframe tbody tr th:only-of-type {\n",
       "        vertical-align: middle;\n",
       "    }\n",
       "\n",
       "    .dataframe tbody tr th {\n",
       "        vertical-align: top;\n",
       "    }\n",
       "\n",
       "    .dataframe thead th {\n",
       "        text-align: right;\n",
       "    }\n",
       "</style>\n",
       "<table border=\"1\" class=\"dataframe\">\n",
       "  <thead>\n",
       "    <tr style=\"text-align: right;\">\n",
       "      <th></th>\n",
       "      <th>Train Predictions</th>\n",
       "      <th>Actuals</th>\n",
       "    </tr>\n",
       "  </thead>\n",
       "  <tbody>\n",
       "    <tr>\n",
       "      <th>0</th>\n",
       "      <td>10.666890</td>\n",
       "      <td>10.60</td>\n",
       "    </tr>\n",
       "    <tr>\n",
       "      <th>1</th>\n",
       "      <td>12.249108</td>\n",
       "      <td>11.92</td>\n",
       "    </tr>\n",
       "    <tr>\n",
       "      <th>2</th>\n",
       "      <td>15.180731</td>\n",
       "      <td>15.04</td>\n",
       "    </tr>\n",
       "    <tr>\n",
       "      <th>3</th>\n",
       "      <td>16.873922</td>\n",
       "      <td>16.85</td>\n",
       "    </tr>\n",
       "    <tr>\n",
       "      <th>4</th>\n",
       "      <td>16.047186</td>\n",
       "      <td>15.64</td>\n",
       "    </tr>\n",
       "    <tr>\n",
       "      <th>...</th>\n",
       "      <td>...</td>\n",
       "      <td>...</td>\n",
       "    </tr>\n",
       "    <tr>\n",
       "      <th>11995</th>\n",
       "      <td>2.556515</td>\n",
       "      <td>2.45</td>\n",
       "    </tr>\n",
       "    <tr>\n",
       "      <th>11996</th>\n",
       "      <td>2.987394</td>\n",
       "      <td>2.90</td>\n",
       "    </tr>\n",
       "    <tr>\n",
       "      <th>11997</th>\n",
       "      <td>3.628376</td>\n",
       "      <td>3.48</td>\n",
       "    </tr>\n",
       "    <tr>\n",
       "      <th>11998</th>\n",
       "      <td>4.687016</td>\n",
       "      <td>4.54</td>\n",
       "    </tr>\n",
       "    <tr>\n",
       "      <th>11999</th>\n",
       "      <td>5.912895</td>\n",
       "      <td>5.91</td>\n",
       "    </tr>\n",
       "  </tbody>\n",
       "</table>\n",
       "<p>12000 rows × 2 columns</p>\n",
       "</div>"
      ],
      "text/plain": [
       "       Train Predictions  Actuals\n",
       "0              10.666890    10.60\n",
       "1              12.249108    11.92\n",
       "2              15.180731    15.04\n",
       "3              16.873922    16.85\n",
       "4              16.047186    15.64\n",
       "...                  ...      ...\n",
       "11995           2.556515     2.45\n",
       "11996           2.987394     2.90\n",
       "11997           3.628376     3.48\n",
       "11998           4.687016     4.54\n",
       "11999           5.912895     5.91\n",
       "\n",
       "[12000 rows x 2 columns]"
      ]
     },
     "execution_count": 18,
     "metadata": {},
     "output_type": "execute_result"
    }
   ],
   "source": [
    "train_predictions = model1.predict(X_train).flatten()\n",
    "train_results = pd.DataFrame(data={'Train Predictions':train_predictions, 'Actuals':y_train})\n",
    "train_results"
   ]
  },
  {
   "attachments": {},
   "cell_type": "markdown",
   "metadata": {},
   "source": [
    "14. Visualize the data to compare predicted values to the actual values for the training set. As you can see, the model did a very good job of predicting values since the lines are pretty much on top of each other."
   ]
  },
  {
   "cell_type": "code",
   "execution_count": 19,
   "metadata": {},
   "outputs": [
    {
     "data": {
      "image/png": "[encoded data removed]",
      "text/plain": [
       "<Figure size 640x480 with 1 Axes>"
      ]
     },
     "metadata": {},
     "output_type": "display_data"
    }
   ],
   "source": [
    "import matplotlib.pyplot as plt\n",
    "plt.plot(train_results['Train Predictions'][:100])\n",
    "plt.plot(train_results['Actuals'][:100])\n",
    "plt.title('Predicted vs Actual Values for Training Set')\n",
    "plt.legend(['Predictions','Actuals']);"
   ]
  },
  {
   "attachments": {},
   "cell_type": "markdown",
   "metadata": {},
   "source": [
    "15. Calculate the predicted values for the validation set and add them to a dataframe with the actuals."
   ]
  },
  {
   "cell_type": "code",
   "execution_count": 20,
   "metadata": {},
   "outputs": [
    {
     "name": "stdout",
     "output_type": "stream",
     "text": [
      "94/94 [==============================] - 1s 2ms/step\n"
     ]
    },
    {
     "data": {
      "text/html": [
       "<div>\n",
       "<style scoped>\n",
       "    .dataframe tbody tr th:only-of-type {\n",
       "        vertical-align: middle;\n",
       "    }\n",
       "\n",
       "    .dataframe tbody tr th {\n",
       "        vertical-align: top;\n",
       "    }\n",
       "\n",
       "    .dataframe thead th {\n",
       "        text-align: right;\n",
       "    }\n",
       "</style>\n",
       "<table border=\"1\" class=\"dataframe\">\n",
       "  <thead>\n",
       "    <tr style=\"text-align: right;\">\n",
       "      <th></th>\n",
       "      <th>Val Predictions</th>\n",
       "      <th>Actuals</th>\n",
       "    </tr>\n",
       "  </thead>\n",
       "  <tbody>\n",
       "    <tr>\n",
       "      <th>0</th>\n",
       "      <td>8.172602</td>\n",
       "      <td>7.60</td>\n",
       "    </tr>\n",
       "    <tr>\n",
       "      <th>1</th>\n",
       "      <td>12.012500</td>\n",
       "      <td>11.78</td>\n",
       "    </tr>\n",
       "    <tr>\n",
       "      <th>2</th>\n",
       "      <td>11.432067</td>\n",
       "      <td>12.08</td>\n",
       "    </tr>\n",
       "    <tr>\n",
       "      <th>3</th>\n",
       "      <td>6.672570</td>\n",
       "      <td>5.95</td>\n",
       "    </tr>\n",
       "    <tr>\n",
       "      <th>4</th>\n",
       "      <td>6.900505</td>\n",
       "      <td>6.47</td>\n",
       "    </tr>\n",
       "    <tr>\n",
       "      <th>...</th>\n",
       "      <td>...</td>\n",
       "      <td>...</td>\n",
       "    </tr>\n",
       "    <tr>\n",
       "      <th>2995</th>\n",
       "      <td>20.646208</td>\n",
       "      <td>20.61</td>\n",
       "    </tr>\n",
       "    <tr>\n",
       "      <th>2996</th>\n",
       "      <td>19.847719</td>\n",
       "      <td>19.86</td>\n",
       "    </tr>\n",
       "    <tr>\n",
       "      <th>2997</th>\n",
       "      <td>18.616465</td>\n",
       "      <td>18.63</td>\n",
       "    </tr>\n",
       "    <tr>\n",
       "      <th>2998</th>\n",
       "      <td>17.971292</td>\n",
       "      <td>17.85</td>\n",
       "    </tr>\n",
       "    <tr>\n",
       "      <th>2999</th>\n",
       "      <td>18.570787</td>\n",
       "      <td>18.36</td>\n",
       "    </tr>\n",
       "  </tbody>\n",
       "</table>\n",
       "<p>3000 rows × 2 columns</p>\n",
       "</div>"
      ],
      "text/plain": [
       "      Val Predictions  Actuals\n",
       "0            8.172602     7.60\n",
       "1           12.012500    11.78\n",
       "2           11.432067    12.08\n",
       "3            6.672570     5.95\n",
       "4            6.900505     6.47\n",
       "...               ...      ...\n",
       "2995        20.646208    20.61\n",
       "2996        19.847719    19.86\n",
       "2997        18.616465    18.63\n",
       "2998        17.971292    17.85\n",
       "2999        18.570787    18.36\n",
       "\n",
       "[3000 rows x 2 columns]"
      ]
     },
     "execution_count": 20,
     "metadata": {},
     "output_type": "execute_result"
    }
   ],
   "source": [
    "val_predictions = model1.predict(X_val).flatten()\n",
    "val_results = pd.DataFrame(data={'Val Predictions':val_predictions, 'Actuals':y_val})\n",
    "val_results"
   ]
  },
  {
   "attachments": {},
   "cell_type": "markdown",
   "metadata": {},
   "source": [
    "16. Visualize the data to compare predicted values to the actual values for the validation set. Again, it looks like the model did a good job of predicting values. "
   ]
  },
  {
   "cell_type": "code",
   "execution_count": 21,
   "metadata": {},
   "outputs": [
    {
     "data": {
      "image/png": "[encoded data removed]",
      "text/plain": [
       "<Figure size 640x480 with 1 Axes>"
      ]
     },
     "metadata": {},
     "output_type": "display_data"
    }
   ],
   "source": [
    "plt.plot(val_results['Val Predictions'][:100])\n",
    "plt.plot(val_results['Actuals'][:100])\n",
    "plt.title('Predicted vs Actual Values for Validation Set')\n",
    "plt.legend(['Predictions','Actuals']);"
   ]
  },
  {
   "attachments": {},
   "cell_type": "markdown",
   "metadata": {},
   "source": [
    "17. Calculate the predicted values for the test set and add them to a dataframe along with the actuals."
   ]
  },
  {
   "cell_type": "code",
   "execution_count": 22,
   "metadata": {},
   "outputs": [
    {
     "name": "stdout",
     "output_type": "stream",
     "text": [
      "96/96 [==============================] - 0s 2ms/step\n"
     ]
    },
    {
     "data": {
      "text/html": [
       "<div>\n",
       "<style scoped>\n",
       "    .dataframe tbody tr th:only-of-type {\n",
       "        vertical-align: middle;\n",
       "    }\n",
       "\n",
       "    .dataframe tbody tr th {\n",
       "        vertical-align: top;\n",
       "    }\n",
       "\n",
       "    .dataframe thead th {\n",
       "        text-align: right;\n",
       "    }\n",
       "</style>\n",
       "<table border=\"1\" class=\"dataframe\">\n",
       "  <thead>\n",
       "    <tr style=\"text-align: right;\">\n",
       "      <th></th>\n",
       "      <th>Test Predictions</th>\n",
       "      <th>Actuals</th>\n",
       "    </tr>\n",
       "  </thead>\n",
       "  <tbody>\n",
       "    <tr>\n",
       "      <th>0</th>\n",
       "      <td>18.619696</td>\n",
       "      <td>18.85</td>\n",
       "    </tr>\n",
       "    <tr>\n",
       "      <th>1</th>\n",
       "      <td>17.085001</td>\n",
       "      <td>16.84</td>\n",
       "    </tr>\n",
       "    <tr>\n",
       "      <th>2</th>\n",
       "      <td>17.768051</td>\n",
       "      <td>17.90</td>\n",
       "    </tr>\n",
       "    <tr>\n",
       "      <th>3</th>\n",
       "      <td>19.581669</td>\n",
       "      <td>19.42</td>\n",
       "    </tr>\n",
       "    <tr>\n",
       "      <th>4</th>\n",
       "      <td>22.733467</td>\n",
       "      <td>22.37</td>\n",
       "    </tr>\n",
       "    <tr>\n",
       "      <th>...</th>\n",
       "      <td>...</td>\n",
       "      <td>...</td>\n",
       "    </tr>\n",
       "    <tr>\n",
       "      <th>3048</th>\n",
       "      <td>16.273369</td>\n",
       "      <td>16.50</td>\n",
       "    </tr>\n",
       "    <tr>\n",
       "      <th>3049</th>\n",
       "      <td>17.788172</td>\n",
       "      <td>17.82</td>\n",
       "    </tr>\n",
       "    <tr>\n",
       "      <th>3050</th>\n",
       "      <td>24.376644</td>\n",
       "      <td>24.86</td>\n",
       "    </tr>\n",
       "    <tr>\n",
       "      <th>3051</th>\n",
       "      <td>36.138786</td>\n",
       "      <td>36.08</td>\n",
       "    </tr>\n",
       "    <tr>\n",
       "      <th>3052</th>\n",
       "      <td>46.557281</td>\n",
       "      <td>45.75</td>\n",
       "    </tr>\n",
       "  </tbody>\n",
       "</table>\n",
       "<p>3053 rows × 2 columns</p>\n",
       "</div>"
      ],
      "text/plain": [
       "      Test Predictions  Actuals\n",
       "0            18.619696    18.85\n",
       "1            17.085001    16.84\n",
       "2            17.768051    17.90\n",
       "3            19.581669    19.42\n",
       "4            22.733467    22.37\n",
       "...                ...      ...\n",
       "3048         16.273369    16.50\n",
       "3049         17.788172    17.82\n",
       "3050         24.376644    24.86\n",
       "3051         36.138786    36.08\n",
       "3052         46.557281    45.75\n",
       "\n",
       "[3053 rows x 2 columns]"
      ]
     },
     "execution_count": 22,
     "metadata": {},
     "output_type": "execute_result"
    }
   ],
   "source": [
    "test_predictions = model1.predict(X_test).flatten()\n",
    "test_results = pd.DataFrame(data={'Test Predictions':test_predictions, 'Actuals':y_test})\n",
    "test_results"
   ]
  },
  {
   "attachments": {},
   "cell_type": "markdown",
   "metadata": {},
   "source": [
    "18. Visualize the data to compare predicted values to the actual values for the test set. This time, it looks like the model struggled a bit when predicting those first two larger spikes. But overall, it looks like the model performed well again.  "
   ]
  },
  {
   "cell_type": "code",
   "execution_count": 23,
   "metadata": {},
   "outputs": [
    {
     "data": {
      "image/png": "[encoded data removed]",
      "text/plain": [
       "<Figure size 640x480 with 1 Axes>"
      ]
     },
     "metadata": {},
     "output_type": "display_data"
    }
   ],
   "source": [
    "plt.plot(test_results['Test Predictions'][:100])\n",
    "plt.plot(test_results['Actuals'][:100])\n",
    "plt.title('Predicted vs Actual Values for Testing Set')\n",
    "plt.legend(['Predictions','Actuals']);"
   ]
  },
  {
   "cell_type": "code",
   "execution_count": 24,
   "metadata": {},
   "outputs": [],
   "source": [
    "from sklearn.metrics import r2_score"
   ]
  },
  {
   "attachments": {},
   "cell_type": "markdown",
   "metadata": {},
   "source": [
    "19. Calculate the coefficient of determination for the training set, validation set, and testing set. As you can see, the model performed very well, especially when you consider that we did not have to add any extra features like we had to for the XGBoost model. When we tested the XGBoost model's training score with no added features it was .12, so this model performs much better at its most basic level. "
   ]
  },
  {
   "cell_type": "code",
   "execution_count": 25,
   "metadata": {},
   "outputs": [
    {
     "data": {
      "text/plain": [
       "0.9953179667528899"
      ]
     },
     "execution_count": 25,
     "metadata": {},
     "output_type": "execute_result"
    }
   ],
   "source": [
    "train_r2 = r2_score(train_results['Actuals'],train_results['Train Predictions'])\n",
    "train_r2"
   ]
  },
  {
   "cell_type": "code",
   "execution_count": 26,
   "metadata": {},
   "outputs": [
    {
     "data": {
      "text/plain": [
       "0.9975792426945416"
      ]
     },
     "execution_count": 26,
     "metadata": {},
     "output_type": "execute_result"
    }
   ],
   "source": [
    "val_r2 = r2_score(val_results['Actuals'],val_results['Val Predictions'])\n",
    "val_r2"
   ]
  },
  {
   "cell_type": "code",
   "execution_count": 27,
   "metadata": {},
   "outputs": [
    {
     "data": {
      "text/plain": [
       "0.9867484692913726"
      ]
     },
     "execution_count": 27,
     "metadata": {},
     "output_type": "execute_result"
    }
   ],
   "source": [
    "test_r2 = r2_score(test_results['Actuals'],test_results['Test Predictions'])\n",
    "test_r2"
   ]
  },
  {
   "cell_type": "code",
   "execution_count": 80,
   "metadata": {},
   "outputs": [],
   "source": [
    "from sklearn.metrics import mean_squared_error "
   ]
  },
  {
   "attachments": {},
   "cell_type": "markdown",
   "metadata": {},
   "source": [
    "20. Calculate the Mean Squared Error and the Root Mean Squared Error. The MSE for the XGBoost model's training set was 40.62, while this model's MSE is much lower at 3.37. "
   ]
  },
  {
   "cell_type": "code",
   "execution_count": 81,
   "metadata": {},
   "outputs": [
    {
     "data": {
      "text/plain": [
       "3.3713840136986875"
      ]
     },
     "execution_count": 81,
     "metadata": {},
     "output_type": "execute_result"
    }
   ],
   "source": [
    "realVals_train = train_results.Actuals\n",
    "predictedVals_train = train_results['Train Predictions']\n",
    "mse_train = mean_squared_error(realVals_train, predictedVals_train)\n",
    "mse_train"
   ]
  },
  {
   "cell_type": "code",
   "execution_count": 84,
   "metadata": {},
   "outputs": [
    {
     "data": {
      "text/plain": [
       "1.8361328965242922"
      ]
     },
     "execution_count": 84,
     "metadata": {},
     "output_type": "execute_result"
    }
   ],
   "source": [
    "realVals_train = train_results.Actuals\n",
    "predictedVals_train = train_results['Train Predictions']\n",
    "rmse_train = mean_squared_error(realVals_train, predictedVals_train, squared = False)\n",
    "rmse_train"
   ]
  },
  {
   "cell_type": "code",
   "execution_count": 82,
   "metadata": {},
   "outputs": [
    {
     "data": {
      "text/plain": [
       "0.2553162001928015"
      ]
     },
     "execution_count": 82,
     "metadata": {},
     "output_type": "execute_result"
    }
   ],
   "source": [
    "realVals_val = val_results.Actuals\n",
    "predictedVals_val = val_results['Val Predictions']\n",
    "mse_val = mean_squared_error(realVals_val, predictedVals_val)\n",
    "mse_val"
   ]
  },
  {
   "cell_type": "code",
   "execution_count": 85,
   "metadata": {},
   "outputs": [
    {
     "data": {
      "text/plain": [
       "0.5052882347658626"
      ]
     },
     "execution_count": 85,
     "metadata": {},
     "output_type": "execute_result"
    }
   ],
   "source": [
    "realVals_val = val_results.Actuals\n",
    "predictedVals_val = val_results['Val Predictions']\n",
    "rmse_val = mean_squared_error(realVals_val, predictedVals_val, squared = False)\n",
    "rmse_val"
   ]
  },
  {
   "cell_type": "code",
   "execution_count": 83,
   "metadata": {},
   "outputs": [
    {
     "data": {
      "text/plain": [
       "7.7237230470563585"
      ]
     },
     "execution_count": 83,
     "metadata": {},
     "output_type": "execute_result"
    }
   ],
   "source": [
    "realVals_test = test_results.Actuals\n",
    "predictedVals_test = test_results['Test Predictions']\n",
    "mse_test = mean_squared_error(realVals_test, predictedVals_test)\n",
    "mse_test"
   ]
  },
  {
   "cell_type": "code",
   "execution_count": 86,
   "metadata": {},
   "outputs": [
    {
     "data": {
      "text/plain": [
       "2.7791586941116475"
      ]
     },
     "execution_count": 86,
     "metadata": {},
     "output_type": "execute_result"
    }
   ],
   "source": [
    "realVals_test = test_results.Actuals\n",
    "predictedVals_test = test_results['Test Predictions']\n",
    "rmse_test = mean_squared_error(realVals_test, predictedVals_test, squared = False)\n",
    "rmse_test"
   ]
  },
  {
   "attachments": {},
   "cell_type": "markdown",
   "metadata": {},
   "source": [
    "21. Create a second model. This time we are adding features to help it get a better sense of how the data progresses with time so that its performance is hopefully improved. As we saw before, this is not as necessary as when you use XGBoost to predict time series data, but we want to try and refine our model. "
   ]
  },
  {
   "cell_type": "code",
   "execution_count": 28,
   "metadata": {},
   "outputs": [
    {
     "data": {
      "text/html": [
       "<div>\n",
       "<style scoped>\n",
       "    .dataframe tbody tr th:only-of-type {\n",
       "        vertical-align: middle;\n",
       "    }\n",
       "\n",
       "    .dataframe tbody tr th {\n",
       "        vertical-align: top;\n",
       "    }\n",
       "\n",
       "    .dataframe thead th {\n",
       "        text-align: right;\n",
       "    }\n",
       "</style>\n",
       "<table border=\"1\" class=\"dataframe\">\n",
       "  <thead>\n",
       "    <tr style=\"text-align: right;\">\n",
       "      <th></th>\n",
       "      <th>pm2_5</th>\n",
       "      <th>seconds</th>\n",
       "    </tr>\n",
       "    <tr>\n",
       "      <th>date</th>\n",
       "      <th></th>\n",
       "      <th></th>\n",
       "    </tr>\n",
       "  </thead>\n",
       "  <tbody>\n",
       "    <tr>\n",
       "      <th>2020-12-01 05:00:00</th>\n",
       "      <td>9.31</td>\n",
       "      <td>1.606799e+09</td>\n",
       "    </tr>\n",
       "    <tr>\n",
       "      <th>2020-12-01 06:00:00</th>\n",
       "      <td>8.43</td>\n",
       "      <td>1.606802e+09</td>\n",
       "    </tr>\n",
       "    <tr>\n",
       "      <th>2020-12-01 07:00:00</th>\n",
       "      <td>8.55</td>\n",
       "      <td>1.606806e+09</td>\n",
       "    </tr>\n",
       "    <tr>\n",
       "      <th>2020-12-01 08:00:00</th>\n",
       "      <td>8.92</td>\n",
       "      <td>1.606810e+09</td>\n",
       "    </tr>\n",
       "    <tr>\n",
       "      <th>2020-12-01 09:00:00</th>\n",
       "      <td>9.62</td>\n",
       "      <td>1.606813e+09</td>\n",
       "    </tr>\n",
       "    <tr>\n",
       "      <th>...</th>\n",
       "      <td>...</td>\n",
       "      <td>...</td>\n",
       "    </tr>\n",
       "    <tr>\n",
       "      <th>2022-12-31 13:00:00</th>\n",
       "      <td>36.08</td>\n",
       "      <td>1.672492e+09</td>\n",
       "    </tr>\n",
       "    <tr>\n",
       "      <th>2022-12-31 14:00:00</th>\n",
       "      <td>45.75</td>\n",
       "      <td>1.672495e+09</td>\n",
       "    </tr>\n",
       "    <tr>\n",
       "      <th>2022-12-31 15:00:00</th>\n",
       "      <td>50.21</td>\n",
       "      <td>1.672499e+09</td>\n",
       "    </tr>\n",
       "    <tr>\n",
       "      <th>2022-12-31 16:00:00</th>\n",
       "      <td>48.14</td>\n",
       "      <td>1.672502e+09</td>\n",
       "    </tr>\n",
       "    <tr>\n",
       "      <th>2022-12-31 17:00:00</th>\n",
       "      <td>44.33</td>\n",
       "      <td>1.672506e+09</td>\n",
       "    </tr>\n",
       "  </tbody>\n",
       "</table>\n",
       "<p>18061 rows × 2 columns</p>\n",
       "</div>"
      ],
      "text/plain": [
       "                     pm2_5       seconds\n",
       "date                                    \n",
       "2020-12-01 05:00:00   9.31  1.606799e+09\n",
       "2020-12-01 06:00:00   8.43  1.606802e+09\n",
       "2020-12-01 07:00:00   8.55  1.606806e+09\n",
       "2020-12-01 08:00:00   8.92  1.606810e+09\n",
       "2020-12-01 09:00:00   9.62  1.606813e+09\n",
       "...                    ...           ...\n",
       "2022-12-31 13:00:00  36.08  1.672492e+09\n",
       "2022-12-31 14:00:00  45.75  1.672495e+09\n",
       "2022-12-31 15:00:00  50.21  1.672499e+09\n",
       "2022-12-31 16:00:00  48.14  1.672502e+09\n",
       "2022-12-31 17:00:00  44.33  1.672506e+09\n",
       "\n",
       "[18061 rows x 2 columns]"
      ]
     },
     "execution_count": 28,
     "metadata": {},
     "output_type": "execute_result"
    }
   ],
   "source": [
    "pm25_df = pd.DataFrame({'pm2_5':pm25})\n",
    "pm25_df['seconds'] = pm25_df.index.map(pd.Timestamp.timestamp)\n",
    "pm25_df"
   ]
  },
  {
   "attachments": {},
   "cell_type": "markdown",
   "metadata": {},
   "source": [
    "22. Use the seconds column to create columns for Day sin, Day cos, Year sin, and Year cos. These features are similar to the lag features that we used for our XGBoost model in that they are there to give a sense of relative time, but these are referred to as cyclical features. "
   ]
  },
  {
   "cell_type": "code",
   "execution_count": 29,
   "metadata": {},
   "outputs": [],
   "source": [
    "day = 60*60*24\n",
    "year = 365.2425*day \n",
    "\n",
    "pm25_df['Day sin'] = np.sin(pm25_df['seconds'] * (2*np.pi / day))\n",
    "pm25_df['Day cos'] = np.cos(pm25_df['seconds'] * (2*np.pi / day))\n",
    "pm25_df['Year sin'] = np.sin(pm25_df['seconds'] * (2*np.pi / year))\n",
    "pm25_df['Year cos'] = np.cos(pm25_df['seconds'] * (2*np.pi / year))"
   ]
  },
  {
   "cell_type": "code",
   "execution_count": 30,
   "metadata": {},
   "outputs": [
    {
     "data": {
      "text/html": [
       "<div>\n",
       "<style scoped>\n",
       "    .dataframe tbody tr th:only-of-type {\n",
       "        vertical-align: middle;\n",
       "    }\n",
       "\n",
       "    .dataframe tbody tr th {\n",
       "        vertical-align: top;\n",
       "    }\n",
       "\n",
       "    .dataframe thead th {\n",
       "        text-align: right;\n",
       "    }\n",
       "</style>\n",
       "<table border=\"1\" class=\"dataframe\">\n",
       "  <thead>\n",
       "    <tr style=\"text-align: right;\">\n",
       "      <th></th>\n",
       "      <th>pm2_5</th>\n",
       "      <th>seconds</th>\n",
       "      <th>Day sin</th>\n",
       "      <th>Day cos</th>\n",
       "      <th>Year sin</th>\n",
       "      <th>Year cos</th>\n",
       "    </tr>\n",
       "    <tr>\n",
       "      <th>date</th>\n",
       "      <th></th>\n",
       "      <th></th>\n",
       "      <th></th>\n",
       "      <th></th>\n",
       "      <th></th>\n",
       "      <th></th>\n",
       "    </tr>\n",
       "  </thead>\n",
       "  <tbody>\n",
       "    <tr>\n",
       "      <th>2020-12-01 05:00:00</th>\n",
       "      <td>9.31</td>\n",
       "      <td>1.606799e+09</td>\n",
       "      <td>0.965926</td>\n",
       "      <td>2.588190e-01</td>\n",
       "      <td>-0.495857</td>\n",
       "      <td>0.868404</td>\n",
       "    </tr>\n",
       "    <tr>\n",
       "      <th>2020-12-01 06:00:00</th>\n",
       "      <td>8.43</td>\n",
       "      <td>1.606802e+09</td>\n",
       "      <td>1.000000</td>\n",
       "      <td>1.086286e-11</td>\n",
       "      <td>-0.495234</td>\n",
       "      <td>0.868759</td>\n",
       "    </tr>\n",
       "    <tr>\n",
       "      <th>2020-12-01 07:00:00</th>\n",
       "      <td>8.55</td>\n",
       "      <td>1.606806e+09</td>\n",
       "      <td>0.965926</td>\n",
       "      <td>-2.588190e-01</td>\n",
       "      <td>-0.494612</td>\n",
       "      <td>0.869114</td>\n",
       "    </tr>\n",
       "    <tr>\n",
       "      <th>2020-12-01 08:00:00</th>\n",
       "      <td>8.92</td>\n",
       "      <td>1.606810e+09</td>\n",
       "      <td>0.866025</td>\n",
       "      <td>-5.000000e-01</td>\n",
       "      <td>-0.493988</td>\n",
       "      <td>0.869468</td>\n",
       "    </tr>\n",
       "    <tr>\n",
       "      <th>2020-12-01 09:00:00</th>\n",
       "      <td>9.62</td>\n",
       "      <td>1.606813e+09</td>\n",
       "      <td>0.707107</td>\n",
       "      <td>-7.071068e-01</td>\n",
       "      <td>-0.493365</td>\n",
       "      <td>0.869822</td>\n",
       "    </tr>\n",
       "    <tr>\n",
       "      <th>...</th>\n",
       "      <td>...</td>\n",
       "      <td>...</td>\n",
       "      <td>...</td>\n",
       "      <td>...</td>\n",
       "      <td>...</td>\n",
       "      <td>...</td>\n",
       "    </tr>\n",
       "    <tr>\n",
       "      <th>2022-12-31 13:00:00</th>\n",
       "      <td>36.08</td>\n",
       "      <td>1.672492e+09</td>\n",
       "      <td>-0.258819</td>\n",
       "      <td>-9.659258e-01</td>\n",
       "      <td>-0.005347</td>\n",
       "      <td>0.999986</td>\n",
       "    </tr>\n",
       "    <tr>\n",
       "      <th>2022-12-31 14:00:00</th>\n",
       "      <td>45.75</td>\n",
       "      <td>1.672495e+09</td>\n",
       "      <td>-0.500000</td>\n",
       "      <td>-8.660254e-01</td>\n",
       "      <td>-0.004630</td>\n",
       "      <td>0.999989</td>\n",
       "    </tr>\n",
       "    <tr>\n",
       "      <th>2022-12-31 15:00:00</th>\n",
       "      <td>50.21</td>\n",
       "      <td>1.672499e+09</td>\n",
       "      <td>-0.707107</td>\n",
       "      <td>-7.071068e-01</td>\n",
       "      <td>-0.003914</td>\n",
       "      <td>0.999992</td>\n",
       "    </tr>\n",
       "    <tr>\n",
       "      <th>2022-12-31 16:00:00</th>\n",
       "      <td>48.14</td>\n",
       "      <td>1.672502e+09</td>\n",
       "      <td>-0.866025</td>\n",
       "      <td>-5.000000e-01</td>\n",
       "      <td>-0.003197</td>\n",
       "      <td>0.999995</td>\n",
       "    </tr>\n",
       "    <tr>\n",
       "      <th>2022-12-31 17:00:00</th>\n",
       "      <td>44.33</td>\n",
       "      <td>1.672506e+09</td>\n",
       "      <td>-0.965926</td>\n",
       "      <td>-2.588190e-01</td>\n",
       "      <td>-0.002480</td>\n",
       "      <td>0.999997</td>\n",
       "    </tr>\n",
       "  </tbody>\n",
       "</table>\n",
       "<p>18061 rows × 6 columns</p>\n",
       "</div>"
      ],
      "text/plain": [
       "                     pm2_5       seconds   Day sin       Day cos  Year sin  \\\n",
       "date                                                                         \n",
       "2020-12-01 05:00:00   9.31  1.606799e+09  0.965926  2.588190e-01 -0.495857   \n",
       "2020-12-01 06:00:00   8.43  1.606802e+09  1.000000  1.086286e-11 -0.495234   \n",
       "2020-12-01 07:00:00   8.55  1.606806e+09  0.965926 -2.588190e-01 -0.494612   \n",
       "2020-12-01 08:00:00   8.92  1.606810e+09  0.866025 -5.000000e-01 -0.493988   \n",
       "2020-12-01 09:00:00   9.62  1.606813e+09  0.707107 -7.071068e-01 -0.493365   \n",
       "...                    ...           ...       ...           ...       ...   \n",
       "2022-12-31 13:00:00  36.08  1.672492e+09 -0.258819 -9.659258e-01 -0.005347   \n",
       "2022-12-31 14:00:00  45.75  1.672495e+09 -0.500000 -8.660254e-01 -0.004630   \n",
       "2022-12-31 15:00:00  50.21  1.672499e+09 -0.707107 -7.071068e-01 -0.003914   \n",
       "2022-12-31 16:00:00  48.14  1.672502e+09 -0.866025 -5.000000e-01 -0.003197   \n",
       "2022-12-31 17:00:00  44.33  1.672506e+09 -0.965926 -2.588190e-01 -0.002480   \n",
       "\n",
       "                     Year cos  \n",
       "date                           \n",
       "2020-12-01 05:00:00  0.868404  \n",
       "2020-12-01 06:00:00  0.868759  \n",
       "2020-12-01 07:00:00  0.869114  \n",
       "2020-12-01 08:00:00  0.869468  \n",
       "2020-12-01 09:00:00  0.869822  \n",
       "...                       ...  \n",
       "2022-12-31 13:00:00  0.999986  \n",
       "2022-12-31 14:00:00  0.999989  \n",
       "2022-12-31 15:00:00  0.999992  \n",
       "2022-12-31 16:00:00  0.999995  \n",
       "2022-12-31 17:00:00  0.999997  \n",
       "\n",
       "[18061 rows x 6 columns]"
      ]
     },
     "execution_count": 30,
     "metadata": {},
     "output_type": "execute_result"
    }
   ],
   "source": [
    "pm25_df"
   ]
  },
  {
   "attachments": {},
   "cell_type": "markdown",
   "metadata": {},
   "source": [
    "23. Drop the seconds column since it is no longer necessary now that we have created the extra columns. "
   ]
  },
  {
   "cell_type": "code",
   "execution_count": 31,
   "metadata": {},
   "outputs": [],
   "source": [
    "aqi_df = pm25_df.drop('seconds', axis=1)"
   ]
  },
  {
   "cell_type": "code",
   "execution_count": 32,
   "metadata": {},
   "outputs": [
    {
     "data": {
      "text/html": [
       "<div>\n",
       "<style scoped>\n",
       "    .dataframe tbody tr th:only-of-type {\n",
       "        vertical-align: middle;\n",
       "    }\n",
       "\n",
       "    .dataframe tbody tr th {\n",
       "        vertical-align: top;\n",
       "    }\n",
       "\n",
       "    .dataframe thead th {\n",
       "        text-align: right;\n",
       "    }\n",
       "</style>\n",
       "<table border=\"1\" class=\"dataframe\">\n",
       "  <thead>\n",
       "    <tr style=\"text-align: right;\">\n",
       "      <th></th>\n",
       "      <th>pm2_5</th>\n",
       "      <th>Day sin</th>\n",
       "      <th>Day cos</th>\n",
       "      <th>Year sin</th>\n",
       "      <th>Year cos</th>\n",
       "    </tr>\n",
       "    <tr>\n",
       "      <th>date</th>\n",
       "      <th></th>\n",
       "      <th></th>\n",
       "      <th></th>\n",
       "      <th></th>\n",
       "      <th></th>\n",
       "    </tr>\n",
       "  </thead>\n",
       "  <tbody>\n",
       "    <tr>\n",
       "      <th>2020-12-01 05:00:00</th>\n",
       "      <td>9.31</td>\n",
       "      <td>0.965926</td>\n",
       "      <td>2.588190e-01</td>\n",
       "      <td>-0.495857</td>\n",
       "      <td>0.868404</td>\n",
       "    </tr>\n",
       "    <tr>\n",
       "      <th>2020-12-01 06:00:00</th>\n",
       "      <td>8.43</td>\n",
       "      <td>1.000000</td>\n",
       "      <td>1.086286e-11</td>\n",
       "      <td>-0.495234</td>\n",
       "      <td>0.868759</td>\n",
       "    </tr>\n",
       "    <tr>\n",
       "      <th>2020-12-01 07:00:00</th>\n",
       "      <td>8.55</td>\n",
       "      <td>0.965926</td>\n",
       "      <td>-2.588190e-01</td>\n",
       "      <td>-0.494612</td>\n",
       "      <td>0.869114</td>\n",
       "    </tr>\n",
       "    <tr>\n",
       "      <th>2020-12-01 08:00:00</th>\n",
       "      <td>8.92</td>\n",
       "      <td>0.866025</td>\n",
       "      <td>-5.000000e-01</td>\n",
       "      <td>-0.493988</td>\n",
       "      <td>0.869468</td>\n",
       "    </tr>\n",
       "    <tr>\n",
       "      <th>2020-12-01 09:00:00</th>\n",
       "      <td>9.62</td>\n",
       "      <td>0.707107</td>\n",
       "      <td>-7.071068e-01</td>\n",
       "      <td>-0.493365</td>\n",
       "      <td>0.869822</td>\n",
       "    </tr>\n",
       "    <tr>\n",
       "      <th>...</th>\n",
       "      <td>...</td>\n",
       "      <td>...</td>\n",
       "      <td>...</td>\n",
       "      <td>...</td>\n",
       "      <td>...</td>\n",
       "    </tr>\n",
       "    <tr>\n",
       "      <th>2022-12-31 13:00:00</th>\n",
       "      <td>36.08</td>\n",
       "      <td>-0.258819</td>\n",
       "      <td>-9.659258e-01</td>\n",
       "      <td>-0.005347</td>\n",
       "      <td>0.999986</td>\n",
       "    </tr>\n",
       "    <tr>\n",
       "      <th>2022-12-31 14:00:00</th>\n",
       "      <td>45.75</td>\n",
       "      <td>-0.500000</td>\n",
       "      <td>-8.660254e-01</td>\n",
       "      <td>-0.004630</td>\n",
       "      <td>0.999989</td>\n",
       "    </tr>\n",
       "    <tr>\n",
       "      <th>2022-12-31 15:00:00</th>\n",
       "      <td>50.21</td>\n",
       "      <td>-0.707107</td>\n",
       "      <td>-7.071068e-01</td>\n",
       "      <td>-0.003914</td>\n",
       "      <td>0.999992</td>\n",
       "    </tr>\n",
       "    <tr>\n",
       "      <th>2022-12-31 16:00:00</th>\n",
       "      <td>48.14</td>\n",
       "      <td>-0.866025</td>\n",
       "      <td>-5.000000e-01</td>\n",
       "      <td>-0.003197</td>\n",
       "      <td>0.999995</td>\n",
       "    </tr>\n",
       "    <tr>\n",
       "      <th>2022-12-31 17:00:00</th>\n",
       "      <td>44.33</td>\n",
       "      <td>-0.965926</td>\n",
       "      <td>-2.588190e-01</td>\n",
       "      <td>-0.002480</td>\n",
       "      <td>0.999997</td>\n",
       "    </tr>\n",
       "  </tbody>\n",
       "</table>\n",
       "<p>18061 rows × 5 columns</p>\n",
       "</div>"
      ],
      "text/plain": [
       "                     pm2_5   Day sin       Day cos  Year sin  Year cos\n",
       "date                                                                  \n",
       "2020-12-01 05:00:00   9.31  0.965926  2.588190e-01 -0.495857  0.868404\n",
       "2020-12-01 06:00:00   8.43  1.000000  1.086286e-11 -0.495234  0.868759\n",
       "2020-12-01 07:00:00   8.55  0.965926 -2.588190e-01 -0.494612  0.869114\n",
       "2020-12-01 08:00:00   8.92  0.866025 -5.000000e-01 -0.493988  0.869468\n",
       "2020-12-01 09:00:00   9.62  0.707107 -7.071068e-01 -0.493365  0.869822\n",
       "...                    ...       ...           ...       ...       ...\n",
       "2022-12-31 13:00:00  36.08 -0.258819 -9.659258e-01 -0.005347  0.999986\n",
       "2022-12-31 14:00:00  45.75 -0.500000 -8.660254e-01 -0.004630  0.999989\n",
       "2022-12-31 15:00:00  50.21 -0.707107 -7.071068e-01 -0.003914  0.999992\n",
       "2022-12-31 16:00:00  48.14 -0.866025 -5.000000e-01 -0.003197  0.999995\n",
       "2022-12-31 17:00:00  44.33 -0.965926 -2.588190e-01 -0.002480  0.999997\n",
       "\n",
       "[18061 rows x 5 columns]"
      ]
     },
     "execution_count": 32,
     "metadata": {},
     "output_type": "execute_result"
    }
   ],
   "source": [
    "aqi_df"
   ]
  },
  {
   "attachments": {},
   "cell_type": "markdown",
   "metadata": {},
   "source": [
    "24. This is the same function as before, but it makes it so that there are 8 lists in each array since the window size is 8, and each array has 5 values since we have 5 features now (PM2.5, day sin, day cos, year sin, and year cos)."
   ]
  },
  {
   "cell_type": "code",
   "execution_count": 33,
   "metadata": {},
   "outputs": [],
   "source": [
    "def df_to_X_y2(df, window_size=8):\n",
    "    df_as_np = df.to_numpy()\n",
    "    X = []\n",
    "    y = []\n",
    "    for i in range(len(df_as_np)-window_size):\n",
    "        row = [r for r in df_as_np[i:i+window_size]]\n",
    "        X.append(row)\n",
    "        label = df_as_np[i+window_size][0]\n",
    "        y.append(label)\n",
    "    return np.array(X), np.array(y)"
   ]
  },
  {
   "cell_type": "code",
   "execution_count": 34,
   "metadata": {},
   "outputs": [
    {
     "data": {
      "text/plain": [
       "((18053, 8, 5), (18053,))"
      ]
     },
     "execution_count": 34,
     "metadata": {},
     "output_type": "execute_result"
    }
   ],
   "source": [
    "X2, y2 = df_to_X_y2(aqi_df)\n",
    "X2.shape, y2.shape "
   ]
  },
  {
   "attachments": {},
   "cell_type": "markdown",
   "metadata": {},
   "source": [
    "25. Separate the data into a training set, a validation set, and a testing set. "
   ]
  },
  {
   "cell_type": "code",
   "execution_count": 35,
   "metadata": {},
   "outputs": [
    {
     "data": {
      "text/plain": [
       "((12000, 8, 5), (12000,), (3000, 8, 5), (3000,), (3053, 8, 5), (3053,))"
      ]
     },
     "execution_count": 35,
     "metadata": {},
     "output_type": "execute_result"
    }
   ],
   "source": [
    "X2_train, y2_train = X2[:12000], y2[:12000]\n",
    "X2_val, y2_val = X2[12000:15000], y2[12000:15000]\n",
    "X2_test, y2_test = X2[15000:], y2[15000:]\n",
    "X2_train.shape, y2_train.shape, X2_val.shape, y2_val.shape, X2_test.shape, y2_test.shape"
   ]
  },
  {
   "attachments": {},
   "cell_type": "markdown",
   "metadata": {},
   "source": [
    "26. Standardize the data so that all the values are on a similar scale. "
   ]
  },
  {
   "cell_type": "code",
   "execution_count": 36,
   "metadata": {},
   "outputs": [],
   "source": [
    "pm25_training_mean = np.mean(X2_train[:, :, 0])\n",
    "pm25_training_std = np.std(X2_train[:, :, 0])\n",
    "\n",
    "def preprocess(X):\n",
    "    X[:, :, 0] = (X[:, :, 0] - pm25_training_mean) / pm25_training_std\n",
    "    return X"
   ]
  },
  {
   "cell_type": "code",
   "execution_count": 37,
   "metadata": {},
   "outputs": [
    {
     "data": {
      "text/plain": [
       "array([[[ 7.63055244e-02,  9.65925826e-01,  2.58819045e-01,\n",
       "         -7.79677220e-01, -6.26181629e-01],\n",
       "        [ 4.83556901e-02,  1.00000000e+00,  9.43975630e-12,\n",
       "         -7.80125855e-01, -6.25622610e-01],\n",
       "        [ 2.51796176e-03,  9.65925826e-01, -2.58819045e-01,\n",
       "         -7.80574090e-01, -6.25063269e-01],\n",
       "        ...,\n",
       "        [ 1.07165798e-02,  5.00000000e-01, -8.66025404e-01,\n",
       "         -7.81916387e-01, -6.23383320e-01],\n",
       "        [-6.41889762e-02,  2.58819045e-01, -9.65925826e-01,\n",
       "         -7.82363017e-01, -6.22822696e-01],\n",
       "        [-2.46865437e-02,  1.20031004e-11, -1.00000000e+00,\n",
       "         -7.82809244e-01, -6.22261752e-01]],\n",
       "\n",
       "       [[ 4.83556901e-02,  1.00000000e+00,  9.43975630e-12,\n",
       "         -7.80125855e-01, -6.25622610e-01],\n",
       "        [ 2.51796176e-03,  9.65925826e-01, -2.58819045e-01,\n",
       "         -7.80574090e-01, -6.25063269e-01],\n",
       "        [-2.65498660e-02,  8.66025404e-01, -5.00000000e-01,\n",
       "         -7.81021924e-01, -6.24503606e-01],\n",
       "        ...,\n",
       "        [-6.41889762e-02,  2.58819045e-01, -9.65925826e-01,\n",
       "         -7.82363017e-01, -6.22822696e-01],\n",
       "        [-2.46865437e-02,  1.20031004e-11, -1.00000000e+00,\n",
       "         -7.82809244e-01, -6.22261752e-01],\n",
       "        [ 3.19584539e-02, -2.58819045e-01, -9.65925826e-01,\n",
       "         -7.83255069e-01, -6.21700488e-01]],\n",
       "\n",
       "       [[ 2.51796176e-03,  9.65925826e-01, -2.58819045e-01,\n",
       "         -7.80574090e-01, -6.25063269e-01],\n",
       "        [-2.65498660e-02,  8.66025404e-01, -5.00000000e-01,\n",
       "         -7.81021924e-01, -6.24503606e-01],\n",
       "        [-7.54397861e-03,  7.07106781e-01, -7.07106781e-01,\n",
       "         -7.81469356e-01, -6.23943623e-01],\n",
       "        ...,\n",
       "        [-2.46865437e-02,  1.20031004e-11, -1.00000000e+00,\n",
       "         -7.82809244e-01, -6.22261752e-01],\n",
       "        [ 3.19584539e-02, -2.58819045e-01, -9.65925826e-01,\n",
       "         -7.83255069e-01, -6.21700488e-01],\n",
       "        [ 1.41894469e-01, -5.00000000e-01, -8.66025404e-01,\n",
       "         -7.83700492e-01, -6.21138905e-01]],\n",
       "\n",
       "       ...,\n",
       "\n",
       "       [[-2.20778925e-02,  9.65925826e-01, -2.58819045e-01,\n",
       "         -9.64774114e-03,  9.99953459e-01],\n",
       "        [-7.27602588e-02,  8.66025404e-01, -5.00000000e-01,\n",
       "         -8.93098970e-03,  9.99960118e-01],\n",
       "        [-8.54308503e-02,  7.07106781e-01, -7.07106781e-01,\n",
       "         -8.21423368e-03,  9.99966263e-01],\n",
       "        ...,\n",
       "        [ 2.34687919e-01,  6.16585827e-12, -1.00000000e+00,\n",
       "         -6.06394176e-03,  9.99981614e-01],\n",
       "        [ 6.52817441e-01, -2.58819045e-01, -9.65925826e-01,\n",
       "         -5.34717106e-03,  9.99985704e-01],\n",
       "        [ 1.01318397e+00, -5.00000000e-01, -8.66025404e-01,\n",
       "         -4.63039762e-03,  9.99989280e-01]],\n",
       "\n",
       "       [[-7.27602588e-02,  8.66025404e-01, -5.00000000e-01,\n",
       "         -8.93098970e-03,  9.99960118e-01],\n",
       "        [-8.54308503e-02,  7.07106781e-01, -7.07106781e-01,\n",
       "         -8.21423368e-03,  9.99966263e-01],\n",
       "        [-7.68595678e-02,  5.00000000e-01, -8.66025404e-01,\n",
       "         -7.49747343e-03,  9.99971894e-01],\n",
       "        ...,\n",
       "        [ 6.52817441e-01, -2.58819045e-01, -9.65925826e-01,\n",
       "         -5.34717106e-03,  9.99985704e-01],\n",
       "        [ 1.01318397e+00, -5.00000000e-01, -8.66025404e-01,\n",
       "         -4.63039762e-03,  9.99989280e-01],\n",
       "        [ 1.17939232e+00, -7.07106781e-01, -7.07106781e-01,\n",
       "         -3.91362179e-03,  9.99992342e-01]],\n",
       "\n",
       "       [[-8.54308503e-02,  7.07106781e-01, -7.07106781e-01,\n",
       "         -8.21423368e-03,  9.99966263e-01],\n",
       "        [-7.68595678e-02,  5.00000000e-01, -8.66025404e-01,\n",
       "         -7.49747343e-03,  9.99971894e-01],\n",
       "        [-2.76678593e-02,  2.58819045e-01, -9.65925826e-01,\n",
       "         -6.78070934e-03,  9.99977011e-01],\n",
       "        ...,\n",
       "        [ 1.01318397e+00, -5.00000000e-01, -8.66025404e-01,\n",
       "         -4.63039762e-03,  9.99989280e-01],\n",
       "        [ 1.17939232e+00, -7.07106781e-01, -7.07106781e-01,\n",
       "         -3.91362179e-03,  9.99992342e-01],\n",
       "        [ 1.10225078e+00, -8.66025404e-01, -5.00000000e-01,\n",
       "         -3.19684396e-03,  9.99994890e-01]]])"
      ]
     },
     "execution_count": 37,
     "metadata": {},
     "output_type": "execute_result"
    }
   ],
   "source": [
    "preprocess(X2_train)\n",
    "preprocess(X2_val)\n",
    "preprocess(X2_test)"
   ]
  },
  {
   "attachments": {},
   "cell_type": "markdown",
   "metadata": {},
   "source": [
    "27. Create the model, everything stays the same as the first attempt but the InputLayer since the dimensions have now changed because we added those extra time features. "
   ]
  },
  {
   "cell_type": "code",
   "execution_count": 38,
   "metadata": {},
   "outputs": [
    {
     "name": "stdout",
     "output_type": "stream",
     "text": [
      "Model: \"sequential_1\"\n",
      "_________________________________________________________________\n",
      " Layer (type)                Output Shape              Param #   \n",
      "=================================================================\n",
      " lstm_1 (LSTM)               (None, 64)                17920     \n",
      "                                                                 \n",
      " dense_2 (Dense)             (None, 8)                 520       \n",
      "                                                                 \n",
      " dense_3 (Dense)             (None, 1)                 9         \n",
      "                                                                 \n",
      "=================================================================\n",
      "Total params: 18,449\n",
      "Trainable params: 18,449\n",
      "Non-trainable params: 0\n",
      "_________________________________________________________________\n"
     ]
    }
   ],
   "source": [
    "model2 = Sequential()\n",
    "model2.add(InputLayer((8, 5)))\n",
    "model2.add(LSTM(64))\n",
    "model2.add(Dense(8,'relu'))\n",
    "model2.add(Dense(1,'linear'))\n",
    "\n",
    "model2.summary()"
   ]
  },
  {
   "attachments": {},
   "cell_type": "markdown",
   "metadata": {},
   "source": [
    "28. Create the checkpoint to save the best model."
   ]
  },
  {
   "cell_type": "code",
   "execution_count": 39,
   "metadata": {},
   "outputs": [],
   "source": [
    "cp2 = ModelCheckpoint('model2/',save_best_only=True)\n",
    "model2.compile(loss=MeanSquaredError(), optimizer = Adam(learning_rate=0.0001), metrics=RootMeanSquaredError())"
   ]
  },
  {
   "attachments": {},
   "cell_type": "markdown",
   "metadata": {},
   "source": [
    "29. Fit the model."
   ]
  },
  {
   "cell_type": "code",
   "execution_count": 40,
   "metadata": {},
   "outputs": [
    {
     "name": "stdout",
     "output_type": "stream",
     "text": [
      "Epoch 1/50\n",
      "365/375 [============================>.] - ETA: 0s - loss: 1061.3296 - root_mean_squared_error: 32.5781"
     ]
    },
    {
     "name": "stderr",
     "output_type": "stream",
     "text": [
      "WARNING:absl:Found untraced functions such as lstm_cell_2_layer_call_fn, lstm_cell_2_layer_call_and_return_conditional_losses while saving (showing 2 of 2). These functions will not be directly callable after loading.\n"
     ]
    },
    {
     "name": "stdout",
     "output_type": "stream",
     "text": [
      "INFO:tensorflow:Assets written to: model2\\assets\n"
     ]
    },
    {
     "name": "stderr",
     "output_type": "stream",
     "text": [
      "INFO:tensorflow:Assets written to: model2\\assets\n"
     ]
    },
    {
     "name": "stdout",
     "output_type": "stream",
     "text": [
      "375/375 [==============================] - 5s 12ms/step - loss: 1055.7140 - root_mean_squared_error: 32.4918 - val_loss: 235.7178 - val_root_mean_squared_error: 15.3531\n",
      "Epoch 2/50\n",
      "367/375 [============================>.] - ETA: 0s - loss: 915.6664 - root_mean_squared_error: 30.2600"
     ]
    },
    {
     "name": "stderr",
     "output_type": "stream",
     "text": [
      "WARNING:absl:Found untraced functions such as lstm_cell_2_layer_call_fn, lstm_cell_2_layer_call_and_return_conditional_losses while saving (showing 2 of 2). These functions will not be directly callable after loading.\n"
     ]
    },
    {
     "name": "stdout",
     "output_type": "stream",
     "text": [
      "INFO:tensorflow:Assets written to: model2\\assets\n"
     ]
    },
    {
     "name": "stderr",
     "output_type": "stream",
     "text": [
      "INFO:tensorflow:Assets written to: model2\\assets\n"
     ]
    },
    {
     "name": "stdout",
     "output_type": "stream",
     "text": [
      "375/375 [==============================] - 4s 12ms/step - loss: 905.1529 - root_mean_squared_error: 30.0858 - val_loss: 117.0269 - val_root_mean_squared_error: 10.8179\n",
      "Epoch 3/50\n",
      "369/375 [============================>.] - ETA: 0s - loss: 793.2589 - root_mean_squared_error: 28.1649"
     ]
    },
    {
     "name": "stderr",
     "output_type": "stream",
     "text": [
      "WARNING:absl:Found untraced functions such as lstm_cell_2_layer_call_fn, lstm_cell_2_layer_call_and_return_conditional_losses while saving (showing 2 of 2). These functions will not be directly callable after loading.\n"
     ]
    },
    {
     "name": "stdout",
     "output_type": "stream",
     "text": [
      "INFO:tensorflow:Assets written to: model2\\assets\n"
     ]
    },
    {
     "name": "stderr",
     "output_type": "stream",
     "text": [
      "INFO:tensorflow:Assets written to: model2\\assets\n"
     ]
    },
    {
     "name": "stdout",
     "output_type": "stream",
     "text": [
      "375/375 [==============================] - 4s 12ms/step - loss: 792.5523 - root_mean_squared_error: 28.1523 - val_loss: 98.4469 - val_root_mean_squared_error: 9.9220\n",
      "Epoch 4/50\n",
      "361/375 [===========================>..] - ETA: 0s - loss: 739.2818 - root_mean_squared_error: 27.1897"
     ]
    },
    {
     "name": "stderr",
     "output_type": "stream",
     "text": [
      "WARNING:absl:Found untraced functions such as lstm_cell_2_layer_call_fn, lstm_cell_2_layer_call_and_return_conditional_losses while saving (showing 2 of 2). These functions will not be directly callable after loading.\n"
     ]
    },
    {
     "name": "stdout",
     "output_type": "stream",
     "text": [
      "INFO:tensorflow:Assets written to: model2\\assets\n"
     ]
    },
    {
     "name": "stderr",
     "output_type": "stream",
     "text": [
      "INFO:tensorflow:Assets written to: model2\\assets\n"
     ]
    },
    {
     "name": "stdout",
     "output_type": "stream",
     "text": [
      "375/375 [==============================] - 5s 12ms/step - loss: 731.1302 - root_mean_squared_error: 27.0394 - val_loss: 83.9923 - val_root_mean_squared_error: 9.1647\n",
      "Epoch 5/50\n",
      "366/375 [============================>.] - ETA: 0s - loss: 683.3988 - root_mean_squared_error: 26.1419"
     ]
    },
    {
     "name": "stderr",
     "output_type": "stream",
     "text": [
      "WARNING:absl:Found untraced functions such as lstm_cell_2_layer_call_fn, lstm_cell_2_layer_call_and_return_conditional_losses while saving (showing 2 of 2). These functions will not be directly callable after loading.\n"
     ]
    },
    {
     "name": "stdout",
     "output_type": "stream",
     "text": [
      "INFO:tensorflow:Assets written to: model2\\assets\n"
     ]
    },
    {
     "name": "stderr",
     "output_type": "stream",
     "text": [
      "INFO:tensorflow:Assets written to: model2\\assets\n"
     ]
    },
    {
     "name": "stdout",
     "output_type": "stream",
     "text": [
      "375/375 [==============================] - 4s 11ms/step - loss: 679.6935 - root_mean_squared_error: 26.0709 - val_loss: 79.7502 - val_root_mean_squared_error: 8.9303\n",
      "Epoch 6/50\n",
      "361/375 [===========================>..] - ETA: 0s - loss: 644.6014 - root_mean_squared_error: 25.3890"
     ]
    },
    {
     "name": "stderr",
     "output_type": "stream",
     "text": [
      "WARNING:absl:Found untraced functions such as lstm_cell_2_layer_call_fn, lstm_cell_2_layer_call_and_return_conditional_losses while saving (showing 2 of 2). These functions will not be directly callable after loading.\n"
     ]
    },
    {
     "name": "stdout",
     "output_type": "stream",
     "text": [
      "INFO:tensorflow:Assets written to: model2\\assets\n"
     ]
    },
    {
     "name": "stderr",
     "output_type": "stream",
     "text": [
      "INFO:tensorflow:Assets written to: model2\\assets\n"
     ]
    },
    {
     "name": "stdout",
     "output_type": "stream",
     "text": [
      "375/375 [==============================] - 4s 12ms/step - loss: 636.8136 - root_mean_squared_error: 25.2352 - val_loss: 75.7298 - val_root_mean_squared_error: 8.7023\n",
      "Epoch 7/50\n",
      "362/375 [===========================>..] - ETA: 0s - loss: 591.0374 - root_mean_squared_error: 24.3113"
     ]
    },
    {
     "name": "stderr",
     "output_type": "stream",
     "text": [
      "WARNING:absl:Found untraced functions such as lstm_cell_2_layer_call_fn, lstm_cell_2_layer_call_and_return_conditional_losses while saving (showing 2 of 2). These functions will not be directly callable after loading.\n"
     ]
    },
    {
     "name": "stdout",
     "output_type": "stream",
     "text": [
      "INFO:tensorflow:Assets written to: model2\\assets\n"
     ]
    },
    {
     "name": "stderr",
     "output_type": "stream",
     "text": [
      "INFO:tensorflow:Assets written to: model2\\assets\n"
     ]
    },
    {
     "name": "stdout",
     "output_type": "stream",
     "text": [
      "375/375 [==============================] - 4s 11ms/step - loss: 596.2266 - root_mean_squared_error: 24.4178 - val_loss: 69.6186 - val_root_mean_squared_error: 8.3438\n",
      "Epoch 8/50\n",
      "365/375 [============================>.] - ETA: 0s - loss: 553.9276 - root_mean_squared_error: 23.5357"
     ]
    },
    {
     "name": "stderr",
     "output_type": "stream",
     "text": [
      "WARNING:absl:Found untraced functions such as lstm_cell_2_layer_call_fn, lstm_cell_2_layer_call_and_return_conditional_losses while saving (showing 2 of 2). These functions will not be directly callable after loading.\n"
     ]
    },
    {
     "name": "stdout",
     "output_type": "stream",
     "text": [
      "INFO:tensorflow:Assets written to: model2\\assets\n"
     ]
    },
    {
     "name": "stderr",
     "output_type": "stream",
     "text": [
      "INFO:tensorflow:Assets written to: model2\\assets\n"
     ]
    },
    {
     "name": "stdout",
     "output_type": "stream",
     "text": [
      "375/375 [==============================] - 5s 13ms/step - loss: 556.2819 - root_mean_squared_error: 23.5856 - val_loss: 63.8052 - val_root_mean_squared_error: 7.9878\n",
      "Epoch 9/50\n",
      "372/375 [============================>.] - ETA: 0s - loss: 519.0756 - root_mean_squared_error: 22.7832"
     ]
    },
    {
     "name": "stderr",
     "output_type": "stream",
     "text": [
      "WARNING:absl:Found untraced functions such as lstm_cell_2_layer_call_fn, lstm_cell_2_layer_call_and_return_conditional_losses while saving (showing 2 of 2). These functions will not be directly callable after loading.\n"
     ]
    },
    {
     "name": "stdout",
     "output_type": "stream",
     "text": [
      "INFO:tensorflow:Assets written to: model2\\assets\n"
     ]
    },
    {
     "name": "stderr",
     "output_type": "stream",
     "text": [
      "INFO:tensorflow:Assets written to: model2\\assets\n"
     ]
    },
    {
     "name": "stdout",
     "output_type": "stream",
     "text": [
      "375/375 [==============================] - 4s 12ms/step - loss: 516.1091 - root_mean_squared_error: 22.7180 - val_loss: 55.6707 - val_root_mean_squared_error: 7.4613\n",
      "Epoch 10/50\n",
      "363/375 [============================>.] - ETA: 0s - loss: 480.7940 - root_mean_squared_error: 21.9270"
     ]
    },
    {
     "name": "stderr",
     "output_type": "stream",
     "text": [
      "WARNING:absl:Found untraced functions such as lstm_cell_2_layer_call_fn, lstm_cell_2_layer_call_and_return_conditional_losses while saving (showing 2 of 2). These functions will not be directly callable after loading.\n"
     ]
    },
    {
     "name": "stdout",
     "output_type": "stream",
     "text": [
      "INFO:tensorflow:Assets written to: model2\\assets\n"
     ]
    },
    {
     "name": "stderr",
     "output_type": "stream",
     "text": [
      "INFO:tensorflow:Assets written to: model2\\assets\n"
     ]
    },
    {
     "name": "stdout",
     "output_type": "stream",
     "text": [
      "375/375 [==============================] - 5s 13ms/step - loss: 477.4693 - root_mean_squared_error: 21.8511 - val_loss: 49.4326 - val_root_mean_squared_error: 7.0308\n",
      "Epoch 11/50\n",
      "364/375 [============================>.] - ETA: 0s - loss: 445.5125 - root_mean_squared_error: 21.1072"
     ]
    },
    {
     "name": "stderr",
     "output_type": "stream",
     "text": [
      "WARNING:absl:Found untraced functions such as lstm_cell_2_layer_call_fn, lstm_cell_2_layer_call_and_return_conditional_losses while saving (showing 2 of 2). These functions will not be directly callable after loading.\n"
     ]
    },
    {
     "name": "stdout",
     "output_type": "stream",
     "text": [
      "INFO:tensorflow:Assets written to: model2\\assets\n"
     ]
    },
    {
     "name": "stderr",
     "output_type": "stream",
     "text": [
      "INFO:tensorflow:Assets written to: model2\\assets\n"
     ]
    },
    {
     "name": "stdout",
     "output_type": "stream",
     "text": [
      "375/375 [==============================] - 4s 12ms/step - loss: 441.5616 - root_mean_squared_error: 21.0134 - val_loss: 43.8904 - val_root_mean_squared_error: 6.6250\n",
      "Epoch 12/50\n",
      "372/375 [============================>.] - ETA: 0s - loss: 405.5172 - root_mean_squared_error: 20.1375"
     ]
    },
    {
     "name": "stderr",
     "output_type": "stream",
     "text": [
      "WARNING:absl:Found untraced functions such as lstm_cell_2_layer_call_fn, lstm_cell_2_layer_call_and_return_conditional_losses while saving (showing 2 of 2). These functions will not be directly callable after loading.\n"
     ]
    },
    {
     "name": "stdout",
     "output_type": "stream",
     "text": [
      "INFO:tensorflow:Assets written to: model2\\assets\n"
     ]
    },
    {
     "name": "stderr",
     "output_type": "stream",
     "text": [
      "INFO:tensorflow:Assets written to: model2\\assets\n"
     ]
    },
    {
     "name": "stdout",
     "output_type": "stream",
     "text": [
      "375/375 [==============================] - 4s 12ms/step - loss: 407.8955 - root_mean_squared_error: 20.1964 - val_loss: 40.1828 - val_root_mean_squared_error: 6.3390\n",
      "Epoch 13/50\n",
      "362/375 [===========================>..] - ETA: 0s - loss: 377.5578 - root_mean_squared_error: 19.4308"
     ]
    },
    {
     "name": "stderr",
     "output_type": "stream",
     "text": [
      "WARNING:absl:Found untraced functions such as lstm_cell_2_layer_call_fn, lstm_cell_2_layer_call_and_return_conditional_losses while saving (showing 2 of 2). These functions will not be directly callable after loading.\n"
     ]
    },
    {
     "name": "stdout",
     "output_type": "stream",
     "text": [
      "INFO:tensorflow:Assets written to: model2\\assets\n"
     ]
    },
    {
     "name": "stderr",
     "output_type": "stream",
     "text": [
      "INFO:tensorflow:Assets written to: model2\\assets\n"
     ]
    },
    {
     "name": "stdout",
     "output_type": "stream",
     "text": [
      "375/375 [==============================] - 4s 12ms/step - loss: 376.2623 - root_mean_squared_error: 19.3975 - val_loss: 36.7439 - val_root_mean_squared_error: 6.0617\n",
      "Epoch 14/50\n",
      "372/375 [============================>.] - ETA: 0s - loss: 348.7249 - root_mean_squared_error: 18.6742"
     ]
    },
    {
     "name": "stderr",
     "output_type": "stream",
     "text": [
      "WARNING:absl:Found untraced functions such as lstm_cell_2_layer_call_fn, lstm_cell_2_layer_call_and_return_conditional_losses while saving (showing 2 of 2). These functions will not be directly callable after loading.\n"
     ]
    },
    {
     "name": "stdout",
     "output_type": "stream",
     "text": [
      "INFO:tensorflow:Assets written to: model2\\assets\n"
     ]
    },
    {
     "name": "stderr",
     "output_type": "stream",
     "text": [
      "INFO:tensorflow:Assets written to: model2\\assets\n"
     ]
    },
    {
     "name": "stdout",
     "output_type": "stream",
     "text": [
      "375/375 [==============================] - 5s 12ms/step - loss: 346.6588 - root_mean_squared_error: 18.6188 - val_loss: 33.3677 - val_root_mean_squared_error: 5.7765\n",
      "Epoch 15/50\n",
      "368/375 [============================>.] - ETA: 0s - loss: 321.1473 - root_mean_squared_error: 17.9206"
     ]
    },
    {
     "name": "stderr",
     "output_type": "stream",
     "text": [
      "WARNING:absl:Found untraced functions such as lstm_cell_2_layer_call_fn, lstm_cell_2_layer_call_and_return_conditional_losses while saving (showing 2 of 2). These functions will not be directly callable after loading.\n"
     ]
    },
    {
     "name": "stdout",
     "output_type": "stream",
     "text": [
      "INFO:tensorflow:Assets written to: model2\\assets\n"
     ]
    },
    {
     "name": "stderr",
     "output_type": "stream",
     "text": [
      "INFO:tensorflow:Assets written to: model2\\assets\n"
     ]
    },
    {
     "name": "stdout",
     "output_type": "stream",
     "text": [
      "375/375 [==============================] - 5s 12ms/step - loss: 318.7524 - root_mean_squared_error: 17.8536 - val_loss: 28.7060 - val_root_mean_squared_error: 5.3578\n",
      "Epoch 16/50\n",
      "364/375 [============================>.] - ETA: 0s - loss: 291.9092 - root_mean_squared_error: 17.0854"
     ]
    },
    {
     "name": "stderr",
     "output_type": "stream",
     "text": [
      "WARNING:absl:Found untraced functions such as lstm_cell_2_layer_call_fn, lstm_cell_2_layer_call_and_return_conditional_losses while saving (showing 2 of 2). These functions will not be directly callable after loading.\n"
     ]
    },
    {
     "name": "stdout",
     "output_type": "stream",
     "text": [
      "INFO:tensorflow:Assets written to: model2\\assets\n"
     ]
    },
    {
     "name": "stderr",
     "output_type": "stream",
     "text": [
      "INFO:tensorflow:Assets written to: model2\\assets\n"
     ]
    },
    {
     "name": "stdout",
     "output_type": "stream",
     "text": [
      "375/375 [==============================] - 4s 12ms/step - loss: 293.2596 - root_mean_squared_error: 17.1248 - val_loss: 26.4800 - val_root_mean_squared_error: 5.1459\n",
      "Epoch 17/50\n",
      "362/375 [===========================>..] - ETA: 0s - loss: 272.6180 - root_mean_squared_error: 16.5111"
     ]
    },
    {
     "name": "stderr",
     "output_type": "stream",
     "text": [
      "WARNING:absl:Found untraced functions such as lstm_cell_2_layer_call_fn, lstm_cell_2_layer_call_and_return_conditional_losses while saving (showing 2 of 2). These functions will not be directly callable after loading.\n"
     ]
    },
    {
     "name": "stdout",
     "output_type": "stream",
     "text": [
      "INFO:tensorflow:Assets written to: model2\\assets\n"
     ]
    },
    {
     "name": "stderr",
     "output_type": "stream",
     "text": [
      "INFO:tensorflow:Assets written to: model2\\assets\n"
     ]
    },
    {
     "name": "stdout",
     "output_type": "stream",
     "text": [
      "375/375 [==============================] - 5s 13ms/step - loss: 269.9842 - root_mean_squared_error: 16.4312 - val_loss: 24.3526 - val_root_mean_squared_error: 4.9348\n",
      "Epoch 18/50\n",
      "375/375 [==============================] - ETA: 0s - loss: 249.1600 - root_mean_squared_error: 15.7848"
     ]
    },
    {
     "name": "stderr",
     "output_type": "stream",
     "text": [
      "WARNING:absl:Found untraced functions such as lstm_cell_2_layer_call_fn, lstm_cell_2_layer_call_and_return_conditional_losses while saving (showing 2 of 2). These functions will not be directly callable after loading.\n"
     ]
    },
    {
     "name": "stdout",
     "output_type": "stream",
     "text": [
      "INFO:tensorflow:Assets written to: model2\\assets\n"
     ]
    },
    {
     "name": "stderr",
     "output_type": "stream",
     "text": [
      "INFO:tensorflow:Assets written to: model2\\assets\n"
     ]
    },
    {
     "name": "stdout",
     "output_type": "stream",
     "text": [
      "375/375 [==============================] - 5s 12ms/step - loss: 249.1600 - root_mean_squared_error: 15.7848 - val_loss: 21.9719 - val_root_mean_squared_error: 4.6874\n",
      "Epoch 19/50\n",
      "373/375 [============================>.] - ETA: 0s - loss: 230.6013 - root_mean_squared_error: 15.1856"
     ]
    },
    {
     "name": "stderr",
     "output_type": "stream",
     "text": [
      "WARNING:absl:Found untraced functions such as lstm_cell_2_layer_call_fn, lstm_cell_2_layer_call_and_return_conditional_losses while saving (showing 2 of 2). These functions will not be directly callable after loading.\n"
     ]
    },
    {
     "name": "stdout",
     "output_type": "stream",
     "text": [
      "INFO:tensorflow:Assets written to: model2\\assets\n"
     ]
    },
    {
     "name": "stderr",
     "output_type": "stream",
     "text": [
      "INFO:tensorflow:Assets written to: model2\\assets\n"
     ]
    },
    {
     "name": "stdout",
     "output_type": "stream",
     "text": [
      "375/375 [==============================] - 5s 13ms/step - loss: 229.9219 - root_mean_squared_error: 15.1632 - val_loss: 20.5493 - val_root_mean_squared_error: 4.5331\n",
      "Epoch 20/50\n",
      "364/375 [============================>.] - ETA: 0s - loss: 213.6753 - root_mean_squared_error: 14.6176"
     ]
    },
    {
     "name": "stderr",
     "output_type": "stream",
     "text": [
      "WARNING:absl:Found untraced functions such as lstm_cell_2_layer_call_fn, lstm_cell_2_layer_call_and_return_conditional_losses while saving (showing 2 of 2). These functions will not be directly callable after loading.\n"
     ]
    },
    {
     "name": "stdout",
     "output_type": "stream",
     "text": [
      "INFO:tensorflow:Assets written to: model2\\assets\n"
     ]
    },
    {
     "name": "stderr",
     "output_type": "stream",
     "text": [
      "INFO:tensorflow:Assets written to: model2\\assets\n"
     ]
    },
    {
     "name": "stdout",
     "output_type": "stream",
     "text": [
      "375/375 [==============================] - 5s 12ms/step - loss: 212.5692 - root_mean_squared_error: 14.5798 - val_loss: 18.6678 - val_root_mean_squared_error: 4.3206\n",
      "Epoch 21/50\n",
      "372/375 [============================>.] - ETA: 0s - loss: 194.9810 - root_mean_squared_error: 13.9636"
     ]
    },
    {
     "name": "stderr",
     "output_type": "stream",
     "text": [
      "WARNING:absl:Found untraced functions such as lstm_cell_2_layer_call_fn, lstm_cell_2_layer_call_and_return_conditional_losses while saving (showing 2 of 2). These functions will not be directly callable after loading.\n"
     ]
    },
    {
     "name": "stdout",
     "output_type": "stream",
     "text": [
      "INFO:tensorflow:Assets written to: model2\\assets\n"
     ]
    },
    {
     "name": "stderr",
     "output_type": "stream",
     "text": [
      "INFO:tensorflow:Assets written to: model2\\assets\n"
     ]
    },
    {
     "name": "stdout",
     "output_type": "stream",
     "text": [
      "375/375 [==============================] - 5s 13ms/step - loss: 196.4325 - root_mean_squared_error: 14.0154 - val_loss: 17.0380 - val_root_mean_squared_error: 4.1277\n",
      "Epoch 22/50\n",
      "368/375 [============================>.] - ETA: 0s - loss: 177.3093 - root_mean_squared_error: 13.3158"
     ]
    },
    {
     "name": "stderr",
     "output_type": "stream",
     "text": [
      "WARNING:absl:Found untraced functions such as lstm_cell_2_layer_call_fn, lstm_cell_2_layer_call_and_return_conditional_losses while saving (showing 2 of 2). These functions will not be directly callable after loading.\n"
     ]
    },
    {
     "name": "stdout",
     "output_type": "stream",
     "text": [
      "INFO:tensorflow:Assets written to: model2\\assets\n"
     ]
    },
    {
     "name": "stderr",
     "output_type": "stream",
     "text": [
      "INFO:tensorflow:Assets written to: model2\\assets\n"
     ]
    },
    {
     "name": "stdout",
     "output_type": "stream",
     "text": [
      "375/375 [==============================] - 5s 14ms/step - loss: 181.6924 - root_mean_squared_error: 13.4793 - val_loss: 15.7427 - val_root_mean_squared_error: 3.9677\n",
      "Epoch 23/50\n",
      "375/375 [==============================] - ETA: 0s - loss: 168.2686 - root_mean_squared_error: 12.9718"
     ]
    },
    {
     "name": "stderr",
     "output_type": "stream",
     "text": [
      "WARNING:absl:Found untraced functions such as lstm_cell_2_layer_call_fn, lstm_cell_2_layer_call_and_return_conditional_losses while saving (showing 2 of 2). These functions will not be directly callable after loading.\n"
     ]
    },
    {
     "name": "stdout",
     "output_type": "stream",
     "text": [
      "INFO:tensorflow:Assets written to: model2\\assets\n"
     ]
    },
    {
     "name": "stderr",
     "output_type": "stream",
     "text": [
      "INFO:tensorflow:Assets written to: model2\\assets\n"
     ]
    },
    {
     "name": "stdout",
     "output_type": "stream",
     "text": [
      "375/375 [==============================] - 5s 14ms/step - loss: 168.2686 - root_mean_squared_error: 12.9718 - val_loss: 14.4672 - val_root_mean_squared_error: 3.8036\n",
      "Epoch 24/50\n",
      "372/375 [============================>.] - ETA: 0s - loss: 156.0143 - root_mean_squared_error: 12.4906"
     ]
    },
    {
     "name": "stderr",
     "output_type": "stream",
     "text": [
      "WARNING:absl:Found untraced functions such as lstm_cell_2_layer_call_fn, lstm_cell_2_layer_call_and_return_conditional_losses while saving (showing 2 of 2). These functions will not be directly callable after loading.\n"
     ]
    },
    {
     "name": "stdout",
     "output_type": "stream",
     "text": [
      "INFO:tensorflow:Assets written to: model2\\assets\n"
     ]
    },
    {
     "name": "stderr",
     "output_type": "stream",
     "text": [
      "INFO:tensorflow:Assets written to: model2\\assets\n"
     ]
    },
    {
     "name": "stdout",
     "output_type": "stream",
     "text": [
      "375/375 [==============================] - 5s 13ms/step - loss: 156.1369 - root_mean_squared_error: 12.4955 - val_loss: 13.7648 - val_root_mean_squared_error: 3.7101\n",
      "Epoch 25/50\n",
      "364/375 [============================>.] - ETA: 0s - loss: 142.4126 - root_mean_squared_error: 11.9337"
     ]
    },
    {
     "name": "stderr",
     "output_type": "stream",
     "text": [
      "WARNING:absl:Found untraced functions such as lstm_cell_2_layer_call_fn, lstm_cell_2_layer_call_and_return_conditional_losses while saving (showing 2 of 2). These functions will not be directly callable after loading.\n"
     ]
    },
    {
     "name": "stdout",
     "output_type": "stream",
     "text": [
      "INFO:tensorflow:Assets written to: model2\\assets\n"
     ]
    },
    {
     "name": "stderr",
     "output_type": "stream",
     "text": [
      "INFO:tensorflow:Assets written to: model2\\assets\n"
     ]
    },
    {
     "name": "stdout",
     "output_type": "stream",
     "text": [
      "375/375 [==============================] - 5s 14ms/step - loss: 145.0992 - root_mean_squared_error: 12.0457 - val_loss: 12.9035 - val_root_mean_squared_error: 3.5921\n",
      "Epoch 26/50\n",
      "375/375 [==============================] - ETA: 0s - loss: 135.0758 - root_mean_squared_error: 11.6222"
     ]
    },
    {
     "name": "stderr",
     "output_type": "stream",
     "text": [
      "WARNING:absl:Found untraced functions such as lstm_cell_2_layer_call_fn, lstm_cell_2_layer_call_and_return_conditional_losses while saving (showing 2 of 2). These functions will not be directly callable after loading.\n"
     ]
    },
    {
     "name": "stdout",
     "output_type": "stream",
     "text": [
      "INFO:tensorflow:Assets written to: model2\\assets\n"
     ]
    },
    {
     "name": "stderr",
     "output_type": "stream",
     "text": [
      "INFO:tensorflow:Assets written to: model2\\assets\n"
     ]
    },
    {
     "name": "stdout",
     "output_type": "stream",
     "text": [
      "375/375 [==============================] - 5s 14ms/step - loss: 135.0758 - root_mean_squared_error: 11.6222 - val_loss: 12.7196 - val_root_mean_squared_error: 3.5665\n",
      "Epoch 27/50\n",
      "367/375 [============================>.] - ETA: 0s - loss: 126.1694 - root_mean_squared_error: 11.2325"
     ]
    },
    {
     "name": "stderr",
     "output_type": "stream",
     "text": [
      "WARNING:absl:Found untraced functions such as lstm_cell_2_layer_call_fn, lstm_cell_2_layer_call_and_return_conditional_losses while saving (showing 2 of 2). These functions will not be directly callable after loading.\n"
     ]
    },
    {
     "name": "stdout",
     "output_type": "stream",
     "text": [
      "INFO:tensorflow:Assets written to: model2\\assets\n"
     ]
    },
    {
     "name": "stderr",
     "output_type": "stream",
     "text": [
      "INFO:tensorflow:Assets written to: model2\\assets\n"
     ]
    },
    {
     "name": "stdout",
     "output_type": "stream",
     "text": [
      "375/375 [==============================] - 6s 15ms/step - loss: 125.9486 - root_mean_squared_error: 11.2227 - val_loss: 11.8129 - val_root_mean_squared_error: 3.4370\n",
      "Epoch 28/50\n",
      "374/375 [============================>.] - ETA: 0s - loss: 117.6688 - root_mean_squared_error: 10.8475"
     ]
    },
    {
     "name": "stderr",
     "output_type": "stream",
     "text": [
      "WARNING:absl:Found untraced functions such as lstm_cell_2_layer_call_fn, lstm_cell_2_layer_call_and_return_conditional_losses while saving (showing 2 of 2). These functions will not be directly callable after loading.\n"
     ]
    },
    {
     "name": "stdout",
     "output_type": "stream",
     "text": [
      "INFO:tensorflow:Assets written to: model2\\assets\n"
     ]
    },
    {
     "name": "stderr",
     "output_type": "stream",
     "text": [
      "INFO:tensorflow:Assets written to: model2\\assets\n"
     ]
    },
    {
     "name": "stdout",
     "output_type": "stream",
     "text": [
      "375/375 [==============================] - 5s 15ms/step - loss: 117.5295 - root_mean_squared_error: 10.8411 - val_loss: 11.2182 - val_root_mean_squared_error: 3.3494\n",
      "Epoch 29/50\n",
      "370/375 [============================>.] - ETA: 0s - loss: 109.7390 - root_mean_squared_error: 10.4756"
     ]
    },
    {
     "name": "stderr",
     "output_type": "stream",
     "text": [
      "WARNING:absl:Found untraced functions such as lstm_cell_2_layer_call_fn, lstm_cell_2_layer_call_and_return_conditional_losses while saving (showing 2 of 2). These functions will not be directly callable after loading.\n"
     ]
    },
    {
     "name": "stdout",
     "output_type": "stream",
     "text": [
      "INFO:tensorflow:Assets written to: model2\\assets\n"
     ]
    },
    {
     "name": "stderr",
     "output_type": "stream",
     "text": [
      "INFO:tensorflow:Assets written to: model2\\assets\n"
     ]
    },
    {
     "name": "stdout",
     "output_type": "stream",
     "text": [
      "375/375 [==============================] - 5s 15ms/step - loss: 109.9122 - root_mean_squared_error: 10.4839 - val_loss: 10.7516 - val_root_mean_squared_error: 3.2790\n",
      "Epoch 30/50\n",
      "368/375 [============================>.] - ETA: 0s - loss: 104.3570 - root_mean_squared_error: 10.2155"
     ]
    },
    {
     "name": "stderr",
     "output_type": "stream",
     "text": [
      "WARNING:absl:Found untraced functions such as lstm_cell_2_layer_call_fn, lstm_cell_2_layer_call_and_return_conditional_losses while saving (showing 2 of 2). These functions will not be directly callable after loading.\n"
     ]
    },
    {
     "name": "stdout",
     "output_type": "stream",
     "text": [
      "INFO:tensorflow:Assets written to: model2\\assets\n"
     ]
    },
    {
     "name": "stderr",
     "output_type": "stream",
     "text": [
      "INFO:tensorflow:Assets written to: model2\\assets\n"
     ]
    },
    {
     "name": "stdout",
     "output_type": "stream",
     "text": [
      "375/375 [==============================] - 5s 13ms/step - loss: 103.1134 - root_mean_squared_error: 10.1545 - val_loss: 10.5002 - val_root_mean_squared_error: 3.2404\n",
      "Epoch 31/50\n",
      "370/375 [============================>.] - ETA: 0s - loss: 97.6323 - root_mean_squared_error: 9.8809"
     ]
    },
    {
     "name": "stderr",
     "output_type": "stream",
     "text": [
      "WARNING:absl:Found untraced functions such as lstm_cell_2_layer_call_fn, lstm_cell_2_layer_call_and_return_conditional_losses while saving (showing 2 of 2). These functions will not be directly callable after loading.\n"
     ]
    },
    {
     "name": "stdout",
     "output_type": "stream",
     "text": [
      "INFO:tensorflow:Assets written to: model2\\assets\n"
     ]
    },
    {
     "name": "stderr",
     "output_type": "stream",
     "text": [
      "INFO:tensorflow:Assets written to: model2\\assets\n"
     ]
    },
    {
     "name": "stdout",
     "output_type": "stream",
     "text": [
      "375/375 [==============================] - 5s 14ms/step - loss: 96.6868 - root_mean_squared_error: 9.8329 - val_loss: 10.2036 - val_root_mean_squared_error: 3.1943\n",
      "Epoch 32/50\n",
      "369/375 [============================>.] - ETA: 0s - loss: 91.6511 - root_mean_squared_error: 9.5735"
     ]
    },
    {
     "name": "stderr",
     "output_type": "stream",
     "text": [
      "WARNING:absl:Found untraced functions such as lstm_cell_2_layer_call_fn, lstm_cell_2_layer_call_and_return_conditional_losses while saving (showing 2 of 2). These functions will not be directly callable after loading.\n"
     ]
    },
    {
     "name": "stdout",
     "output_type": "stream",
     "text": [
      "INFO:tensorflow:Assets written to: model2\\assets\n"
     ]
    },
    {
     "name": "stderr",
     "output_type": "stream",
     "text": [
      "INFO:tensorflow:Assets written to: model2\\assets\n"
     ]
    },
    {
     "name": "stdout",
     "output_type": "stream",
     "text": [
      "375/375 [==============================] - 5s 13ms/step - loss: 90.8998 - root_mean_squared_error: 9.5341 - val_loss: 9.8441 - val_root_mean_squared_error: 3.1375\n",
      "Epoch 33/50\n",
      "367/375 [============================>.] - ETA: 0s - loss: 86.6475 - root_mean_squared_error: 9.3085"
     ]
    },
    {
     "name": "stderr",
     "output_type": "stream",
     "text": [
      "WARNING:absl:Found untraced functions such as lstm_cell_2_layer_call_fn, lstm_cell_2_layer_call_and_return_conditional_losses while saving (showing 2 of 2). These functions will not be directly callable after loading.\n"
     ]
    },
    {
     "name": "stdout",
     "output_type": "stream",
     "text": [
      "INFO:tensorflow:Assets written to: model2\\assets\n"
     ]
    },
    {
     "name": "stderr",
     "output_type": "stream",
     "text": [
      "INFO:tensorflow:Assets written to: model2\\assets\n"
     ]
    },
    {
     "name": "stdout",
     "output_type": "stream",
     "text": [
      "375/375 [==============================] - 5s 14ms/step - loss: 85.5529 - root_mean_squared_error: 9.2495 - val_loss: 9.6791 - val_root_mean_squared_error: 3.1111\n",
      "Epoch 34/50\n",
      "366/375 [============================>.] - ETA: 0s - loss: 80.4059 - root_mean_squared_error: 8.9669"
     ]
    },
    {
     "name": "stderr",
     "output_type": "stream",
     "text": [
      "WARNING:absl:Found untraced functions such as lstm_cell_2_layer_call_fn, lstm_cell_2_layer_call_and_return_conditional_losses while saving (showing 2 of 2). These functions will not be directly callable after loading.\n"
     ]
    },
    {
     "name": "stdout",
     "output_type": "stream",
     "text": [
      "INFO:tensorflow:Assets written to: model2\\assets\n"
     ]
    },
    {
     "name": "stderr",
     "output_type": "stream",
     "text": [
      "INFO:tensorflow:Assets written to: model2\\assets\n"
     ]
    },
    {
     "name": "stdout",
     "output_type": "stream",
     "text": [
      "375/375 [==============================] - 5s 14ms/step - loss: 80.8108 - root_mean_squared_error: 8.9895 - val_loss: 9.3821 - val_root_mean_squared_error: 3.0630\n",
      "Epoch 35/50\n",
      "375/375 [==============================] - ETA: 0s - loss: 76.4642 - root_mean_squared_error: 8.7444"
     ]
    },
    {
     "name": "stderr",
     "output_type": "stream",
     "text": [
      "WARNING:absl:Found untraced functions such as lstm_cell_2_layer_call_fn, lstm_cell_2_layer_call_and_return_conditional_losses while saving (showing 2 of 2). These functions will not be directly callable after loading.\n"
     ]
    },
    {
     "name": "stdout",
     "output_type": "stream",
     "text": [
      "INFO:tensorflow:Assets written to: model2\\assets\n"
     ]
    },
    {
     "name": "stderr",
     "output_type": "stream",
     "text": [
      "INFO:tensorflow:Assets written to: model2\\assets\n"
     ]
    },
    {
     "name": "stdout",
     "output_type": "stream",
     "text": [
      "375/375 [==============================] - 5s 15ms/step - loss: 76.4642 - root_mean_squared_error: 8.7444 - val_loss: 9.0553 - val_root_mean_squared_error: 3.0092\n",
      "Epoch 36/50\n",
      "372/375 [============================>.] - ETA: 0s - loss: 72.7022 - root_mean_squared_error: 8.5266"
     ]
    },
    {
     "name": "stderr",
     "output_type": "stream",
     "text": [
      "WARNING:absl:Found untraced functions such as lstm_cell_2_layer_call_fn, lstm_cell_2_layer_call_and_return_conditional_losses while saving (showing 2 of 2). These functions will not be directly callable after loading.\n"
     ]
    },
    {
     "name": "stdout",
     "output_type": "stream",
     "text": [
      "INFO:tensorflow:Assets written to: model2\\assets\n"
     ]
    },
    {
     "name": "stderr",
     "output_type": "stream",
     "text": [
      "INFO:tensorflow:Assets written to: model2\\assets\n"
     ]
    },
    {
     "name": "stdout",
     "output_type": "stream",
     "text": [
      "375/375 [==============================] - 5s 13ms/step - loss: 72.4102 - root_mean_squared_error: 8.5094 - val_loss: 8.8699 - val_root_mean_squared_error: 2.9782\n",
      "Epoch 37/50\n",
      "372/375 [============================>.] - ETA: 0s - loss: 65.2537 - root_mean_squared_error: 8.0780"
     ]
    },
    {
     "name": "stderr",
     "output_type": "stream",
     "text": [
      "WARNING:absl:Found untraced functions such as lstm_cell_2_layer_call_fn, lstm_cell_2_layer_call_and_return_conditional_losses while saving (showing 2 of 2). These functions will not be directly callable after loading.\n"
     ]
    },
    {
     "name": "stdout",
     "output_type": "stream",
     "text": [
      "INFO:tensorflow:Assets written to: model2\\assets\n"
     ]
    },
    {
     "name": "stderr",
     "output_type": "stream",
     "text": [
      "INFO:tensorflow:Assets written to: model2\\assets\n"
     ]
    },
    {
     "name": "stdout",
     "output_type": "stream",
     "text": [
      "375/375 [==============================] - 5s 15ms/step - loss: 68.6569 - root_mean_squared_error: 8.2859 - val_loss: 8.6634 - val_root_mean_squared_error: 2.9434\n",
      "Epoch 38/50\n",
      "375/375 [==============================] - ETA: 0s - loss: 65.2820 - root_mean_squared_error: 8.0797"
     ]
    },
    {
     "name": "stderr",
     "output_type": "stream",
     "text": [
      "WARNING:absl:Found untraced functions such as lstm_cell_2_layer_call_fn, lstm_cell_2_layer_call_and_return_conditional_losses while saving (showing 2 of 2). These functions will not be directly callable after loading.\n"
     ]
    },
    {
     "name": "stdout",
     "output_type": "stream",
     "text": [
      "INFO:tensorflow:Assets written to: model2\\assets\n"
     ]
    },
    {
     "name": "stderr",
     "output_type": "stream",
     "text": [
      "INFO:tensorflow:Assets written to: model2\\assets\n"
     ]
    },
    {
     "name": "stdout",
     "output_type": "stream",
     "text": [
      "375/375 [==============================] - 5s 14ms/step - loss: 65.2820 - root_mean_squared_error: 8.0797 - val_loss: 8.6531 - val_root_mean_squared_error: 2.9416\n",
      "Epoch 39/50\n",
      "375/375 [==============================] - ETA: 0s - loss: 62.1370 - root_mean_squared_error: 7.8827"
     ]
    },
    {
     "name": "stderr",
     "output_type": "stream",
     "text": [
      "WARNING:absl:Found untraced functions such as lstm_cell_2_layer_call_fn, lstm_cell_2_layer_call_and_return_conditional_losses while saving (showing 2 of 2). These functions will not be directly callable after loading.\n"
     ]
    },
    {
     "name": "stdout",
     "output_type": "stream",
     "text": [
      "INFO:tensorflow:Assets written to: model2\\assets\n"
     ]
    },
    {
     "name": "stderr",
     "output_type": "stream",
     "text": [
      "INFO:tensorflow:Assets written to: model2\\assets\n"
     ]
    },
    {
     "name": "stdout",
     "output_type": "stream",
     "text": [
      "375/375 [==============================] - 6s 15ms/step - loss: 62.1370 - root_mean_squared_error: 7.8827 - val_loss: 8.4648 - val_root_mean_squared_error: 2.9094\n",
      "Epoch 40/50\n",
      "375/375 [==============================] - 2s 6ms/step - loss: 59.3710 - root_mean_squared_error: 7.7053 - val_loss: 8.4793 - val_root_mean_squared_error: 2.9119\n",
      "Epoch 41/50\n",
      "371/375 [============================>.] - ETA: 0s - loss: 54.3931 - root_mean_squared_error: 7.3752"
     ]
    },
    {
     "name": "stderr",
     "output_type": "stream",
     "text": [
      "WARNING:absl:Found untraced functions such as lstm_cell_2_layer_call_fn, lstm_cell_2_layer_call_and_return_conditional_losses while saving (showing 2 of 2). These functions will not be directly callable after loading.\n"
     ]
    },
    {
     "name": "stdout",
     "output_type": "stream",
     "text": [
      "INFO:tensorflow:Assets written to: model2\\assets\n"
     ]
    },
    {
     "name": "stderr",
     "output_type": "stream",
     "text": [
      "INFO:tensorflow:Assets written to: model2\\assets\n"
     ]
    },
    {
     "name": "stdout",
     "output_type": "stream",
     "text": [
      "375/375 [==============================] - 5s 14ms/step - loss: 56.7119 - root_mean_squared_error: 7.5307 - val_loss: 8.3916 - val_root_mean_squared_error: 2.8968\n",
      "Epoch 42/50\n",
      "375/375 [==============================] - 2s 6ms/step - loss: 54.3025 - root_mean_squared_error: 7.3690 - val_loss: 8.4983 - val_root_mean_squared_error: 2.9152\n",
      "Epoch 43/50\n",
      "368/375 [============================>.] - ETA: 0s - loss: 51.9511 - root_mean_squared_error: 7.2077"
     ]
    },
    {
     "name": "stderr",
     "output_type": "stream",
     "text": [
      "WARNING:absl:Found untraced functions such as lstm_cell_2_layer_call_fn, lstm_cell_2_layer_call_and_return_conditional_losses while saving (showing 2 of 2). These functions will not be directly callable after loading.\n"
     ]
    },
    {
     "name": "stdout",
     "output_type": "stream",
     "text": [
      "INFO:tensorflow:Assets written to: model2\\assets\n"
     ]
    },
    {
     "name": "stderr",
     "output_type": "stream",
     "text": [
      "INFO:tensorflow:Assets written to: model2\\assets\n"
     ]
    },
    {
     "name": "stdout",
     "output_type": "stream",
     "text": [
      "375/375 [==============================] - 5s 13ms/step - loss: 52.0409 - root_mean_squared_error: 7.2139 - val_loss: 8.2115 - val_root_mean_squared_error: 2.8656\n",
      "Epoch 44/50\n",
      "371/375 [============================>.] - ETA: 0s - loss: 50.2731 - root_mean_squared_error: 7.0904"
     ]
    },
    {
     "name": "stderr",
     "output_type": "stream",
     "text": [
      "WARNING:absl:Found untraced functions such as lstm_cell_2_layer_call_fn, lstm_cell_2_layer_call_and_return_conditional_losses while saving (showing 2 of 2). These functions will not be directly callable after loading.\n"
     ]
    },
    {
     "name": "stdout",
     "output_type": "stream",
     "text": [
      "INFO:tensorflow:Assets written to: model2\\assets\n"
     ]
    },
    {
     "name": "stderr",
     "output_type": "stream",
     "text": [
      "INFO:tensorflow:Assets written to: model2\\assets\n"
     ]
    },
    {
     "name": "stdout",
     "output_type": "stream",
     "text": [
      "375/375 [==============================] - 6s 15ms/step - loss: 49.8659 - root_mean_squared_error: 7.0616 - val_loss: 8.0305 - val_root_mean_squared_error: 2.8338\n",
      "Epoch 45/50\n",
      "370/375 [============================>.] - ETA: 0s - loss: 48.4346 - root_mean_squared_error: 6.9595"
     ]
    },
    {
     "name": "stderr",
     "output_type": "stream",
     "text": [
      "WARNING:absl:Found untraced functions such as lstm_cell_2_layer_call_fn, lstm_cell_2_layer_call_and_return_conditional_losses while saving (showing 2 of 2). These functions will not be directly callable after loading.\n"
     ]
    },
    {
     "name": "stdout",
     "output_type": "stream",
     "text": [
      "INFO:tensorflow:Assets written to: model2\\assets\n"
     ]
    },
    {
     "name": "stderr",
     "output_type": "stream",
     "text": [
      "INFO:tensorflow:Assets written to: model2\\assets\n"
     ]
    },
    {
     "name": "stdout",
     "output_type": "stream",
     "text": [
      "375/375 [==============================] - 6s 16ms/step - loss: 47.9594 - root_mean_squared_error: 6.9253 - val_loss: 7.9400 - val_root_mean_squared_error: 2.8178\n",
      "Epoch 46/50\n",
      "375/375 [==============================] - 2s 6ms/step - loss: 46.2271 - root_mean_squared_error: 6.7990 - val_loss: 7.9926 - val_root_mean_squared_error: 2.8271\n",
      "Epoch 47/50\n",
      "371/375 [============================>.] - ETA: 0s - loss: 44.7997 - root_mean_squared_error: 6.6933"
     ]
    },
    {
     "name": "stderr",
     "output_type": "stream",
     "text": [
      "WARNING:absl:Found untraced functions such as lstm_cell_2_layer_call_fn, lstm_cell_2_layer_call_and_return_conditional_losses while saving (showing 2 of 2). These functions will not be directly callable after loading.\n"
     ]
    },
    {
     "name": "stdout",
     "output_type": "stream",
     "text": [
      "INFO:tensorflow:Assets written to: model2\\assets\n"
     ]
    },
    {
     "name": "stderr",
     "output_type": "stream",
     "text": [
      "INFO:tensorflow:Assets written to: model2\\assets\n"
     ]
    },
    {
     "name": "stdout",
     "output_type": "stream",
     "text": [
      "375/375 [==============================] - 5s 13ms/step - loss: 44.4881 - root_mean_squared_error: 6.6699 - val_loss: 7.8415 - val_root_mean_squared_error: 2.8003\n",
      "Epoch 48/50\n",
      "375/375 [==============================] - 2s 6ms/step - loss: 42.8535 - root_mean_squared_error: 6.5463 - val_loss: 7.8978 - val_root_mean_squared_error: 2.8103\n",
      "Epoch 49/50\n",
      "375/375 [==============================] - 2s 6ms/step - loss: 41.4374 - root_mean_squared_error: 6.4372 - val_loss: 7.9014 - val_root_mean_squared_error: 2.8109\n",
      "Epoch 50/50\n",
      "365/375 [============================>.] - ETA: 0s - loss: 40.2206 - root_mean_squared_error: 6.3420"
     ]
    },
    {
     "name": "stderr",
     "output_type": "stream",
     "text": [
      "WARNING:absl:Found untraced functions such as lstm_cell_2_layer_call_fn, lstm_cell_2_layer_call_and_return_conditional_losses while saving (showing 2 of 2). These functions will not be directly callable after loading.\n"
     ]
    },
    {
     "name": "stdout",
     "output_type": "stream",
     "text": [
      "INFO:tensorflow:Assets written to: model2\\assets\n"
     ]
    },
    {
     "name": "stderr",
     "output_type": "stream",
     "text": [
      "INFO:tensorflow:Assets written to: model2\\assets\n"
     ]
    },
    {
     "name": "stdout",
     "output_type": "stream",
     "text": [
      "375/375 [==============================] - 5s 14ms/step - loss: 40.0710 - root_mean_squared_error: 6.3302 - val_loss: 7.7281 - val_root_mean_squared_error: 2.7800\n"
     ]
    },
    {
     "data": {
      "text/plain": [
       "<keras.callbacks.History at 0x23ac9ac6070>"
      ]
     },
     "execution_count": 40,
     "metadata": {},
     "output_type": "execute_result"
    }
   ],
   "source": [
    "model2.fit(X2_train,y2_train, validation_data=(X2_val,y2_val), epochs=50, callbacks=[cp2])"
   ]
  },
  {
   "attachments": {},
   "cell_type": "markdown",
   "metadata": {},
   "source": [
    "30. Load the model so we can work with the best one. "
   ]
  },
  {
   "cell_type": "code",
   "execution_count": 41,
   "metadata": {},
   "outputs": [],
   "source": [
    "model2 = load_model('model2/')"
   ]
  },
  {
   "attachments": {},
   "cell_type": "markdown",
   "metadata": {},
   "source": [
    "31. Calculate the predicted values for the training set and add them to a dataframe along with the actuals."
   ]
  },
  {
   "cell_type": "code",
   "execution_count": 42,
   "metadata": {},
   "outputs": [
    {
     "name": "stdout",
     "output_type": "stream",
     "text": [
      "375/375 [==============================] - 1s 2ms/step\n"
     ]
    },
    {
     "data": {
      "text/html": [
       "<div>\n",
       "<style scoped>\n",
       "    .dataframe tbody tr th:only-of-type {\n",
       "        vertical-align: middle;\n",
       "    }\n",
       "\n",
       "    .dataframe tbody tr th {\n",
       "        vertical-align: top;\n",
       "    }\n",
       "\n",
       "    .dataframe thead th {\n",
       "        text-align: right;\n",
       "    }\n",
       "</style>\n",
       "<table border=\"1\" class=\"dataframe\">\n",
       "  <thead>\n",
       "    <tr style=\"text-align: right;\">\n",
       "      <th></th>\n",
       "      <th>Train Predictions</th>\n",
       "      <th>Actuals</th>\n",
       "    </tr>\n",
       "  </thead>\n",
       "  <tbody>\n",
       "    <tr>\n",
       "      <th>0</th>\n",
       "      <td>18.027542</td>\n",
       "      <td>16.85</td>\n",
       "    </tr>\n",
       "    <tr>\n",
       "      <th>1</th>\n",
       "      <td>16.364424</td>\n",
       "      <td>15.64</td>\n",
       "    </tr>\n",
       "    <tr>\n",
       "      <th>2</th>\n",
       "      <td>12.662160</td>\n",
       "      <td>13.76</td>\n",
       "    </tr>\n",
       "    <tr>\n",
       "      <th>3</th>\n",
       "      <td>11.350769</td>\n",
       "      <td>9.90</td>\n",
       "    </tr>\n",
       "    <tr>\n",
       "      <th>4</th>\n",
       "      <td>6.950651</td>\n",
       "      <td>6.93</td>\n",
       "    </tr>\n",
       "    <tr>\n",
       "      <th>...</th>\n",
       "      <td>...</td>\n",
       "      <td>...</td>\n",
       "    </tr>\n",
       "    <tr>\n",
       "      <th>11995</th>\n",
       "      <td>3.909252</td>\n",
       "      <td>4.54</td>\n",
       "    </tr>\n",
       "    <tr>\n",
       "      <th>11996</th>\n",
       "      <td>5.286315</td>\n",
       "      <td>5.91</td>\n",
       "    </tr>\n",
       "    <tr>\n",
       "      <th>11997</th>\n",
       "      <td>6.862092</td>\n",
       "      <td>7.60</td>\n",
       "    </tr>\n",
       "    <tr>\n",
       "      <th>11998</th>\n",
       "      <td>8.910343</td>\n",
       "      <td>11.78</td>\n",
       "    </tr>\n",
       "    <tr>\n",
       "      <th>11999</th>\n",
       "      <td>15.261268</td>\n",
       "      <td>12.08</td>\n",
       "    </tr>\n",
       "  </tbody>\n",
       "</table>\n",
       "<p>12000 rows × 2 columns</p>\n",
       "</div>"
      ],
      "text/plain": [
       "       Train Predictions  Actuals\n",
       "0              18.027542    16.85\n",
       "1              16.364424    15.64\n",
       "2              12.662160    13.76\n",
       "3              11.350769     9.90\n",
       "4               6.950651     6.93\n",
       "...                  ...      ...\n",
       "11995           3.909252     4.54\n",
       "11996           5.286315     5.91\n",
       "11997           6.862092     7.60\n",
       "11998           8.910343    11.78\n",
       "11999          15.261268    12.08\n",
       "\n",
       "[12000 rows x 2 columns]"
      ]
     },
     "execution_count": 42,
     "metadata": {},
     "output_type": "execute_result"
    }
   ],
   "source": [
    "train_predictions2 = model2.predict(X2_train).flatten()\n",
    "train_results2 = pd.DataFrame(data={'Train Predictions': train_predictions2, 'Actuals': y2_train})\n",
    "train_results2"
   ]
  },
  {
   "attachments": {},
   "cell_type": "markdown",
   "metadata": {},
   "source": [
    "32. Visualize the data to compare predicted values to the actual values for the training set. Again, the model did a pretty good job of predicting values since the lines are pretty close together, but it seems like it had a harder time predicting the larger spikes since the prediction line is lower than the actual line. "
   ]
  },
  {
   "cell_type": "code",
   "execution_count": 43,
   "metadata": {},
   "outputs": [
    {
     "data": {
      "image/png": "[encoded data removed]",
      "text/plain": [
       "<Figure size 640x480 with 1 Axes>"
      ]
     },
     "metadata": {},
     "output_type": "display_data"
    }
   ],
   "source": [
    "plt.plot(train_results2['Train Predictions'][:100])\n",
    "plt.plot(train_results2['Actuals'][:100])\n",
    "plt.title('Predicted vs Actual Values for Training Set')\n",
    "plt.legend(['Predictions','Actuals']);"
   ]
  },
  {
   "attachments": {},
   "cell_type": "markdown",
   "metadata": {},
   "source": [
    "33. Calculate the predicted values for the validation set and add them to a dataframe along with the actuals."
   ]
  },
  {
   "cell_type": "code",
   "execution_count": 44,
   "metadata": {},
   "outputs": [
    {
     "name": "stdout",
     "output_type": "stream",
     "text": [
      "94/94 [==============================] - 0s 2ms/step\n"
     ]
    },
    {
     "data": {
      "text/html": [
       "<div>\n",
       "<style scoped>\n",
       "    .dataframe tbody tr th:only-of-type {\n",
       "        vertical-align: middle;\n",
       "    }\n",
       "\n",
       "    .dataframe tbody tr th {\n",
       "        vertical-align: top;\n",
       "    }\n",
       "\n",
       "    .dataframe thead th {\n",
       "        text-align: right;\n",
       "    }\n",
       "</style>\n",
       "<table border=\"1\" class=\"dataframe\">\n",
       "  <thead>\n",
       "    <tr style=\"text-align: right;\">\n",
       "      <th></th>\n",
       "      <th>Val Predictions</th>\n",
       "      <th>Actuals</th>\n",
       "    </tr>\n",
       "  </thead>\n",
       "  <tbody>\n",
       "    <tr>\n",
       "      <th>0</th>\n",
       "      <td>11.106468</td>\n",
       "      <td>5.95</td>\n",
       "    </tr>\n",
       "    <tr>\n",
       "      <th>1</th>\n",
       "      <td>1.927253</td>\n",
       "      <td>6.47</td>\n",
       "    </tr>\n",
       "    <tr>\n",
       "      <th>2</th>\n",
       "      <td>7.692346</td>\n",
       "      <td>8.21</td>\n",
       "    </tr>\n",
       "    <tr>\n",
       "      <th>3</th>\n",
       "      <td>8.310033</td>\n",
       "      <td>4.67</td>\n",
       "    </tr>\n",
       "    <tr>\n",
       "      <th>4</th>\n",
       "      <td>2.495635</td>\n",
       "      <td>4.16</td>\n",
       "    </tr>\n",
       "    <tr>\n",
       "      <th>...</th>\n",
       "      <td>...</td>\n",
       "      <td>...</td>\n",
       "    </tr>\n",
       "    <tr>\n",
       "      <th>2995</th>\n",
       "      <td>17.973845</td>\n",
       "      <td>17.85</td>\n",
       "    </tr>\n",
       "    <tr>\n",
       "      <th>2996</th>\n",
       "      <td>17.495237</td>\n",
       "      <td>18.36</td>\n",
       "    </tr>\n",
       "    <tr>\n",
       "      <th>2997</th>\n",
       "      <td>18.690393</td>\n",
       "      <td>18.85</td>\n",
       "    </tr>\n",
       "    <tr>\n",
       "      <th>2998</th>\n",
       "      <td>18.774139</td>\n",
       "      <td>16.84</td>\n",
       "    </tr>\n",
       "    <tr>\n",
       "      <th>2999</th>\n",
       "      <td>15.135253</td>\n",
       "      <td>17.90</td>\n",
       "    </tr>\n",
       "  </tbody>\n",
       "</table>\n",
       "<p>3000 rows × 2 columns</p>\n",
       "</div>"
      ],
      "text/plain": [
       "      Val Predictions  Actuals\n",
       "0           11.106468     5.95\n",
       "1            1.927253     6.47\n",
       "2            7.692346     8.21\n",
       "3            8.310033     4.67\n",
       "4            2.495635     4.16\n",
       "...               ...      ...\n",
       "2995        17.973845    17.85\n",
       "2996        17.495237    18.36\n",
       "2997        18.690393    18.85\n",
       "2998        18.774139    16.84\n",
       "2999        15.135253    17.90\n",
       "\n",
       "[3000 rows x 2 columns]"
      ]
     },
     "execution_count": 44,
     "metadata": {},
     "output_type": "execute_result"
    }
   ],
   "source": [
    "val_predictions2 = model2.predict(X2_val).flatten()\n",
    "val_results2 = pd.DataFrame(data={'Val Predictions': val_predictions2, 'Actuals': y2_val})\n",
    "val_results2"
   ]
  },
  {
   "attachments": {},
   "cell_type": "markdown",
   "metadata": {},
   "source": [
    "34. Visualize the data to compare predicted values to the actual values for the validation set. For this set, it looks like the model did a little better at predicting that larger spike."
   ]
  },
  {
   "cell_type": "code",
   "execution_count": 45,
   "metadata": {},
   "outputs": [
    {
     "data": {
      "image/png": "[encoded data removed]",
      "text/plain": [
       "<Figure size 640x480 with 1 Axes>"
      ]
     },
     "metadata": {},
     "output_type": "display_data"
    }
   ],
   "source": [
    "plt.plot(val_results2['Val Predictions'][:100])\n",
    "plt.plot(val_results2['Actuals'][:100])\n",
    "plt.title('Predicted vs Actual Values for Validation Set')\n",
    "plt.legend(['Predictions','Actuals']);"
   ]
  },
  {
   "attachments": {},
   "cell_type": "markdown",
   "metadata": {},
   "source": [
    "35. Calculate the predicted values for the training set and add them to a dataframe along with the actuals."
   ]
  },
  {
   "cell_type": "code",
   "execution_count": 46,
   "metadata": {},
   "outputs": [
    {
     "name": "stdout",
     "output_type": "stream",
     "text": [
      "96/96 [==============================] - 0s 3ms/step\n"
     ]
    },
    {
     "data": {
      "text/html": [
       "<div>\n",
       "<style scoped>\n",
       "    .dataframe tbody tr th:only-of-type {\n",
       "        vertical-align: middle;\n",
       "    }\n",
       "\n",
       "    .dataframe tbody tr th {\n",
       "        vertical-align: top;\n",
       "    }\n",
       "\n",
       "    .dataframe thead th {\n",
       "        text-align: right;\n",
       "    }\n",
       "</style>\n",
       "<table border=\"1\" class=\"dataframe\">\n",
       "  <thead>\n",
       "    <tr style=\"text-align: right;\">\n",
       "      <th></th>\n",
       "      <th>Test Predictions</th>\n",
       "      <th>Actuals</th>\n",
       "    </tr>\n",
       "  </thead>\n",
       "  <tbody>\n",
       "    <tr>\n",
       "      <th>0</th>\n",
       "      <td>18.992447</td>\n",
       "      <td>19.42</td>\n",
       "    </tr>\n",
       "    <tr>\n",
       "      <th>1</th>\n",
       "      <td>19.243519</td>\n",
       "      <td>22.37</td>\n",
       "    </tr>\n",
       "    <tr>\n",
       "      <th>2</th>\n",
       "      <td>23.417957</td>\n",
       "      <td>26.01</td>\n",
       "    </tr>\n",
       "    <tr>\n",
       "      <th>3</th>\n",
       "      <td>26.463253</td>\n",
       "      <td>23.03</td>\n",
       "    </tr>\n",
       "    <tr>\n",
       "      <th>4</th>\n",
       "      <td>19.125601</td>\n",
       "      <td>17.09</td>\n",
       "    </tr>\n",
       "    <tr>\n",
       "      <th>...</th>\n",
       "      <td>...</td>\n",
       "      <td>...</td>\n",
       "    </tr>\n",
       "    <tr>\n",
       "      <th>3048</th>\n",
       "      <td>34.359097</td>\n",
       "      <td>36.08</td>\n",
       "    </tr>\n",
       "    <tr>\n",
       "      <th>3049</th>\n",
       "      <td>43.263874</td>\n",
       "      <td>45.75</td>\n",
       "    </tr>\n",
       "    <tr>\n",
       "      <th>3050</th>\n",
       "      <td>45.699394</td>\n",
       "      <td>50.21</td>\n",
       "    </tr>\n",
       "    <tr>\n",
       "      <th>3051</th>\n",
       "      <td>45.244827</td>\n",
       "      <td>48.14</td>\n",
       "    </tr>\n",
       "    <tr>\n",
       "      <th>3052</th>\n",
       "      <td>41.042629</td>\n",
       "      <td>44.33</td>\n",
       "    </tr>\n",
       "  </tbody>\n",
       "</table>\n",
       "<p>3053 rows × 2 columns</p>\n",
       "</div>"
      ],
      "text/plain": [
       "      Test Predictions  Actuals\n",
       "0            18.992447    19.42\n",
       "1            19.243519    22.37\n",
       "2            23.417957    26.01\n",
       "3            26.463253    23.03\n",
       "4            19.125601    17.09\n",
       "...                ...      ...\n",
       "3048         34.359097    36.08\n",
       "3049         43.263874    45.75\n",
       "3050         45.699394    50.21\n",
       "3051         45.244827    48.14\n",
       "3052         41.042629    44.33\n",
       "\n",
       "[3053 rows x 2 columns]"
      ]
     },
     "execution_count": 46,
     "metadata": {},
     "output_type": "execute_result"
    }
   ],
   "source": [
    "test_predictions2 = model2.predict(X2_test).flatten()\n",
    "test_results2 = pd.DataFrame(data={'Test Predictions': test_predictions2, 'Actuals': y2_test})\n",
    "test_results2"
   ]
  },
  {
   "attachments": {},
   "cell_type": "markdown",
   "metadata": {},
   "source": [
    "36. Visualize the data to compare predicted values to the actual values for the testing set. For this set, it looks like the model's predictions overshot the actuals for the larger spikes."
   ]
  },
  {
   "cell_type": "code",
   "execution_count": 47,
   "metadata": {},
   "outputs": [
    {
     "data": {
      "image/png": "[encoded data removed]",
      "text/plain": [
       "<Figure size 640x480 with 1 Axes>"
      ]
     },
     "metadata": {},
     "output_type": "display_data"
    }
   ],
   "source": [
    "plt.plot(test_results2['Test Predictions'][:100])\n",
    "plt.plot(test_results2['Actuals'][:100])\n",
    "plt.title('Predicted vs Actual Values for Testing Set')\n",
    "plt.legend(['Predictions','Actuals']);"
   ]
  },
  {
   "attachments": {},
   "cell_type": "markdown",
   "metadata": {},
   "source": [
    "37. Calculate the coefficient of determination for the training set, validation set, and testing set. As you can see, in general the model performed well, though it did not perform as well as that first model. The first model's values for training, validation, and testing were .99, .99, and .98 respectively, and now they are .94, .92, and .88. If you average all three scores for each model you get .98 and .91 respectively, so in general the second model did not improve. In this case, adding time features did not improve the model which suggests that they are not as necessary for predicting time series data with a LSTM model as compared to a XGBoost model. "
   ]
  },
  {
   "cell_type": "code",
   "execution_count": 48,
   "metadata": {},
   "outputs": [
    {
     "data": {
      "text/plain": [
       "0.945597119006861"
      ]
     },
     "execution_count": 48,
     "metadata": {},
     "output_type": "execute_result"
    }
   ],
   "source": [
    "train2_r2 = r2_score(train_results2['Actuals'],train_results2['Train Predictions'])\n",
    "train2_r2"
   ]
  },
  {
   "cell_type": "code",
   "execution_count": 49,
   "metadata": {},
   "outputs": [
    {
     "data": {
      "text/plain": [
       "0.9267510685000838"
      ]
     },
     "execution_count": 49,
     "metadata": {},
     "output_type": "execute_result"
    }
   ],
   "source": [
    "val2_r2 = r2_score(val_results2['Actuals'],val_results2['Val Predictions'])\n",
    "val2_r2"
   ]
  },
  {
   "cell_type": "code",
   "execution_count": 50,
   "metadata": {},
   "outputs": [
    {
     "data": {
      "text/plain": [
       "0.8826786509371772"
      ]
     },
     "execution_count": 50,
     "metadata": {},
     "output_type": "execute_result"
    }
   ],
   "source": [
    "test2_r2 = r2_score(test_results2['Actuals'],test_results2['Test Predictions'])\n",
    "test2_r2"
   ]
  },
  {
   "attachments": {},
   "cell_type": "markdown",
   "metadata": {},
   "source": [
    "38. Calculate the Mean Squared Error and the Root Mean Squared Error. As you can see, all three values are larger than the MSE values from the last model. This model's MSE for the testing set is 68.5, which is even larger than the MSE for the XGBoost model's test set of 40.62. "
   ]
  },
  {
   "cell_type": "code",
   "execution_count": 75,
   "metadata": {},
   "outputs": [
    {
     "data": {
      "text/plain": [
       "39.174193556569556"
      ]
     },
     "execution_count": 75,
     "metadata": {},
     "output_type": "execute_result"
    }
   ],
   "source": [
    "realVals_train2 = train_results2.Actuals\n",
    "predictedVals_train2 = train_results2['Train Predictions']\n",
    "mse_train2 = mean_squared_error(realVals_train2, predictedVals_train2)\n",
    "mse_train2"
   ]
  },
  {
   "cell_type": "code",
   "execution_count": 77,
   "metadata": {},
   "outputs": [
    {
     "data": {
      "text/plain": [
       "6.258929106210547"
      ]
     },
     "execution_count": 77,
     "metadata": {},
     "output_type": "execute_result"
    }
   ],
   "source": [
    "realVals_train2 = train_results2.Actuals\n",
    "predictedVals_train2 = train_results2['Train Predictions']\n",
    "rmse_train2 = mean_squared_error(realVals_train2, predictedVals_train2, squared = False)\n",
    "rmse_train2"
   ]
  },
  {
   "cell_type": "code",
   "execution_count": 74,
   "metadata": {},
   "outputs": [
    {
     "data": {
      "text/plain": [
       "7.728136411984027"
      ]
     },
     "execution_count": 74,
     "metadata": {},
     "output_type": "execute_result"
    }
   ],
   "source": [
    "realVals_val2 = val_results2.Actuals\n",
    "predictedVals_val2 = val_results2['Val Predictions']\n",
    "mse_val2 = mean_squared_error(realVals_val2, predictedVals_val2)\n",
    "mse_val2"
   ]
  },
  {
   "cell_type": "code",
   "execution_count": 78,
   "metadata": {},
   "outputs": [
    {
     "data": {
      "text/plain": [
       "2.7799525916792227"
      ]
     },
     "execution_count": 78,
     "metadata": {},
     "output_type": "execute_result"
    }
   ],
   "source": [
    "realVals_val2 = val_results2.Actuals\n",
    "predictedVals_val2 = val_results2['Val Predictions']\n",
    "rmse_val2 = mean_squared_error(realVals_val2, predictedVals_val2, squared = False)\n",
    "rmse_val2"
   ]
  },
  {
   "cell_type": "code",
   "execution_count": 76,
   "metadata": {},
   "outputs": [
    {
     "data": {
      "text/plain": [
       "68.4964599996537"
      ]
     },
     "execution_count": 76,
     "metadata": {},
     "output_type": "execute_result"
    }
   ],
   "source": [
    "realVals_test2 = test_results2.Actuals\n",
    "predictedVals_test2 = test_results2['Test Predictions']\n",
    "mse_test2 = mean_squared_error(realVals_test2, predictedVals_test2)\n",
    "mse_test2"
   ]
  },
  {
   "cell_type": "code",
   "execution_count": 79,
   "metadata": {},
   "outputs": [
    {
     "data": {
      "text/plain": [
       "8.276258816618395"
      ]
     },
     "execution_count": 79,
     "metadata": {},
     "output_type": "execute_result"
    }
   ],
   "source": [
    "realVals_test2 = test_results2.Actuals\n",
    "predictedVals_test2 = test_results2['Test Predictions']\n",
    "rmse_test2 = mean_squared_error(realVals_test2, predictedVals_test2, squared = False)\n",
    "rmse_test2"
   ]
  }
 ],
 "metadata": {
  "kernelspec": {
   "display_name": "base",
   "language": "python",
   "name": "python3"
  },
  "language_info": {
   "codemirror_mode": {
    "name": "ipython",
    "version": 3
   },
   "file_extension": ".py",
   "mimetype": "text/x-python",
   "name": "python",
   "nbconvert_exporter": "python",
   "pygments_lexer": "ipython3",
   "version": "3.9.13"
  },
  "orig_nbformat": 4,
  "vscode": {
   "interpreter": {
    "hash": "7939009c0f665b034ac7d0d020f8ea7c93f1de027612b5d929de2dae80f6a8fb"
   }
  }
 },
 "nbformat": 4,
 "nbformat_minor": 2
}
