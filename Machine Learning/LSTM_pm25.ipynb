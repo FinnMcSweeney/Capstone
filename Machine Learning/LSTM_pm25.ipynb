{
 "cells": [
  {
   "cell_type": "code",
   "execution_count": 32,
   "metadata": {},
   "outputs": [],
   "source": [
    "import tensorflow as tf\n",
    "import os\n",
    "import pandas as pd\n",
    "import numpy as np"
   ]
  },
  {
   "attachments": {},
   "cell_type": "markdown",
   "metadata": {},
   "source": [
    "1. Load in the csv file. "
   ]
  },
  {
   "cell_type": "code",
   "execution_count": 33,
   "metadata": {},
   "outputs": [],
   "source": [
    "df = pd.read_csv('aqi_ny.csv')"
   ]
  },
  {
   "attachments": {},
   "cell_type": "markdown",
   "metadata": {},
   "source": [
    "2. Drop the extra index."
   ]
  },
  {
   "cell_type": "code",
   "execution_count": 34,
   "metadata": {},
   "outputs": [],
   "source": [
    "df = df.drop('Unnamed: 0', axis=1)"
   ]
  },
  {
   "cell_type": "code",
   "execution_count": 35,
   "metadata": {},
   "outputs": [
    {
     "data": {
      "text/html": [
       "<div>\n",
       "<style scoped>\n",
       "    .dataframe tbody tr th:only-of-type {\n",
       "        vertical-align: middle;\n",
       "    }\n",
       "\n",
       "    .dataframe tbody tr th {\n",
       "        vertical-align: top;\n",
       "    }\n",
       "\n",
       "    .dataframe thead th {\n",
       "        text-align: right;\n",
       "    }\n",
       "</style>\n",
       "<table border=\"1\" class=\"dataframe\">\n",
       "  <thead>\n",
       "    <tr style=\"text-align: right;\">\n",
       "      <th></th>\n",
       "      <th>date</th>\n",
       "      <th>co</th>\n",
       "      <th>no</th>\n",
       "      <th>no2</th>\n",
       "      <th>o3</th>\n",
       "      <th>so2</th>\n",
       "      <th>pm2_5</th>\n",
       "      <th>pm10</th>\n",
       "      <th>nh3</th>\n",
       "      <th>aqi</th>\n",
       "      <th>latitude</th>\n",
       "      <th>longitude</th>\n",
       "      <th>city</th>\n",
       "    </tr>\n",
       "  </thead>\n",
       "  <tbody>\n",
       "    <tr>\n",
       "      <th>0</th>\n",
       "      <td>2020-12-01 05:00:00</td>\n",
       "      <td>373.84</td>\n",
       "      <td>1.50</td>\n",
       "      <td>43.87</td>\n",
       "      <td>8.49</td>\n",
       "      <td>6.86</td>\n",
       "      <td>9.31</td>\n",
       "      <td>11.75</td>\n",
       "      <td>1.30</td>\n",
       "      <td>2</td>\n",
       "      <td>40.7127</td>\n",
       "      <td>-74.006</td>\n",
       "      <td>New York, NY</td>\n",
       "    </tr>\n",
       "    <tr>\n",
       "      <th>1</th>\n",
       "      <td>2020-12-01 06:00:00</td>\n",
       "      <td>343.80</td>\n",
       "      <td>1.16</td>\n",
       "      <td>37.70</td>\n",
       "      <td>9.39</td>\n",
       "      <td>7.09</td>\n",
       "      <td>8.43</td>\n",
       "      <td>10.47</td>\n",
       "      <td>1.09</td>\n",
       "      <td>1</td>\n",
       "      <td>40.7127</td>\n",
       "      <td>-74.006</td>\n",
       "      <td>New York, NY</td>\n",
       "    </tr>\n",
       "    <tr>\n",
       "      <th>2</th>\n",
       "      <td>2020-12-01 07:00:00</td>\n",
       "      <td>337.12</td>\n",
       "      <td>1.79</td>\n",
       "      <td>35.99</td>\n",
       "      <td>6.35</td>\n",
       "      <td>7.21</td>\n",
       "      <td>8.55</td>\n",
       "      <td>10.80</td>\n",
       "      <td>1.08</td>\n",
       "      <td>1</td>\n",
       "      <td>40.7127</td>\n",
       "      <td>-74.006</td>\n",
       "      <td>New York, NY</td>\n",
       "    </tr>\n",
       "    <tr>\n",
       "      <th>3</th>\n",
       "      <td>2020-12-01 08:00:00</td>\n",
       "      <td>337.12</td>\n",
       "      <td>3.38</td>\n",
       "      <td>34.96</td>\n",
       "      <td>3.09</td>\n",
       "      <td>7.63</td>\n",
       "      <td>8.92</td>\n",
       "      <td>11.57</td>\n",
       "      <td>1.08</td>\n",
       "      <td>1</td>\n",
       "      <td>40.7127</td>\n",
       "      <td>-74.006</td>\n",
       "      <td>New York, NY</td>\n",
       "    </tr>\n",
       "    <tr>\n",
       "      <th>4</th>\n",
       "      <td>2020-12-01 09:00:00</td>\n",
       "      <td>340.46</td>\n",
       "      <td>5.87</td>\n",
       "      <td>33.59</td>\n",
       "      <td>1.16</td>\n",
       "      <td>8.23</td>\n",
       "      <td>9.62</td>\n",
       "      <td>12.64</td>\n",
       "      <td>1.09</td>\n",
       "      <td>1</td>\n",
       "      <td>40.7127</td>\n",
       "      <td>-74.006</td>\n",
       "      <td>New York, NY</td>\n",
       "    </tr>\n",
       "    <tr>\n",
       "      <th>...</th>\n",
       "      <td>...</td>\n",
       "      <td>...</td>\n",
       "      <td>...</td>\n",
       "      <td>...</td>\n",
       "      <td>...</td>\n",
       "      <td>...</td>\n",
       "      <td>...</td>\n",
       "      <td>...</td>\n",
       "      <td>...</td>\n",
       "      <td>...</td>\n",
       "      <td>...</td>\n",
       "      <td>...</td>\n",
       "      <td>...</td>\n",
       "    </tr>\n",
       "    <tr>\n",
       "      <th>18056</th>\n",
       "      <td>2022-12-31 13:00:00</td>\n",
       "      <td>821.11</td>\n",
       "      <td>62.58</td>\n",
       "      <td>61.69</td>\n",
       "      <td>0.00</td>\n",
       "      <td>5.48</td>\n",
       "      <td>36.08</td>\n",
       "      <td>44.15</td>\n",
       "      <td>3.39</td>\n",
       "      <td>3</td>\n",
       "      <td>40.7127</td>\n",
       "      <td>-74.006</td>\n",
       "      <td>New York, NY</td>\n",
       "    </tr>\n",
       "    <tr>\n",
       "      <th>18057</th>\n",
       "      <td>2022-12-31 14:00:00</td>\n",
       "      <td>1028.06</td>\n",
       "      <td>92.09</td>\n",
       "      <td>69.23</td>\n",
       "      <td>0.12</td>\n",
       "      <td>6.56</td>\n",
       "      <td>45.75</td>\n",
       "      <td>56.04</td>\n",
       "      <td>3.96</td>\n",
       "      <td>3</td>\n",
       "      <td>40.7127</td>\n",
       "      <td>-74.006</td>\n",
       "      <td>New York, NY</td>\n",
       "    </tr>\n",
       "    <tr>\n",
       "      <th>18058</th>\n",
       "      <td>2022-12-31 15:00:00</td>\n",
       "      <td>1134.87</td>\n",
       "      <td>104.61</td>\n",
       "      <td>69.23</td>\n",
       "      <td>0.46</td>\n",
       "      <td>8.11</td>\n",
       "      <td>50.21</td>\n",
       "      <td>61.68</td>\n",
       "      <td>4.12</td>\n",
       "      <td>4</td>\n",
       "      <td>40.7127</td>\n",
       "      <td>-74.006</td>\n",
       "      <td>New York, NY</td>\n",
       "    </tr>\n",
       "    <tr>\n",
       "      <th>18059</th>\n",
       "      <td>2022-12-31 16:00:00</td>\n",
       "      <td>1121.52</td>\n",
       "      <td>101.92</td>\n",
       "      <td>64.43</td>\n",
       "      <td>0.44</td>\n",
       "      <td>9.42</td>\n",
       "      <td>48.14</td>\n",
       "      <td>59.03</td>\n",
       "      <td>4.18</td>\n",
       "      <td>3</td>\n",
       "      <td>40.7127</td>\n",
       "      <td>-74.006</td>\n",
       "      <td>New York, NY</td>\n",
       "    </tr>\n",
       "    <tr>\n",
       "      <th>18060</th>\n",
       "      <td>2022-12-31 17:00:00</td>\n",
       "      <td>1054.76</td>\n",
       "      <td>97.45</td>\n",
       "      <td>56.89</td>\n",
       "      <td>0.51</td>\n",
       "      <td>10.25</td>\n",
       "      <td>44.33</td>\n",
       "      <td>54.28</td>\n",
       "      <td>4.24</td>\n",
       "      <td>3</td>\n",
       "      <td>40.7127</td>\n",
       "      <td>-74.006</td>\n",
       "      <td>New York, NY</td>\n",
       "    </tr>\n",
       "  </tbody>\n",
       "</table>\n",
       "<p>18061 rows × 13 columns</p>\n",
       "</div>"
      ],
      "text/plain": [
       "                      date       co      no    no2    o3    so2  pm2_5   pm10  \\\n",
       "0      2020-12-01 05:00:00   373.84    1.50  43.87  8.49   6.86   9.31  11.75   \n",
       "1      2020-12-01 06:00:00   343.80    1.16  37.70  9.39   7.09   8.43  10.47   \n",
       "2      2020-12-01 07:00:00   337.12    1.79  35.99  6.35   7.21   8.55  10.80   \n",
       "3      2020-12-01 08:00:00   337.12    3.38  34.96  3.09   7.63   8.92  11.57   \n",
       "4      2020-12-01 09:00:00   340.46    5.87  33.59  1.16   8.23   9.62  12.64   \n",
       "...                    ...      ...     ...    ...   ...    ...    ...    ...   \n",
       "18056  2022-12-31 13:00:00   821.11   62.58  61.69  0.00   5.48  36.08  44.15   \n",
       "18057  2022-12-31 14:00:00  1028.06   92.09  69.23  0.12   6.56  45.75  56.04   \n",
       "18058  2022-12-31 15:00:00  1134.87  104.61  69.23  0.46   8.11  50.21  61.68   \n",
       "18059  2022-12-31 16:00:00  1121.52  101.92  64.43  0.44   9.42  48.14  59.03   \n",
       "18060  2022-12-31 17:00:00  1054.76   97.45  56.89  0.51  10.25  44.33  54.28   \n",
       "\n",
       "        nh3  aqi  latitude  longitude          city  \n",
       "0      1.30    2   40.7127    -74.006  New York, NY  \n",
       "1      1.09    1   40.7127    -74.006  New York, NY  \n",
       "2      1.08    1   40.7127    -74.006  New York, NY  \n",
       "3      1.08    1   40.7127    -74.006  New York, NY  \n",
       "4      1.09    1   40.7127    -74.006  New York, NY  \n",
       "...     ...  ...       ...        ...           ...  \n",
       "18056  3.39    3   40.7127    -74.006  New York, NY  \n",
       "18057  3.96    3   40.7127    -74.006  New York, NY  \n",
       "18058  4.12    4   40.7127    -74.006  New York, NY  \n",
       "18059  4.18    3   40.7127    -74.006  New York, NY  \n",
       "18060  4.24    3   40.7127    -74.006  New York, NY  \n",
       "\n",
       "[18061 rows x 13 columns]"
      ]
     },
     "execution_count": 35,
     "metadata": {},
     "output_type": "execute_result"
    }
   ],
   "source": [
    "df"
   ]
  },
  {
   "attachments": {},
   "cell_type": "markdown",
   "metadata": {},
   "source": [
    "3. Make the date column the index, and get rid of extra date column so there's not a duplicate."
   ]
  },
  {
   "cell_type": "code",
   "execution_count": 36,
   "metadata": {},
   "outputs": [],
   "source": [
    "df.index = pd.to_datetime(df['date'])"
   ]
  },
  {
   "cell_type": "code",
   "execution_count": 37,
   "metadata": {},
   "outputs": [],
   "source": [
    "df = df.drop('date', axis=1)"
   ]
  },
  {
   "cell_type": "code",
   "execution_count": 38,
   "metadata": {},
   "outputs": [],
   "source": [
    "pm25 = df['pm2_5']"
   ]
  },
  {
   "attachments": {},
   "cell_type": "markdown",
   "metadata": {},
   "source": [
    "4. Visualize your data. "
   ]
  },
  {
   "cell_type": "code",
   "execution_count": 124,
   "metadata": {},
   "outputs": [
    {
     "data": {
      "image/png": "[encoded data removed]",
      "text/plain": [
       "<Figure size 640x480 with 1 Axes>"
      ]
     },
     "metadata": {},
     "output_type": "display_data"
    }
   ],
   "source": [
    "pm25.plot(title= 'PM2.5 Over Time', ylabel = 'PM2.5', xlabel = 'Date');"
   ]
  },
  {
   "attachments": {},
   "cell_type": "markdown",
   "metadata": {},
   "source": [
    "6. What makes LSTM much better at predicting time series data is that it takes into account a certain amount of values to predict the next one. In this case, the window size is 5, so it is looking at the first 5 values to predict value number 6, next it uses values 2 to 6 to predict 7, and so on. This function gets the data into this format, where X are the predictor values and y is what is being predicted. "
   ]
  },
  {
   "cell_type": "code",
   "execution_count": 40,
   "metadata": {},
   "outputs": [],
   "source": [
    "def df_to_X_y(df, window_size=5):\n",
    "    df_as_np = df.to_numpy()\n",
    "    X = []\n",
    "    y = []\n",
    "    for i in range(len(df_as_np)-window_size):\n",
    "        row = [[a] for a in df_as_np[i:i+5]]\n",
    "        X.append(row)\n",
    "        label = df_as_np[i+5]\n",
    "        y.append(label)\n",
    "    return np.array(X), np.array(y)"
   ]
  },
  {
   "attachments": {},
   "cell_type": "markdown",
   "metadata": {},
   "source": [
    "7. This shows us the shape of X and y, for both there are 18056 arrays, but X has 5 values since our window size is 5, and y only has one since we are predicting one value at a time. "
   ]
  },
  {
   "cell_type": "code",
   "execution_count": 41,
   "metadata": {},
   "outputs": [
    {
     "data": {
      "text/plain": [
       "((18056, 5, 1), (18056,))"
      ]
     },
     "execution_count": 41,
     "metadata": {},
     "output_type": "execute_result"
    }
   ],
   "source": [
    "window_size = 5\n",
    "X, y = df_to_X_y(pm25, window_size)\n",
    "X.shape, y.shape"
   ]
  },
  {
   "attachments": {},
   "cell_type": "markdown",
   "metadata": {},
   "source": [
    "8. Split the data into a training set, a validation set, and a testing set. "
   ]
  },
  {
   "cell_type": "code",
   "execution_count": 42,
   "metadata": {},
   "outputs": [
    {
     "data": {
      "text/plain": [
       "((12000, 5, 1), (12000,), (3000, 5, 1), (3000,), (3056, 5, 1), (3056,))"
      ]
     },
     "execution_count": 42,
     "metadata": {},
     "output_type": "execute_result"
    }
   ],
   "source": [
    "X_train, y_train = X[:12000], y[:12000]\n",
    "X_val, y_val = X[12000:15000], y[12000:15000]\n",
    "X_test, y_test = X[15000:], y[15000:]\n",
    "X_train.shape, y_train.shape, X_val.shape, y_val.shape, X_test.shape, y_test.shape"
   ]
  },
  {
   "cell_type": "code",
   "execution_count": 43,
   "metadata": {},
   "outputs": [],
   "source": [
    "from keras.models import Sequential\n",
    "from keras.layers import *\n",
    "from keras.callbacks import ModelCheckpoint\n",
    "from keras.losses import MeanSquaredError\n",
    "from keras.metrics import RootMeanSquaredError\n",
    "from keras.optimizers import Adam "
   ]
  },
  {
   "attachments": {},
   "cell_type": "markdown",
   "metadata": {},
   "source": [
    "9. Create the model. For the first layer you have to specify the shape of your model, since the window size is 5 the layer is 5 by 1. Next comes 1 LSTM layer, since LSTM is a neural network you have to specify the number of neurons, 32, 64, 128, and 256 are all common. Two dense layers follow the LSTM layer, the last dense layer is responsible for the regression task, and in this case we specify 1 because we want the output to be 1 predicted value."
   ]
  },
  {
   "cell_type": "code",
   "execution_count": 44,
   "metadata": {},
   "outputs": [
    {
     "name": "stdout",
     "output_type": "stream",
     "text": [
      "Model: \"sequential_1\"\n",
      "_________________________________________________________________\n",
      " Layer (type)                Output Shape              Param #   \n",
      "=================================================================\n",
      " lstm_1 (LSTM)               (None, 64)                16896     \n",
      "                                                                 \n",
      " dense_2 (Dense)             (None, 8)                 520       \n",
      "                                                                 \n",
      " dense_3 (Dense)             (None, 1)                 9         \n",
      "                                                                 \n",
      "=================================================================\n",
      "Total params: 17,425\n",
      "Trainable params: 17,425\n",
      "Non-trainable params: 0\n",
      "_________________________________________________________________\n"
     ]
    }
   ],
   "source": [
    "model1 = Sequential()\n",
    "model1.add(InputLayer((5,1)))\n",
    "model1.add(LSTM(64))\n",
    "model1.add(Dense(8,'relu'))\n",
    "model1.add(Dense(1,'linear'))\n",
    "\n",
    "model1.summary()"
   ]
  },
  {
   "attachments": {},
   "cell_type": "markdown",
   "metadata": {},
   "source": [
    "10. Create a checkpoint that saves the best performing model. Just like our XGBoost model, we are using a low learning rate so it will be slower. "
   ]
  },
  {
   "cell_type": "code",
   "execution_count": 47,
   "metadata": {},
   "outputs": [],
   "source": [
    "cp = ModelCheckpoint('model1/',save_best_only=True)\n",
    "model1.compile(loss=MeanSquaredError(), optimizer = Adam(learning_rate=0.0001), metrics=RootMeanSquaredError())"
   ]
  },
  {
   "attachments": {},
   "cell_type": "markdown",
   "metadata": {},
   "source": [
    "11. Fit the model. The number you choose for your epochs specifies how many times you will run through the data, so the larger the number the longer it will take to run. "
   ]
  },
  {
   "cell_type": "code",
   "execution_count": 48,
   "metadata": {},
   "outputs": [
    {
     "name": "stdout",
     "output_type": "stream",
     "text": [
      "Epoch 1/25\n",
      "374/375 [============================>.] - ETA: 0s - loss: 1006.1717 - root_mean_squared_error: 31.7202"
     ]
    },
    {
     "name": "stderr",
     "output_type": "stream",
     "text": [
      "WARNING:absl:Found untraced functions such as lstm_cell_2_layer_call_fn, lstm_cell_2_layer_call_and_return_conditional_losses while saving (showing 2 of 2). These functions will not be directly callable after loading.\n"
     ]
    },
    {
     "name": "stdout",
     "output_type": "stream",
     "text": [
      "INFO:tensorflow:Assets written to: model1\\assets\n"
     ]
    },
    {
     "name": "stderr",
     "output_type": "stream",
     "text": [
      "INFO:tensorflow:Assets written to: model1\\assets\n"
     ]
    },
    {
     "name": "stdout",
     "output_type": "stream",
     "text": [
      "375/375 [==============================] - 14s 30ms/step - loss: 1003.8320 - root_mean_squared_error: 31.6833 - val_loss: 152.1299 - val_root_mean_squared_error: 12.3341\n",
      "Epoch 2/25\n",
      "375/375 [==============================] - ETA: 0s - loss: 860.1983 - root_mean_squared_error: 29.3291"
     ]
    },
    {
     "name": "stderr",
     "output_type": "stream",
     "text": [
      "WARNING:absl:Found untraced functions such as lstm_cell_2_layer_call_fn, lstm_cell_2_layer_call_and_return_conditional_losses while saving (showing 2 of 2). These functions will not be directly callable after loading.\n"
     ]
    },
    {
     "name": "stdout",
     "output_type": "stream",
     "text": [
      "INFO:tensorflow:Assets written to: model1\\assets\n"
     ]
    },
    {
     "name": "stderr",
     "output_type": "stream",
     "text": [
      "INFO:tensorflow:Assets written to: model1\\assets\n"
     ]
    },
    {
     "name": "stdout",
     "output_type": "stream",
     "text": [
      "375/375 [==============================] - 12s 31ms/step - loss: 860.1983 - root_mean_squared_error: 29.3291 - val_loss: 95.0645 - val_root_mean_squared_error: 9.7501\n",
      "Epoch 3/25\n",
      "372/375 [============================>.] - ETA: 0s - loss: 730.7098 - root_mean_squared_error: 27.0316"
     ]
    },
    {
     "name": "stderr",
     "output_type": "stream",
     "text": [
      "WARNING:absl:Found untraced functions such as lstm_cell_2_layer_call_fn, lstm_cell_2_layer_call_and_return_conditional_losses while saving (showing 2 of 2). These functions will not be directly callable after loading.\n"
     ]
    },
    {
     "name": "stdout",
     "output_type": "stream",
     "text": [
      "INFO:tensorflow:Assets written to: model1\\assets\n"
     ]
    },
    {
     "name": "stderr",
     "output_type": "stream",
     "text": [
      "INFO:tensorflow:Assets written to: model1\\assets\n"
     ]
    },
    {
     "name": "stdout",
     "output_type": "stream",
     "text": [
      "375/375 [==============================] - 12s 31ms/step - loss: 729.0887 - root_mean_squared_error: 27.0016 - val_loss: 60.0565 - val_root_mean_squared_error: 7.7496\n",
      "Epoch 4/25\n",
      "366/375 [============================>.] - ETA: 0s - loss: 627.7566 - root_mean_squared_error: 25.0551"
     ]
    },
    {
     "name": "stderr",
     "output_type": "stream",
     "text": [
      "WARNING:absl:Found untraced functions such as lstm_cell_2_layer_call_fn, lstm_cell_2_layer_call_and_return_conditional_losses while saving (showing 2 of 2). These functions will not be directly callable after loading.\n"
     ]
    },
    {
     "name": "stdout",
     "output_type": "stream",
     "text": [
      "INFO:tensorflow:Assets written to: model1\\assets\n"
     ]
    },
    {
     "name": "stderr",
     "output_type": "stream",
     "text": [
      "INFO:tensorflow:Assets written to: model1\\assets\n"
     ]
    },
    {
     "name": "stdout",
     "output_type": "stream",
     "text": [
      "375/375 [==============================] - 9s 25ms/step - loss: 628.0665 - root_mean_squared_error: 25.0613 - val_loss: 40.3531 - val_root_mean_squared_error: 6.3524\n",
      "Epoch 5/25\n",
      "366/375 [============================>.] - ETA: 0s - loss: 554.4827 - root_mean_squared_error: 23.5475"
     ]
    },
    {
     "name": "stderr",
     "output_type": "stream",
     "text": [
      "WARNING:absl:Found untraced functions such as lstm_cell_2_layer_call_fn, lstm_cell_2_layer_call_and_return_conditional_losses while saving (showing 2 of 2). These functions will not be directly callable after loading.\n"
     ]
    },
    {
     "name": "stdout",
     "output_type": "stream",
     "text": [
      "INFO:tensorflow:Assets written to: model1\\assets\n"
     ]
    },
    {
     "name": "stderr",
     "output_type": "stream",
     "text": [
      "INFO:tensorflow:Assets written to: model1\\assets\n"
     ]
    },
    {
     "name": "stdout",
     "output_type": "stream",
     "text": [
      "375/375 [==============================] - 9s 24ms/step - loss: 548.6354 - root_mean_squared_error: 23.4230 - val_loss: 28.2231 - val_root_mean_squared_error: 5.3125\n",
      "Epoch 6/25\n",
      "373/375 [============================>.] - ETA: 0s - loss: 482.1332 - root_mean_squared_error: 21.9575"
     ]
    },
    {
     "name": "stderr",
     "output_type": "stream",
     "text": [
      "WARNING:absl:Found untraced functions such as lstm_cell_2_layer_call_fn, lstm_cell_2_layer_call_and_return_conditional_losses while saving (showing 2 of 2). These functions will not be directly callable after loading.\n"
     ]
    },
    {
     "name": "stdout",
     "output_type": "stream",
     "text": [
      "INFO:tensorflow:Assets written to: model1\\assets\n"
     ]
    },
    {
     "name": "stderr",
     "output_type": "stream",
     "text": [
      "INFO:tensorflow:Assets written to: model1\\assets\n"
     ]
    },
    {
     "name": "stdout",
     "output_type": "stream",
     "text": [
      "375/375 [==============================] - 12s 31ms/step - loss: 481.2758 - root_mean_squared_error: 21.9380 - val_loss: 20.6149 - val_root_mean_squared_error: 4.5404\n",
      "Epoch 7/25\n",
      "374/375 [============================>.] - ETA: 0s - loss: 422.6514 - root_mean_squared_error: 20.5585"
     ]
    },
    {
     "name": "stderr",
     "output_type": "stream",
     "text": [
      "WARNING:absl:Found untraced functions such as lstm_cell_2_layer_call_fn, lstm_cell_2_layer_call_and_return_conditional_losses while saving (showing 2 of 2). These functions will not be directly callable after loading.\n"
     ]
    },
    {
     "name": "stdout",
     "output_type": "stream",
     "text": [
      "INFO:tensorflow:Assets written to: model1\\assets\n"
     ]
    },
    {
     "name": "stderr",
     "output_type": "stream",
     "text": [
      "INFO:tensorflow:Assets written to: model1\\assets\n"
     ]
    },
    {
     "name": "stdout",
     "output_type": "stream",
     "text": [
      "375/375 [==============================] - 11s 30ms/step - loss: 424.0817 - root_mean_squared_error: 20.5932 - val_loss: 16.2655 - val_root_mean_squared_error: 4.0330\n",
      "Epoch 8/25\n",
      "366/375 [============================>.] - ETA: 0s - loss: 373.5888 - root_mean_squared_error: 19.3284"
     ]
    },
    {
     "name": "stderr",
     "output_type": "stream",
     "text": [
      "WARNING:absl:Found untraced functions such as lstm_cell_2_layer_call_fn, lstm_cell_2_layer_call_and_return_conditional_losses while saving (showing 2 of 2). These functions will not be directly callable after loading.\n"
     ]
    },
    {
     "name": "stdout",
     "output_type": "stream",
     "text": [
      "INFO:tensorflow:Assets written to: model1\\assets\n"
     ]
    },
    {
     "name": "stderr",
     "output_type": "stream",
     "text": [
      "INFO:tensorflow:Assets written to: model1\\assets\n"
     ]
    },
    {
     "name": "stdout",
     "output_type": "stream",
     "text": [
      "375/375 [==============================] - 9s 25ms/step - loss: 374.8065 - root_mean_squared_error: 19.3599 - val_loss: 13.4900 - val_root_mean_squared_error: 3.6729\n",
      "Epoch 9/25\n",
      "375/375 [==============================] - ETA: 0s - loss: 332.1367 - root_mean_squared_error: 18.2246"
     ]
    },
    {
     "name": "stderr",
     "output_type": "stream",
     "text": [
      "WARNING:absl:Found untraced functions such as lstm_cell_2_layer_call_fn, lstm_cell_2_layer_call_and_return_conditional_losses while saving (showing 2 of 2). These functions will not be directly callable after loading.\n"
     ]
    },
    {
     "name": "stdout",
     "output_type": "stream",
     "text": [
      "INFO:tensorflow:Assets written to: model1\\assets\n"
     ]
    },
    {
     "name": "stderr",
     "output_type": "stream",
     "text": [
      "INFO:tensorflow:Assets written to: model1\\assets\n"
     ]
    },
    {
     "name": "stdout",
     "output_type": "stream",
     "text": [
      "375/375 [==============================] - 10s 25ms/step - loss: 332.1367 - root_mean_squared_error: 18.2246 - val_loss: 11.4921 - val_root_mean_squared_error: 3.3900\n",
      "Epoch 10/25\n",
      "367/375 [============================>.] - ETA: 0s - loss: 296.5912 - root_mean_squared_error: 17.2218"
     ]
    },
    {
     "name": "stderr",
     "output_type": "stream",
     "text": [
      "WARNING:absl:Found untraced functions such as lstm_cell_2_layer_call_fn, lstm_cell_2_layer_call_and_return_conditional_losses while saving (showing 2 of 2). These functions will not be directly callable after loading.\n"
     ]
    },
    {
     "name": "stdout",
     "output_type": "stream",
     "text": [
      "INFO:tensorflow:Assets written to: model1\\assets\n"
     ]
    },
    {
     "name": "stderr",
     "output_type": "stream",
     "text": [
      "INFO:tensorflow:Assets written to: model1\\assets\n"
     ]
    },
    {
     "name": "stdout",
     "output_type": "stream",
     "text": [
      "375/375 [==============================] - 9s 24ms/step - loss: 295.1458 - root_mean_squared_error: 17.1798 - val_loss: 9.8807 - val_root_mean_squared_error: 3.1434\n",
      "Epoch 11/25\n",
      "367/375 [============================>.] - ETA: 0s - loss: 261.9033 - root_mean_squared_error: 16.1834"
     ]
    },
    {
     "name": "stderr",
     "output_type": "stream",
     "text": [
      "WARNING:absl:Found untraced functions such as lstm_cell_2_layer_call_fn, lstm_cell_2_layer_call_and_return_conditional_losses while saving (showing 2 of 2). These functions will not be directly callable after loading.\n"
     ]
    },
    {
     "name": "stdout",
     "output_type": "stream",
     "text": [
      "INFO:tensorflow:Assets written to: model1\\assets\n"
     ]
    },
    {
     "name": "stderr",
     "output_type": "stream",
     "text": [
      "INFO:tensorflow:Assets written to: model1\\assets\n"
     ]
    },
    {
     "name": "stdout",
     "output_type": "stream",
     "text": [
      "375/375 [==============================] - 10s 28ms/step - loss: 262.8469 - root_mean_squared_error: 16.2126 - val_loss: 9.0868 - val_root_mean_squared_error: 3.0144\n",
      "Epoch 12/25\n",
      "374/375 [============================>.] - ETA: 0s - loss: 234.6256 - root_mean_squared_error: 15.3175"
     ]
    },
    {
     "name": "stderr",
     "output_type": "stream",
     "text": [
      "WARNING:absl:Found untraced functions such as lstm_cell_2_layer_call_fn, lstm_cell_2_layer_call_and_return_conditional_losses while saving (showing 2 of 2). These functions will not be directly callable after loading.\n"
     ]
    },
    {
     "name": "stdout",
     "output_type": "stream",
     "text": [
      "INFO:tensorflow:Assets written to: model1\\assets\n"
     ]
    },
    {
     "name": "stderr",
     "output_type": "stream",
     "text": [
      "INFO:tensorflow:Assets written to: model1\\assets\n"
     ]
    },
    {
     "name": "stdout",
     "output_type": "stream",
     "text": [
      "375/375 [==============================] - 9s 24ms/step - loss: 234.0363 - root_mean_squared_error: 15.2982 - val_loss: 8.6606 - val_root_mean_squared_error: 2.9429\n",
      "Epoch 13/25\n",
      "367/375 [============================>.] - ETA: 0s - loss: 210.9555 - root_mean_squared_error: 14.5243"
     ]
    },
    {
     "name": "stderr",
     "output_type": "stream",
     "text": [
      "WARNING:absl:Found untraced functions such as lstm_cell_2_layer_call_fn, lstm_cell_2_layer_call_and_return_conditional_losses while saving (showing 2 of 2). These functions will not be directly callable after loading.\n"
     ]
    },
    {
     "name": "stdout",
     "output_type": "stream",
     "text": [
      "INFO:tensorflow:Assets written to: model1\\assets\n"
     ]
    },
    {
     "name": "stderr",
     "output_type": "stream",
     "text": [
      "INFO:tensorflow:Assets written to: model1\\assets\n"
     ]
    },
    {
     "name": "stdout",
     "output_type": "stream",
     "text": [
      "375/375 [==============================] - 9s 25ms/step - loss: 209.2585 - root_mean_squared_error: 14.4658 - val_loss: 8.6045 - val_root_mean_squared_error: 2.9333\n",
      "Epoch 14/25\n",
      "371/375 [============================>.] - ETA: 0s - loss: 189.5001 - root_mean_squared_error: 13.7659"
     ]
    },
    {
     "name": "stderr",
     "output_type": "stream",
     "text": [
      "WARNING:absl:Found untraced functions such as lstm_cell_2_layer_call_fn, lstm_cell_2_layer_call_and_return_conditional_losses while saving (showing 2 of 2). These functions will not be directly callable after loading.\n"
     ]
    },
    {
     "name": "stdout",
     "output_type": "stream",
     "text": [
      "INFO:tensorflow:Assets written to: model1\\assets\n"
     ]
    },
    {
     "name": "stderr",
     "output_type": "stream",
     "text": [
      "INFO:tensorflow:Assets written to: model1\\assets\n"
     ]
    },
    {
     "name": "stdout",
     "output_type": "stream",
     "text": [
      "375/375 [==============================] - 9s 24ms/step - loss: 188.1260 - root_mean_squared_error: 13.7159 - val_loss: 8.2242 - val_root_mean_squared_error: 2.8678\n",
      "Epoch 15/25\n",
      "369/375 [============================>.] - ETA: 0s - loss: 164.8115 - root_mean_squared_error: 12.8379"
     ]
    },
    {
     "name": "stderr",
     "output_type": "stream",
     "text": [
      "WARNING:absl:Found untraced functions such as lstm_cell_2_layer_call_fn, lstm_cell_2_layer_call_and_return_conditional_losses while saving (showing 2 of 2). These functions will not be directly callable after loading.\n"
     ]
    },
    {
     "name": "stdout",
     "output_type": "stream",
     "text": [
      "INFO:tensorflow:Assets written to: model1\\assets\n"
     ]
    },
    {
     "name": "stderr",
     "output_type": "stream",
     "text": [
      "INFO:tensorflow:Assets written to: model1\\assets\n"
     ]
    },
    {
     "name": "stdout",
     "output_type": "stream",
     "text": [
      "375/375 [==============================] - 10s 28ms/step - loss: 170.0815 - root_mean_squared_error: 13.0415 - val_loss: 7.9928 - val_root_mean_squared_error: 2.8272\n",
      "Epoch 16/25\n",
      "375/375 [==============================] - 4s 10ms/step - loss: 154.5755 - root_mean_squared_error: 12.4328 - val_loss: 7.9973 - val_root_mean_squared_error: 2.8280\n",
      "Epoch 17/25\n",
      "375/375 [==============================] - 3s 7ms/step - loss: 140.8138 - root_mean_squared_error: 11.8665 - val_loss: 8.0807 - val_root_mean_squared_error: 2.8427\n",
      "Epoch 18/25\n",
      "375/375 [==============================] - 3s 7ms/step - loss: 128.5649 - root_mean_squared_error: 11.3386 - val_loss: 8.1131 - val_root_mean_squared_error: 2.8483\n",
      "Epoch 19/25\n",
      "375/375 [==============================] - ETA: 0s - loss: 117.7773 - root_mean_squared_error: 10.8525"
     ]
    },
    {
     "name": "stderr",
     "output_type": "stream",
     "text": [
      "WARNING:absl:Found untraced functions such as lstm_cell_2_layer_call_fn, lstm_cell_2_layer_call_and_return_conditional_losses while saving (showing 2 of 2). These functions will not be directly callable after loading.\n"
     ]
    },
    {
     "name": "stdout",
     "output_type": "stream",
     "text": [
      "INFO:tensorflow:Assets written to: model1\\assets\n"
     ]
    },
    {
     "name": "stderr",
     "output_type": "stream",
     "text": [
      "INFO:tensorflow:Assets written to: model1\\assets\n"
     ]
    },
    {
     "name": "stdout",
     "output_type": "stream",
     "text": [
      "375/375 [==============================] - 9s 24ms/step - loss: 117.7773 - root_mean_squared_error: 10.8525 - val_loss: 7.8771 - val_root_mean_squared_error: 2.8066\n",
      "Epoch 20/25\n",
      "375/375 [==============================] - 4s 9ms/step - loss: 108.4131 - root_mean_squared_error: 10.4122 - val_loss: 8.5406 - val_root_mean_squared_error: 2.9224\n",
      "Epoch 21/25\n",
      "375/375 [==============================] - 3s 8ms/step - loss: 100.2785 - root_mean_squared_error: 10.0139 - val_loss: 8.1682 - val_root_mean_squared_error: 2.8580\n",
      "Epoch 22/25\n",
      "375/375 [==============================] - 3s 7ms/step - loss: 93.1704 - root_mean_squared_error: 9.6525 - val_loss: 8.3190 - val_root_mean_squared_error: 2.8843\n",
      "Epoch 23/25\n",
      "375/375 [==============================] - 3s 7ms/step - loss: 86.7196 - root_mean_squared_error: 9.3123 - val_loss: 8.4638 - val_root_mean_squared_error: 2.9093\n",
      "Epoch 24/25\n",
      "375/375 [==============================] - 3s 7ms/step - loss: 80.8985 - root_mean_squared_error: 8.9944 - val_loss: 8.7125 - val_root_mean_squared_error: 2.9517\n",
      "Epoch 25/25\n",
      "375/375 [==============================] - 3s 7ms/step - loss: 75.4796 - root_mean_squared_error: 8.6879 - val_loss: 8.9141 - val_root_mean_squared_error: 2.9856\n"
     ]
    },
    {
     "data": {
      "text/plain": [
       "<keras.callbacks.History at 0x217ce894580>"
      ]
     },
     "execution_count": 48,
     "metadata": {},
     "output_type": "execute_result"
    }
   ],
   "source": [
    "model1.fit(X_train,y_train, validation_data=(X_val,y_val), epochs=25, callbacks=[cp])"
   ]
  },
  {
   "cell_type": "code",
   "execution_count": 49,
   "metadata": {},
   "outputs": [],
   "source": [
    "from keras.models import load_model"
   ]
  },
  {
   "attachments": {},
   "cell_type": "markdown",
   "metadata": {},
   "source": [
    "12. Loads the model so we can work with the best one. "
   ]
  },
  {
   "cell_type": "code",
   "execution_count": 50,
   "metadata": {},
   "outputs": [],
   "source": [
    "model1 = load_model('model1/')"
   ]
  },
  {
   "attachments": {},
   "cell_type": "markdown",
   "metadata": {},
   "source": [
    "13. Calculate the predicted values for the training set and add them to a dataframe."
   ]
  },
  {
   "cell_type": "code",
   "execution_count": 85,
   "metadata": {},
   "outputs": [
    {
     "name": "stdout",
     "output_type": "stream",
     "text": [
      "375/375 [==============================] - 2s 5ms/step\n"
     ]
    },
    {
     "data": {
      "text/html": [
       "<div>\n",
       "<style scoped>\n",
       "    .dataframe tbody tr th:only-of-type {\n",
       "        vertical-align: middle;\n",
       "    }\n",
       "\n",
       "    .dataframe tbody tr th {\n",
       "        vertical-align: top;\n",
       "    }\n",
       "\n",
       "    .dataframe thead th {\n",
       "        text-align: right;\n",
       "    }\n",
       "</style>\n",
       "<table border=\"1\" class=\"dataframe\">\n",
       "  <thead>\n",
       "    <tr style=\"text-align: right;\">\n",
       "      <th></th>\n",
       "      <th>Train Predictions</th>\n",
       "      <th>Actuals</th>\n",
       "    </tr>\n",
       "  </thead>\n",
       "  <tbody>\n",
       "    <tr>\n",
       "      <th>0</th>\n",
       "      <td>10.307143</td>\n",
       "      <td>10.60</td>\n",
       "    </tr>\n",
       "    <tr>\n",
       "      <th>1</th>\n",
       "      <td>11.263230</td>\n",
       "      <td>11.92</td>\n",
       "    </tr>\n",
       "    <tr>\n",
       "      <th>2</th>\n",
       "      <td>12.804028</td>\n",
       "      <td>15.04</td>\n",
       "    </tr>\n",
       "    <tr>\n",
       "      <th>3</th>\n",
       "      <td>18.041586</td>\n",
       "      <td>16.85</td>\n",
       "    </tr>\n",
       "    <tr>\n",
       "      <th>4</th>\n",
       "      <td>16.228193</td>\n",
       "      <td>15.64</td>\n",
       "    </tr>\n",
       "    <tr>\n",
       "      <th>...</th>\n",
       "      <td>...</td>\n",
       "      <td>...</td>\n",
       "    </tr>\n",
       "    <tr>\n",
       "      <th>11995</th>\n",
       "      <td>2.125412</td>\n",
       "      <td>2.45</td>\n",
       "    </tr>\n",
       "    <tr>\n",
       "      <th>11996</th>\n",
       "      <td>3.204007</td>\n",
       "      <td>2.90</td>\n",
       "    </tr>\n",
       "    <tr>\n",
       "      <th>11997</th>\n",
       "      <td>3.335415</td>\n",
       "      <td>3.48</td>\n",
       "    </tr>\n",
       "    <tr>\n",
       "      <th>11998</th>\n",
       "      <td>4.300287</td>\n",
       "      <td>4.54</td>\n",
       "    </tr>\n",
       "    <tr>\n",
       "      <th>11999</th>\n",
       "      <td>5.851773</td>\n",
       "      <td>5.91</td>\n",
       "    </tr>\n",
       "  </tbody>\n",
       "</table>\n",
       "<p>12000 rows × 2 columns</p>\n",
       "</div>"
      ],
      "text/plain": [
       "       Train Predictions  Actuals\n",
       "0              10.307143    10.60\n",
       "1              11.263230    11.92\n",
       "2              12.804028    15.04\n",
       "3              18.041586    16.85\n",
       "4              16.228193    15.64\n",
       "...                  ...      ...\n",
       "11995           2.125412     2.45\n",
       "11996           3.204007     2.90\n",
       "11997           3.335415     3.48\n",
       "11998           4.300287     4.54\n",
       "11999           5.851773     5.91\n",
       "\n",
       "[12000 rows x 2 columns]"
      ]
     },
     "execution_count": 85,
     "metadata": {},
     "output_type": "execute_result"
    }
   ],
   "source": [
    "train_predictions = model1.predict(X_train).flatten()\n",
    "train_results = pd.DataFrame(data={'Train Predictions':train_predictions, 'Actuals':y_train})\n",
    "train_results"
   ]
  },
  {
   "attachments": {},
   "cell_type": "markdown",
   "metadata": {},
   "source": [
    "14. Visualize the data to compare predicted values to the actual values for the training set. As you can see, the model did a pretty good job of predicting values since the lines are pretty close together, but it seems like it has a harder time predicting the larger spikes like the XGBoost model. "
   ]
  },
  {
   "cell_type": "code",
   "execution_count": 116,
   "metadata": {},
   "outputs": [
    {
     "data": {
      "image/png": "[encoded data removed]",
      "text/plain": [
       "<Figure size 640x480 with 1 Axes>"
      ]
     },
     "metadata": {},
     "output_type": "display_data"
    }
   ],
   "source": [
    "import matplotlib.pyplot as plt\n",
    "plt.plot(train_results['Train Predictions'][:100])\n",
    "plt.plot(train_results['Actuals'][:100])\n",
    "plt.title('Predicted vs Actual Values for Training Set')\n",
    "plt.legend(['Predictions','Actuals']);"
   ]
  },
  {
   "attachments": {},
   "cell_type": "markdown",
   "metadata": {},
   "source": [
    "15. Calculate the predicted values for the validation set and add them to a dataframe."
   ]
  },
  {
   "cell_type": "code",
   "execution_count": 87,
   "metadata": {},
   "outputs": [
    {
     "name": "stdout",
     "output_type": "stream",
     "text": [
      "94/94 [==============================] - 0s 5ms/step\n"
     ]
    },
    {
     "data": {
      "text/html": [
       "<div>\n",
       "<style scoped>\n",
       "    .dataframe tbody tr th:only-of-type {\n",
       "        vertical-align: middle;\n",
       "    }\n",
       "\n",
       "    .dataframe tbody tr th {\n",
       "        vertical-align: top;\n",
       "    }\n",
       "\n",
       "    .dataframe thead th {\n",
       "        text-align: right;\n",
       "    }\n",
       "</style>\n",
       "<table border=\"1\" class=\"dataframe\">\n",
       "  <thead>\n",
       "    <tr style=\"text-align: right;\">\n",
       "      <th></th>\n",
       "      <th>Val Predictions</th>\n",
       "      <th>Actuals</th>\n",
       "    </tr>\n",
       "  </thead>\n",
       "  <tbody>\n",
       "    <tr>\n",
       "      <th>0</th>\n",
       "      <td>7.201717</td>\n",
       "      <td>7.60</td>\n",
       "    </tr>\n",
       "    <tr>\n",
       "      <th>1</th>\n",
       "      <td>9.176711</td>\n",
       "      <td>11.78</td>\n",
       "    </tr>\n",
       "    <tr>\n",
       "      <th>2</th>\n",
       "      <td>16.913963</td>\n",
       "      <td>12.08</td>\n",
       "    </tr>\n",
       "    <tr>\n",
       "      <th>3</th>\n",
       "      <td>9.205516</td>\n",
       "      <td>5.95</td>\n",
       "    </tr>\n",
       "    <tr>\n",
       "      <th>4</th>\n",
       "      <td>2.537470</td>\n",
       "      <td>6.47</td>\n",
       "    </tr>\n",
       "    <tr>\n",
       "      <th>...</th>\n",
       "      <td>...</td>\n",
       "      <td>...</td>\n",
       "    </tr>\n",
       "    <tr>\n",
       "      <th>2995</th>\n",
       "      <td>19.922052</td>\n",
       "      <td>20.61</td>\n",
       "    </tr>\n",
       "    <tr>\n",
       "      <th>2996</th>\n",
       "      <td>19.529484</td>\n",
       "      <td>19.86</td>\n",
       "    </tr>\n",
       "    <tr>\n",
       "      <th>2997</th>\n",
       "      <td>18.154495</td>\n",
       "      <td>18.63</td>\n",
       "    </tr>\n",
       "    <tr>\n",
       "      <th>2998</th>\n",
       "      <td>17.156572</td>\n",
       "      <td>17.85</td>\n",
       "    </tr>\n",
       "    <tr>\n",
       "      <th>2999</th>\n",
       "      <td>17.122969</td>\n",
       "      <td>18.36</td>\n",
       "    </tr>\n",
       "  </tbody>\n",
       "</table>\n",
       "<p>3000 rows × 2 columns</p>\n",
       "</div>"
      ],
      "text/plain": [
       "      Val Predictions  Actuals\n",
       "0            7.201717     7.60\n",
       "1            9.176711    11.78\n",
       "2           16.913963    12.08\n",
       "3            9.205516     5.95\n",
       "4            2.537470     6.47\n",
       "...               ...      ...\n",
       "2995        19.922052    20.61\n",
       "2996        19.529484    19.86\n",
       "2997        18.154495    18.63\n",
       "2998        17.156572    17.85\n",
       "2999        17.122969    18.36\n",
       "\n",
       "[3000 rows x 2 columns]"
      ]
     },
     "execution_count": 87,
     "metadata": {},
     "output_type": "execute_result"
    }
   ],
   "source": [
    "val_predictions = model1.predict(X_val).flatten()\n",
    "val_results = pd.DataFrame(data={'Val Predictions':val_predictions, 'Actuals':y_val})\n",
    "val_results"
   ]
  },
  {
   "attachments": {},
   "cell_type": "markdown",
   "metadata": {},
   "source": [
    "16. Visualize the data to compare predicted values to the actual values for the validation set. It looks like the model did a better job predicting the large spikes for this set. "
   ]
  },
  {
   "cell_type": "code",
   "execution_count": 117,
   "metadata": {},
   "outputs": [
    {
     "data": {
      "image/png": "[encoded data removed]",
      "text/plain": [
       "<Figure size 640x480 with 1 Axes>"
      ]
     },
     "metadata": {},
     "output_type": "display_data"
    }
   ],
   "source": [
    "plt.plot(val_results['Val Predictions'][:100])\n",
    "plt.plot(val_results['Actuals'][:100])\n",
    "plt.title('Predicted vs Actual Values for Validation Set')\n",
    "plt.legend(['Predictions','Actuals']);"
   ]
  },
  {
   "attachments": {},
   "cell_type": "markdown",
   "metadata": {},
   "source": [
    "17. Calculate the predicted values for the test set and add them to a dataframe."
   ]
  },
  {
   "cell_type": "code",
   "execution_count": 89,
   "metadata": {},
   "outputs": [
    {
     "name": "stdout",
     "output_type": "stream",
     "text": [
      "96/96 [==============================] - 0s 4ms/step\n"
     ]
    },
    {
     "data": {
      "text/html": [
       "<div>\n",
       "<style scoped>\n",
       "    .dataframe tbody tr th:only-of-type {\n",
       "        vertical-align: middle;\n",
       "    }\n",
       "\n",
       "    .dataframe tbody tr th {\n",
       "        vertical-align: top;\n",
       "    }\n",
       "\n",
       "    .dataframe thead th {\n",
       "        text-align: right;\n",
       "    }\n",
       "</style>\n",
       "<table border=\"1\" class=\"dataframe\">\n",
       "  <thead>\n",
       "    <tr style=\"text-align: right;\">\n",
       "      <th></th>\n",
       "      <th>Test Predictions</th>\n",
       "      <th>Actuals</th>\n",
       "    </tr>\n",
       "  </thead>\n",
       "  <tbody>\n",
       "    <tr>\n",
       "      <th>0</th>\n",
       "      <td>18.914171</td>\n",
       "      <td>18.85</td>\n",
       "    </tr>\n",
       "    <tr>\n",
       "      <th>1</th>\n",
       "      <td>18.620604</td>\n",
       "      <td>16.84</td>\n",
       "    </tr>\n",
       "    <tr>\n",
       "      <th>2</th>\n",
       "      <td>14.394859</td>\n",
       "      <td>17.90</td>\n",
       "    </tr>\n",
       "    <tr>\n",
       "      <th>3</th>\n",
       "      <td>20.261818</td>\n",
       "      <td>19.42</td>\n",
       "    </tr>\n",
       "    <tr>\n",
       "      <th>4</th>\n",
       "      <td>19.124249</td>\n",
       "      <td>22.37</td>\n",
       "    </tr>\n",
       "    <tr>\n",
       "      <th>...</th>\n",
       "      <td>...</td>\n",
       "      <td>...</td>\n",
       "    </tr>\n",
       "    <tr>\n",
       "      <th>3051</th>\n",
       "      <td>35.103706</td>\n",
       "      <td>36.08</td>\n",
       "    </tr>\n",
       "    <tr>\n",
       "      <th>3052</th>\n",
       "      <td>45.220074</td>\n",
       "      <td>45.75</td>\n",
       "    </tr>\n",
       "    <tr>\n",
       "      <th>3053</th>\n",
       "      <td>49.981522</td>\n",
       "      <td>50.21</td>\n",
       "    </tr>\n",
       "    <tr>\n",
       "      <th>3054</th>\n",
       "      <td>48.004055</td>\n",
       "      <td>48.14</td>\n",
       "    </tr>\n",
       "    <tr>\n",
       "      <th>3055</th>\n",
       "      <td>41.086742</td>\n",
       "      <td>44.33</td>\n",
       "    </tr>\n",
       "  </tbody>\n",
       "</table>\n",
       "<p>3056 rows × 2 columns</p>\n",
       "</div>"
      ],
      "text/plain": [
       "      Test Predictions  Actuals\n",
       "0            18.914171    18.85\n",
       "1            18.620604    16.84\n",
       "2            14.394859    17.90\n",
       "3            20.261818    19.42\n",
       "4            19.124249    22.37\n",
       "...                ...      ...\n",
       "3051         35.103706    36.08\n",
       "3052         45.220074    45.75\n",
       "3053         49.981522    50.21\n",
       "3054         48.004055    48.14\n",
       "3055         41.086742    44.33\n",
       "\n",
       "[3056 rows x 2 columns]"
      ]
     },
     "execution_count": 89,
     "metadata": {},
     "output_type": "execute_result"
    }
   ],
   "source": [
    "test_predictions = model1.predict(X_test).flatten()\n",
    "test_results = pd.DataFrame(data={'Test Predictions':test_predictions, 'Actuals':y_test})\n",
    "test_results"
   ]
  },
  {
   "attachments": {},
   "cell_type": "markdown",
   "metadata": {},
   "source": [
    "18. Visualize the data to compare predicted values to the actual values for the test set. This time, it looks like the model overshot the actual values since the predicted line rises above the one for the actuals. "
   ]
  },
  {
   "cell_type": "code",
   "execution_count": 118,
   "metadata": {},
   "outputs": [
    {
     "data": {
      "image/png": "[encoded data removed]",
      "text/plain": [
       "<Figure size 640x480 with 1 Axes>"
      ]
     },
     "metadata": {},
     "output_type": "display_data"
    }
   ],
   "source": [
    "plt.plot(test_results['Test Predictions'][:100])\n",
    "plt.plot(test_results['Actuals'][:100])\n",
    "plt.title('Predicted vs Actual Values for Test Set')\n",
    "plt.legend(['Predictions','Actuals']);"
   ]
  },
  {
   "cell_type": "code",
   "execution_count": 57,
   "metadata": {},
   "outputs": [],
   "source": [
    "from sklearn.metrics import r2_score"
   ]
  },
  {
   "attachments": {},
   "cell_type": "markdown",
   "metadata": {},
   "source": [
    "19. Calculate the coefficient of determination for the training set, validation set, and testing set. As you can see, the model performed pretty well when you consider that we did not have to add any extra features like we had to for the XGBoost model. When we tested the XGBoost model's training score with no added features it was .12, so this model performs much better at its most basic level. "
   ]
  },
  {
   "cell_type": "code",
   "execution_count": 106,
   "metadata": {},
   "outputs": [
    {
     "data": {
      "text/plain": [
       "0.8433873002903651"
      ]
     },
     "execution_count": 106,
     "metadata": {},
     "output_type": "execute_result"
    }
   ],
   "source": [
    "train_r2 = r2_score(train_results['Actuals'],train_results['Train Predictions'])\n",
    "train_r2"
   ]
  },
  {
   "cell_type": "code",
   "execution_count": 60,
   "metadata": {},
   "outputs": [
    {
     "data": {
      "text/plain": [
       "0.9253142207262933"
      ]
     },
     "execution_count": 60,
     "metadata": {},
     "output_type": "execute_result"
    }
   ],
   "source": [
    "val_r2 = r2_score(val_results['Actuals'],val_results['Val Predictions'])\n",
    "val_r2"
   ]
  },
  {
   "cell_type": "code",
   "execution_count": 105,
   "metadata": {},
   "outputs": [
    {
     "data": {
      "text/plain": [
       "0.7846054986630341"
      ]
     },
     "execution_count": 105,
     "metadata": {},
     "output_type": "execute_result"
    }
   ],
   "source": [
    "test_r2 = r2_score(test_results['Actuals'],test_results['Test Predictions'])\n",
    "test_r2"
   ]
  },
  {
   "attachments": {},
   "cell_type": "markdown",
   "metadata": {},
   "source": [
    "20. Create a second model. This time we are adding features to help it get a better sense of how the data progresses with time so that its performance is improved. As we saw before, this is not as necessary as when you use XGBoost to predict time series data, but we want to refine our model. "
   ]
  },
  {
   "cell_type": "code",
   "execution_count": 62,
   "metadata": {},
   "outputs": [
    {
     "data": {
      "text/html": [
       "<div>\n",
       "<style scoped>\n",
       "    .dataframe tbody tr th:only-of-type {\n",
       "        vertical-align: middle;\n",
       "    }\n",
       "\n",
       "    .dataframe tbody tr th {\n",
       "        vertical-align: top;\n",
       "    }\n",
       "\n",
       "    .dataframe thead th {\n",
       "        text-align: right;\n",
       "    }\n",
       "</style>\n",
       "<table border=\"1\" class=\"dataframe\">\n",
       "  <thead>\n",
       "    <tr style=\"text-align: right;\">\n",
       "      <th></th>\n",
       "      <th>pm2_5</th>\n",
       "      <th>seconds</th>\n",
       "    </tr>\n",
       "    <tr>\n",
       "      <th>date</th>\n",
       "      <th></th>\n",
       "      <th></th>\n",
       "    </tr>\n",
       "  </thead>\n",
       "  <tbody>\n",
       "    <tr>\n",
       "      <th>2020-12-01 05:00:00</th>\n",
       "      <td>9.31</td>\n",
       "      <td>1.606799e+09</td>\n",
       "    </tr>\n",
       "    <tr>\n",
       "      <th>2020-12-01 06:00:00</th>\n",
       "      <td>8.43</td>\n",
       "      <td>1.606802e+09</td>\n",
       "    </tr>\n",
       "    <tr>\n",
       "      <th>2020-12-01 07:00:00</th>\n",
       "      <td>8.55</td>\n",
       "      <td>1.606806e+09</td>\n",
       "    </tr>\n",
       "    <tr>\n",
       "      <th>2020-12-01 08:00:00</th>\n",
       "      <td>8.92</td>\n",
       "      <td>1.606810e+09</td>\n",
       "    </tr>\n",
       "    <tr>\n",
       "      <th>2020-12-01 09:00:00</th>\n",
       "      <td>9.62</td>\n",
       "      <td>1.606813e+09</td>\n",
       "    </tr>\n",
       "    <tr>\n",
       "      <th>...</th>\n",
       "      <td>...</td>\n",
       "      <td>...</td>\n",
       "    </tr>\n",
       "    <tr>\n",
       "      <th>2022-12-31 13:00:00</th>\n",
       "      <td>36.08</td>\n",
       "      <td>1.672492e+09</td>\n",
       "    </tr>\n",
       "    <tr>\n",
       "      <th>2022-12-31 14:00:00</th>\n",
       "      <td>45.75</td>\n",
       "      <td>1.672495e+09</td>\n",
       "    </tr>\n",
       "    <tr>\n",
       "      <th>2022-12-31 15:00:00</th>\n",
       "      <td>50.21</td>\n",
       "      <td>1.672499e+09</td>\n",
       "    </tr>\n",
       "    <tr>\n",
       "      <th>2022-12-31 16:00:00</th>\n",
       "      <td>48.14</td>\n",
       "      <td>1.672502e+09</td>\n",
       "    </tr>\n",
       "    <tr>\n",
       "      <th>2022-12-31 17:00:00</th>\n",
       "      <td>44.33</td>\n",
       "      <td>1.672506e+09</td>\n",
       "    </tr>\n",
       "  </tbody>\n",
       "</table>\n",
       "<p>18061 rows × 2 columns</p>\n",
       "</div>"
      ],
      "text/plain": [
       "                     pm2_5       seconds\n",
       "date                                    \n",
       "2020-12-01 05:00:00   9.31  1.606799e+09\n",
       "2020-12-01 06:00:00   8.43  1.606802e+09\n",
       "2020-12-01 07:00:00   8.55  1.606806e+09\n",
       "2020-12-01 08:00:00   8.92  1.606810e+09\n",
       "2020-12-01 09:00:00   9.62  1.606813e+09\n",
       "...                    ...           ...\n",
       "2022-12-31 13:00:00  36.08  1.672492e+09\n",
       "2022-12-31 14:00:00  45.75  1.672495e+09\n",
       "2022-12-31 15:00:00  50.21  1.672499e+09\n",
       "2022-12-31 16:00:00  48.14  1.672502e+09\n",
       "2022-12-31 17:00:00  44.33  1.672506e+09\n",
       "\n",
       "[18061 rows x 2 columns]"
      ]
     },
     "execution_count": 62,
     "metadata": {},
     "output_type": "execute_result"
    }
   ],
   "source": [
    "pm25_df = pd.DataFrame({'pm2_5':pm25})\n",
    "pm25_df['seconds'] = pm25_df.index.map(pd.Timestamp.timestamp)\n",
    "pm25_df"
   ]
  },
  {
   "attachments": {},
   "cell_type": "markdown",
   "metadata": {},
   "source": [
    "21. Use the seconds column to create columns for Day sin, Day cos, Year sin, and Year cos. These features are similar to the lag features that we used for our XGBoost model in that they are there to give a sense of relative time, but these are referred to as cyclical features. "
   ]
  },
  {
   "cell_type": "code",
   "execution_count": 63,
   "metadata": {},
   "outputs": [],
   "source": [
    "day = 60*60*24\n",
    "year = 365.2425*day \n",
    "\n",
    "pm25_df['Day sin'] = np.sin(pm25_df['seconds'] * (2*np.pi / day))\n",
    "pm25_df['Day cos'] = np.cos(pm25_df['seconds'] * (2*np.pi / day))\n",
    "pm25_df['Year sin'] = np.sin(pm25_df['seconds'] * (2*np.pi / year))\n",
    "pm25_df['Year cos'] = np.cos(pm25_df['seconds'] * (2*np.pi / year))"
   ]
  },
  {
   "cell_type": "code",
   "execution_count": 64,
   "metadata": {},
   "outputs": [
    {
     "data": {
      "text/html": [
       "<div>\n",
       "<style scoped>\n",
       "    .dataframe tbody tr th:only-of-type {\n",
       "        vertical-align: middle;\n",
       "    }\n",
       "\n",
       "    .dataframe tbody tr th {\n",
       "        vertical-align: top;\n",
       "    }\n",
       "\n",
       "    .dataframe thead th {\n",
       "        text-align: right;\n",
       "    }\n",
       "</style>\n",
       "<table border=\"1\" class=\"dataframe\">\n",
       "  <thead>\n",
       "    <tr style=\"text-align: right;\">\n",
       "      <th></th>\n",
       "      <th>pm2_5</th>\n",
       "      <th>seconds</th>\n",
       "      <th>Day sin</th>\n",
       "      <th>Day cos</th>\n",
       "      <th>Year sin</th>\n",
       "      <th>Year cos</th>\n",
       "    </tr>\n",
       "    <tr>\n",
       "      <th>date</th>\n",
       "      <th></th>\n",
       "      <th></th>\n",
       "      <th></th>\n",
       "      <th></th>\n",
       "      <th></th>\n",
       "      <th></th>\n",
       "    </tr>\n",
       "  </thead>\n",
       "  <tbody>\n",
       "    <tr>\n",
       "      <th>2020-12-01 05:00:00</th>\n",
       "      <td>9.31</td>\n",
       "      <td>1.606799e+09</td>\n",
       "      <td>0.965926</td>\n",
       "      <td>2.588190e-01</td>\n",
       "      <td>-0.495857</td>\n",
       "      <td>0.868404</td>\n",
       "    </tr>\n",
       "    <tr>\n",
       "      <th>2020-12-01 06:00:00</th>\n",
       "      <td>8.43</td>\n",
       "      <td>1.606802e+09</td>\n",
       "      <td>1.000000</td>\n",
       "      <td>1.086286e-11</td>\n",
       "      <td>-0.495234</td>\n",
       "      <td>0.868759</td>\n",
       "    </tr>\n",
       "    <tr>\n",
       "      <th>2020-12-01 07:00:00</th>\n",
       "      <td>8.55</td>\n",
       "      <td>1.606806e+09</td>\n",
       "      <td>0.965926</td>\n",
       "      <td>-2.588190e-01</td>\n",
       "      <td>-0.494612</td>\n",
       "      <td>0.869114</td>\n",
       "    </tr>\n",
       "    <tr>\n",
       "      <th>2020-12-01 08:00:00</th>\n",
       "      <td>8.92</td>\n",
       "      <td>1.606810e+09</td>\n",
       "      <td>0.866025</td>\n",
       "      <td>-5.000000e-01</td>\n",
       "      <td>-0.493988</td>\n",
       "      <td>0.869468</td>\n",
       "    </tr>\n",
       "    <tr>\n",
       "      <th>2020-12-01 09:00:00</th>\n",
       "      <td>9.62</td>\n",
       "      <td>1.606813e+09</td>\n",
       "      <td>0.707107</td>\n",
       "      <td>-7.071068e-01</td>\n",
       "      <td>-0.493365</td>\n",
       "      <td>0.869822</td>\n",
       "    </tr>\n",
       "    <tr>\n",
       "      <th>...</th>\n",
       "      <td>...</td>\n",
       "      <td>...</td>\n",
       "      <td>...</td>\n",
       "      <td>...</td>\n",
       "      <td>...</td>\n",
       "      <td>...</td>\n",
       "    </tr>\n",
       "    <tr>\n",
       "      <th>2022-12-31 13:00:00</th>\n",
       "      <td>36.08</td>\n",
       "      <td>1.672492e+09</td>\n",
       "      <td>-0.258819</td>\n",
       "      <td>-9.659258e-01</td>\n",
       "      <td>-0.005347</td>\n",
       "      <td>0.999986</td>\n",
       "    </tr>\n",
       "    <tr>\n",
       "      <th>2022-12-31 14:00:00</th>\n",
       "      <td>45.75</td>\n",
       "      <td>1.672495e+09</td>\n",
       "      <td>-0.500000</td>\n",
       "      <td>-8.660254e-01</td>\n",
       "      <td>-0.004630</td>\n",
       "      <td>0.999989</td>\n",
       "    </tr>\n",
       "    <tr>\n",
       "      <th>2022-12-31 15:00:00</th>\n",
       "      <td>50.21</td>\n",
       "      <td>1.672499e+09</td>\n",
       "      <td>-0.707107</td>\n",
       "      <td>-7.071068e-01</td>\n",
       "      <td>-0.003914</td>\n",
       "      <td>0.999992</td>\n",
       "    </tr>\n",
       "    <tr>\n",
       "      <th>2022-12-31 16:00:00</th>\n",
       "      <td>48.14</td>\n",
       "      <td>1.672502e+09</td>\n",
       "      <td>-0.866025</td>\n",
       "      <td>-5.000000e-01</td>\n",
       "      <td>-0.003197</td>\n",
       "      <td>0.999995</td>\n",
       "    </tr>\n",
       "    <tr>\n",
       "      <th>2022-12-31 17:00:00</th>\n",
       "      <td>44.33</td>\n",
       "      <td>1.672506e+09</td>\n",
       "      <td>-0.965926</td>\n",
       "      <td>-2.588190e-01</td>\n",
       "      <td>-0.002480</td>\n",
       "      <td>0.999997</td>\n",
       "    </tr>\n",
       "  </tbody>\n",
       "</table>\n",
       "<p>18061 rows × 6 columns</p>\n",
       "</div>"
      ],
      "text/plain": [
       "                     pm2_5       seconds   Day sin       Day cos  Year sin  \\\n",
       "date                                                                         \n",
       "2020-12-01 05:00:00   9.31  1.606799e+09  0.965926  2.588190e-01 -0.495857   \n",
       "2020-12-01 06:00:00   8.43  1.606802e+09  1.000000  1.086286e-11 -0.495234   \n",
       "2020-12-01 07:00:00   8.55  1.606806e+09  0.965926 -2.588190e-01 -0.494612   \n",
       "2020-12-01 08:00:00   8.92  1.606810e+09  0.866025 -5.000000e-01 -0.493988   \n",
       "2020-12-01 09:00:00   9.62  1.606813e+09  0.707107 -7.071068e-01 -0.493365   \n",
       "...                    ...           ...       ...           ...       ...   \n",
       "2022-12-31 13:00:00  36.08  1.672492e+09 -0.258819 -9.659258e-01 -0.005347   \n",
       "2022-12-31 14:00:00  45.75  1.672495e+09 -0.500000 -8.660254e-01 -0.004630   \n",
       "2022-12-31 15:00:00  50.21  1.672499e+09 -0.707107 -7.071068e-01 -0.003914   \n",
       "2022-12-31 16:00:00  48.14  1.672502e+09 -0.866025 -5.000000e-01 -0.003197   \n",
       "2022-12-31 17:00:00  44.33  1.672506e+09 -0.965926 -2.588190e-01 -0.002480   \n",
       "\n",
       "                     Year cos  \n",
       "date                           \n",
       "2020-12-01 05:00:00  0.868404  \n",
       "2020-12-01 06:00:00  0.868759  \n",
       "2020-12-01 07:00:00  0.869114  \n",
       "2020-12-01 08:00:00  0.869468  \n",
       "2020-12-01 09:00:00  0.869822  \n",
       "...                       ...  \n",
       "2022-12-31 13:00:00  0.999986  \n",
       "2022-12-31 14:00:00  0.999989  \n",
       "2022-12-31 15:00:00  0.999992  \n",
       "2022-12-31 16:00:00  0.999995  \n",
       "2022-12-31 17:00:00  0.999997  \n",
       "\n",
       "[18061 rows x 6 columns]"
      ]
     },
     "execution_count": 64,
     "metadata": {},
     "output_type": "execute_result"
    }
   ],
   "source": [
    "pm25_df"
   ]
  },
  {
   "attachments": {},
   "cell_type": "markdown",
   "metadata": {},
   "source": [
    "22. Drop the seconds column since it is no longer necessary now that we have created the extra columns. "
   ]
  },
  {
   "cell_type": "code",
   "execution_count": 65,
   "metadata": {},
   "outputs": [],
   "source": [
    "aqi_df = pm25_df.drop('seconds', axis=1)"
   ]
  },
  {
   "cell_type": "code",
   "execution_count": 66,
   "metadata": {},
   "outputs": [
    {
     "data": {
      "text/html": [
       "<div>\n",
       "<style scoped>\n",
       "    .dataframe tbody tr th:only-of-type {\n",
       "        vertical-align: middle;\n",
       "    }\n",
       "\n",
       "    .dataframe tbody tr th {\n",
       "        vertical-align: top;\n",
       "    }\n",
       "\n",
       "    .dataframe thead th {\n",
       "        text-align: right;\n",
       "    }\n",
       "</style>\n",
       "<table border=\"1\" class=\"dataframe\">\n",
       "  <thead>\n",
       "    <tr style=\"text-align: right;\">\n",
       "      <th></th>\n",
       "      <th>pm2_5</th>\n",
       "      <th>Day sin</th>\n",
       "      <th>Day cos</th>\n",
       "      <th>Year sin</th>\n",
       "      <th>Year cos</th>\n",
       "    </tr>\n",
       "    <tr>\n",
       "      <th>date</th>\n",
       "      <th></th>\n",
       "      <th></th>\n",
       "      <th></th>\n",
       "      <th></th>\n",
       "      <th></th>\n",
       "    </tr>\n",
       "  </thead>\n",
       "  <tbody>\n",
       "    <tr>\n",
       "      <th>2020-12-01 05:00:00</th>\n",
       "      <td>9.31</td>\n",
       "      <td>0.965926</td>\n",
       "      <td>2.588190e-01</td>\n",
       "      <td>-0.495857</td>\n",
       "      <td>0.868404</td>\n",
       "    </tr>\n",
       "    <tr>\n",
       "      <th>2020-12-01 06:00:00</th>\n",
       "      <td>8.43</td>\n",
       "      <td>1.000000</td>\n",
       "      <td>1.086286e-11</td>\n",
       "      <td>-0.495234</td>\n",
       "      <td>0.868759</td>\n",
       "    </tr>\n",
       "    <tr>\n",
       "      <th>2020-12-01 07:00:00</th>\n",
       "      <td>8.55</td>\n",
       "      <td>0.965926</td>\n",
       "      <td>-2.588190e-01</td>\n",
       "      <td>-0.494612</td>\n",
       "      <td>0.869114</td>\n",
       "    </tr>\n",
       "    <tr>\n",
       "      <th>2020-12-01 08:00:00</th>\n",
       "      <td>8.92</td>\n",
       "      <td>0.866025</td>\n",
       "      <td>-5.000000e-01</td>\n",
       "      <td>-0.493988</td>\n",
       "      <td>0.869468</td>\n",
       "    </tr>\n",
       "    <tr>\n",
       "      <th>2020-12-01 09:00:00</th>\n",
       "      <td>9.62</td>\n",
       "      <td>0.707107</td>\n",
       "      <td>-7.071068e-01</td>\n",
       "      <td>-0.493365</td>\n",
       "      <td>0.869822</td>\n",
       "    </tr>\n",
       "    <tr>\n",
       "      <th>...</th>\n",
       "      <td>...</td>\n",
       "      <td>...</td>\n",
       "      <td>...</td>\n",
       "      <td>...</td>\n",
       "      <td>...</td>\n",
       "    </tr>\n",
       "    <tr>\n",
       "      <th>2022-12-31 13:00:00</th>\n",
       "      <td>36.08</td>\n",
       "      <td>-0.258819</td>\n",
       "      <td>-9.659258e-01</td>\n",
       "      <td>-0.005347</td>\n",
       "      <td>0.999986</td>\n",
       "    </tr>\n",
       "    <tr>\n",
       "      <th>2022-12-31 14:00:00</th>\n",
       "      <td>45.75</td>\n",
       "      <td>-0.500000</td>\n",
       "      <td>-8.660254e-01</td>\n",
       "      <td>-0.004630</td>\n",
       "      <td>0.999989</td>\n",
       "    </tr>\n",
       "    <tr>\n",
       "      <th>2022-12-31 15:00:00</th>\n",
       "      <td>50.21</td>\n",
       "      <td>-0.707107</td>\n",
       "      <td>-7.071068e-01</td>\n",
       "      <td>-0.003914</td>\n",
       "      <td>0.999992</td>\n",
       "    </tr>\n",
       "    <tr>\n",
       "      <th>2022-12-31 16:00:00</th>\n",
       "      <td>48.14</td>\n",
       "      <td>-0.866025</td>\n",
       "      <td>-5.000000e-01</td>\n",
       "      <td>-0.003197</td>\n",
       "      <td>0.999995</td>\n",
       "    </tr>\n",
       "    <tr>\n",
       "      <th>2022-12-31 17:00:00</th>\n",
       "      <td>44.33</td>\n",
       "      <td>-0.965926</td>\n",
       "      <td>-2.588190e-01</td>\n",
       "      <td>-0.002480</td>\n",
       "      <td>0.999997</td>\n",
       "    </tr>\n",
       "  </tbody>\n",
       "</table>\n",
       "<p>18061 rows × 5 columns</p>\n",
       "</div>"
      ],
      "text/plain": [
       "                     pm2_5   Day sin       Day cos  Year sin  Year cos\n",
       "date                                                                  \n",
       "2020-12-01 05:00:00   9.31  0.965926  2.588190e-01 -0.495857  0.868404\n",
       "2020-12-01 06:00:00   8.43  1.000000  1.086286e-11 -0.495234  0.868759\n",
       "2020-12-01 07:00:00   8.55  0.965926 -2.588190e-01 -0.494612  0.869114\n",
       "2020-12-01 08:00:00   8.92  0.866025 -5.000000e-01 -0.493988  0.869468\n",
       "2020-12-01 09:00:00   9.62  0.707107 -7.071068e-01 -0.493365  0.869822\n",
       "...                    ...       ...           ...       ...       ...\n",
       "2022-12-31 13:00:00  36.08 -0.258819 -9.659258e-01 -0.005347  0.999986\n",
       "2022-12-31 14:00:00  45.75 -0.500000 -8.660254e-01 -0.004630  0.999989\n",
       "2022-12-31 15:00:00  50.21 -0.707107 -7.071068e-01 -0.003914  0.999992\n",
       "2022-12-31 16:00:00  48.14 -0.866025 -5.000000e-01 -0.003197  0.999995\n",
       "2022-12-31 17:00:00  44.33 -0.965926 -2.588190e-01 -0.002480  0.999997\n",
       "\n",
       "[18061 rows x 5 columns]"
      ]
     },
     "execution_count": 66,
     "metadata": {},
     "output_type": "execute_result"
    }
   ],
   "source": [
    "aqi_df"
   ]
  },
  {
   "attachments": {},
   "cell_type": "markdown",
   "metadata": {},
   "source": [
    "23. This is the same function as before, but it makes it so that there are 6 lists in each array since the window size is 6, and each array has 5 values since we have 5 features now (PM2.5, day sin, day cos, year sin, and year cos)."
   ]
  },
  {
   "cell_type": "code",
   "execution_count": 67,
   "metadata": {},
   "outputs": [],
   "source": [
    "def df_to_X_y2(df, window_size=6):\n",
    "    df_as_np = df.to_numpy()\n",
    "    X = []\n",
    "    y = []\n",
    "    for i in range(len(df_as_np)-window_size):\n",
    "        row = [r for r in df_as_np[i:i+window_size]]\n",
    "        X.append(row)\n",
    "        label = df_as_np[i+window_size][0]\n",
    "        y.append(label)\n",
    "    return np.array(X), np.array(y)"
   ]
  },
  {
   "cell_type": "code",
   "execution_count": 68,
   "metadata": {},
   "outputs": [
    {
     "data": {
      "text/plain": [
       "((18055, 6, 5), (18055,))"
      ]
     },
     "execution_count": 68,
     "metadata": {},
     "output_type": "execute_result"
    }
   ],
   "source": [
    "X2, y2 = df_to_X_y2(aqi_df)\n",
    "X2.shape, y2.shape "
   ]
  },
  {
   "attachments": {},
   "cell_type": "markdown",
   "metadata": {},
   "source": [
    "24. Separate the data into a training set, a validation set, and a testing set. "
   ]
  },
  {
   "cell_type": "code",
   "execution_count": 69,
   "metadata": {},
   "outputs": [
    {
     "data": {
      "text/plain": [
       "((12000, 6, 5), (12000,), (3000, 6, 5), (3000,), (3055, 6, 5), (3055,))"
      ]
     },
     "execution_count": 69,
     "metadata": {},
     "output_type": "execute_result"
    }
   ],
   "source": [
    "X2_train, y2_train = X2[:12000], y2[:12000]\n",
    "X2_val, y2_val = X2[12000:15000], y2[12000:15000]\n",
    "X2_test, y2_test = X2[15000:], y2[15000:]\n",
    "X2_train.shape, y2_train.shape, X2_val.shape, y2_val.shape, X2_test.shape, y2_test.shape"
   ]
  },
  {
   "attachments": {},
   "cell_type": "markdown",
   "metadata": {},
   "source": [
    "25. Standardize the data so that all the values are on a similar scale. "
   ]
  },
  {
   "cell_type": "code",
   "execution_count": 70,
   "metadata": {},
   "outputs": [],
   "source": [
    "pm25_training_mean = np.mean(X2_train[:, :, 0])\n",
    "pm25_training_std = np.std(X2_train[:, :, 0])\n",
    "\n",
    "def preprocess(X):\n",
    "    X[:, :, 0] = (X[:, :, 0] - pm25_training_mean) / pm25_training_std\n",
    "    return X"
   ]
  },
  {
   "cell_type": "code",
   "execution_count": 71,
   "metadata": {},
   "outputs": [
    {
     "data": {
      "text/plain": [
       "array([[[ 7.62945550e-02,  9.65925826e-01,  2.58819045e-01,\n",
       "         -7.79677220e-01, -6.26181629e-01],\n",
       "        [ 4.83445857e-02,  1.00000000e+00,  9.43975630e-12,\n",
       "         -7.80125855e-01, -6.25622610e-01],\n",
       "        [ 2.50663606e-03,  9.65925826e-01, -2.58819045e-01,\n",
       "         -7.80574090e-01, -6.25063269e-01],\n",
       "        [-2.65613320e-02,  8.66025404e-01, -5.00000000e-01,\n",
       "         -7.81021924e-01, -6.24503606e-01],\n",
       "        [-7.55535289e-03,  7.07106781e-01, -7.07106781e-01,\n",
       "         -7.81469356e-01, -6.23943623e-01],\n",
       "        [ 1.07052937e-02,  5.00000000e-01, -8.66025404e-01,\n",
       "         -7.81916387e-01, -6.23383320e-01]],\n",
       "\n",
       "       [[ 4.83445857e-02,  1.00000000e+00,  9.43975630e-12,\n",
       "         -7.80125855e-01, -6.25622610e-01],\n",
       "        [ 2.50663606e-03,  9.65925826e-01, -2.58819045e-01,\n",
       "         -7.80574090e-01, -6.25063269e-01],\n",
       "        [-2.65613320e-02,  8.66025404e-01, -5.00000000e-01,\n",
       "         -7.81021924e-01, -6.24503606e-01],\n",
       "        [-7.55535289e-03,  7.07106781e-01, -7.07106781e-01,\n",
       "         -7.81469356e-01, -6.23943623e-01],\n",
       "        [ 1.07052937e-02,  5.00000000e-01, -8.66025404e-01,\n",
       "         -7.81916387e-01, -6.23383320e-01],\n",
       "        [-6.42006240e-02,  2.58819045e-01, -9.65925826e-01,\n",
       "         -7.82363017e-01, -6.22822696e-01]],\n",
       "\n",
       "       [[ 2.50663606e-03,  9.65925826e-01, -2.58819045e-01,\n",
       "         -7.80574090e-01, -6.25063269e-01],\n",
       "        [-2.65613320e-02,  8.66025404e-01, -5.00000000e-01,\n",
       "         -7.81021924e-01, -6.24503606e-01],\n",
       "        [-7.55535289e-03,  7.07106781e-01, -7.07106781e-01,\n",
       "         -7.81469356e-01, -6.23943623e-01],\n",
       "        [ 1.07052937e-02,  5.00000000e-01, -8.66025404e-01,\n",
       "         -7.81916387e-01, -6.23383320e-01],\n",
       "        [-6.42006240e-02,  2.58819045e-01, -9.65925826e-01,\n",
       "         -7.82363017e-01, -6.22822696e-01],\n",
       "        [-2.46980007e-02,  1.20031004e-11, -1.00000000e+00,\n",
       "         -7.82809244e-01, -6.22261752e-01]],\n",
       "\n",
       "       ...,\n",
       "\n",
       "       [[-8.54426007e-02,  7.07106781e-01, -7.07106781e-01,\n",
       "         -8.21423368e-03,  9.99966263e-01],\n",
       "        [-7.68712768e-02,  5.00000000e-01, -8.66025404e-01,\n",
       "         -7.49747343e-03,  9.99971894e-01],\n",
       "        [-2.76793308e-02,  2.58819045e-01, -9.65925826e-01,\n",
       "         -6.78070934e-03,  9.99977011e-01],\n",
       "        [ 2.34677714e-01,  6.16585827e-12, -1.00000000e+00,\n",
       "         -6.06394176e-03,  9.99981614e-01],\n",
       "        [ 6.52809255e-01, -2.58819045e-01, -9.65925826e-01,\n",
       "         -5.34717106e-03,  9.99985704e-01],\n",
       "        [ 1.01317753e+00, -5.00000000e-01, -8.66025404e-01,\n",
       "         -4.63039762e-03,  9.99989280e-01]],\n",
       "\n",
       "       [[-7.68712768e-02,  5.00000000e-01, -8.66025404e-01,\n",
       "         -7.49747343e-03,  9.99971894e-01],\n",
       "        [-2.76793308e-02,  2.58819045e-01, -9.65925826e-01,\n",
       "         -6.78070934e-03,  9.99977011e-01],\n",
       "        [ 2.34677714e-01,  6.16585827e-12, -1.00000000e+00,\n",
       "         -6.06394176e-03,  9.99981614e-01],\n",
       "        [ 6.52809255e-01, -2.58819045e-01, -9.65925826e-01,\n",
       "         -5.34717106e-03,  9.99985704e-01],\n",
       "        [ 1.01317753e+00, -5.00000000e-01, -8.66025404e-01,\n",
       "         -4.63039762e-03,  9.99989280e-01],\n",
       "        [ 1.17938668e+00, -7.07106781e-01, -7.07106781e-01,\n",
       "         -3.91362179e-03,  9.99992342e-01]],\n",
       "\n",
       "       [[-2.76793308e-02,  2.58819045e-01, -9.65925826e-01,\n",
       "         -6.78070934e-03,  9.99977011e-01],\n",
       "        [ 2.34677714e-01,  6.16585827e-12, -1.00000000e+00,\n",
       "         -6.06394176e-03,  9.99981614e-01],\n",
       "        [ 6.52809255e-01, -2.58819045e-01, -9.65925826e-01,\n",
       "         -5.34717106e-03,  9.99985704e-01],\n",
       "        [ 1.01317753e+00, -5.00000000e-01, -8.66025404e-01,\n",
       "         -4.63039762e-03,  9.99989280e-01],\n",
       "        [ 1.17938668e+00, -7.07106781e-01, -7.07106781e-01,\n",
       "         -3.91362179e-03,  9.99992342e-01],\n",
       "        [ 1.10224476e+00, -8.66025404e-01, -5.00000000e-01,\n",
       "         -3.19684396e-03,  9.99994890e-01]]])"
      ]
     },
     "execution_count": 71,
     "metadata": {},
     "output_type": "execute_result"
    }
   ],
   "source": [
    "preprocess(X2_train)\n",
    "preprocess(X2_val)\n",
    "preprocess(X2_test)"
   ]
  },
  {
   "attachments": {},
   "cell_type": "markdown",
   "metadata": {},
   "source": [
    "26. Create the model, everything stays the same as the first attempt but the InputLayer since the dimensions have now changed because we added those extra time features. "
   ]
  },
  {
   "cell_type": "code",
   "execution_count": 72,
   "metadata": {},
   "outputs": [
    {
     "name": "stdout",
     "output_type": "stream",
     "text": [
      "Model: \"sequential_2\"\n",
      "_________________________________________________________________\n",
      " Layer (type)                Output Shape              Param #   \n",
      "=================================================================\n",
      " lstm_2 (LSTM)               (None, 64)                17920     \n",
      "                                                                 \n",
      " dense_4 (Dense)             (None, 8)                 520       \n",
      "                                                                 \n",
      " dense_5 (Dense)             (None, 1)                 9         \n",
      "                                                                 \n",
      "=================================================================\n",
      "Total params: 18,449\n",
      "Trainable params: 18,449\n",
      "Non-trainable params: 0\n",
      "_________________________________________________________________\n"
     ]
    }
   ],
   "source": [
    "model2 = Sequential()\n",
    "model2.add(InputLayer((6, 5)))\n",
    "model2.add(LSTM(64))\n",
    "model2.add(Dense(8,'relu'))\n",
    "model2.add(Dense(1,'linear'))\n",
    "\n",
    "model2.summary()"
   ]
  },
  {
   "attachments": {},
   "cell_type": "markdown",
   "metadata": {},
   "source": [
    "27. Create the checkpoint to save the best model."
   ]
  },
  {
   "cell_type": "code",
   "execution_count": 73,
   "metadata": {},
   "outputs": [],
   "source": [
    "cp2 = ModelCheckpoint('model2/',save_best_only=True)\n",
    "model2.compile(loss=MeanSquaredError(), optimizer = Adam(learning_rate=0.0001), metrics=RootMeanSquaredError())"
   ]
  },
  {
   "attachments": {},
   "cell_type": "markdown",
   "metadata": {},
   "source": [
    "28. Fit the model."
   ]
  },
  {
   "cell_type": "code",
   "execution_count": 74,
   "metadata": {},
   "outputs": [
    {
     "name": "stdout",
     "output_type": "stream",
     "text": [
      "Epoch 1/25\n",
      "375/375 [==============================] - ETA: 0s - loss: 1000.5403 - root_mean_squared_error: 31.6313"
     ]
    },
    {
     "name": "stderr",
     "output_type": "stream",
     "text": [
      "WARNING:absl:Found untraced functions such as lstm_cell_4_layer_call_fn, lstm_cell_4_layer_call_and_return_conditional_losses while saving (showing 2 of 2). These functions will not be directly callable after loading.\n"
     ]
    },
    {
     "name": "stdout",
     "output_type": "stream",
     "text": [
      "INFO:tensorflow:Assets written to: model2\\assets\n"
     ]
    },
    {
     "name": "stderr",
     "output_type": "stream",
     "text": [
      "INFO:tensorflow:Assets written to: model2\\assets\n"
     ]
    },
    {
     "name": "stdout",
     "output_type": "stream",
     "text": [
      "375/375 [==============================] - 15s 34ms/step - loss: 1000.5403 - root_mean_squared_error: 31.6313 - val_loss: 218.0472 - val_root_mean_squared_error: 14.7664\n",
      "Epoch 2/25\n",
      "374/375 [============================>.] - ETA: 0s - loss: 692.2092 - root_mean_squared_error: 26.3099"
     ]
    },
    {
     "name": "stderr",
     "output_type": "stream",
     "text": [
      "WARNING:absl:Found untraced functions such as lstm_cell_4_layer_call_fn, lstm_cell_4_layer_call_and_return_conditional_losses while saving (showing 2 of 2). These functions will not be directly callable after loading.\n"
     ]
    },
    {
     "name": "stdout",
     "output_type": "stream",
     "text": [
      "INFO:tensorflow:Assets written to: model2\\assets\n"
     ]
    },
    {
     "name": "stderr",
     "output_type": "stream",
     "text": [
      "INFO:tensorflow:Assets written to: model2\\assets\n"
     ]
    },
    {
     "name": "stdout",
     "output_type": "stream",
     "text": [
      "375/375 [==============================] - 14s 36ms/step - loss: 690.6404 - root_mean_squared_error: 26.2800 - val_loss: 77.2995 - val_root_mean_squared_error: 8.7920\n",
      "Epoch 3/25\n",
      "374/375 [============================>.] - ETA: 0s - loss: 561.5595 - root_mean_squared_error: 23.6972"
     ]
    },
    {
     "name": "stderr",
     "output_type": "stream",
     "text": [
      "WARNING:absl:Found untraced functions such as lstm_cell_4_layer_call_fn, lstm_cell_4_layer_call_and_return_conditional_losses while saving (showing 2 of 2). These functions will not be directly callable after loading.\n"
     ]
    },
    {
     "name": "stdout",
     "output_type": "stream",
     "text": [
      "INFO:tensorflow:Assets written to: model2\\assets\n"
     ]
    },
    {
     "name": "stderr",
     "output_type": "stream",
     "text": [
      "INFO:tensorflow:Assets written to: model2\\assets\n"
     ]
    },
    {
     "name": "stdout",
     "output_type": "stream",
     "text": [
      "375/375 [==============================] - 13s 35ms/step - loss: 560.4183 - root_mean_squared_error: 23.6732 - val_loss: 71.5503 - val_root_mean_squared_error: 8.4587\n",
      "Epoch 4/25\n",
      "373/375 [============================>.] - ETA: 0s - loss: 510.7245 - root_mean_squared_error: 22.5992"
     ]
    },
    {
     "name": "stderr",
     "output_type": "stream",
     "text": [
      "WARNING:absl:Found untraced functions such as lstm_cell_4_layer_call_fn, lstm_cell_4_layer_call_and_return_conditional_losses while saving (showing 2 of 2). These functions will not be directly callable after loading.\n"
     ]
    },
    {
     "name": "stdout",
     "output_type": "stream",
     "text": [
      "INFO:tensorflow:Assets written to: model2\\assets\n"
     ]
    },
    {
     "name": "stderr",
     "output_type": "stream",
     "text": [
      "INFO:tensorflow:Assets written to: model2\\assets\n"
     ]
    },
    {
     "name": "stdout",
     "output_type": "stream",
     "text": [
      "375/375 [==============================] - 12s 31ms/step - loss: 510.8038 - root_mean_squared_error: 22.6010 - val_loss: 68.7395 - val_root_mean_squared_error: 8.2909\n",
      "Epoch 5/25\n",
      "372/375 [============================>.] - ETA: 0s - loss: 460.7281 - root_mean_squared_error: 21.4646"
     ]
    },
    {
     "name": "stderr",
     "output_type": "stream",
     "text": [
      "WARNING:absl:Found untraced functions such as lstm_cell_4_layer_call_fn, lstm_cell_4_layer_call_and_return_conditional_losses while saving (showing 2 of 2). These functions will not be directly callable after loading.\n"
     ]
    },
    {
     "name": "stdout",
     "output_type": "stream",
     "text": [
      "INFO:tensorflow:Assets written to: model2\\assets\n"
     ]
    },
    {
     "name": "stderr",
     "output_type": "stream",
     "text": [
      "INFO:tensorflow:Assets written to: model2\\assets\n"
     ]
    },
    {
     "name": "stdout",
     "output_type": "stream",
     "text": [
      "375/375 [==============================] - 11s 29ms/step - loss: 459.5604 - root_mean_squared_error: 21.4374 - val_loss: 62.3068 - val_root_mean_squared_error: 7.8935\n",
      "Epoch 6/25\n",
      "370/375 [============================>.] - ETA: 0s - loss: 403.3626 - root_mean_squared_error: 20.0839"
     ]
    },
    {
     "name": "stderr",
     "output_type": "stream",
     "text": [
      "WARNING:absl:Found untraced functions such as lstm_cell_4_layer_call_fn, lstm_cell_4_layer_call_and_return_conditional_losses while saving (showing 2 of 2). These functions will not be directly callable after loading.\n"
     ]
    },
    {
     "name": "stdout",
     "output_type": "stream",
     "text": [
      "INFO:tensorflow:Assets written to: model2\\assets\n"
     ]
    },
    {
     "name": "stderr",
     "output_type": "stream",
     "text": [
      "INFO:tensorflow:Assets written to: model2\\assets\n"
     ]
    },
    {
     "name": "stdout",
     "output_type": "stream",
     "text": [
      "375/375 [==============================] - 10s 28ms/step - loss: 403.7286 - root_mean_squared_error: 20.0930 - val_loss: 53.2663 - val_root_mean_squared_error: 7.2984\n",
      "Epoch 7/25\n",
      "375/375 [==============================] - ETA: 0s - loss: 354.1808 - root_mean_squared_error: 18.8197"
     ]
    },
    {
     "name": "stderr",
     "output_type": "stream",
     "text": [
      "WARNING:absl:Found untraced functions such as lstm_cell_4_layer_call_fn, lstm_cell_4_layer_call_and_return_conditional_losses while saving (showing 2 of 2). These functions will not be directly callable after loading.\n"
     ]
    },
    {
     "name": "stdout",
     "output_type": "stream",
     "text": [
      "INFO:tensorflow:Assets written to: model2\\assets\n"
     ]
    },
    {
     "name": "stderr",
     "output_type": "stream",
     "text": [
      "INFO:tensorflow:Assets written to: model2\\assets\n"
     ]
    },
    {
     "name": "stdout",
     "output_type": "stream",
     "text": [
      "375/375 [==============================] - 11s 30ms/step - loss: 354.1808 - root_mean_squared_error: 18.8197 - val_loss: 44.0272 - val_root_mean_squared_error: 6.6353\n",
      "Epoch 8/25\n",
      "370/375 [============================>.] - ETA: 0s - loss: 308.9828 - root_mean_squared_error: 17.5779"
     ]
    },
    {
     "name": "stderr",
     "output_type": "stream",
     "text": [
      "WARNING:absl:Found untraced functions such as lstm_cell_4_layer_call_fn, lstm_cell_4_layer_call_and_return_conditional_losses while saving (showing 2 of 2). These functions will not be directly callable after loading.\n"
     ]
    },
    {
     "name": "stdout",
     "output_type": "stream",
     "text": [
      "INFO:tensorflow:Assets written to: model2\\assets\n"
     ]
    },
    {
     "name": "stderr",
     "output_type": "stream",
     "text": [
      "INFO:tensorflow:Assets written to: model2\\assets\n"
     ]
    },
    {
     "name": "stdout",
     "output_type": "stream",
     "text": [
      "375/375 [==============================] - 10s 27ms/step - loss: 309.5748 - root_mean_squared_error: 17.5947 - val_loss: 36.0436 - val_root_mean_squared_error: 6.0036\n",
      "Epoch 9/25\n",
      "373/375 [============================>.] - ETA: 0s - loss: 269.7136 - root_mean_squared_error: 16.4230"
     ]
    },
    {
     "name": "stderr",
     "output_type": "stream",
     "text": [
      "WARNING:absl:Found untraced functions such as lstm_cell_4_layer_call_fn, lstm_cell_4_layer_call_and_return_conditional_losses while saving (showing 2 of 2). These functions will not be directly callable after loading.\n"
     ]
    },
    {
     "name": "stdout",
     "output_type": "stream",
     "text": [
      "INFO:tensorflow:Assets written to: model2\\assets\n"
     ]
    },
    {
     "name": "stderr",
     "output_type": "stream",
     "text": [
      "INFO:tensorflow:Assets written to: model2\\assets\n"
     ]
    },
    {
     "name": "stdout",
     "output_type": "stream",
     "text": [
      "375/375 [==============================] - 10s 26ms/step - loss: 272.4788 - root_mean_squared_error: 16.5069 - val_loss: 32.8953 - val_root_mean_squared_error: 5.7354\n",
      "Epoch 10/25\n",
      "374/375 [============================>.] - ETA: 0s - loss: 241.8763 - root_mean_squared_error: 15.5524"
     ]
    },
    {
     "name": "stderr",
     "output_type": "stream",
     "text": [
      "WARNING:absl:Found untraced functions such as lstm_cell_4_layer_call_fn, lstm_cell_4_layer_call_and_return_conditional_losses while saving (showing 2 of 2). These functions will not be directly callable after loading.\n"
     ]
    },
    {
     "name": "stdout",
     "output_type": "stream",
     "text": [
      "INFO:tensorflow:Assets written to: model2\\assets\n"
     ]
    },
    {
     "name": "stderr",
     "output_type": "stream",
     "text": [
      "INFO:tensorflow:Assets written to: model2\\assets\n"
     ]
    },
    {
     "name": "stdout",
     "output_type": "stream",
     "text": [
      "375/375 [==============================] - 10s 25ms/step - loss: 241.3996 - root_mean_squared_error: 15.5370 - val_loss: 29.0213 - val_root_mean_squared_error: 5.3871\n",
      "Epoch 11/25\n",
      "372/375 [============================>.] - ETA: 0s - loss: 215.3001 - root_mean_squared_error: 14.6731"
     ]
    },
    {
     "name": "stderr",
     "output_type": "stream",
     "text": [
      "WARNING:absl:Found untraced functions such as lstm_cell_4_layer_call_fn, lstm_cell_4_layer_call_and_return_conditional_losses while saving (showing 2 of 2). These functions will not be directly callable after loading.\n"
     ]
    },
    {
     "name": "stdout",
     "output_type": "stream",
     "text": [
      "INFO:tensorflow:Assets written to: model2\\assets\n"
     ]
    },
    {
     "name": "stderr",
     "output_type": "stream",
     "text": [
      "INFO:tensorflow:Assets written to: model2\\assets\n"
     ]
    },
    {
     "name": "stdout",
     "output_type": "stream",
     "text": [
      "375/375 [==============================] - 11s 28ms/step - loss: 214.6852 - root_mean_squared_error: 14.6521 - val_loss: 25.6808 - val_root_mean_squared_error: 5.0676\n",
      "Epoch 12/25\n",
      "374/375 [============================>.] - ETA: 0s - loss: 191.4399 - root_mean_squared_error: 13.8362"
     ]
    },
    {
     "name": "stderr",
     "output_type": "stream",
     "text": [
      "WARNING:absl:Found untraced functions such as lstm_cell_4_layer_call_fn, lstm_cell_4_layer_call_and_return_conditional_losses while saving (showing 2 of 2). These functions will not be directly callable after loading.\n"
     ]
    },
    {
     "name": "stdout",
     "output_type": "stream",
     "text": [
      "INFO:tensorflow:Assets written to: model2\\assets\n"
     ]
    },
    {
     "name": "stderr",
     "output_type": "stream",
     "text": [
      "INFO:tensorflow:Assets written to: model2\\assets\n"
     ]
    },
    {
     "name": "stdout",
     "output_type": "stream",
     "text": [
      "375/375 [==============================] - 10s 27ms/step - loss: 191.1861 - root_mean_squared_error: 13.8270 - val_loss: 23.2371 - val_root_mean_squared_error: 4.8205\n",
      "Epoch 13/25\n",
      "371/375 [============================>.] - ETA: 0s - loss: 172.2566 - root_mean_squared_error: 13.1247"
     ]
    },
    {
     "name": "stderr",
     "output_type": "stream",
     "text": [
      "WARNING:absl:Found untraced functions such as lstm_cell_4_layer_call_fn, lstm_cell_4_layer_call_and_return_conditional_losses while saving (showing 2 of 2). These functions will not be directly callable after loading.\n"
     ]
    },
    {
     "name": "stdout",
     "output_type": "stream",
     "text": [
      "INFO:tensorflow:Assets written to: model2\\assets\n"
     ]
    },
    {
     "name": "stderr",
     "output_type": "stream",
     "text": [
      "INFO:tensorflow:Assets written to: model2\\assets\n"
     ]
    },
    {
     "name": "stdout",
     "output_type": "stream",
     "text": [
      "375/375 [==============================] - 12s 32ms/step - loss: 170.6743 - root_mean_squared_error: 13.0642 - val_loss: 20.9768 - val_root_mean_squared_error: 4.5800\n",
      "Epoch 14/25\n",
      "373/375 [============================>.] - ETA: 0s - loss: 153.4664 - root_mean_squared_error: 12.3882"
     ]
    },
    {
     "name": "stderr",
     "output_type": "stream",
     "text": [
      "WARNING:absl:Found untraced functions such as lstm_cell_4_layer_call_fn, lstm_cell_4_layer_call_and_return_conditional_losses while saving (showing 2 of 2). These functions will not be directly callable after loading.\n"
     ]
    },
    {
     "name": "stdout",
     "output_type": "stream",
     "text": [
      "INFO:tensorflow:Assets written to: model2\\assets\n"
     ]
    },
    {
     "name": "stderr",
     "output_type": "stream",
     "text": [
      "INFO:tensorflow:Assets written to: model2\\assets\n"
     ]
    },
    {
     "name": "stdout",
     "output_type": "stream",
     "text": [
      "375/375 [==============================] - 10s 27ms/step - loss: 153.0406 - root_mean_squared_error: 12.3710 - val_loss: 18.3449 - val_root_mean_squared_error: 4.2831\n",
      "Epoch 15/25\n",
      "370/375 [============================>.] - ETA: 0s - loss: 138.0838 - root_mean_squared_error: 11.7509"
     ]
    },
    {
     "name": "stderr",
     "output_type": "stream",
     "text": [
      "WARNING:absl:Found untraced functions such as lstm_cell_4_layer_call_fn, lstm_cell_4_layer_call_and_return_conditional_losses while saving (showing 2 of 2). These functions will not be directly callable after loading.\n"
     ]
    },
    {
     "name": "stdout",
     "output_type": "stream",
     "text": [
      "INFO:tensorflow:Assets written to: model2\\assets\n"
     ]
    },
    {
     "name": "stderr",
     "output_type": "stream",
     "text": [
      "INFO:tensorflow:Assets written to: model2\\assets\n"
     ]
    },
    {
     "name": "stdout",
     "output_type": "stream",
     "text": [
      "375/375 [==============================] - 11s 29ms/step - loss: 137.6947 - root_mean_squared_error: 11.7343 - val_loss: 17.1902 - val_root_mean_squared_error: 4.1461\n",
      "Epoch 16/25\n",
      "373/375 [============================>.] - ETA: 0s - loss: 125.3002 - root_mean_squared_error: 11.1938"
     ]
    },
    {
     "name": "stderr",
     "output_type": "stream",
     "text": [
      "WARNING:absl:Found untraced functions such as lstm_cell_4_layer_call_fn, lstm_cell_4_layer_call_and_return_conditional_losses while saving (showing 2 of 2). These functions will not be directly callable after loading.\n"
     ]
    },
    {
     "name": "stdout",
     "output_type": "stream",
     "text": [
      "INFO:tensorflow:Assets written to: model2\\assets\n"
     ]
    },
    {
     "name": "stderr",
     "output_type": "stream",
     "text": [
      "INFO:tensorflow:Assets written to: model2\\assets\n"
     ]
    },
    {
     "name": "stdout",
     "output_type": "stream",
     "text": [
      "375/375 [==============================] - 11s 29ms/step - loss: 124.7635 - root_mean_squared_error: 11.1698 - val_loss: 15.6085 - val_root_mean_squared_error: 3.9508\n",
      "Epoch 17/25\n",
      "375/375 [==============================] - ETA: 0s - loss: 113.5685 - root_mean_squared_error: 10.6569"
     ]
    },
    {
     "name": "stderr",
     "output_type": "stream",
     "text": [
      "WARNING:absl:Found untraced functions such as lstm_cell_4_layer_call_fn, lstm_cell_4_layer_call_and_return_conditional_losses while saving (showing 2 of 2). These functions will not be directly callable after loading.\n"
     ]
    },
    {
     "name": "stdout",
     "output_type": "stream",
     "text": [
      "INFO:tensorflow:Assets written to: model2\\assets\n"
     ]
    },
    {
     "name": "stderr",
     "output_type": "stream",
     "text": [
      "INFO:tensorflow:Assets written to: model2\\assets\n"
     ]
    },
    {
     "name": "stdout",
     "output_type": "stream",
     "text": [
      "375/375 [==============================] - 9s 25ms/step - loss: 113.5685 - root_mean_squared_error: 10.6569 - val_loss: 14.0456 - val_root_mean_squared_error: 3.7477\n",
      "Epoch 18/25\n",
      "371/375 [============================>.] - ETA: 0s - loss: 103.1640 - root_mean_squared_error: 10.1570"
     ]
    },
    {
     "name": "stderr",
     "output_type": "stream",
     "text": [
      "WARNING:absl:Found untraced functions such as lstm_cell_4_layer_call_fn, lstm_cell_4_layer_call_and_return_conditional_losses while saving (showing 2 of 2). These functions will not be directly callable after loading.\n"
     ]
    },
    {
     "name": "stdout",
     "output_type": "stream",
     "text": [
      "INFO:tensorflow:Assets written to: model2\\assets\n"
     ]
    },
    {
     "name": "stderr",
     "output_type": "stream",
     "text": [
      "INFO:tensorflow:Assets written to: model2\\assets\n"
     ]
    },
    {
     "name": "stdout",
     "output_type": "stream",
     "text": [
      "375/375 [==============================] - 10s 26ms/step - loss: 103.6865 - root_mean_squared_error: 10.1827 - val_loss: 13.2449 - val_root_mean_squared_error: 3.6394\n",
      "Epoch 19/25\n",
      "375/375 [==============================] - ETA: 0s - loss: 95.0821 - root_mean_squared_error: 9.7510"
     ]
    },
    {
     "name": "stderr",
     "output_type": "stream",
     "text": [
      "WARNING:absl:Found untraced functions such as lstm_cell_4_layer_call_fn, lstm_cell_4_layer_call_and_return_conditional_losses while saving (showing 2 of 2). These functions will not be directly callable after loading.\n"
     ]
    },
    {
     "name": "stdout",
     "output_type": "stream",
     "text": [
      "INFO:tensorflow:Assets written to: model2\\assets\n"
     ]
    },
    {
     "name": "stderr",
     "output_type": "stream",
     "text": [
      "INFO:tensorflow:Assets written to: model2\\assets\n"
     ]
    },
    {
     "name": "stdout",
     "output_type": "stream",
     "text": [
      "375/375 [==============================] - 11s 30ms/step - loss: 95.0821 - root_mean_squared_error: 9.7510 - val_loss: 12.2037 - val_root_mean_squared_error: 3.4934\n",
      "Epoch 20/25\n",
      "374/375 [============================>.] - ETA: 0s - loss: 87.3848 - root_mean_squared_error: 9.3480"
     ]
    },
    {
     "name": "stderr",
     "output_type": "stream",
     "text": [
      "WARNING:absl:Found untraced functions such as lstm_cell_4_layer_call_fn, lstm_cell_4_layer_call_and_return_conditional_losses while saving (showing 2 of 2). These functions will not be directly callable after loading.\n"
     ]
    },
    {
     "name": "stdout",
     "output_type": "stream",
     "text": [
      "INFO:tensorflow:Assets written to: model2\\assets\n"
     ]
    },
    {
     "name": "stderr",
     "output_type": "stream",
     "text": [
      "INFO:tensorflow:Assets written to: model2\\assets\n"
     ]
    },
    {
     "name": "stdout",
     "output_type": "stream",
     "text": [
      "375/375 [==============================] - 11s 30ms/step - loss: 87.2461 - root_mean_squared_error: 9.3406 - val_loss: 11.5996 - val_root_mean_squared_error: 3.4058\n",
      "Epoch 21/25\n",
      "373/375 [============================>.] - ETA: 0s - loss: 80.9033 - root_mean_squared_error: 8.9946"
     ]
    },
    {
     "name": "stderr",
     "output_type": "stream",
     "text": [
      "WARNING:absl:Found untraced functions such as lstm_cell_4_layer_call_fn, lstm_cell_4_layer_call_and_return_conditional_losses while saving (showing 2 of 2). These functions will not be directly callable after loading.\n"
     ]
    },
    {
     "name": "stdout",
     "output_type": "stream",
     "text": [
      "INFO:tensorflow:Assets written to: model2\\assets\n"
     ]
    },
    {
     "name": "stderr",
     "output_type": "stream",
     "text": [
      "INFO:tensorflow:Assets written to: model2\\assets\n"
     ]
    },
    {
     "name": "stdout",
     "output_type": "stream",
     "text": [
      "375/375 [==============================] - 13s 33ms/step - loss: 80.5368 - root_mean_squared_error: 8.9742 - val_loss: 10.7794 - val_root_mean_squared_error: 3.2832\n",
      "Epoch 22/25\n",
      "374/375 [============================>.] - ETA: 0s - loss: 74.5836 - root_mean_squared_error: 8.6362"
     ]
    },
    {
     "name": "stderr",
     "output_type": "stream",
     "text": [
      "WARNING:absl:Found untraced functions such as lstm_cell_4_layer_call_fn, lstm_cell_4_layer_call_and_return_conditional_losses while saving (showing 2 of 2). These functions will not be directly callable after loading.\n"
     ]
    },
    {
     "name": "stdout",
     "output_type": "stream",
     "text": [
      "INFO:tensorflow:Assets written to: model2\\assets\n"
     ]
    },
    {
     "name": "stderr",
     "output_type": "stream",
     "text": [
      "INFO:tensorflow:Assets written to: model2\\assets\n"
     ]
    },
    {
     "name": "stdout",
     "output_type": "stream",
     "text": [
      "375/375 [==============================] - 10s 27ms/step - loss: 74.4546 - root_mean_squared_error: 8.6287 - val_loss: 10.3978 - val_root_mean_squared_error: 3.2246\n",
      "Epoch 23/25\n",
      "371/375 [============================>.] - ETA: 0s - loss: 66.9194 - root_mean_squared_error: 8.1804"
     ]
    },
    {
     "name": "stderr",
     "output_type": "stream",
     "text": [
      "WARNING:absl:Found untraced functions such as lstm_cell_4_layer_call_fn, lstm_cell_4_layer_call_and_return_conditional_losses while saving (showing 2 of 2). These functions will not be directly callable after loading.\n"
     ]
    },
    {
     "name": "stdout",
     "output_type": "stream",
     "text": [
      "INFO:tensorflow:Assets written to: model2\\assets\n"
     ]
    },
    {
     "name": "stderr",
     "output_type": "stream",
     "text": [
      "INFO:tensorflow:Assets written to: model2\\assets\n"
     ]
    },
    {
     "name": "stdout",
     "output_type": "stream",
     "text": [
      "375/375 [==============================] - 14s 37ms/step - loss: 69.0382 - root_mean_squared_error: 8.3089 - val_loss: 9.8205 - val_root_mean_squared_error: 3.1338\n",
      "Epoch 24/25\n",
      "375/375 [==============================] - ETA: 0s - loss: 64.1823 - root_mean_squared_error: 8.0114"
     ]
    },
    {
     "name": "stderr",
     "output_type": "stream",
     "text": [
      "WARNING:absl:Found untraced functions such as lstm_cell_4_layer_call_fn, lstm_cell_4_layer_call_and_return_conditional_losses while saving (showing 2 of 2). These functions will not be directly callable after loading.\n"
     ]
    },
    {
     "name": "stdout",
     "output_type": "stream",
     "text": [
      "INFO:tensorflow:Assets written to: model2\\assets\n"
     ]
    },
    {
     "name": "stderr",
     "output_type": "stream",
     "text": [
      "INFO:tensorflow:Assets written to: model2\\assets\n"
     ]
    },
    {
     "name": "stdout",
     "output_type": "stream",
     "text": [
      "375/375 [==============================] - 14s 38ms/step - loss: 64.1823 - root_mean_squared_error: 8.0114 - val_loss: 9.6870 - val_root_mean_squared_error: 3.1124\n",
      "Epoch 25/25\n",
      "373/375 [============================>.] - ETA: 0s - loss: 60.0994 - root_mean_squared_error: 7.7524"
     ]
    },
    {
     "name": "stderr",
     "output_type": "stream",
     "text": [
      "WARNING:absl:Found untraced functions such as lstm_cell_4_layer_call_fn, lstm_cell_4_layer_call_and_return_conditional_losses while saving (showing 2 of 2). These functions will not be directly callable after loading.\n"
     ]
    },
    {
     "name": "stdout",
     "output_type": "stream",
     "text": [
      "INFO:tensorflow:Assets written to: model2\\assets\n"
     ]
    },
    {
     "name": "stderr",
     "output_type": "stream",
     "text": [
      "INFO:tensorflow:Assets written to: model2\\assets\n"
     ]
    },
    {
     "name": "stdout",
     "output_type": "stream",
     "text": [
      "375/375 [==============================] - 15s 39ms/step - loss: 59.9543 - root_mean_squared_error: 7.7430 - val_loss: 9.2483 - val_root_mean_squared_error: 3.0411\n"
     ]
    },
    {
     "data": {
      "text/plain": [
       "<keras.callbacks.History at 0x217bf89ce80>"
      ]
     },
     "execution_count": 74,
     "metadata": {},
     "output_type": "execute_result"
    }
   ],
   "source": [
    "model2.fit(X2_train,y2_train, validation_data=(X2_val,y2_val), epochs=25, callbacks=[cp2])"
   ]
  },
  {
   "attachments": {},
   "cell_type": "markdown",
   "metadata": {},
   "source": [
    "29. Load the model so we can work with the best one. "
   ]
  },
  {
   "cell_type": "code",
   "execution_count": 75,
   "metadata": {},
   "outputs": [],
   "source": [
    "model2 = load_model('model2/')"
   ]
  },
  {
   "attachments": {},
   "cell_type": "markdown",
   "metadata": {},
   "source": [
    "30. Calculate the predicted values for the training set and add them to a dataframe."
   ]
  },
  {
   "cell_type": "code",
   "execution_count": 93,
   "metadata": {},
   "outputs": [
    {
     "name": "stdout",
     "output_type": "stream",
     "text": [
      "375/375 [==============================] - 2s 6ms/step\n"
     ]
    },
    {
     "data": {
      "text/html": [
       "<div>\n",
       "<style scoped>\n",
       "    .dataframe tbody tr th:only-of-type {\n",
       "        vertical-align: middle;\n",
       "    }\n",
       "\n",
       "    .dataframe tbody tr th {\n",
       "        vertical-align: top;\n",
       "    }\n",
       "\n",
       "    .dataframe thead th {\n",
       "        text-align: right;\n",
       "    }\n",
       "</style>\n",
       "<table border=\"1\" class=\"dataframe\">\n",
       "  <thead>\n",
       "    <tr style=\"text-align: right;\">\n",
       "      <th></th>\n",
       "      <th>Train Predictions</th>\n",
       "      <th>Actuals</th>\n",
       "    </tr>\n",
       "  </thead>\n",
       "  <tbody>\n",
       "    <tr>\n",
       "      <th>0</th>\n",
       "      <td>12.791660</td>\n",
       "      <td>11.92</td>\n",
       "    </tr>\n",
       "    <tr>\n",
       "      <th>1</th>\n",
       "      <td>14.384006</td>\n",
       "      <td>15.04</td>\n",
       "    </tr>\n",
       "    <tr>\n",
       "      <th>2</th>\n",
       "      <td>17.879391</td>\n",
       "      <td>16.85</td>\n",
       "    </tr>\n",
       "    <tr>\n",
       "      <th>3</th>\n",
       "      <td>18.592781</td>\n",
       "      <td>15.64</td>\n",
       "    </tr>\n",
       "    <tr>\n",
       "      <th>4</th>\n",
       "      <td>14.360879</td>\n",
       "      <td>13.76</td>\n",
       "    </tr>\n",
       "    <tr>\n",
       "      <th>...</th>\n",
       "      <td>...</td>\n",
       "      <td>...</td>\n",
       "    </tr>\n",
       "    <tr>\n",
       "      <th>11995</th>\n",
       "      <td>1.983546</td>\n",
       "      <td>2.90</td>\n",
       "    </tr>\n",
       "    <tr>\n",
       "      <th>11996</th>\n",
       "      <td>2.534888</td>\n",
       "      <td>3.48</td>\n",
       "    </tr>\n",
       "    <tr>\n",
       "      <th>11997</th>\n",
       "      <td>3.313388</td>\n",
       "      <td>4.54</td>\n",
       "    </tr>\n",
       "    <tr>\n",
       "      <th>11998</th>\n",
       "      <td>4.610144</td>\n",
       "      <td>5.91</td>\n",
       "    </tr>\n",
       "    <tr>\n",
       "      <th>11999</th>\n",
       "      <td>6.263037</td>\n",
       "      <td>7.60</td>\n",
       "    </tr>\n",
       "  </tbody>\n",
       "</table>\n",
       "<p>12000 rows × 2 columns</p>\n",
       "</div>"
      ],
      "text/plain": [
       "       Train Predictions  Actuals\n",
       "0              12.791660    11.92\n",
       "1              14.384006    15.04\n",
       "2              17.879391    16.85\n",
       "3              18.592781    15.64\n",
       "4              14.360879    13.76\n",
       "...                  ...      ...\n",
       "11995           1.983546     2.90\n",
       "11996           2.534888     3.48\n",
       "11997           3.313388     4.54\n",
       "11998           4.610144     5.91\n",
       "11999           6.263037     7.60\n",
       "\n",
       "[12000 rows x 2 columns]"
      ]
     },
     "execution_count": 93,
     "metadata": {},
     "output_type": "execute_result"
    }
   ],
   "source": [
    "train_predictions2 = model2.predict(X2_train).flatten()\n",
    "train_results2 = pd.DataFrame(data={'Train Predictions': train_predictions2, 'Actuals': y2_train})\n",
    "train_results2"
   ]
  },
  {
   "attachments": {},
   "cell_type": "markdown",
   "metadata": {},
   "source": [
    "31. Visualize the data to compare predicted values to the actual values for the training set. Again, the model did a pretty good job of predicting values since the lines are pretty close together, but it seems like it has a harder time predicting the large spikes like the last model. "
   ]
  },
  {
   "cell_type": "code",
   "execution_count": 119,
   "metadata": {},
   "outputs": [
    {
     "data": {
      "image/png": "[encoded data removed]",
      "text/plain": [
       "<Figure size 640x480 with 1 Axes>"
      ]
     },
     "metadata": {},
     "output_type": "display_data"
    }
   ],
   "source": [
    "plt.plot(train_results2['Train Predictions'][:100])\n",
    "plt.plot(train_results2['Actuals'][:100])\n",
    "plt.title('Predicted vs Actual Values for Training Set')\n",
    "plt.legend(['Predictions','Actuals']);"
   ]
  },
  {
   "attachments": {},
   "cell_type": "markdown",
   "metadata": {},
   "source": [
    "32. Calculate the predicted values for the validation set and add them to a dataframe."
   ]
  },
  {
   "cell_type": "code",
   "execution_count": 95,
   "metadata": {},
   "outputs": [
    {
     "name": "stdout",
     "output_type": "stream",
     "text": [
      "94/94 [==============================] - 1s 7ms/step\n"
     ]
    },
    {
     "data": {
      "text/html": [
       "<div>\n",
       "<style scoped>\n",
       "    .dataframe tbody tr th:only-of-type {\n",
       "        vertical-align: middle;\n",
       "    }\n",
       "\n",
       "    .dataframe tbody tr th {\n",
       "        vertical-align: top;\n",
       "    }\n",
       "\n",
       "    .dataframe thead th {\n",
       "        text-align: right;\n",
       "    }\n",
       "</style>\n",
       "<table border=\"1\" class=\"dataframe\">\n",
       "  <thead>\n",
       "    <tr style=\"text-align: right;\">\n",
       "      <th></th>\n",
       "      <th>Val Predictions</th>\n",
       "      <th>Actuals</th>\n",
       "    </tr>\n",
       "  </thead>\n",
       "  <tbody>\n",
       "    <tr>\n",
       "      <th>0</th>\n",
       "      <td>8.225341</td>\n",
       "      <td>11.78</td>\n",
       "    </tr>\n",
       "    <tr>\n",
       "      <th>1</th>\n",
       "      <td>13.063285</td>\n",
       "      <td>12.08</td>\n",
       "    </tr>\n",
       "    <tr>\n",
       "      <th>2</th>\n",
       "      <td>12.988453</td>\n",
       "      <td>5.95</td>\n",
       "    </tr>\n",
       "    <tr>\n",
       "      <th>3</th>\n",
       "      <td>3.729063</td>\n",
       "      <td>6.47</td>\n",
       "    </tr>\n",
       "    <tr>\n",
       "      <th>4</th>\n",
       "      <td>4.601079</td>\n",
       "      <td>8.21</td>\n",
       "    </tr>\n",
       "    <tr>\n",
       "      <th>...</th>\n",
       "      <td>...</td>\n",
       "      <td>...</td>\n",
       "    </tr>\n",
       "    <tr>\n",
       "      <th>2995</th>\n",
       "      <td>18.989849</td>\n",
       "      <td>19.86</td>\n",
       "    </tr>\n",
       "    <tr>\n",
       "      <th>2996</th>\n",
       "      <td>18.208073</td>\n",
       "      <td>18.63</td>\n",
       "    </tr>\n",
       "    <tr>\n",
       "      <th>2997</th>\n",
       "      <td>17.746162</td>\n",
       "      <td>17.85</td>\n",
       "    </tr>\n",
       "    <tr>\n",
       "      <th>2998</th>\n",
       "      <td>18.107964</td>\n",
       "      <td>18.36</td>\n",
       "    </tr>\n",
       "    <tr>\n",
       "      <th>2999</th>\n",
       "      <td>19.793556</td>\n",
       "      <td>18.85</td>\n",
       "    </tr>\n",
       "  </tbody>\n",
       "</table>\n",
       "<p>3000 rows × 2 columns</p>\n",
       "</div>"
      ],
      "text/plain": [
       "      Val Predictions  Actuals\n",
       "0            8.225341    11.78\n",
       "1           13.063285    12.08\n",
       "2           12.988453     5.95\n",
       "3            3.729063     6.47\n",
       "4            4.601079     8.21\n",
       "...               ...      ...\n",
       "2995        18.989849    19.86\n",
       "2996        18.208073    18.63\n",
       "2997        17.746162    17.85\n",
       "2998        18.107964    18.36\n",
       "2999        19.793556    18.85\n",
       "\n",
       "[3000 rows x 2 columns]"
      ]
     },
     "execution_count": 95,
     "metadata": {},
     "output_type": "execute_result"
    }
   ],
   "source": [
    "val_predictions2 = model2.predict(X2_val).flatten()\n",
    "val_results2 = pd.DataFrame(data={'Val Predictions': val_predictions2, 'Actuals': y2_val})\n",
    "val_results2"
   ]
  },
  {
   "attachments": {},
   "cell_type": "markdown",
   "metadata": {},
   "source": [
    "33. Visualize the data to compare predicted values to the actual values for the validation set. For this set, it looks like the model did better at predicting those larger spikes."
   ]
  },
  {
   "cell_type": "code",
   "execution_count": 120,
   "metadata": {},
   "outputs": [
    {
     "data": {
      "image/png": "[encoded data removed]",
      "text/plain": [
       "<Figure size 640x480 with 1 Axes>"
      ]
     },
     "metadata": {},
     "output_type": "display_data"
    }
   ],
   "source": [
    "plt.plot(val_results2['Val Predictions'][:100])\n",
    "plt.plot(val_results2['Actuals'][:100])\n",
    "plt.title('Predicted vs Actual Values for Training Set')\n",
    "plt.legend(['Predictions','Actuals']);"
   ]
  },
  {
   "attachments": {},
   "cell_type": "markdown",
   "metadata": {},
   "source": [
    "34. Calculate the predicted values for the training set and add them to a dataframe."
   ]
  },
  {
   "cell_type": "code",
   "execution_count": 97,
   "metadata": {},
   "outputs": [
    {
     "name": "stdout",
     "output_type": "stream",
     "text": [
      "96/96 [==============================] - 1s 6ms/step\n"
     ]
    },
    {
     "data": {
      "text/html": [
       "<div>\n",
       "<style scoped>\n",
       "    .dataframe tbody tr th:only-of-type {\n",
       "        vertical-align: middle;\n",
       "    }\n",
       "\n",
       "    .dataframe tbody tr th {\n",
       "        vertical-align: top;\n",
       "    }\n",
       "\n",
       "    .dataframe thead th {\n",
       "        text-align: right;\n",
       "    }\n",
       "</style>\n",
       "<table border=\"1\" class=\"dataframe\">\n",
       "  <thead>\n",
       "    <tr style=\"text-align: right;\">\n",
       "      <th></th>\n",
       "      <th>Test Predictions</th>\n",
       "      <th>Actuals</th>\n",
       "    </tr>\n",
       "  </thead>\n",
       "  <tbody>\n",
       "    <tr>\n",
       "      <th>0</th>\n",
       "      <td>20.650051</td>\n",
       "      <td>16.84</td>\n",
       "    </tr>\n",
       "    <tr>\n",
       "      <th>1</th>\n",
       "      <td>17.231438</td>\n",
       "      <td>17.90</td>\n",
       "    </tr>\n",
       "    <tr>\n",
       "      <th>2</th>\n",
       "      <td>18.282816</td>\n",
       "      <td>19.42</td>\n",
       "    </tr>\n",
       "    <tr>\n",
       "      <th>3</th>\n",
       "      <td>19.691925</td>\n",
       "      <td>22.37</td>\n",
       "    </tr>\n",
       "    <tr>\n",
       "      <th>4</th>\n",
       "      <td>22.577848</td>\n",
       "      <td>26.01</td>\n",
       "    </tr>\n",
       "    <tr>\n",
       "      <th>...</th>\n",
       "      <td>...</td>\n",
       "      <td>...</td>\n",
       "    </tr>\n",
       "    <tr>\n",
       "      <th>3050</th>\n",
       "      <td>30.946255</td>\n",
       "      <td>36.08</td>\n",
       "    </tr>\n",
       "    <tr>\n",
       "      <th>3051</th>\n",
       "      <td>44.017494</td>\n",
       "      <td>45.75</td>\n",
       "    </tr>\n",
       "    <tr>\n",
       "      <th>3052</th>\n",
       "      <td>49.690575</td>\n",
       "      <td>50.21</td>\n",
       "    </tr>\n",
       "    <tr>\n",
       "      <th>3053</th>\n",
       "      <td>48.047276</td>\n",
       "      <td>48.14</td>\n",
       "    </tr>\n",
       "    <tr>\n",
       "      <th>3054</th>\n",
       "      <td>44.435768</td>\n",
       "      <td>44.33</td>\n",
       "    </tr>\n",
       "  </tbody>\n",
       "</table>\n",
       "<p>3055 rows × 2 columns</p>\n",
       "</div>"
      ],
      "text/plain": [
       "      Test Predictions  Actuals\n",
       "0            20.650051    16.84\n",
       "1            17.231438    17.90\n",
       "2            18.282816    19.42\n",
       "3            19.691925    22.37\n",
       "4            22.577848    26.01\n",
       "...                ...      ...\n",
       "3050         30.946255    36.08\n",
       "3051         44.017494    45.75\n",
       "3052         49.690575    50.21\n",
       "3053         48.047276    48.14\n",
       "3054         44.435768    44.33\n",
       "\n",
       "[3055 rows x 2 columns]"
      ]
     },
     "execution_count": 97,
     "metadata": {},
     "output_type": "execute_result"
    }
   ],
   "source": [
    "test_predictions2 = model2.predict(X2_test).flatten()\n",
    "test_results2 = pd.DataFrame(data={'Test Predictions': test_predictions2, 'Actuals': y2_test})\n",
    "test_results2"
   ]
  },
  {
   "attachments": {},
   "cell_type": "markdown",
   "metadata": {},
   "source": [
    "35. Visualize the data to compare predicted values to the actual values for the testing set. For this set, it looks like the model  overshot the actuals for the larger spikes."
   ]
  },
  {
   "cell_type": "code",
   "execution_count": 121,
   "metadata": {},
   "outputs": [
    {
     "data": {
      "image/png": "[encoded data removed]",
      "text/plain": [
       "<Figure size 640x480 with 1 Axes>"
      ]
     },
     "metadata": {},
     "output_type": "display_data"
    }
   ],
   "source": [
    "plt.plot(test_results2['Test Predictions'][:100])\n",
    "plt.plot(test_results2['Actuals'][:100])\n",
    "plt.title('Predicted vs Actual Values for Training Set')\n",
    "plt.legend(['Predictions','Actuals']);"
   ]
  },
  {
   "attachments": {},
   "cell_type": "markdown",
   "metadata": {},
   "source": [
    "36. Calculate the coefficient of determination for the training set, validation set, and testing set. As you can see, the model performed better on the training and testing sets when compared to the last model. Those values were .84 and .78 respectively, and now they are .91 and .88. Overall, the performance of this second model is better than the last one because of the added cycical features. "
   ]
  },
  {
   "cell_type": "code",
   "execution_count": 101,
   "metadata": {},
   "outputs": [
    {
     "data": {
      "text/plain": [
       "0.9197300500784565"
      ]
     },
     "execution_count": 101,
     "metadata": {},
     "output_type": "execute_result"
    }
   ],
   "source": [
    "train2_r2 = r2_score(train_results2['Actuals'],train_results2['Train Predictions'])\n",
    "train2_r2"
   ]
  },
  {
   "cell_type": "code",
   "execution_count": 102,
   "metadata": {},
   "outputs": [
    {
     "data": {
      "text/plain": [
       "0.9123240028463745"
      ]
     },
     "execution_count": 102,
     "metadata": {},
     "output_type": "execute_result"
    }
   ],
   "source": [
    "val2_r2 = r2_score(val_results2['Actuals'],val_results2['Val Predictions'])\n",
    "val2_r2"
   ]
  },
  {
   "cell_type": "code",
   "execution_count": 104,
   "metadata": {},
   "outputs": [
    {
     "data": {
      "text/plain": [
       "0.8882776817240181"
      ]
     },
     "execution_count": 104,
     "metadata": {},
     "output_type": "execute_result"
    }
   ],
   "source": [
    "test2_r2 = r2_score(test_results2['Actuals'],test_results2['Test Predictions'])\n",
    "test2_r2"
   ]
  }
 ],
 "metadata": {
  "kernelspec": {
   "display_name": "base",
   "language": "python",
   "name": "python3"
  },
  "language_info": {
   "codemirror_mode": {
    "name": "ipython",
    "version": 3
   },
   "file_extension": ".py",
   "mimetype": "text/x-python",
   "name": "python",
   "nbconvert_exporter": "python",
   "pygments_lexer": "ipython3",
   "version": "3.9.13"
  },
  "orig_nbformat": 4,
  "vscode": {
   "interpreter": {
    "hash": "7939009c0f665b034ac7d0d020f8ea7c93f1de027612b5d929de2dae80f6a8fb"
   }
  }
 },
 "nbformat": 4,
 "nbformat_minor": 2
}
