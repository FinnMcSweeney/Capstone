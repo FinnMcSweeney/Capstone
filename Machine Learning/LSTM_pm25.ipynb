{
 "cells": [
  {
   "cell_type": "code",
   "execution_count": 2,
   "metadata": {},
   "outputs": [],
   "source": [
    "import tensorflow as tf\n",
    "import os\n",
    "import pandas as pd\n",
    "import numpy as np"
   ]
  },
  {
   "attachments": {},
   "cell_type": "markdown",
   "metadata": {},
   "source": [
    "1. Load in the csv file. "
   ]
  },
  {
   "cell_type": "code",
   "execution_count": 3,
   "metadata": {},
   "outputs": [],
   "source": [
    "df = pd.read_csv('aqi_ny.csv')"
   ]
  },
  {
   "attachments": {},
   "cell_type": "markdown",
   "metadata": {},
   "source": [
    "2. Drop the extra index."
   ]
  },
  {
   "cell_type": "code",
   "execution_count": 4,
   "metadata": {},
   "outputs": [],
   "source": [
    "df = df.drop('Unnamed: 0', axis=1)"
   ]
  },
  {
   "cell_type": "code",
   "execution_count": 5,
   "metadata": {},
   "outputs": [
    {
     "data": {
      "text/html": [
       "<div>\n",
       "<style scoped>\n",
       "    .dataframe tbody tr th:only-of-type {\n",
       "        vertical-align: middle;\n",
       "    }\n",
       "\n",
       "    .dataframe tbody tr th {\n",
       "        vertical-align: top;\n",
       "    }\n",
       "\n",
       "    .dataframe thead th {\n",
       "        text-align: right;\n",
       "    }\n",
       "</style>\n",
       "<table border=\"1\" class=\"dataframe\">\n",
       "  <thead>\n",
       "    <tr style=\"text-align: right;\">\n",
       "      <th></th>\n",
       "      <th>date</th>\n",
       "      <th>co</th>\n",
       "      <th>no</th>\n",
       "      <th>no2</th>\n",
       "      <th>o3</th>\n",
       "      <th>so2</th>\n",
       "      <th>pm2_5</th>\n",
       "      <th>pm10</th>\n",
       "      <th>nh3</th>\n",
       "      <th>aqi</th>\n",
       "      <th>latitude</th>\n",
       "      <th>longitude</th>\n",
       "      <th>city</th>\n",
       "    </tr>\n",
       "  </thead>\n",
       "  <tbody>\n",
       "    <tr>\n",
       "      <th>0</th>\n",
       "      <td>2020-12-01 05:00:00</td>\n",
       "      <td>373.84</td>\n",
       "      <td>1.50</td>\n",
       "      <td>43.87</td>\n",
       "      <td>8.49</td>\n",
       "      <td>6.86</td>\n",
       "      <td>9.31</td>\n",
       "      <td>11.75</td>\n",
       "      <td>1.30</td>\n",
       "      <td>2</td>\n",
       "      <td>40.7127</td>\n",
       "      <td>-74.006</td>\n",
       "      <td>New York, NY</td>\n",
       "    </tr>\n",
       "    <tr>\n",
       "      <th>1</th>\n",
       "      <td>2020-12-01 06:00:00</td>\n",
       "      <td>343.80</td>\n",
       "      <td>1.16</td>\n",
       "      <td>37.70</td>\n",
       "      <td>9.39</td>\n",
       "      <td>7.09</td>\n",
       "      <td>8.43</td>\n",
       "      <td>10.47</td>\n",
       "      <td>1.09</td>\n",
       "      <td>1</td>\n",
       "      <td>40.7127</td>\n",
       "      <td>-74.006</td>\n",
       "      <td>New York, NY</td>\n",
       "    </tr>\n",
       "    <tr>\n",
       "      <th>2</th>\n",
       "      <td>2020-12-01 07:00:00</td>\n",
       "      <td>337.12</td>\n",
       "      <td>1.79</td>\n",
       "      <td>35.99</td>\n",
       "      <td>6.35</td>\n",
       "      <td>7.21</td>\n",
       "      <td>8.55</td>\n",
       "      <td>10.80</td>\n",
       "      <td>1.08</td>\n",
       "      <td>1</td>\n",
       "      <td>40.7127</td>\n",
       "      <td>-74.006</td>\n",
       "      <td>New York, NY</td>\n",
       "    </tr>\n",
       "    <tr>\n",
       "      <th>3</th>\n",
       "      <td>2020-12-01 08:00:00</td>\n",
       "      <td>337.12</td>\n",
       "      <td>3.38</td>\n",
       "      <td>34.96</td>\n",
       "      <td>3.09</td>\n",
       "      <td>7.63</td>\n",
       "      <td>8.92</td>\n",
       "      <td>11.57</td>\n",
       "      <td>1.08</td>\n",
       "      <td>1</td>\n",
       "      <td>40.7127</td>\n",
       "      <td>-74.006</td>\n",
       "      <td>New York, NY</td>\n",
       "    </tr>\n",
       "    <tr>\n",
       "      <th>4</th>\n",
       "      <td>2020-12-01 09:00:00</td>\n",
       "      <td>340.46</td>\n",
       "      <td>5.87</td>\n",
       "      <td>33.59</td>\n",
       "      <td>1.16</td>\n",
       "      <td>8.23</td>\n",
       "      <td>9.62</td>\n",
       "      <td>12.64</td>\n",
       "      <td>1.09</td>\n",
       "      <td>1</td>\n",
       "      <td>40.7127</td>\n",
       "      <td>-74.006</td>\n",
       "      <td>New York, NY</td>\n",
       "    </tr>\n",
       "    <tr>\n",
       "      <th>...</th>\n",
       "      <td>...</td>\n",
       "      <td>...</td>\n",
       "      <td>...</td>\n",
       "      <td>...</td>\n",
       "      <td>...</td>\n",
       "      <td>...</td>\n",
       "      <td>...</td>\n",
       "      <td>...</td>\n",
       "      <td>...</td>\n",
       "      <td>...</td>\n",
       "      <td>...</td>\n",
       "      <td>...</td>\n",
       "      <td>...</td>\n",
       "    </tr>\n",
       "    <tr>\n",
       "      <th>18056</th>\n",
       "      <td>2022-12-31 13:00:00</td>\n",
       "      <td>821.11</td>\n",
       "      <td>62.58</td>\n",
       "      <td>61.69</td>\n",
       "      <td>0.00</td>\n",
       "      <td>5.48</td>\n",
       "      <td>36.08</td>\n",
       "      <td>44.15</td>\n",
       "      <td>3.39</td>\n",
       "      <td>3</td>\n",
       "      <td>40.7127</td>\n",
       "      <td>-74.006</td>\n",
       "      <td>New York, NY</td>\n",
       "    </tr>\n",
       "    <tr>\n",
       "      <th>18057</th>\n",
       "      <td>2022-12-31 14:00:00</td>\n",
       "      <td>1028.06</td>\n",
       "      <td>92.09</td>\n",
       "      <td>69.23</td>\n",
       "      <td>0.12</td>\n",
       "      <td>6.56</td>\n",
       "      <td>45.75</td>\n",
       "      <td>56.04</td>\n",
       "      <td>3.96</td>\n",
       "      <td>3</td>\n",
       "      <td>40.7127</td>\n",
       "      <td>-74.006</td>\n",
       "      <td>New York, NY</td>\n",
       "    </tr>\n",
       "    <tr>\n",
       "      <th>18058</th>\n",
       "      <td>2022-12-31 15:00:00</td>\n",
       "      <td>1134.87</td>\n",
       "      <td>104.61</td>\n",
       "      <td>69.23</td>\n",
       "      <td>0.46</td>\n",
       "      <td>8.11</td>\n",
       "      <td>50.21</td>\n",
       "      <td>61.68</td>\n",
       "      <td>4.12</td>\n",
       "      <td>4</td>\n",
       "      <td>40.7127</td>\n",
       "      <td>-74.006</td>\n",
       "      <td>New York, NY</td>\n",
       "    </tr>\n",
       "    <tr>\n",
       "      <th>18059</th>\n",
       "      <td>2022-12-31 16:00:00</td>\n",
       "      <td>1121.52</td>\n",
       "      <td>101.92</td>\n",
       "      <td>64.43</td>\n",
       "      <td>0.44</td>\n",
       "      <td>9.42</td>\n",
       "      <td>48.14</td>\n",
       "      <td>59.03</td>\n",
       "      <td>4.18</td>\n",
       "      <td>3</td>\n",
       "      <td>40.7127</td>\n",
       "      <td>-74.006</td>\n",
       "      <td>New York, NY</td>\n",
       "    </tr>\n",
       "    <tr>\n",
       "      <th>18060</th>\n",
       "      <td>2022-12-31 17:00:00</td>\n",
       "      <td>1054.76</td>\n",
       "      <td>97.45</td>\n",
       "      <td>56.89</td>\n",
       "      <td>0.51</td>\n",
       "      <td>10.25</td>\n",
       "      <td>44.33</td>\n",
       "      <td>54.28</td>\n",
       "      <td>4.24</td>\n",
       "      <td>3</td>\n",
       "      <td>40.7127</td>\n",
       "      <td>-74.006</td>\n",
       "      <td>New York, NY</td>\n",
       "    </tr>\n",
       "  </tbody>\n",
       "</table>\n",
       "<p>18061 rows × 13 columns</p>\n",
       "</div>"
      ],
      "text/plain": [
       "                      date       co      no    no2    o3    so2  pm2_5   pm10  \\\n",
       "0      2020-12-01 05:00:00   373.84    1.50  43.87  8.49   6.86   9.31  11.75   \n",
       "1      2020-12-01 06:00:00   343.80    1.16  37.70  9.39   7.09   8.43  10.47   \n",
       "2      2020-12-01 07:00:00   337.12    1.79  35.99  6.35   7.21   8.55  10.80   \n",
       "3      2020-12-01 08:00:00   337.12    3.38  34.96  3.09   7.63   8.92  11.57   \n",
       "4      2020-12-01 09:00:00   340.46    5.87  33.59  1.16   8.23   9.62  12.64   \n",
       "...                    ...      ...     ...    ...   ...    ...    ...    ...   \n",
       "18056  2022-12-31 13:00:00   821.11   62.58  61.69  0.00   5.48  36.08  44.15   \n",
       "18057  2022-12-31 14:00:00  1028.06   92.09  69.23  0.12   6.56  45.75  56.04   \n",
       "18058  2022-12-31 15:00:00  1134.87  104.61  69.23  0.46   8.11  50.21  61.68   \n",
       "18059  2022-12-31 16:00:00  1121.52  101.92  64.43  0.44   9.42  48.14  59.03   \n",
       "18060  2022-12-31 17:00:00  1054.76   97.45  56.89  0.51  10.25  44.33  54.28   \n",
       "\n",
       "        nh3  aqi  latitude  longitude          city  \n",
       "0      1.30    2   40.7127    -74.006  New York, NY  \n",
       "1      1.09    1   40.7127    -74.006  New York, NY  \n",
       "2      1.08    1   40.7127    -74.006  New York, NY  \n",
       "3      1.08    1   40.7127    -74.006  New York, NY  \n",
       "4      1.09    1   40.7127    -74.006  New York, NY  \n",
       "...     ...  ...       ...        ...           ...  \n",
       "18056  3.39    3   40.7127    -74.006  New York, NY  \n",
       "18057  3.96    3   40.7127    -74.006  New York, NY  \n",
       "18058  4.12    4   40.7127    -74.006  New York, NY  \n",
       "18059  4.18    3   40.7127    -74.006  New York, NY  \n",
       "18060  4.24    3   40.7127    -74.006  New York, NY  \n",
       "\n",
       "[18061 rows x 13 columns]"
      ]
     },
     "execution_count": 5,
     "metadata": {},
     "output_type": "execute_result"
    }
   ],
   "source": [
    "df"
   ]
  },
  {
   "attachments": {},
   "cell_type": "markdown",
   "metadata": {},
   "source": [
    "3. Make the date column the index, and get rid of the extra date column so there's not a duplicate."
   ]
  },
  {
   "cell_type": "code",
   "execution_count": 6,
   "metadata": {},
   "outputs": [],
   "source": [
    "df.index = pd.to_datetime(df['date'])"
   ]
  },
  {
   "cell_type": "code",
   "execution_count": 7,
   "metadata": {},
   "outputs": [],
   "source": [
    "df = df.drop('date', axis=1)"
   ]
  },
  {
   "cell_type": "code",
   "execution_count": 8,
   "metadata": {},
   "outputs": [],
   "source": [
    "pm25 = df['pm2_5']"
   ]
  },
  {
   "attachments": {},
   "cell_type": "markdown",
   "metadata": {},
   "source": [
    "4. Visualize your data. "
   ]
  },
  {
   "cell_type": "code",
   "execution_count": 9,
   "metadata": {},
   "outputs": [
    {
     "data": {
      "image/png": "[encoded data removed]",
      "text/plain": [
       "<Figure size 640x480 with 1 Axes>"
      ]
     },
     "metadata": {},
     "output_type": "display_data"
    }
   ],
   "source": [
    "pm25.plot(title= 'PM2.5 Over Time', ylabel = 'PM2.5', xlabel = 'Date');"
   ]
  },
  {
   "attachments": {},
   "cell_type": "markdown",
   "metadata": {},
   "source": [
    "6. What makes LSTM much better at predicting time series data is that it takes into account a certain amount of values to predict the next one. In this case, the window size is 8, so it is looking at the first 8 values to predict value number 9, next it uses values 2 to 9 to predict 10, and so on. This function gets the data into this format, where X are the predictor values and y is what is being predicted. "
   ]
  },
  {
   "cell_type": "code",
   "execution_count": 10,
   "metadata": {},
   "outputs": [],
   "source": [
    "def df_to_X_y(df, window_size=8):\n",
    "    df_as_np = df.to_numpy()\n",
    "    X = []\n",
    "    y = []\n",
    "    for i in range(len(df_as_np)-window_size):\n",
    "        row = [[a] for a in df_as_np[i:i+8]]\n",
    "        X.append(row)\n",
    "        label = df_as_np[i+5]\n",
    "        y.append(label)\n",
    "    return np.array(X), np.array(y)"
   ]
  },
  {
   "attachments": {},
   "cell_type": "markdown",
   "metadata": {},
   "source": [
    "7. This shows us the shape of X and y, for both there are 18056 arrays, but X has 8 lists in each array since our window size is 8, and y only has one since we are predicting one value at a time. "
   ]
  },
  {
   "cell_type": "code",
   "execution_count": 11,
   "metadata": {},
   "outputs": [
    {
     "data": {
      "text/plain": [
       "((18053, 8, 1), (18053,))"
      ]
     },
     "execution_count": 11,
     "metadata": {},
     "output_type": "execute_result"
    }
   ],
   "source": [
    "window_size = 8\n",
    "X, y = df_to_X_y(pm25, window_size)\n",
    "X.shape, y.shape"
   ]
  },
  {
   "attachments": {},
   "cell_type": "markdown",
   "metadata": {},
   "source": [
    "8. Split the data into a training set, a validation set, and a testing set. "
   ]
  },
  {
   "cell_type": "code",
   "execution_count": 12,
   "metadata": {},
   "outputs": [
    {
     "data": {
      "text/plain": [
       "((12000, 8, 1), (12000,), (3000, 8, 1), (3000,), (3053, 8, 1), (3053,))"
      ]
     },
     "execution_count": 12,
     "metadata": {},
     "output_type": "execute_result"
    }
   ],
   "source": [
    "X_train, y_train = X[:12000], y[:12000]\n",
    "X_val, y_val = X[12000:15000], y[12000:15000]\n",
    "X_test, y_test = X[15000:], y[15000:]\n",
    "X_train.shape, y_train.shape, X_val.shape, y_val.shape, X_test.shape, y_test.shape"
   ]
  },
  {
   "cell_type": "code",
   "execution_count": 13,
   "metadata": {},
   "outputs": [],
   "source": [
    "from keras.models import Sequential\n",
    "from keras.layers import *\n",
    "from keras.callbacks import ModelCheckpoint\n",
    "from keras.losses import MeanSquaredError\n",
    "from keras.metrics import RootMeanSquaredError\n",
    "from keras.optimizers import Adam "
   ]
  },
  {
   "attachments": {},
   "cell_type": "markdown",
   "metadata": {},
   "source": [
    "9. Create the model. For the first layer you have to specify the shape of your model, since the window size is 8 and we only have one predictor the layer is 8 by 1. Next comes 1 LSTM layer, since LSTM is a neural network you have to specify the number of neurons, 32, 64, 128, and 256 are all common. Two dense layers follow the LSTM layer, the last dense layer is responsible for the regression task, and in this case we specify 1 because we want the output to be 1 predicted value."
   ]
  },
  {
   "cell_type": "code",
   "execution_count": 14,
   "metadata": {},
   "outputs": [
    {
     "name": "stdout",
     "output_type": "stream",
     "text": [
      "Model: \"sequential\"\n",
      "_________________________________________________________________\n",
      " Layer (type)                Output Shape              Param #   \n",
      "=================================================================\n",
      " lstm (LSTM)                 (None, 64)                16896     \n",
      "                                                                 \n",
      " dense (Dense)               (None, 8)                 520       \n",
      "                                                                 \n",
      " dense_1 (Dense)             (None, 1)                 9         \n",
      "                                                                 \n",
      "=================================================================\n",
      "Total params: 17,425\n",
      "Trainable params: 17,425\n",
      "Non-trainable params: 0\n",
      "_________________________________________________________________\n"
     ]
    }
   ],
   "source": [
    "model1 = Sequential()\n",
    "model1.add(InputLayer((8,1)))\n",
    "model1.add(LSTM(64))\n",
    "model1.add(Dense(8,'relu'))\n",
    "model1.add(Dense(1,'linear'))\n",
    "\n",
    "model1.summary()"
   ]
  },
  {
   "attachments": {},
   "cell_type": "markdown",
   "metadata": {},
   "source": [
    "10. Create a checkpoint that saves the best performing model. Just like our XGBoost model, we are using a low learning rate so it will be slower. "
   ]
  },
  {
   "cell_type": "code",
   "execution_count": 15,
   "metadata": {},
   "outputs": [],
   "source": [
    "cp = ModelCheckpoint('model1/',save_best_only=True)\n",
    "model1.compile(loss=MeanSquaredError(), optimizer = Adam(learning_rate=0.0001), metrics=RootMeanSquaredError())"
   ]
  },
  {
   "attachments": {},
   "cell_type": "markdown",
   "metadata": {},
   "source": [
    "11. Fit the model. The number you choose for your epochs specifies how many times you will run through the data, so the larger the number the longer it will take to run. "
   ]
  },
  {
   "cell_type": "code",
   "execution_count": 16,
   "metadata": {},
   "outputs": [
    {
     "name": "stdout",
     "output_type": "stream",
     "text": [
      "Epoch 1/25\n",
      "374/375 [============================>.] - ETA: 0s - loss: 1062.3115 - root_mean_squared_error: 32.5931"
     ]
    },
    {
     "name": "stderr",
     "output_type": "stream",
     "text": [
      "WARNING:absl:Found untraced functions such as lstm_cell_layer_call_fn, lstm_cell_layer_call_and_return_conditional_losses while saving (showing 2 of 2). These functions will not be directly callable after loading.\n"
     ]
    },
    {
     "name": "stdout",
     "output_type": "stream",
     "text": [
      "INFO:tensorflow:Assets written to: model1\\assets\n"
     ]
    },
    {
     "name": "stderr",
     "output_type": "stream",
     "text": [
      "INFO:tensorflow:Assets written to: model1\\assets\n"
     ]
    },
    {
     "name": "stdout",
     "output_type": "stream",
     "text": [
      "375/375 [==============================] - 16s 32ms/step - loss: 1064.2617 - root_mean_squared_error: 32.6230 - val_loss: 236.6974 - val_root_mean_squared_error: 15.3850\n",
      "Epoch 2/25\n",
      "371/375 [============================>.] - ETA: 0s - loss: 1048.4120 - root_mean_squared_error: 32.3792"
     ]
    },
    {
     "name": "stderr",
     "output_type": "stream",
     "text": [
      "WARNING:absl:Found untraced functions such as lstm_cell_layer_call_fn, lstm_cell_layer_call_and_return_conditional_losses while saving (showing 2 of 2). These functions will not be directly callable after loading.\n"
     ]
    },
    {
     "name": "stdout",
     "output_type": "stream",
     "text": [
      "INFO:tensorflow:Assets written to: model1\\assets\n"
     ]
    },
    {
     "name": "stderr",
     "output_type": "stream",
     "text": [
      "INFO:tensorflow:Assets written to: model1\\assets\n"
     ]
    },
    {
     "name": "stdout",
     "output_type": "stream",
     "text": [
      "375/375 [==============================] - 9s 24ms/step - loss: 1042.7618 - root_mean_squared_error: 32.2918 - val_loss: 172.7933 - val_root_mean_squared_error: 13.1451\n",
      "Epoch 3/25\n",
      "371/375 [============================>.] - ETA: 0s - loss: 865.7863 - root_mean_squared_error: 29.4242"
     ]
    },
    {
     "name": "stderr",
     "output_type": "stream",
     "text": [
      "WARNING:absl:Found untraced functions such as lstm_cell_layer_call_fn, lstm_cell_layer_call_and_return_conditional_losses while saving (showing 2 of 2). These functions will not be directly callable after loading.\n"
     ]
    },
    {
     "name": "stdout",
     "output_type": "stream",
     "text": [
      "INFO:tensorflow:Assets written to: model1\\assets\n"
     ]
    },
    {
     "name": "stderr",
     "output_type": "stream",
     "text": [
      "INFO:tensorflow:Assets written to: model1\\assets\n"
     ]
    },
    {
     "name": "stdout",
     "output_type": "stream",
     "text": [
      "375/375 [==============================] - 10s 27ms/step - loss: 867.7995 - root_mean_squared_error: 29.4584 - val_loss: 93.1760 - val_root_mean_squared_error: 9.6528\n",
      "Epoch 4/25\n",
      "375/375 [==============================] - ETA: 0s - loss: 733.9507 - root_mean_squared_error: 27.0915"
     ]
    },
    {
     "name": "stderr",
     "output_type": "stream",
     "text": [
      "WARNING:absl:Found untraced functions such as lstm_cell_layer_call_fn, lstm_cell_layer_call_and_return_conditional_losses while saving (showing 2 of 2). These functions will not be directly callable after loading.\n"
     ]
    },
    {
     "name": "stdout",
     "output_type": "stream",
     "text": [
      "INFO:tensorflow:Assets written to: model1\\assets\n"
     ]
    },
    {
     "name": "stderr",
     "output_type": "stream",
     "text": [
      "INFO:tensorflow:Assets written to: model1\\assets\n"
     ]
    },
    {
     "name": "stdout",
     "output_type": "stream",
     "text": [
      "375/375 [==============================] - 12s 31ms/step - loss: 733.9507 - root_mean_squared_error: 27.0915 - val_loss: 62.8862 - val_root_mean_squared_error: 7.9301\n",
      "Epoch 5/25\n",
      "369/375 [============================>.] - ETA: 0s - loss: 656.9749 - root_mean_squared_error: 25.6315"
     ]
    },
    {
     "name": "stderr",
     "output_type": "stream",
     "text": [
      "WARNING:absl:Found untraced functions such as lstm_cell_layer_call_fn, lstm_cell_layer_call_and_return_conditional_losses while saving (showing 2 of 2). These functions will not be directly callable after loading.\n"
     ]
    },
    {
     "name": "stdout",
     "output_type": "stream",
     "text": [
      "INFO:tensorflow:Assets written to: model1\\assets\n"
     ]
    },
    {
     "name": "stderr",
     "output_type": "stream",
     "text": [
      "INFO:tensorflow:Assets written to: model1\\assets\n"
     ]
    },
    {
     "name": "stdout",
     "output_type": "stream",
     "text": [
      "375/375 [==============================] - 10s 26ms/step - loss: 653.8276 - root_mean_squared_error: 25.5701 - val_loss: 44.5330 - val_root_mean_squared_error: 6.6733\n",
      "Epoch 6/25\n",
      "372/375 [============================>.] - ETA: 0s - loss: 590.7727 - root_mean_squared_error: 24.3058"
     ]
    },
    {
     "name": "stderr",
     "output_type": "stream",
     "text": [
      "WARNING:absl:Found untraced functions such as lstm_cell_layer_call_fn, lstm_cell_layer_call_and_return_conditional_losses while saving (showing 2 of 2). These functions will not be directly callable after loading.\n"
     ]
    },
    {
     "name": "stdout",
     "output_type": "stream",
     "text": [
      "INFO:tensorflow:Assets written to: model1\\assets\n"
     ]
    },
    {
     "name": "stderr",
     "output_type": "stream",
     "text": [
      "INFO:tensorflow:Assets written to: model1\\assets\n"
     ]
    },
    {
     "name": "stdout",
     "output_type": "stream",
     "text": [
      "375/375 [==============================] - 11s 28ms/step - loss: 589.1715 - root_mean_squared_error: 24.2729 - val_loss: 32.7046 - val_root_mean_squared_error: 5.7188\n",
      "Epoch 7/25\n",
      "374/375 [============================>.] - ETA: 0s - loss: 533.7883 - root_mean_squared_error: 23.1039"
     ]
    },
    {
     "name": "stderr",
     "output_type": "stream",
     "text": [
      "WARNING:absl:Found untraced functions such as lstm_cell_layer_call_fn, lstm_cell_layer_call_and_return_conditional_losses while saving (showing 2 of 2). These functions will not be directly callable after loading.\n"
     ]
    },
    {
     "name": "stdout",
     "output_type": "stream",
     "text": [
      "INFO:tensorflow:Assets written to: model1\\assets\n"
     ]
    },
    {
     "name": "stderr",
     "output_type": "stream",
     "text": [
      "INFO:tensorflow:Assets written to: model1\\assets\n"
     ]
    },
    {
     "name": "stdout",
     "output_type": "stream",
     "text": [
      "375/375 [==============================] - 10s 26ms/step - loss: 532.8469 - root_mean_squared_error: 23.0835 - val_loss: 24.4677 - val_root_mean_squared_error: 4.9465\n",
      "Epoch 8/25\n",
      "369/375 [============================>.] - ETA: 0s - loss: 488.5457 - root_mean_squared_error: 22.1031"
     ]
    },
    {
     "name": "stderr",
     "output_type": "stream",
     "text": [
      "WARNING:absl:Found untraced functions such as lstm_cell_layer_call_fn, lstm_cell_layer_call_and_return_conditional_losses while saving (showing 2 of 2). These functions will not be directly callable after loading.\n"
     ]
    },
    {
     "name": "stdout",
     "output_type": "stream",
     "text": [
      "INFO:tensorflow:Assets written to: model1\\assets\n"
     ]
    },
    {
     "name": "stderr",
     "output_type": "stream",
     "text": [
      "INFO:tensorflow:Assets written to: model1\\assets\n"
     ]
    },
    {
     "name": "stdout",
     "output_type": "stream",
     "text": [
      "375/375 [==============================] - 12s 32ms/step - loss: 482.7941 - root_mean_squared_error: 21.9726 - val_loss: 18.7347 - val_root_mean_squared_error: 4.3284\n",
      "Epoch 9/25\n",
      "373/375 [============================>.] - ETA: 0s - loss: 439.4231 - root_mean_squared_error: 20.9624"
     ]
    },
    {
     "name": "stderr",
     "output_type": "stream",
     "text": [
      "WARNING:absl:Found untraced functions such as lstm_cell_layer_call_fn, lstm_cell_layer_call_and_return_conditional_losses while saving (showing 2 of 2). These functions will not be directly callable after loading.\n"
     ]
    },
    {
     "name": "stdout",
     "output_type": "stream",
     "text": [
      "INFO:tensorflow:Assets written to: model1\\assets\n"
     ]
    },
    {
     "name": "stderr",
     "output_type": "stream",
     "text": [
      "INFO:tensorflow:Assets written to: model1\\assets\n"
     ]
    },
    {
     "name": "stdout",
     "output_type": "stream",
     "text": [
      "375/375 [==============================] - 11s 30ms/step - loss: 438.0993 - root_mean_squared_error: 20.9308 - val_loss: 14.5238 - val_root_mean_squared_error: 3.8110\n",
      "Epoch 10/25\n",
      "371/375 [============================>.] - ETA: 0s - loss: 400.1305 - root_mean_squared_error: 20.0033"
     ]
    },
    {
     "name": "stderr",
     "output_type": "stream",
     "text": [
      "WARNING:absl:Found untraced functions such as lstm_cell_layer_call_fn, lstm_cell_layer_call_and_return_conditional_losses while saving (showing 2 of 2). These functions will not be directly callable after loading.\n"
     ]
    },
    {
     "name": "stdout",
     "output_type": "stream",
     "text": [
      "INFO:tensorflow:Assets written to: model1\\assets\n"
     ]
    },
    {
     "name": "stderr",
     "output_type": "stream",
     "text": [
      "INFO:tensorflow:Assets written to: model1\\assets\n"
     ]
    },
    {
     "name": "stdout",
     "output_type": "stream",
     "text": [
      "375/375 [==============================] - 11s 30ms/step - loss: 397.9654 - root_mean_squared_error: 19.9491 - val_loss: 11.5582 - val_root_mean_squared_error: 3.3997\n",
      "Epoch 11/25\n",
      "371/375 [============================>.] - ETA: 0s - loss: 361.0363 - root_mean_squared_error: 19.0010"
     ]
    },
    {
     "name": "stderr",
     "output_type": "stream",
     "text": [
      "WARNING:absl:Found untraced functions such as lstm_cell_layer_call_fn, lstm_cell_layer_call_and_return_conditional_losses while saving (showing 2 of 2). These functions will not be directly callable after loading.\n"
     ]
    },
    {
     "name": "stdout",
     "output_type": "stream",
     "text": [
      "INFO:tensorflow:Assets written to: model1\\assets\n"
     ]
    },
    {
     "name": "stderr",
     "output_type": "stream",
     "text": [
      "INFO:tensorflow:Assets written to: model1\\assets\n"
     ]
    },
    {
     "name": "stdout",
     "output_type": "stream",
     "text": [
      "375/375 [==============================] - 11s 30ms/step - loss: 361.7869 - root_mean_squared_error: 19.0207 - val_loss: 9.1716 - val_root_mean_squared_error: 3.0285\n",
      "Epoch 12/25\n",
      "369/375 [============================>.] - ETA: 0s - loss: 327.1853 - root_mean_squared_error: 18.0883"
     ]
    },
    {
     "name": "stderr",
     "output_type": "stream",
     "text": [
      "WARNING:absl:Found untraced functions such as lstm_cell_layer_call_fn, lstm_cell_layer_call_and_return_conditional_losses while saving (showing 2 of 2). These functions will not be directly callable after loading.\n"
     ]
    },
    {
     "name": "stdout",
     "output_type": "stream",
     "text": [
      "INFO:tensorflow:Assets written to: model1\\assets\n"
     ]
    },
    {
     "name": "stderr",
     "output_type": "stream",
     "text": [
      "INFO:tensorflow:Assets written to: model1\\assets\n"
     ]
    },
    {
     "name": "stdout",
     "output_type": "stream",
     "text": [
      "375/375 [==============================] - 11s 30ms/step - loss: 328.4834 - root_mean_squared_error: 18.1241 - val_loss: 7.2615 - val_root_mean_squared_error: 2.6947\n",
      "Epoch 13/25\n",
      "368/375 [============================>.] - ETA: 0s - loss: 301.3871 - root_mean_squared_error: 17.3605"
     ]
    },
    {
     "name": "stderr",
     "output_type": "stream",
     "text": [
      "WARNING:absl:Found untraced functions such as lstm_cell_layer_call_fn, lstm_cell_layer_call_and_return_conditional_losses while saving (showing 2 of 2). These functions will not be directly callable after loading.\n"
     ]
    },
    {
     "name": "stdout",
     "output_type": "stream",
     "text": [
      "INFO:tensorflow:Assets written to: model1\\assets\n"
     ]
    },
    {
     "name": "stderr",
     "output_type": "stream",
     "text": [
      "INFO:tensorflow:Assets written to: model1\\assets\n"
     ]
    },
    {
     "name": "stdout",
     "output_type": "stream",
     "text": [
      "375/375 [==============================] - 11s 30ms/step - loss: 298.6495 - root_mean_squared_error: 17.2815 - val_loss: 5.6980 - val_root_mean_squared_error: 2.3870\n",
      "Epoch 14/25\n",
      "369/375 [============================>.] - ETA: 0s - loss: 271.0313 - root_mean_squared_error: 16.4630"
     ]
    },
    {
     "name": "stderr",
     "output_type": "stream",
     "text": [
      "WARNING:absl:Found untraced functions such as lstm_cell_layer_call_fn, lstm_cell_layer_call_and_return_conditional_losses while saving (showing 2 of 2). These functions will not be directly callable after loading.\n"
     ]
    },
    {
     "name": "stdout",
     "output_type": "stream",
     "text": [
      "INFO:tensorflow:Assets written to: model1\\assets\n"
     ]
    },
    {
     "name": "stderr",
     "output_type": "stream",
     "text": [
      "INFO:tensorflow:Assets written to: model1\\assets\n"
     ]
    },
    {
     "name": "stdout",
     "output_type": "stream",
     "text": [
      "375/375 [==============================] - 10s 27ms/step - loss: 271.5072 - root_mean_squared_error: 16.4775 - val_loss: 4.3946 - val_root_mean_squared_error: 2.0963\n",
      "Epoch 15/25\n",
      "375/375 [==============================] - ETA: 0s - loss: 246.9924 - root_mean_squared_error: 15.7160"
     ]
    },
    {
     "name": "stderr",
     "output_type": "stream",
     "text": [
      "WARNING:absl:Found untraced functions such as lstm_cell_layer_call_fn, lstm_cell_layer_call_and_return_conditional_losses while saving (showing 2 of 2). These functions will not be directly callable after loading.\n"
     ]
    },
    {
     "name": "stdout",
     "output_type": "stream",
     "text": [
      "INFO:tensorflow:Assets written to: model1\\assets\n"
     ]
    },
    {
     "name": "stderr",
     "output_type": "stream",
     "text": [
      "INFO:tensorflow:Assets written to: model1\\assets\n"
     ]
    },
    {
     "name": "stdout",
     "output_type": "stream",
     "text": [
      "375/375 [==============================] - 11s 30ms/step - loss: 246.9924 - root_mean_squared_error: 15.7160 - val_loss: 3.4836 - val_root_mean_squared_error: 1.8664\n",
      "Epoch 16/25\n",
      "372/375 [============================>.] - ETA: 0s - loss: 226.5107 - root_mean_squared_error: 15.0503"
     ]
    },
    {
     "name": "stderr",
     "output_type": "stream",
     "text": [
      "WARNING:absl:Found untraced functions such as lstm_cell_layer_call_fn, lstm_cell_layer_call_and_return_conditional_losses while saving (showing 2 of 2). These functions will not be directly callable after loading.\n"
     ]
    },
    {
     "name": "stdout",
     "output_type": "stream",
     "text": [
      "INFO:tensorflow:Assets written to: model1\\assets\n"
     ]
    },
    {
     "name": "stderr",
     "output_type": "stream",
     "text": [
      "INFO:tensorflow:Assets written to: model1\\assets\n"
     ]
    },
    {
     "name": "stdout",
     "output_type": "stream",
     "text": [
      "375/375 [==============================] - 12s 31ms/step - loss: 225.1401 - root_mean_squared_error: 15.0047 - val_loss: 2.6371 - val_root_mean_squared_error: 1.6239\n",
      "Epoch 17/25\n",
      "372/375 [============================>.] - ETA: 0s - loss: 205.8602 - root_mean_squared_error: 14.3478"
     ]
    },
    {
     "name": "stderr",
     "output_type": "stream",
     "text": [
      "WARNING:absl:Found untraced functions such as lstm_cell_layer_call_fn, lstm_cell_layer_call_and_return_conditional_losses while saving (showing 2 of 2). These functions will not be directly callable after loading.\n"
     ]
    },
    {
     "name": "stdout",
     "output_type": "stream",
     "text": [
      "INFO:tensorflow:Assets written to: model1\\assets\n"
     ]
    },
    {
     "name": "stderr",
     "output_type": "stream",
     "text": [
      "INFO:tensorflow:Assets written to: model1\\assets\n"
     ]
    },
    {
     "name": "stdout",
     "output_type": "stream",
     "text": [
      "375/375 [==============================] - 9s 25ms/step - loss: 205.2473 - root_mean_squared_error: 14.3265 - val_loss: 2.1276 - val_root_mean_squared_error: 1.4586\n",
      "Epoch 18/25\n",
      "372/375 [============================>.] - ETA: 0s - loss: 187.6866 - root_mean_squared_error: 13.6999"
     ]
    },
    {
     "name": "stderr",
     "output_type": "stream",
     "text": [
      "WARNING:absl:Found untraced functions such as lstm_cell_layer_call_fn, lstm_cell_layer_call_and_return_conditional_losses while saving (showing 2 of 2). These functions will not be directly callable after loading.\n"
     ]
    },
    {
     "name": "stdout",
     "output_type": "stream",
     "text": [
      "INFO:tensorflow:Assets written to: model1\\assets\n"
     ]
    },
    {
     "name": "stderr",
     "output_type": "stream",
     "text": [
      "INFO:tensorflow:Assets written to: model1\\assets\n"
     ]
    },
    {
     "name": "stdout",
     "output_type": "stream",
     "text": [
      "375/375 [==============================] - 11s 29ms/step - loss: 187.1602 - root_mean_squared_error: 13.6807 - val_loss: 1.6612 - val_root_mean_squared_error: 1.2889\n",
      "Epoch 19/25\n",
      "374/375 [============================>.] - ETA: 0s - loss: 171.1961 - root_mean_squared_error: 13.0842"
     ]
    },
    {
     "name": "stderr",
     "output_type": "stream",
     "text": [
      "WARNING:absl:Found untraced functions such as lstm_cell_layer_call_fn, lstm_cell_layer_call_and_return_conditional_losses while saving (showing 2 of 2). These functions will not be directly callable after loading.\n"
     ]
    },
    {
     "name": "stdout",
     "output_type": "stream",
     "text": [
      "INFO:tensorflow:Assets written to: model1\\assets\n"
     ]
    },
    {
     "name": "stderr",
     "output_type": "stream",
     "text": [
      "INFO:tensorflow:Assets written to: model1\\assets\n"
     ]
    },
    {
     "name": "stdout",
     "output_type": "stream",
     "text": [
      "375/375 [==============================] - 11s 30ms/step - loss: 170.7513 - root_mean_squared_error: 13.0672 - val_loss: 1.5933 - val_root_mean_squared_error: 1.2623\n",
      "Epoch 20/25\n",
      "371/375 [============================>.] - ETA: 0s - loss: 157.1579 - root_mean_squared_error: 12.5363"
     ]
    },
    {
     "name": "stderr",
     "output_type": "stream",
     "text": [
      "WARNING:absl:Found untraced functions such as lstm_cell_layer_call_fn, lstm_cell_layer_call_and_return_conditional_losses while saving (showing 2 of 2). These functions will not be directly callable after loading.\n"
     ]
    },
    {
     "name": "stdout",
     "output_type": "stream",
     "text": [
      "INFO:tensorflow:Assets written to: model1\\assets\n"
     ]
    },
    {
     "name": "stderr",
     "output_type": "stream",
     "text": [
      "INFO:tensorflow:Assets written to: model1\\assets\n"
     ]
    },
    {
     "name": "stdout",
     "output_type": "stream",
     "text": [
      "375/375 [==============================] - 10s 25ms/step - loss: 155.9501 - root_mean_squared_error: 12.4880 - val_loss: 1.2516 - val_root_mean_squared_error: 1.1188\n",
      "Epoch 21/25\n",
      "374/375 [============================>.] - ETA: 0s - loss: 142.2062 - root_mean_squared_error: 11.9250"
     ]
    },
    {
     "name": "stderr",
     "output_type": "stream",
     "text": [
      "WARNING:absl:Found untraced functions such as lstm_cell_layer_call_fn, lstm_cell_layer_call_and_return_conditional_losses while saving (showing 2 of 2). These functions will not be directly callable after loading.\n"
     ]
    },
    {
     "name": "stdout",
     "output_type": "stream",
     "text": [
      "INFO:tensorflow:Assets written to: model1\\assets\n"
     ]
    },
    {
     "name": "stderr",
     "output_type": "stream",
     "text": [
      "INFO:tensorflow:Assets written to: model1\\assets\n"
     ]
    },
    {
     "name": "stdout",
     "output_type": "stream",
     "text": [
      "375/375 [==============================] - 11s 30ms/step - loss: 142.4941 - root_mean_squared_error: 11.9371 - val_loss: 1.0464 - val_root_mean_squared_error: 1.0230\n",
      "Epoch 22/25\n",
      "373/375 [============================>.] - ETA: 0s - loss: 129.3034 - root_mean_squared_error: 11.3712"
     ]
    },
    {
     "name": "stderr",
     "output_type": "stream",
     "text": [
      "WARNING:absl:Found untraced functions such as lstm_cell_layer_call_fn, lstm_cell_layer_call_and_return_conditional_losses while saving (showing 2 of 2). These functions will not be directly callable after loading.\n"
     ]
    },
    {
     "name": "stdout",
     "output_type": "stream",
     "text": [
      "INFO:tensorflow:Assets written to: model1\\assets\n"
     ]
    },
    {
     "name": "stderr",
     "output_type": "stream",
     "text": [
      "INFO:tensorflow:Assets written to: model1\\assets\n"
     ]
    },
    {
     "name": "stdout",
     "output_type": "stream",
     "text": [
      "375/375 [==============================] - 11s 30ms/step - loss: 130.1729 - root_mean_squared_error: 11.4093 - val_loss: 0.9329 - val_root_mean_squared_error: 0.9659\n",
      "Epoch 23/25\n",
      "372/375 [============================>.] - ETA: 0s - loss: 118.1736 - root_mean_squared_error: 10.8708"
     ]
    },
    {
     "name": "stderr",
     "output_type": "stream",
     "text": [
      "WARNING:absl:Found untraced functions such as lstm_cell_layer_call_fn, lstm_cell_layer_call_and_return_conditional_losses while saving (showing 2 of 2). These functions will not be directly callable after loading.\n"
     ]
    },
    {
     "name": "stdout",
     "output_type": "stream",
     "text": [
      "INFO:tensorflow:Assets written to: model1\\assets\n"
     ]
    },
    {
     "name": "stderr",
     "output_type": "stream",
     "text": [
      "INFO:tensorflow:Assets written to: model1\\assets\n"
     ]
    },
    {
     "name": "stdout",
     "output_type": "stream",
     "text": [
      "375/375 [==============================] - 12s 32ms/step - loss: 119.0158 - root_mean_squared_error: 10.9094 - val_loss: 0.8887 - val_root_mean_squared_error: 0.9427\n",
      "Epoch 24/25\n",
      "369/375 [============================>.] - ETA: 0s - loss: 110.5659 - root_mean_squared_error: 10.5150"
     ]
    },
    {
     "name": "stderr",
     "output_type": "stream",
     "text": [
      "WARNING:absl:Found untraced functions such as lstm_cell_layer_call_fn, lstm_cell_layer_call_and_return_conditional_losses while saving (showing 2 of 2). These functions will not be directly callable after loading.\n"
     ]
    },
    {
     "name": "stdout",
     "output_type": "stream",
     "text": [
      "INFO:tensorflow:Assets written to: model1\\assets\n"
     ]
    },
    {
     "name": "stderr",
     "output_type": "stream",
     "text": [
      "INFO:tensorflow:Assets written to: model1\\assets\n"
     ]
    },
    {
     "name": "stdout",
     "output_type": "stream",
     "text": [
      "375/375 [==============================] - 12s 33ms/step - loss: 108.9635 - root_mean_squared_error: 10.4386 - val_loss: 0.8790 - val_root_mean_squared_error: 0.9376\n",
      "Epoch 25/25\n",
      "368/375 [============================>.] - ETA: 0s - loss: 100.7094 - root_mean_squared_error: 10.0354"
     ]
    },
    {
     "name": "stderr",
     "output_type": "stream",
     "text": [
      "WARNING:absl:Found untraced functions such as lstm_cell_layer_call_fn, lstm_cell_layer_call_and_return_conditional_losses while saving (showing 2 of 2). These functions will not be directly callable after loading.\n"
     ]
    },
    {
     "name": "stdout",
     "output_type": "stream",
     "text": [
      "INFO:tensorflow:Assets written to: model1\\assets\n"
     ]
    },
    {
     "name": "stderr",
     "output_type": "stream",
     "text": [
      "INFO:tensorflow:Assets written to: model1\\assets\n"
     ]
    },
    {
     "name": "stdout",
     "output_type": "stream",
     "text": [
      "375/375 [==============================] - 12s 31ms/step - loss: 99.7918 - root_mean_squared_error: 9.9896 - val_loss: 0.8054 - val_root_mean_squared_error: 0.8974\n"
     ]
    },
    {
     "data": {
      "text/plain": [
       "<keras.callbacks.History at 0x2529a82e8b0>"
      ]
     },
     "execution_count": 16,
     "metadata": {},
     "output_type": "execute_result"
    }
   ],
   "source": [
    "model1.fit(X_train,y_train, validation_data=(X_val,y_val), epochs=25, callbacks=[cp])"
   ]
  },
  {
   "cell_type": "code",
   "execution_count": 17,
   "metadata": {},
   "outputs": [],
   "source": [
    "from keras.models import load_model"
   ]
  },
  {
   "attachments": {},
   "cell_type": "markdown",
   "metadata": {},
   "source": [
    "12. Load the model so we can work with the best one. "
   ]
  },
  {
   "cell_type": "code",
   "execution_count": 18,
   "metadata": {},
   "outputs": [],
   "source": [
    "model1 = load_model('model1/')"
   ]
  },
  {
   "attachments": {},
   "cell_type": "markdown",
   "metadata": {},
   "source": [
    "13. Calculate the predicted values for the training set and add them to a dataframe with the actuals."
   ]
  },
  {
   "cell_type": "code",
   "execution_count": 19,
   "metadata": {},
   "outputs": [
    {
     "name": "stdout",
     "output_type": "stream",
     "text": [
      "375/375 [==============================] - 3s 5ms/step\n"
     ]
    },
    {
     "data": {
      "text/html": [
       "<div>\n",
       "<style scoped>\n",
       "    .dataframe tbody tr th:only-of-type {\n",
       "        vertical-align: middle;\n",
       "    }\n",
       "\n",
       "    .dataframe tbody tr th {\n",
       "        vertical-align: top;\n",
       "    }\n",
       "\n",
       "    .dataframe thead th {\n",
       "        text-align: right;\n",
       "    }\n",
       "</style>\n",
       "<table border=\"1\" class=\"dataframe\">\n",
       "  <thead>\n",
       "    <tr style=\"text-align: right;\">\n",
       "      <th></th>\n",
       "      <th>Train Predictions</th>\n",
       "      <th>Actuals</th>\n",
       "    </tr>\n",
       "  </thead>\n",
       "  <tbody>\n",
       "    <tr>\n",
       "      <th>0</th>\n",
       "      <td>10.423456</td>\n",
       "      <td>10.60</td>\n",
       "    </tr>\n",
       "    <tr>\n",
       "      <th>1</th>\n",
       "      <td>12.199368</td>\n",
       "      <td>11.92</td>\n",
       "    </tr>\n",
       "    <tr>\n",
       "      <th>2</th>\n",
       "      <td>14.975510</td>\n",
       "      <td>15.04</td>\n",
       "    </tr>\n",
       "    <tr>\n",
       "      <th>3</th>\n",
       "      <td>16.813272</td>\n",
       "      <td>16.85</td>\n",
       "    </tr>\n",
       "    <tr>\n",
       "      <th>4</th>\n",
       "      <td>16.397938</td>\n",
       "      <td>15.64</td>\n",
       "    </tr>\n",
       "    <tr>\n",
       "      <th>...</th>\n",
       "      <td>...</td>\n",
       "      <td>...</td>\n",
       "    </tr>\n",
       "    <tr>\n",
       "      <th>11995</th>\n",
       "      <td>2.553524</td>\n",
       "      <td>2.45</td>\n",
       "    </tr>\n",
       "    <tr>\n",
       "      <th>11996</th>\n",
       "      <td>2.960152</td>\n",
       "      <td>2.90</td>\n",
       "    </tr>\n",
       "    <tr>\n",
       "      <th>11997</th>\n",
       "      <td>3.656843</td>\n",
       "      <td>3.48</td>\n",
       "    </tr>\n",
       "    <tr>\n",
       "      <th>11998</th>\n",
       "      <td>4.611125</td>\n",
       "      <td>4.54</td>\n",
       "    </tr>\n",
       "    <tr>\n",
       "      <th>11999</th>\n",
       "      <td>5.620883</td>\n",
       "      <td>5.91</td>\n",
       "    </tr>\n",
       "  </tbody>\n",
       "</table>\n",
       "<p>12000 rows × 2 columns</p>\n",
       "</div>"
      ],
      "text/plain": [
       "       Train Predictions  Actuals\n",
       "0              10.423456    10.60\n",
       "1              12.199368    11.92\n",
       "2              14.975510    15.04\n",
       "3              16.813272    16.85\n",
       "4              16.397938    15.64\n",
       "...                  ...      ...\n",
       "11995           2.553524     2.45\n",
       "11996           2.960152     2.90\n",
       "11997           3.656843     3.48\n",
       "11998           4.611125     4.54\n",
       "11999           5.620883     5.91\n",
       "\n",
       "[12000 rows x 2 columns]"
      ]
     },
     "execution_count": 19,
     "metadata": {},
     "output_type": "execute_result"
    }
   ],
   "source": [
    "train_predictions = model1.predict(X_train).flatten()\n",
    "train_results = pd.DataFrame(data={'Train Predictions':train_predictions, 'Actuals':y_train})\n",
    "train_results"
   ]
  },
  {
   "attachments": {},
   "cell_type": "markdown",
   "metadata": {},
   "source": [
    "14. Visualize the data to compare predicted values to the actual values for the training set. As you can see, the model did a very good job of predicting values since the lines are pretty much on top of each other, but it struggled to predict when the PM2.5 values spiked."
   ]
  },
  {
   "cell_type": "code",
   "execution_count": 20,
   "metadata": {},
   "outputs": [
    {
     "data": {
      "image/png": "[encoded data removed]",
      "text/plain": [
       "<Figure size 640x480 with 1 Axes>"
      ]
     },
     "metadata": {},
     "output_type": "display_data"
    }
   ],
   "source": [
    "import matplotlib.pyplot as plt\n",
    "plt.plot(train_results['Train Predictions'][:100])\n",
    "plt.plot(train_results['Actuals'][:100])\n",
    "plt.title('Predicted vs Actual Values for Training Set')\n",
    "plt.legend(['Predictions','Actuals']);"
   ]
  },
  {
   "attachments": {},
   "cell_type": "markdown",
   "metadata": {},
   "source": [
    "15. Calculate the predicted values for the validation set and add them to a dataframe with the actuals."
   ]
  },
  {
   "cell_type": "code",
   "execution_count": 21,
   "metadata": {},
   "outputs": [
    {
     "name": "stdout",
     "output_type": "stream",
     "text": [
      "94/94 [==============================] - 1s 4ms/step\n"
     ]
    },
    {
     "data": {
      "text/html": [
       "<div>\n",
       "<style scoped>\n",
       "    .dataframe tbody tr th:only-of-type {\n",
       "        vertical-align: middle;\n",
       "    }\n",
       "\n",
       "    .dataframe tbody tr th {\n",
       "        vertical-align: top;\n",
       "    }\n",
       "\n",
       "    .dataframe thead th {\n",
       "        text-align: right;\n",
       "    }\n",
       "</style>\n",
       "<table border=\"1\" class=\"dataframe\">\n",
       "  <thead>\n",
       "    <tr style=\"text-align: right;\">\n",
       "      <th></th>\n",
       "      <th>Val Predictions</th>\n",
       "      <th>Actuals</th>\n",
       "    </tr>\n",
       "  </thead>\n",
       "  <tbody>\n",
       "    <tr>\n",
       "      <th>0</th>\n",
       "      <td>8.496200</td>\n",
       "      <td>7.60</td>\n",
       "    </tr>\n",
       "    <tr>\n",
       "      <th>1</th>\n",
       "      <td>11.721306</td>\n",
       "      <td>11.78</td>\n",
       "    </tr>\n",
       "    <tr>\n",
       "      <th>2</th>\n",
       "      <td>10.876074</td>\n",
       "      <td>12.08</td>\n",
       "    </tr>\n",
       "    <tr>\n",
       "      <th>3</th>\n",
       "      <td>7.546527</td>\n",
       "      <td>5.95</td>\n",
       "    </tr>\n",
       "    <tr>\n",
       "      <th>4</th>\n",
       "      <td>6.688907</td>\n",
       "      <td>6.47</td>\n",
       "    </tr>\n",
       "    <tr>\n",
       "      <th>...</th>\n",
       "      <td>...</td>\n",
       "      <td>...</td>\n",
       "    </tr>\n",
       "    <tr>\n",
       "      <th>2995</th>\n",
       "      <td>20.562735</td>\n",
       "      <td>20.61</td>\n",
       "    </tr>\n",
       "    <tr>\n",
       "      <th>2996</th>\n",
       "      <td>19.635715</td>\n",
       "      <td>19.86</td>\n",
       "    </tr>\n",
       "    <tr>\n",
       "      <th>2997</th>\n",
       "      <td>18.341402</td>\n",
       "      <td>18.63</td>\n",
       "    </tr>\n",
       "    <tr>\n",
       "      <th>2998</th>\n",
       "      <td>17.760826</td>\n",
       "      <td>17.85</td>\n",
       "    </tr>\n",
       "    <tr>\n",
       "      <th>2999</th>\n",
       "      <td>18.464821</td>\n",
       "      <td>18.36</td>\n",
       "    </tr>\n",
       "  </tbody>\n",
       "</table>\n",
       "<p>3000 rows × 2 columns</p>\n",
       "</div>"
      ],
      "text/plain": [
       "      Val Predictions  Actuals\n",
       "0            8.496200     7.60\n",
       "1           11.721306    11.78\n",
       "2           10.876074    12.08\n",
       "3            7.546527     5.95\n",
       "4            6.688907     6.47\n",
       "...               ...      ...\n",
       "2995        20.562735    20.61\n",
       "2996        19.635715    19.86\n",
       "2997        18.341402    18.63\n",
       "2998        17.760826    17.85\n",
       "2999        18.464821    18.36\n",
       "\n",
       "[3000 rows x 2 columns]"
      ]
     },
     "execution_count": 21,
     "metadata": {},
     "output_type": "execute_result"
    }
   ],
   "source": [
    "val_predictions = model1.predict(X_val).flatten()\n",
    "val_results = pd.DataFrame(data={'Val Predictions':val_predictions, 'Actuals':y_val})\n",
    "val_results"
   ]
  },
  {
   "attachments": {},
   "cell_type": "markdown",
   "metadata": {},
   "source": [
    "16. Visualize the data to compare predicted values to the actual values for the validation set. It looks like the model did a good job, but the predicted values are a little lower when it comes to the big spikes. "
   ]
  },
  {
   "cell_type": "code",
   "execution_count": 22,
   "metadata": {},
   "outputs": [
    {
     "data": {
      "image/png": "[encoded data removed]",
      "text/plain": [
       "<Figure size 640x480 with 1 Axes>"
      ]
     },
     "metadata": {},
     "output_type": "display_data"
    }
   ],
   "source": [
    "plt.plot(val_results['Val Predictions'][:100])\n",
    "plt.plot(val_results['Actuals'][:100])\n",
    "plt.title('Predicted vs Actual Values for Validation Set')\n",
    "plt.legend(['Predictions','Actuals']);"
   ]
  },
  {
   "attachments": {},
   "cell_type": "markdown",
   "metadata": {},
   "source": [
    "17. Calculate the predicted values for the test set and add them to a dataframe along with the actuals."
   ]
  },
  {
   "cell_type": "code",
   "execution_count": 23,
   "metadata": {},
   "outputs": [
    {
     "name": "stdout",
     "output_type": "stream",
     "text": [
      "96/96 [==============================] - 0s 4ms/step\n"
     ]
    },
    {
     "data": {
      "text/html": [
       "<div>\n",
       "<style scoped>\n",
       "    .dataframe tbody tr th:only-of-type {\n",
       "        vertical-align: middle;\n",
       "    }\n",
       "\n",
       "    .dataframe tbody tr th {\n",
       "        vertical-align: top;\n",
       "    }\n",
       "\n",
       "    .dataframe thead th {\n",
       "        text-align: right;\n",
       "    }\n",
       "</style>\n",
       "<table border=\"1\" class=\"dataframe\">\n",
       "  <thead>\n",
       "    <tr style=\"text-align: right;\">\n",
       "      <th></th>\n",
       "      <th>Test Predictions</th>\n",
       "      <th>Actuals</th>\n",
       "    </tr>\n",
       "  </thead>\n",
       "  <tbody>\n",
       "    <tr>\n",
       "      <th>0</th>\n",
       "      <td>18.155226</td>\n",
       "      <td>18.85</td>\n",
       "    </tr>\n",
       "    <tr>\n",
       "      <th>1</th>\n",
       "      <td>17.282810</td>\n",
       "      <td>16.84</td>\n",
       "    </tr>\n",
       "    <tr>\n",
       "      <th>2</th>\n",
       "      <td>17.248648</td>\n",
       "      <td>17.90</td>\n",
       "    </tr>\n",
       "    <tr>\n",
       "      <th>3</th>\n",
       "      <td>19.334585</td>\n",
       "      <td>19.42</td>\n",
       "    </tr>\n",
       "    <tr>\n",
       "      <th>4</th>\n",
       "      <td>23.340382</td>\n",
       "      <td>22.37</td>\n",
       "    </tr>\n",
       "    <tr>\n",
       "      <th>...</th>\n",
       "      <td>...</td>\n",
       "      <td>...</td>\n",
       "    </tr>\n",
       "    <tr>\n",
       "      <th>3048</th>\n",
       "      <td>15.781530</td>\n",
       "      <td>16.50</td>\n",
       "    </tr>\n",
       "    <tr>\n",
       "      <th>3049</th>\n",
       "      <td>18.097990</td>\n",
       "      <td>17.82</td>\n",
       "    </tr>\n",
       "    <tr>\n",
       "      <th>3050</th>\n",
       "      <td>24.930271</td>\n",
       "      <td>24.86</td>\n",
       "    </tr>\n",
       "    <tr>\n",
       "      <th>3051</th>\n",
       "      <td>36.212852</td>\n",
       "      <td>36.08</td>\n",
       "    </tr>\n",
       "    <tr>\n",
       "      <th>3052</th>\n",
       "      <td>47.386341</td>\n",
       "      <td>45.75</td>\n",
       "    </tr>\n",
       "  </tbody>\n",
       "</table>\n",
       "<p>3053 rows × 2 columns</p>\n",
       "</div>"
      ],
      "text/plain": [
       "      Test Predictions  Actuals\n",
       "0            18.155226    18.85\n",
       "1            17.282810    16.84\n",
       "2            17.248648    17.90\n",
       "3            19.334585    19.42\n",
       "4            23.340382    22.37\n",
       "...                ...      ...\n",
       "3048         15.781530    16.50\n",
       "3049         18.097990    17.82\n",
       "3050         24.930271    24.86\n",
       "3051         36.212852    36.08\n",
       "3052         47.386341    45.75\n",
       "\n",
       "[3053 rows x 2 columns]"
      ]
     },
     "execution_count": 23,
     "metadata": {},
     "output_type": "execute_result"
    }
   ],
   "source": [
    "test_predictions = model1.predict(X_test).flatten()\n",
    "test_results = pd.DataFrame(data={'Test Predictions':test_predictions, 'Actuals':y_test})\n",
    "test_results"
   ]
  },
  {
   "attachments": {},
   "cell_type": "markdown",
   "metadata": {},
   "source": [
    "18. Visualize the data to compare predicted values to the actual values for the test set. This time, it looks like the model overshot the actual values since the predicted line rises above the line for the actuals on the first two spikes. "
   ]
  },
  {
   "cell_type": "code",
   "execution_count": 24,
   "metadata": {},
   "outputs": [
    {
     "data": {
      "image/png": "[encoded data removed]",
      "text/plain": [
       "<Figure size 640x480 with 1 Axes>"
      ]
     },
     "metadata": {},
     "output_type": "display_data"
    }
   ],
   "source": [
    "plt.plot(test_results['Test Predictions'][:100])\n",
    "plt.plot(test_results['Actuals'][:100])\n",
    "plt.title('Predicted vs Actual Values for Testing Set')\n",
    "plt.legend(['Predictions','Actuals']);"
   ]
  },
  {
   "cell_type": "code",
   "execution_count": 25,
   "metadata": {},
   "outputs": [],
   "source": [
    "from sklearn.metrics import r2_score"
   ]
  },
  {
   "attachments": {},
   "cell_type": "markdown",
   "metadata": {},
   "source": [
    "19. Calculate the coefficient of determination for the training set, validation set, and testing set. As you can see, the model performed pretty well when you consider that we did not have to add any extra features like we had to for the XGBoost model. When we tested the XGBoost model's training score with no added features it was .12, so this model performs much better at its most basic level. "
   ]
  },
  {
   "cell_type": "code",
   "execution_count": 26,
   "metadata": {},
   "outputs": [
    {
     "data": {
      "text/plain": [
       "0.8674939301758736"
      ]
     },
     "execution_count": 26,
     "metadata": {},
     "output_type": "execute_result"
    }
   ],
   "source": [
    "train_r2 = r2_score(train_results['Actuals'],train_results['Train Predictions'])\n",
    "train_r2"
   ]
  },
  {
   "cell_type": "code",
   "execution_count": 27,
   "metadata": {},
   "outputs": [
    {
     "data": {
      "text/plain": [
       "0.9923640346963105"
      ]
     },
     "execution_count": 27,
     "metadata": {},
     "output_type": "execute_result"
    }
   ],
   "source": [
    "val_r2 = r2_score(val_results['Actuals'],val_results['Val Predictions'])\n",
    "val_r2"
   ]
  },
  {
   "cell_type": "code",
   "execution_count": 28,
   "metadata": {},
   "outputs": [
    {
     "data": {
      "text/plain": [
       "0.8007693005703918"
      ]
     },
     "execution_count": 28,
     "metadata": {},
     "output_type": "execute_result"
    }
   ],
   "source": [
    "test_r2 = r2_score(test_results['Actuals'],test_results['Test Predictions'])\n",
    "test_r2"
   ]
  },
  {
   "attachments": {},
   "cell_type": "markdown",
   "metadata": {},
   "source": [
    "20. Create a second model. This time we are adding features to help it get a better sense of how the data progresses with time so that its performance is hopefully improved. As we saw before, this is not as necessary as when you use XGBoost to predict time series data, but we want to try and refine our model. "
   ]
  },
  {
   "cell_type": "code",
   "execution_count": 29,
   "metadata": {},
   "outputs": [
    {
     "data": {
      "text/html": [
       "<div>\n",
       "<style scoped>\n",
       "    .dataframe tbody tr th:only-of-type {\n",
       "        vertical-align: middle;\n",
       "    }\n",
       "\n",
       "    .dataframe tbody tr th {\n",
       "        vertical-align: top;\n",
       "    }\n",
       "\n",
       "    .dataframe thead th {\n",
       "        text-align: right;\n",
       "    }\n",
       "</style>\n",
       "<table border=\"1\" class=\"dataframe\">\n",
       "  <thead>\n",
       "    <tr style=\"text-align: right;\">\n",
       "      <th></th>\n",
       "      <th>pm2_5</th>\n",
       "      <th>seconds</th>\n",
       "    </tr>\n",
       "    <tr>\n",
       "      <th>date</th>\n",
       "      <th></th>\n",
       "      <th></th>\n",
       "    </tr>\n",
       "  </thead>\n",
       "  <tbody>\n",
       "    <tr>\n",
       "      <th>2020-12-01 05:00:00</th>\n",
       "      <td>9.31</td>\n",
       "      <td>1.606799e+09</td>\n",
       "    </tr>\n",
       "    <tr>\n",
       "      <th>2020-12-01 06:00:00</th>\n",
       "      <td>8.43</td>\n",
       "      <td>1.606802e+09</td>\n",
       "    </tr>\n",
       "    <tr>\n",
       "      <th>2020-12-01 07:00:00</th>\n",
       "      <td>8.55</td>\n",
       "      <td>1.606806e+09</td>\n",
       "    </tr>\n",
       "    <tr>\n",
       "      <th>2020-12-01 08:00:00</th>\n",
       "      <td>8.92</td>\n",
       "      <td>1.606810e+09</td>\n",
       "    </tr>\n",
       "    <tr>\n",
       "      <th>2020-12-01 09:00:00</th>\n",
       "      <td>9.62</td>\n",
       "      <td>1.606813e+09</td>\n",
       "    </tr>\n",
       "    <tr>\n",
       "      <th>...</th>\n",
       "      <td>...</td>\n",
       "      <td>...</td>\n",
       "    </tr>\n",
       "    <tr>\n",
       "      <th>2022-12-31 13:00:00</th>\n",
       "      <td>36.08</td>\n",
       "      <td>1.672492e+09</td>\n",
       "    </tr>\n",
       "    <tr>\n",
       "      <th>2022-12-31 14:00:00</th>\n",
       "      <td>45.75</td>\n",
       "      <td>1.672495e+09</td>\n",
       "    </tr>\n",
       "    <tr>\n",
       "      <th>2022-12-31 15:00:00</th>\n",
       "      <td>50.21</td>\n",
       "      <td>1.672499e+09</td>\n",
       "    </tr>\n",
       "    <tr>\n",
       "      <th>2022-12-31 16:00:00</th>\n",
       "      <td>48.14</td>\n",
       "      <td>1.672502e+09</td>\n",
       "    </tr>\n",
       "    <tr>\n",
       "      <th>2022-12-31 17:00:00</th>\n",
       "      <td>44.33</td>\n",
       "      <td>1.672506e+09</td>\n",
       "    </tr>\n",
       "  </tbody>\n",
       "</table>\n",
       "<p>18061 rows × 2 columns</p>\n",
       "</div>"
      ],
      "text/plain": [
       "                     pm2_5       seconds\n",
       "date                                    \n",
       "2020-12-01 05:00:00   9.31  1.606799e+09\n",
       "2020-12-01 06:00:00   8.43  1.606802e+09\n",
       "2020-12-01 07:00:00   8.55  1.606806e+09\n",
       "2020-12-01 08:00:00   8.92  1.606810e+09\n",
       "2020-12-01 09:00:00   9.62  1.606813e+09\n",
       "...                    ...           ...\n",
       "2022-12-31 13:00:00  36.08  1.672492e+09\n",
       "2022-12-31 14:00:00  45.75  1.672495e+09\n",
       "2022-12-31 15:00:00  50.21  1.672499e+09\n",
       "2022-12-31 16:00:00  48.14  1.672502e+09\n",
       "2022-12-31 17:00:00  44.33  1.672506e+09\n",
       "\n",
       "[18061 rows x 2 columns]"
      ]
     },
     "execution_count": 29,
     "metadata": {},
     "output_type": "execute_result"
    }
   ],
   "source": [
    "pm25_df = pd.DataFrame({'pm2_5':pm25})\n",
    "pm25_df['seconds'] = pm25_df.index.map(pd.Timestamp.timestamp)\n",
    "pm25_df"
   ]
  },
  {
   "attachments": {},
   "cell_type": "markdown",
   "metadata": {},
   "source": [
    "21. Use the seconds column to create columns for Day sin, Day cos, Year sin, and Year cos. These features are similar to the lag features that we used for our XGBoost model in that they are there to give a sense of relative time, but these are referred to as cyclical features. "
   ]
  },
  {
   "cell_type": "code",
   "execution_count": 30,
   "metadata": {},
   "outputs": [],
   "source": [
    "day = 60*60*24\n",
    "year = 365.2425*day \n",
    "\n",
    "pm25_df['Day sin'] = np.sin(pm25_df['seconds'] * (2*np.pi / day))\n",
    "pm25_df['Day cos'] = np.cos(pm25_df['seconds'] * (2*np.pi / day))\n",
    "pm25_df['Year sin'] = np.sin(pm25_df['seconds'] * (2*np.pi / year))\n",
    "pm25_df['Year cos'] = np.cos(pm25_df['seconds'] * (2*np.pi / year))"
   ]
  },
  {
   "cell_type": "code",
   "execution_count": 31,
   "metadata": {},
   "outputs": [
    {
     "data": {
      "text/html": [
       "<div>\n",
       "<style scoped>\n",
       "    .dataframe tbody tr th:only-of-type {\n",
       "        vertical-align: middle;\n",
       "    }\n",
       "\n",
       "    .dataframe tbody tr th {\n",
       "        vertical-align: top;\n",
       "    }\n",
       "\n",
       "    .dataframe thead th {\n",
       "        text-align: right;\n",
       "    }\n",
       "</style>\n",
       "<table border=\"1\" class=\"dataframe\">\n",
       "  <thead>\n",
       "    <tr style=\"text-align: right;\">\n",
       "      <th></th>\n",
       "      <th>pm2_5</th>\n",
       "      <th>seconds</th>\n",
       "      <th>Day sin</th>\n",
       "      <th>Day cos</th>\n",
       "      <th>Year sin</th>\n",
       "      <th>Year cos</th>\n",
       "    </tr>\n",
       "    <tr>\n",
       "      <th>date</th>\n",
       "      <th></th>\n",
       "      <th></th>\n",
       "      <th></th>\n",
       "      <th></th>\n",
       "      <th></th>\n",
       "      <th></th>\n",
       "    </tr>\n",
       "  </thead>\n",
       "  <tbody>\n",
       "    <tr>\n",
       "      <th>2020-12-01 05:00:00</th>\n",
       "      <td>9.31</td>\n",
       "      <td>1.606799e+09</td>\n",
       "      <td>0.965926</td>\n",
       "      <td>2.588190e-01</td>\n",
       "      <td>-0.495857</td>\n",
       "      <td>0.868404</td>\n",
       "    </tr>\n",
       "    <tr>\n",
       "      <th>2020-12-01 06:00:00</th>\n",
       "      <td>8.43</td>\n",
       "      <td>1.606802e+09</td>\n",
       "      <td>1.000000</td>\n",
       "      <td>1.086286e-11</td>\n",
       "      <td>-0.495234</td>\n",
       "      <td>0.868759</td>\n",
       "    </tr>\n",
       "    <tr>\n",
       "      <th>2020-12-01 07:00:00</th>\n",
       "      <td>8.55</td>\n",
       "      <td>1.606806e+09</td>\n",
       "      <td>0.965926</td>\n",
       "      <td>-2.588190e-01</td>\n",
       "      <td>-0.494612</td>\n",
       "      <td>0.869114</td>\n",
       "    </tr>\n",
       "    <tr>\n",
       "      <th>2020-12-01 08:00:00</th>\n",
       "      <td>8.92</td>\n",
       "      <td>1.606810e+09</td>\n",
       "      <td>0.866025</td>\n",
       "      <td>-5.000000e-01</td>\n",
       "      <td>-0.493988</td>\n",
       "      <td>0.869468</td>\n",
       "    </tr>\n",
       "    <tr>\n",
       "      <th>2020-12-01 09:00:00</th>\n",
       "      <td>9.62</td>\n",
       "      <td>1.606813e+09</td>\n",
       "      <td>0.707107</td>\n",
       "      <td>-7.071068e-01</td>\n",
       "      <td>-0.493365</td>\n",
       "      <td>0.869822</td>\n",
       "    </tr>\n",
       "    <tr>\n",
       "      <th>...</th>\n",
       "      <td>...</td>\n",
       "      <td>...</td>\n",
       "      <td>...</td>\n",
       "      <td>...</td>\n",
       "      <td>...</td>\n",
       "      <td>...</td>\n",
       "    </tr>\n",
       "    <tr>\n",
       "      <th>2022-12-31 13:00:00</th>\n",
       "      <td>36.08</td>\n",
       "      <td>1.672492e+09</td>\n",
       "      <td>-0.258819</td>\n",
       "      <td>-9.659258e-01</td>\n",
       "      <td>-0.005347</td>\n",
       "      <td>0.999986</td>\n",
       "    </tr>\n",
       "    <tr>\n",
       "      <th>2022-12-31 14:00:00</th>\n",
       "      <td>45.75</td>\n",
       "      <td>1.672495e+09</td>\n",
       "      <td>-0.500000</td>\n",
       "      <td>-8.660254e-01</td>\n",
       "      <td>-0.004630</td>\n",
       "      <td>0.999989</td>\n",
       "    </tr>\n",
       "    <tr>\n",
       "      <th>2022-12-31 15:00:00</th>\n",
       "      <td>50.21</td>\n",
       "      <td>1.672499e+09</td>\n",
       "      <td>-0.707107</td>\n",
       "      <td>-7.071068e-01</td>\n",
       "      <td>-0.003914</td>\n",
       "      <td>0.999992</td>\n",
       "    </tr>\n",
       "    <tr>\n",
       "      <th>2022-12-31 16:00:00</th>\n",
       "      <td>48.14</td>\n",
       "      <td>1.672502e+09</td>\n",
       "      <td>-0.866025</td>\n",
       "      <td>-5.000000e-01</td>\n",
       "      <td>-0.003197</td>\n",
       "      <td>0.999995</td>\n",
       "    </tr>\n",
       "    <tr>\n",
       "      <th>2022-12-31 17:00:00</th>\n",
       "      <td>44.33</td>\n",
       "      <td>1.672506e+09</td>\n",
       "      <td>-0.965926</td>\n",
       "      <td>-2.588190e-01</td>\n",
       "      <td>-0.002480</td>\n",
       "      <td>0.999997</td>\n",
       "    </tr>\n",
       "  </tbody>\n",
       "</table>\n",
       "<p>18061 rows × 6 columns</p>\n",
       "</div>"
      ],
      "text/plain": [
       "                     pm2_5       seconds   Day sin       Day cos  Year sin  \\\n",
       "date                                                                         \n",
       "2020-12-01 05:00:00   9.31  1.606799e+09  0.965926  2.588190e-01 -0.495857   \n",
       "2020-12-01 06:00:00   8.43  1.606802e+09  1.000000  1.086286e-11 -0.495234   \n",
       "2020-12-01 07:00:00   8.55  1.606806e+09  0.965926 -2.588190e-01 -0.494612   \n",
       "2020-12-01 08:00:00   8.92  1.606810e+09  0.866025 -5.000000e-01 -0.493988   \n",
       "2020-12-01 09:00:00   9.62  1.606813e+09  0.707107 -7.071068e-01 -0.493365   \n",
       "...                    ...           ...       ...           ...       ...   \n",
       "2022-12-31 13:00:00  36.08  1.672492e+09 -0.258819 -9.659258e-01 -0.005347   \n",
       "2022-12-31 14:00:00  45.75  1.672495e+09 -0.500000 -8.660254e-01 -0.004630   \n",
       "2022-12-31 15:00:00  50.21  1.672499e+09 -0.707107 -7.071068e-01 -0.003914   \n",
       "2022-12-31 16:00:00  48.14  1.672502e+09 -0.866025 -5.000000e-01 -0.003197   \n",
       "2022-12-31 17:00:00  44.33  1.672506e+09 -0.965926 -2.588190e-01 -0.002480   \n",
       "\n",
       "                     Year cos  \n",
       "date                           \n",
       "2020-12-01 05:00:00  0.868404  \n",
       "2020-12-01 06:00:00  0.868759  \n",
       "2020-12-01 07:00:00  0.869114  \n",
       "2020-12-01 08:00:00  0.869468  \n",
       "2020-12-01 09:00:00  0.869822  \n",
       "...                       ...  \n",
       "2022-12-31 13:00:00  0.999986  \n",
       "2022-12-31 14:00:00  0.999989  \n",
       "2022-12-31 15:00:00  0.999992  \n",
       "2022-12-31 16:00:00  0.999995  \n",
       "2022-12-31 17:00:00  0.999997  \n",
       "\n",
       "[18061 rows x 6 columns]"
      ]
     },
     "execution_count": 31,
     "metadata": {},
     "output_type": "execute_result"
    }
   ],
   "source": [
    "pm25_df"
   ]
  },
  {
   "attachments": {},
   "cell_type": "markdown",
   "metadata": {},
   "source": [
    "22. Drop the seconds column since it is no longer necessary now that we have created the extra columns. "
   ]
  },
  {
   "cell_type": "code",
   "execution_count": 32,
   "metadata": {},
   "outputs": [],
   "source": [
    "aqi_df = pm25_df.drop('seconds', axis=1)"
   ]
  },
  {
   "cell_type": "code",
   "execution_count": 33,
   "metadata": {},
   "outputs": [
    {
     "data": {
      "text/html": [
       "<div>\n",
       "<style scoped>\n",
       "    .dataframe tbody tr th:only-of-type {\n",
       "        vertical-align: middle;\n",
       "    }\n",
       "\n",
       "    .dataframe tbody tr th {\n",
       "        vertical-align: top;\n",
       "    }\n",
       "\n",
       "    .dataframe thead th {\n",
       "        text-align: right;\n",
       "    }\n",
       "</style>\n",
       "<table border=\"1\" class=\"dataframe\">\n",
       "  <thead>\n",
       "    <tr style=\"text-align: right;\">\n",
       "      <th></th>\n",
       "      <th>pm2_5</th>\n",
       "      <th>Day sin</th>\n",
       "      <th>Day cos</th>\n",
       "      <th>Year sin</th>\n",
       "      <th>Year cos</th>\n",
       "    </tr>\n",
       "    <tr>\n",
       "      <th>date</th>\n",
       "      <th></th>\n",
       "      <th></th>\n",
       "      <th></th>\n",
       "      <th></th>\n",
       "      <th></th>\n",
       "    </tr>\n",
       "  </thead>\n",
       "  <tbody>\n",
       "    <tr>\n",
       "      <th>2020-12-01 05:00:00</th>\n",
       "      <td>9.31</td>\n",
       "      <td>0.965926</td>\n",
       "      <td>2.588190e-01</td>\n",
       "      <td>-0.495857</td>\n",
       "      <td>0.868404</td>\n",
       "    </tr>\n",
       "    <tr>\n",
       "      <th>2020-12-01 06:00:00</th>\n",
       "      <td>8.43</td>\n",
       "      <td>1.000000</td>\n",
       "      <td>1.086286e-11</td>\n",
       "      <td>-0.495234</td>\n",
       "      <td>0.868759</td>\n",
       "    </tr>\n",
       "    <tr>\n",
       "      <th>2020-12-01 07:00:00</th>\n",
       "      <td>8.55</td>\n",
       "      <td>0.965926</td>\n",
       "      <td>-2.588190e-01</td>\n",
       "      <td>-0.494612</td>\n",
       "      <td>0.869114</td>\n",
       "    </tr>\n",
       "    <tr>\n",
       "      <th>2020-12-01 08:00:00</th>\n",
       "      <td>8.92</td>\n",
       "      <td>0.866025</td>\n",
       "      <td>-5.000000e-01</td>\n",
       "      <td>-0.493988</td>\n",
       "      <td>0.869468</td>\n",
       "    </tr>\n",
       "    <tr>\n",
       "      <th>2020-12-01 09:00:00</th>\n",
       "      <td>9.62</td>\n",
       "      <td>0.707107</td>\n",
       "      <td>-7.071068e-01</td>\n",
       "      <td>-0.493365</td>\n",
       "      <td>0.869822</td>\n",
       "    </tr>\n",
       "    <tr>\n",
       "      <th>...</th>\n",
       "      <td>...</td>\n",
       "      <td>...</td>\n",
       "      <td>...</td>\n",
       "      <td>...</td>\n",
       "      <td>...</td>\n",
       "    </tr>\n",
       "    <tr>\n",
       "      <th>2022-12-31 13:00:00</th>\n",
       "      <td>36.08</td>\n",
       "      <td>-0.258819</td>\n",
       "      <td>-9.659258e-01</td>\n",
       "      <td>-0.005347</td>\n",
       "      <td>0.999986</td>\n",
       "    </tr>\n",
       "    <tr>\n",
       "      <th>2022-12-31 14:00:00</th>\n",
       "      <td>45.75</td>\n",
       "      <td>-0.500000</td>\n",
       "      <td>-8.660254e-01</td>\n",
       "      <td>-0.004630</td>\n",
       "      <td>0.999989</td>\n",
       "    </tr>\n",
       "    <tr>\n",
       "      <th>2022-12-31 15:00:00</th>\n",
       "      <td>50.21</td>\n",
       "      <td>-0.707107</td>\n",
       "      <td>-7.071068e-01</td>\n",
       "      <td>-0.003914</td>\n",
       "      <td>0.999992</td>\n",
       "    </tr>\n",
       "    <tr>\n",
       "      <th>2022-12-31 16:00:00</th>\n",
       "      <td>48.14</td>\n",
       "      <td>-0.866025</td>\n",
       "      <td>-5.000000e-01</td>\n",
       "      <td>-0.003197</td>\n",
       "      <td>0.999995</td>\n",
       "    </tr>\n",
       "    <tr>\n",
       "      <th>2022-12-31 17:00:00</th>\n",
       "      <td>44.33</td>\n",
       "      <td>-0.965926</td>\n",
       "      <td>-2.588190e-01</td>\n",
       "      <td>-0.002480</td>\n",
       "      <td>0.999997</td>\n",
       "    </tr>\n",
       "  </tbody>\n",
       "</table>\n",
       "<p>18061 rows × 5 columns</p>\n",
       "</div>"
      ],
      "text/plain": [
       "                     pm2_5   Day sin       Day cos  Year sin  Year cos\n",
       "date                                                                  \n",
       "2020-12-01 05:00:00   9.31  0.965926  2.588190e-01 -0.495857  0.868404\n",
       "2020-12-01 06:00:00   8.43  1.000000  1.086286e-11 -0.495234  0.868759\n",
       "2020-12-01 07:00:00   8.55  0.965926 -2.588190e-01 -0.494612  0.869114\n",
       "2020-12-01 08:00:00   8.92  0.866025 -5.000000e-01 -0.493988  0.869468\n",
       "2020-12-01 09:00:00   9.62  0.707107 -7.071068e-01 -0.493365  0.869822\n",
       "...                    ...       ...           ...       ...       ...\n",
       "2022-12-31 13:00:00  36.08 -0.258819 -9.659258e-01 -0.005347  0.999986\n",
       "2022-12-31 14:00:00  45.75 -0.500000 -8.660254e-01 -0.004630  0.999989\n",
       "2022-12-31 15:00:00  50.21 -0.707107 -7.071068e-01 -0.003914  0.999992\n",
       "2022-12-31 16:00:00  48.14 -0.866025 -5.000000e-01 -0.003197  0.999995\n",
       "2022-12-31 17:00:00  44.33 -0.965926 -2.588190e-01 -0.002480  0.999997\n",
       "\n",
       "[18061 rows x 5 columns]"
      ]
     },
     "execution_count": 33,
     "metadata": {},
     "output_type": "execute_result"
    }
   ],
   "source": [
    "aqi_df"
   ]
  },
  {
   "attachments": {},
   "cell_type": "markdown",
   "metadata": {},
   "source": [
    "23. This is the same function as before, but it makes it so that there are 8 lists in each array since the window size is 8, and each array has 5 values since we have 5 features now (PM2.5, day sin, day cos, year sin, and year cos)."
   ]
  },
  {
   "cell_type": "code",
   "execution_count": 34,
   "metadata": {},
   "outputs": [],
   "source": [
    "def df_to_X_y2(df, window_size=8):\n",
    "    df_as_np = df.to_numpy()\n",
    "    X = []\n",
    "    y = []\n",
    "    for i in range(len(df_as_np)-window_size):\n",
    "        row = [r for r in df_as_np[i:i+window_size]]\n",
    "        X.append(row)\n",
    "        label = df_as_np[i+window_size][0]\n",
    "        y.append(label)\n",
    "    return np.array(X), np.array(y)"
   ]
  },
  {
   "cell_type": "code",
   "execution_count": 35,
   "metadata": {},
   "outputs": [
    {
     "data": {
      "text/plain": [
       "((18053, 8, 5), (18053,))"
      ]
     },
     "execution_count": 35,
     "metadata": {},
     "output_type": "execute_result"
    }
   ],
   "source": [
    "X2, y2 = df_to_X_y2(aqi_df)\n",
    "X2.shape, y2.shape "
   ]
  },
  {
   "attachments": {},
   "cell_type": "markdown",
   "metadata": {},
   "source": [
    "24. Separate the data into a training set, a validation set, and a testing set. "
   ]
  },
  {
   "cell_type": "code",
   "execution_count": 36,
   "metadata": {},
   "outputs": [
    {
     "data": {
      "text/plain": [
       "((12000, 8, 5), (12000,), (3000, 8, 5), (3000,), (3053, 8, 5), (3053,))"
      ]
     },
     "execution_count": 36,
     "metadata": {},
     "output_type": "execute_result"
    }
   ],
   "source": [
    "X2_train, y2_train = X2[:12000], y2[:12000]\n",
    "X2_val, y2_val = X2[12000:15000], y2[12000:15000]\n",
    "X2_test, y2_test = X2[15000:], y2[15000:]\n",
    "X2_train.shape, y2_train.shape, X2_val.shape, y2_val.shape, X2_test.shape, y2_test.shape"
   ]
  },
  {
   "attachments": {},
   "cell_type": "markdown",
   "metadata": {},
   "source": [
    "25. Standardize the data so that all the values are on a similar scale. "
   ]
  },
  {
   "cell_type": "code",
   "execution_count": 37,
   "metadata": {},
   "outputs": [],
   "source": [
    "pm25_training_mean = np.mean(X2_train[:, :, 0])\n",
    "pm25_training_std = np.std(X2_train[:, :, 0])\n",
    "\n",
    "def preprocess(X):\n",
    "    X[:, :, 0] = (X[:, :, 0] - pm25_training_mean) / pm25_training_std\n",
    "    return X"
   ]
  },
  {
   "cell_type": "code",
   "execution_count": 38,
   "metadata": {},
   "outputs": [
    {
     "data": {
      "text/plain": [
       "array([[[ 7.63055244e-02,  9.65925826e-01,  2.58819045e-01,\n",
       "         -7.79677220e-01, -6.26181629e-01],\n",
       "        [ 4.83556901e-02,  1.00000000e+00,  9.43975630e-12,\n",
       "         -7.80125855e-01, -6.25622610e-01],\n",
       "        [ 2.51796176e-03,  9.65925826e-01, -2.58819045e-01,\n",
       "         -7.80574090e-01, -6.25063269e-01],\n",
       "        ...,\n",
       "        [ 1.07165798e-02,  5.00000000e-01, -8.66025404e-01,\n",
       "         -7.81916387e-01, -6.23383320e-01],\n",
       "        [-6.41889762e-02,  2.58819045e-01, -9.65925826e-01,\n",
       "         -7.82363017e-01, -6.22822696e-01],\n",
       "        [-2.46865437e-02,  1.20031004e-11, -1.00000000e+00,\n",
       "         -7.82809244e-01, -6.22261752e-01]],\n",
       "\n",
       "       [[ 4.83556901e-02,  1.00000000e+00,  9.43975630e-12,\n",
       "         -7.80125855e-01, -6.25622610e-01],\n",
       "        [ 2.51796176e-03,  9.65925826e-01, -2.58819045e-01,\n",
       "         -7.80574090e-01, -6.25063269e-01],\n",
       "        [-2.65498660e-02,  8.66025404e-01, -5.00000000e-01,\n",
       "         -7.81021924e-01, -6.24503606e-01],\n",
       "        ...,\n",
       "        [-6.41889762e-02,  2.58819045e-01, -9.65925826e-01,\n",
       "         -7.82363017e-01, -6.22822696e-01],\n",
       "        [-2.46865437e-02,  1.20031004e-11, -1.00000000e+00,\n",
       "         -7.82809244e-01, -6.22261752e-01],\n",
       "        [ 3.19584539e-02, -2.58819045e-01, -9.65925826e-01,\n",
       "         -7.83255069e-01, -6.21700488e-01]],\n",
       "\n",
       "       [[ 2.51796176e-03,  9.65925826e-01, -2.58819045e-01,\n",
       "         -7.80574090e-01, -6.25063269e-01],\n",
       "        [-2.65498660e-02,  8.66025404e-01, -5.00000000e-01,\n",
       "         -7.81021924e-01, -6.24503606e-01],\n",
       "        [-7.54397861e-03,  7.07106781e-01, -7.07106781e-01,\n",
       "         -7.81469356e-01, -6.23943623e-01],\n",
       "        ...,\n",
       "        [-2.46865437e-02,  1.20031004e-11, -1.00000000e+00,\n",
       "         -7.82809244e-01, -6.22261752e-01],\n",
       "        [ 3.19584539e-02, -2.58819045e-01, -9.65925826e-01,\n",
       "         -7.83255069e-01, -6.21700488e-01],\n",
       "        [ 1.41894469e-01, -5.00000000e-01, -8.66025404e-01,\n",
       "         -7.83700492e-01, -6.21138905e-01]],\n",
       "\n",
       "       ...,\n",
       "\n",
       "       [[-2.20778925e-02,  9.65925826e-01, -2.58819045e-01,\n",
       "         -9.64774114e-03,  9.99953459e-01],\n",
       "        [-7.27602588e-02,  8.66025404e-01, -5.00000000e-01,\n",
       "         -8.93098970e-03,  9.99960118e-01],\n",
       "        [-8.54308503e-02,  7.07106781e-01, -7.07106781e-01,\n",
       "         -8.21423368e-03,  9.99966263e-01],\n",
       "        ...,\n",
       "        [ 2.34687919e-01,  6.16585827e-12, -1.00000000e+00,\n",
       "         -6.06394176e-03,  9.99981614e-01],\n",
       "        [ 6.52817441e-01, -2.58819045e-01, -9.65925826e-01,\n",
       "         -5.34717106e-03,  9.99985704e-01],\n",
       "        [ 1.01318397e+00, -5.00000000e-01, -8.66025404e-01,\n",
       "         -4.63039762e-03,  9.99989280e-01]],\n",
       "\n",
       "       [[-7.27602588e-02,  8.66025404e-01, -5.00000000e-01,\n",
       "         -8.93098970e-03,  9.99960118e-01],\n",
       "        [-8.54308503e-02,  7.07106781e-01, -7.07106781e-01,\n",
       "         -8.21423368e-03,  9.99966263e-01],\n",
       "        [-7.68595678e-02,  5.00000000e-01, -8.66025404e-01,\n",
       "         -7.49747343e-03,  9.99971894e-01],\n",
       "        ...,\n",
       "        [ 6.52817441e-01, -2.58819045e-01, -9.65925826e-01,\n",
       "         -5.34717106e-03,  9.99985704e-01],\n",
       "        [ 1.01318397e+00, -5.00000000e-01, -8.66025404e-01,\n",
       "         -4.63039762e-03,  9.99989280e-01],\n",
       "        [ 1.17939232e+00, -7.07106781e-01, -7.07106781e-01,\n",
       "         -3.91362179e-03,  9.99992342e-01]],\n",
       "\n",
       "       [[-8.54308503e-02,  7.07106781e-01, -7.07106781e-01,\n",
       "         -8.21423368e-03,  9.99966263e-01],\n",
       "        [-7.68595678e-02,  5.00000000e-01, -8.66025404e-01,\n",
       "         -7.49747343e-03,  9.99971894e-01],\n",
       "        [-2.76678593e-02,  2.58819045e-01, -9.65925826e-01,\n",
       "         -6.78070934e-03,  9.99977011e-01],\n",
       "        ...,\n",
       "        [ 1.01318397e+00, -5.00000000e-01, -8.66025404e-01,\n",
       "         -4.63039762e-03,  9.99989280e-01],\n",
       "        [ 1.17939232e+00, -7.07106781e-01, -7.07106781e-01,\n",
       "         -3.91362179e-03,  9.99992342e-01],\n",
       "        [ 1.10225078e+00, -8.66025404e-01, -5.00000000e-01,\n",
       "         -3.19684396e-03,  9.99994890e-01]]])"
      ]
     },
     "execution_count": 38,
     "metadata": {},
     "output_type": "execute_result"
    }
   ],
   "source": [
    "preprocess(X2_train)\n",
    "preprocess(X2_val)\n",
    "preprocess(X2_test)"
   ]
  },
  {
   "attachments": {},
   "cell_type": "markdown",
   "metadata": {},
   "source": [
    "26. Create the model, everything stays the same as the first attempt but the InputLayer since the dimensions have now changed because we added those extra time features. "
   ]
  },
  {
   "cell_type": "code",
   "execution_count": 39,
   "metadata": {},
   "outputs": [
    {
     "name": "stdout",
     "output_type": "stream",
     "text": [
      "Model: \"sequential_1\"\n",
      "_________________________________________________________________\n",
      " Layer (type)                Output Shape              Param #   \n",
      "=================================================================\n",
      " lstm_1 (LSTM)               (None, 64)                17920     \n",
      "                                                                 \n",
      " dense_2 (Dense)             (None, 8)                 520       \n",
      "                                                                 \n",
      " dense_3 (Dense)             (None, 1)                 9         \n",
      "                                                                 \n",
      "=================================================================\n",
      "Total params: 18,449\n",
      "Trainable params: 18,449\n",
      "Non-trainable params: 0\n",
      "_________________________________________________________________\n"
     ]
    }
   ],
   "source": [
    "model2 = Sequential()\n",
    "model2.add(InputLayer((8, 5)))\n",
    "model2.add(LSTM(64))\n",
    "model2.add(Dense(8,'relu'))\n",
    "model2.add(Dense(1,'linear'))\n",
    "\n",
    "model2.summary()"
   ]
  },
  {
   "attachments": {},
   "cell_type": "markdown",
   "metadata": {},
   "source": [
    "27. Create the checkpoint to save the best model."
   ]
  },
  {
   "cell_type": "code",
   "execution_count": 40,
   "metadata": {},
   "outputs": [],
   "source": [
    "cp2 = ModelCheckpoint('model2/',save_best_only=True)\n",
    "model2.compile(loss=MeanSquaredError(), optimizer = Adam(learning_rate=0.0001), metrics=RootMeanSquaredError())"
   ]
  },
  {
   "attachments": {},
   "cell_type": "markdown",
   "metadata": {},
   "source": [
    "28. Fit the model."
   ]
  },
  {
   "cell_type": "code",
   "execution_count": 41,
   "metadata": {},
   "outputs": [
    {
     "name": "stdout",
     "output_type": "stream",
     "text": [
      "Epoch 1/25\n",
      "375/375 [==============================] - ETA: 0s - loss: 993.8737 - root_mean_squared_error: 31.5258 "
     ]
    },
    {
     "name": "stderr",
     "output_type": "stream",
     "text": [
      "WARNING:absl:Found untraced functions such as lstm_cell_2_layer_call_fn, lstm_cell_2_layer_call_and_return_conditional_losses while saving (showing 2 of 2). These functions will not be directly callable after loading.\n"
     ]
    },
    {
     "name": "stdout",
     "output_type": "stream",
     "text": [
      "INFO:tensorflow:Assets written to: model2\\assets\n"
     ]
    },
    {
     "name": "stderr",
     "output_type": "stream",
     "text": [
      "INFO:tensorflow:Assets written to: model2\\assets\n"
     ]
    },
    {
     "name": "stdout",
     "output_type": "stream",
     "text": [
      "375/375 [==============================] - 13s 28ms/step - loss: 993.8737 - root_mean_squared_error: 31.5258 - val_loss: 198.9019 - val_root_mean_squared_error: 14.1033\n",
      "Epoch 2/25\n",
      "375/375 [==============================] - ETA: 0s - loss: 685.2429 - root_mean_squared_error: 26.1771"
     ]
    },
    {
     "name": "stderr",
     "output_type": "stream",
     "text": [
      "WARNING:absl:Found untraced functions such as lstm_cell_2_layer_call_fn, lstm_cell_2_layer_call_and_return_conditional_losses while saving (showing 2 of 2). These functions will not be directly callable after loading.\n"
     ]
    },
    {
     "name": "stdout",
     "output_type": "stream",
     "text": [
      "INFO:tensorflow:Assets written to: model2\\assets\n"
     ]
    },
    {
     "name": "stderr",
     "output_type": "stream",
     "text": [
      "INFO:tensorflow:Assets written to: model2\\assets\n"
     ]
    },
    {
     "name": "stdout",
     "output_type": "stream",
     "text": [
      "375/375 [==============================] - 10s 27ms/step - loss: 685.2429 - root_mean_squared_error: 26.1771 - val_loss: 79.2904 - val_root_mean_squared_error: 8.9045\n",
      "Epoch 3/25\n",
      "370/375 [============================>.] - ETA: 0s - loss: 572.1111 - root_mean_squared_error: 23.9188"
     ]
    },
    {
     "name": "stderr",
     "output_type": "stream",
     "text": [
      "WARNING:absl:Found untraced functions such as lstm_cell_2_layer_call_fn, lstm_cell_2_layer_call_and_return_conditional_losses while saving (showing 2 of 2). These functions will not be directly callable after loading.\n"
     ]
    },
    {
     "name": "stdout",
     "output_type": "stream",
     "text": [
      "INFO:tensorflow:Assets written to: model2\\assets\n"
     ]
    },
    {
     "name": "stderr",
     "output_type": "stream",
     "text": [
      "INFO:tensorflow:Assets written to: model2\\assets\n"
     ]
    },
    {
     "name": "stdout",
     "output_type": "stream",
     "text": [
      "375/375 [==============================] - 11s 30ms/step - loss: 574.8015 - root_mean_squared_error: 23.9750 - val_loss: 76.2505 - val_root_mean_squared_error: 8.7322\n",
      "Epoch 4/25\n",
      "371/375 [============================>.] - ETA: 0s - loss: 513.0132 - root_mean_squared_error: 22.6498"
     ]
    },
    {
     "name": "stderr",
     "output_type": "stream",
     "text": [
      "WARNING:absl:Found untraced functions such as lstm_cell_2_layer_call_fn, lstm_cell_2_layer_call_and_return_conditional_losses while saving (showing 2 of 2). These functions will not be directly callable after loading.\n"
     ]
    },
    {
     "name": "stdout",
     "output_type": "stream",
     "text": [
      "INFO:tensorflow:Assets written to: model2\\assets\n"
     ]
    },
    {
     "name": "stderr",
     "output_type": "stream",
     "text": [
      "INFO:tensorflow:Assets written to: model2\\assets\n"
     ]
    },
    {
     "name": "stdout",
     "output_type": "stream",
     "text": [
      "375/375 [==============================] - 11s 30ms/step - loss: 511.3332 - root_mean_squared_error: 22.6127 - val_loss: 66.6781 - val_root_mean_squared_error: 8.1657\n",
      "Epoch 5/25\n",
      "370/375 [============================>.] - ETA: 0s - loss: 454.7275 - root_mean_squared_error: 21.3243"
     ]
    },
    {
     "name": "stderr",
     "output_type": "stream",
     "text": [
      "WARNING:absl:Found untraced functions such as lstm_cell_2_layer_call_fn, lstm_cell_2_layer_call_and_return_conditional_losses while saving (showing 2 of 2). These functions will not be directly callable after loading.\n"
     ]
    },
    {
     "name": "stdout",
     "output_type": "stream",
     "text": [
      "INFO:tensorflow:Assets written to: model2\\assets\n"
     ]
    },
    {
     "name": "stderr",
     "output_type": "stream",
     "text": [
      "INFO:tensorflow:Assets written to: model2\\assets\n"
     ]
    },
    {
     "name": "stdout",
     "output_type": "stream",
     "text": [
      "375/375 [==============================] - 11s 28ms/step - loss: 451.3922 - root_mean_squared_error: 21.2460 - val_loss: 55.3766 - val_root_mean_squared_error: 7.4415\n",
      "Epoch 6/25\n",
      "370/375 [============================>.] - ETA: 0s - loss: 398.4136 - root_mean_squared_error: 19.9603"
     ]
    },
    {
     "name": "stderr",
     "output_type": "stream",
     "text": [
      "WARNING:absl:Found untraced functions such as lstm_cell_2_layer_call_fn, lstm_cell_2_layer_call_and_return_conditional_losses while saving (showing 2 of 2). These functions will not be directly callable after loading.\n"
     ]
    },
    {
     "name": "stdout",
     "output_type": "stream",
     "text": [
      "INFO:tensorflow:Assets written to: model2\\assets\n"
     ]
    },
    {
     "name": "stderr",
     "output_type": "stream",
     "text": [
      "INFO:tensorflow:Assets written to: model2\\assets\n"
     ]
    },
    {
     "name": "stdout",
     "output_type": "stream",
     "text": [
      "375/375 [==============================] - 12s 32ms/step - loss: 395.4445 - root_mean_squared_error: 19.8858 - val_loss: 45.3535 - val_root_mean_squared_error: 6.7345\n",
      "Epoch 7/25\n",
      "372/375 [============================>.] - ETA: 0s - loss: 346.1586 - root_mean_squared_error: 18.6053"
     ]
    },
    {
     "name": "stderr",
     "output_type": "stream",
     "text": [
      "WARNING:absl:Found untraced functions such as lstm_cell_2_layer_call_fn, lstm_cell_2_layer_call_and_return_conditional_losses while saving (showing 2 of 2). These functions will not be directly callable after loading.\n"
     ]
    },
    {
     "name": "stdout",
     "output_type": "stream",
     "text": [
      "INFO:tensorflow:Assets written to: model2\\assets\n"
     ]
    },
    {
     "name": "stderr",
     "output_type": "stream",
     "text": [
      "INFO:tensorflow:Assets written to: model2\\assets\n"
     ]
    },
    {
     "name": "stdout",
     "output_type": "stream",
     "text": [
      "375/375 [==============================] - 11s 30ms/step - loss: 344.6810 - root_mean_squared_error: 18.5656 - val_loss: 38.5790 - val_root_mean_squared_error: 6.2112\n",
      "Epoch 8/25\n",
      "374/375 [============================>.] - ETA: 0s - loss: 300.4858 - root_mean_squared_error: 17.3345"
     ]
    },
    {
     "name": "stderr",
     "output_type": "stream",
     "text": [
      "WARNING:absl:Found untraced functions such as lstm_cell_2_layer_call_fn, lstm_cell_2_layer_call_and_return_conditional_losses while saving (showing 2 of 2). These functions will not be directly callable after loading.\n"
     ]
    },
    {
     "name": "stdout",
     "output_type": "stream",
     "text": [
      "INFO:tensorflow:Assets written to: model2\\assets\n"
     ]
    },
    {
     "name": "stderr",
     "output_type": "stream",
     "text": [
      "INFO:tensorflow:Assets written to: model2\\assets\n"
     ]
    },
    {
     "name": "stdout",
     "output_type": "stream",
     "text": [
      "375/375 [==============================] - 12s 31ms/step - loss: 300.5496 - root_mean_squared_error: 17.3364 - val_loss: 33.4831 - val_root_mean_squared_error: 5.7865\n",
      "Epoch 9/25\n",
      "373/375 [============================>.] - ETA: 0s - loss: 263.6255 - root_mean_squared_error: 16.2365"
     ]
    },
    {
     "name": "stderr",
     "output_type": "stream",
     "text": [
      "WARNING:absl:Found untraced functions such as lstm_cell_2_layer_call_fn, lstm_cell_2_layer_call_and_return_conditional_losses while saving (showing 2 of 2). These functions will not be directly callable after loading.\n"
     ]
    },
    {
     "name": "stdout",
     "output_type": "stream",
     "text": [
      "INFO:tensorflow:Assets written to: model2\\assets\n"
     ]
    },
    {
     "name": "stderr",
     "output_type": "stream",
     "text": [
      "INFO:tensorflow:Assets written to: model2\\assets\n"
     ]
    },
    {
     "name": "stdout",
     "output_type": "stream",
     "text": [
      "375/375 [==============================] - 10s 26ms/step - loss: 263.0660 - root_mean_squared_error: 16.2193 - val_loss: 28.6854 - val_root_mean_squared_error: 5.3559\n",
      "Epoch 10/25\n",
      "374/375 [============================>.] - ETA: 0s - loss: 231.3999 - root_mean_squared_error: 15.2118"
     ]
    },
    {
     "name": "stderr",
     "output_type": "stream",
     "text": [
      "WARNING:absl:Found untraced functions such as lstm_cell_2_layer_call_fn, lstm_cell_2_layer_call_and_return_conditional_losses while saving (showing 2 of 2). These functions will not be directly callable after loading.\n"
     ]
    },
    {
     "name": "stdout",
     "output_type": "stream",
     "text": [
      "INFO:tensorflow:Assets written to: model2\\assets\n"
     ]
    },
    {
     "name": "stderr",
     "output_type": "stream",
     "text": [
      "INFO:tensorflow:Assets written to: model2\\assets\n"
     ]
    },
    {
     "name": "stdout",
     "output_type": "stream",
     "text": [
      "375/375 [==============================] - 10s 27ms/step - loss: 230.9759 - root_mean_squared_error: 15.1979 - val_loss: 25.5295 - val_root_mean_squared_error: 5.0527\n",
      "Epoch 11/25\n",
      "374/375 [============================>.] - ETA: 0s - loss: 202.7519 - root_mean_squared_error: 14.2391"
     ]
    },
    {
     "name": "stderr",
     "output_type": "stream",
     "text": [
      "WARNING:absl:Found untraced functions such as lstm_cell_2_layer_call_fn, lstm_cell_2_layer_call_and_return_conditional_losses while saving (showing 2 of 2). These functions will not be directly callable after loading.\n"
     ]
    },
    {
     "name": "stdout",
     "output_type": "stream",
     "text": [
      "INFO:tensorflow:Assets written to: model2\\assets\n"
     ]
    },
    {
     "name": "stderr",
     "output_type": "stream",
     "text": [
      "INFO:tensorflow:Assets written to: model2\\assets\n"
     ]
    },
    {
     "name": "stdout",
     "output_type": "stream",
     "text": [
      "375/375 [==============================] - 9s 25ms/step - loss: 203.9675 - root_mean_squared_error: 14.2817 - val_loss: 23.1667 - val_root_mean_squared_error: 4.8132\n",
      "Epoch 12/25\n",
      "367/375 [============================>.] - ETA: 0s - loss: 183.4066 - root_mean_squared_error: 13.5428"
     ]
    },
    {
     "name": "stderr",
     "output_type": "stream",
     "text": [
      "WARNING:absl:Found untraced functions such as lstm_cell_2_layer_call_fn, lstm_cell_2_layer_call_and_return_conditional_losses while saving (showing 2 of 2). These functions will not be directly callable after loading.\n"
     ]
    },
    {
     "name": "stdout",
     "output_type": "stream",
     "text": [
      "INFO:tensorflow:Assets written to: model2\\assets\n"
     ]
    },
    {
     "name": "stderr",
     "output_type": "stream",
     "text": [
      "INFO:tensorflow:Assets written to: model2\\assets\n"
     ]
    },
    {
     "name": "stdout",
     "output_type": "stream",
     "text": [
      "375/375 [==============================] - 10s 25ms/step - loss: 181.5796 - root_mean_squared_error: 13.4751 - val_loss: 20.6327 - val_root_mean_squared_error: 4.5423\n",
      "Epoch 13/25\n",
      "374/375 [============================>.] - ETA: 0s - loss: 162.6789 - root_mean_squared_error: 12.7546"
     ]
    },
    {
     "name": "stderr",
     "output_type": "stream",
     "text": [
      "WARNING:absl:Found untraced functions such as lstm_cell_2_layer_call_fn, lstm_cell_2_layer_call_and_return_conditional_losses while saving (showing 2 of 2). These functions will not be directly callable after loading.\n"
     ]
    },
    {
     "name": "stdout",
     "output_type": "stream",
     "text": [
      "INFO:tensorflow:Assets written to: model2\\assets\n"
     ]
    },
    {
     "name": "stderr",
     "output_type": "stream",
     "text": [
      "INFO:tensorflow:Assets written to: model2\\assets\n"
     ]
    },
    {
     "name": "stdout",
     "output_type": "stream",
     "text": [
      "375/375 [==============================] - 10s 26ms/step - loss: 162.3411 - root_mean_squared_error: 12.7413 - val_loss: 18.5020 - val_root_mean_squared_error: 4.3014\n",
      "Epoch 14/25\n",
      "371/375 [============================>.] - ETA: 0s - loss: 143.8706 - root_mean_squared_error: 11.9946"
     ]
    },
    {
     "name": "stderr",
     "output_type": "stream",
     "text": [
      "WARNING:absl:Found untraced functions such as lstm_cell_2_layer_call_fn, lstm_cell_2_layer_call_and_return_conditional_losses while saving (showing 2 of 2). These functions will not be directly callable after loading.\n"
     ]
    },
    {
     "name": "stdout",
     "output_type": "stream",
     "text": [
      "INFO:tensorflow:Assets written to: model2\\assets\n"
     ]
    },
    {
     "name": "stderr",
     "output_type": "stream",
     "text": [
      "INFO:tensorflow:Assets written to: model2\\assets\n"
     ]
    },
    {
     "name": "stdout",
     "output_type": "stream",
     "text": [
      "375/375 [==============================] - 10s 26ms/step - loss: 145.5051 - root_mean_squared_error: 12.0626 - val_loss: 16.9813 - val_root_mean_squared_error: 4.1208\n",
      "Epoch 15/25\n",
      "370/375 [============================>.] - ETA: 0s - loss: 130.4159 - root_mean_squared_error: 11.4200"
     ]
    },
    {
     "name": "stderr",
     "output_type": "stream",
     "text": [
      "WARNING:absl:Found untraced functions such as lstm_cell_2_layer_call_fn, lstm_cell_2_layer_call_and_return_conditional_losses while saving (showing 2 of 2). These functions will not be directly callable after loading.\n"
     ]
    },
    {
     "name": "stdout",
     "output_type": "stream",
     "text": [
      "INFO:tensorflow:Assets written to: model2\\assets\n"
     ]
    },
    {
     "name": "stderr",
     "output_type": "stream",
     "text": [
      "INFO:tensorflow:Assets written to: model2\\assets\n"
     ]
    },
    {
     "name": "stdout",
     "output_type": "stream",
     "text": [
      "375/375 [==============================] - 12s 32ms/step - loss: 130.8285 - root_mean_squared_error: 11.4380 - val_loss: 15.1858 - val_root_mean_squared_error: 3.8969\n",
      "Epoch 16/25\n",
      "371/375 [============================>.] - ETA: 0s - loss: 118.8021 - root_mean_squared_error: 10.8996"
     ]
    },
    {
     "name": "stderr",
     "output_type": "stream",
     "text": [
      "WARNING:absl:Found untraced functions such as lstm_cell_2_layer_call_fn, lstm_cell_2_layer_call_and_return_conditional_losses while saving (showing 2 of 2). These functions will not be directly callable after loading.\n"
     ]
    },
    {
     "name": "stdout",
     "output_type": "stream",
     "text": [
      "INFO:tensorflow:Assets written to: model2\\assets\n"
     ]
    },
    {
     "name": "stderr",
     "output_type": "stream",
     "text": [
      "INFO:tensorflow:Assets written to: model2\\assets\n"
     ]
    },
    {
     "name": "stdout",
     "output_type": "stream",
     "text": [
      "375/375 [==============================] - 10s 26ms/step - loss: 118.0059 - root_mean_squared_error: 10.8631 - val_loss: 14.1472 - val_root_mean_squared_error: 3.7613\n",
      "Epoch 17/25\n",
      "373/375 [============================>.] - ETA: 0s - loss: 105.2819 - root_mean_squared_error: 10.2607"
     ]
    },
    {
     "name": "stderr",
     "output_type": "stream",
     "text": [
      "WARNING:absl:Found untraced functions such as lstm_cell_2_layer_call_fn, lstm_cell_2_layer_call_and_return_conditional_losses while saving (showing 2 of 2). These functions will not be directly callable after loading.\n"
     ]
    },
    {
     "name": "stdout",
     "output_type": "stream",
     "text": [
      "INFO:tensorflow:Assets written to: model2\\assets\n"
     ]
    },
    {
     "name": "stderr",
     "output_type": "stream",
     "text": [
      "INFO:tensorflow:Assets written to: model2\\assets\n"
     ]
    },
    {
     "name": "stdout",
     "output_type": "stream",
     "text": [
      "375/375 [==============================] - 11s 28ms/step - loss: 106.9585 - root_mean_squared_error: 10.3421 - val_loss: 12.9668 - val_root_mean_squared_error: 3.6009\n",
      "Epoch 18/25\n",
      "374/375 [============================>.] - ETA: 0s - loss: 97.4274 - root_mean_squared_error: 9.8705"
     ]
    },
    {
     "name": "stderr",
     "output_type": "stream",
     "text": [
      "WARNING:absl:Found untraced functions such as lstm_cell_2_layer_call_fn, lstm_cell_2_layer_call_and_return_conditional_losses while saving (showing 2 of 2). These functions will not be directly callable after loading.\n"
     ]
    },
    {
     "name": "stdout",
     "output_type": "stream",
     "text": [
      "INFO:tensorflow:Assets written to: model2\\assets\n"
     ]
    },
    {
     "name": "stderr",
     "output_type": "stream",
     "text": [
      "INFO:tensorflow:Assets written to: model2\\assets\n"
     ]
    },
    {
     "name": "stdout",
     "output_type": "stream",
     "text": [
      "375/375 [==============================] - 10s 27ms/step - loss: 97.2035 - root_mean_squared_error: 9.8592 - val_loss: 12.0906 - val_root_mean_squared_error: 3.4772\n",
      "Epoch 19/25\n",
      "372/375 [============================>.] - ETA: 0s - loss: 89.2793 - root_mean_squared_error: 9.4488"
     ]
    },
    {
     "name": "stderr",
     "output_type": "stream",
     "text": [
      "WARNING:absl:Found untraced functions such as lstm_cell_2_layer_call_fn, lstm_cell_2_layer_call_and_return_conditional_losses while saving (showing 2 of 2). These functions will not be directly callable after loading.\n"
     ]
    },
    {
     "name": "stdout",
     "output_type": "stream",
     "text": [
      "INFO:tensorflow:Assets written to: model2\\assets\n"
     ]
    },
    {
     "name": "stderr",
     "output_type": "stream",
     "text": [
      "INFO:tensorflow:Assets written to: model2\\assets\n"
     ]
    },
    {
     "name": "stdout",
     "output_type": "stream",
     "text": [
      "375/375 [==============================] - 11s 30ms/step - loss: 88.7559 - root_mean_squared_error: 9.4210 - val_loss: 11.4969 - val_root_mean_squared_error: 3.3907\n",
      "Epoch 20/25\n",
      "369/375 [============================>.] - ETA: 0s - loss: 81.6388 - root_mean_squared_error: 9.0354"
     ]
    },
    {
     "name": "stderr",
     "output_type": "stream",
     "text": [
      "WARNING:absl:Found untraced functions such as lstm_cell_2_layer_call_fn, lstm_cell_2_layer_call_and_return_conditional_losses while saving (showing 2 of 2). These functions will not be directly callable after loading.\n"
     ]
    },
    {
     "name": "stdout",
     "output_type": "stream",
     "text": [
      "INFO:tensorflow:Assets written to: model2\\assets\n"
     ]
    },
    {
     "name": "stderr",
     "output_type": "stream",
     "text": [
      "INFO:tensorflow:Assets written to: model2\\assets\n"
     ]
    },
    {
     "name": "stdout",
     "output_type": "stream",
     "text": [
      "375/375 [==============================] - 11s 28ms/step - loss: 81.2031 - root_mean_squared_error: 9.0113 - val_loss: 11.3974 - val_root_mean_squared_error: 3.3760\n",
      "Epoch 21/25\n",
      "374/375 [============================>.] - ETA: 0s - loss: 73.6258 - root_mean_squared_error: 8.5805"
     ]
    },
    {
     "name": "stderr",
     "output_type": "stream",
     "text": [
      "WARNING:absl:Found untraced functions such as lstm_cell_2_layer_call_fn, lstm_cell_2_layer_call_and_return_conditional_losses while saving (showing 2 of 2). These functions will not be directly callable after loading.\n"
     ]
    },
    {
     "name": "stdout",
     "output_type": "stream",
     "text": [
      "INFO:tensorflow:Assets written to: model2\\assets\n"
     ]
    },
    {
     "name": "stderr",
     "output_type": "stream",
     "text": [
      "INFO:tensorflow:Assets written to: model2\\assets\n"
     ]
    },
    {
     "name": "stdout",
     "output_type": "stream",
     "text": [
      "375/375 [==============================] - 11s 29ms/step - loss: 74.6816 - root_mean_squared_error: 8.6419 - val_loss: 10.3713 - val_root_mean_squared_error: 3.2204\n",
      "Epoch 22/25\n",
      "373/375 [============================>.] - ETA: 0s - loss: 67.8935 - root_mean_squared_error: 8.2397"
     ]
    },
    {
     "name": "stderr",
     "output_type": "stream",
     "text": [
      "WARNING:absl:Found untraced functions such as lstm_cell_2_layer_call_fn, lstm_cell_2_layer_call_and_return_conditional_losses while saving (showing 2 of 2). These functions will not be directly callable after loading.\n"
     ]
    },
    {
     "name": "stdout",
     "output_type": "stream",
     "text": [
      "INFO:tensorflow:Assets written to: model2\\assets\n"
     ]
    },
    {
     "name": "stderr",
     "output_type": "stream",
     "text": [
      "INFO:tensorflow:Assets written to: model2\\assets\n"
     ]
    },
    {
     "name": "stdout",
     "output_type": "stream",
     "text": [
      "375/375 [==============================] - 12s 31ms/step - loss: 68.7323 - root_mean_squared_error: 8.2905 - val_loss: 9.9823 - val_root_mean_squared_error: 3.1595\n",
      "Epoch 23/25\n",
      "375/375 [==============================] - ETA: 0s - loss: 63.5392 - root_mean_squared_error: 7.9711"
     ]
    },
    {
     "name": "stderr",
     "output_type": "stream",
     "text": [
      "WARNING:absl:Found untraced functions such as lstm_cell_2_layer_call_fn, lstm_cell_2_layer_call_and_return_conditional_losses while saving (showing 2 of 2). These functions will not be directly callable after loading.\n"
     ]
    },
    {
     "name": "stdout",
     "output_type": "stream",
     "text": [
      "INFO:tensorflow:Assets written to: model2\\assets\n"
     ]
    },
    {
     "name": "stderr",
     "output_type": "stream",
     "text": [
      "INFO:tensorflow:Assets written to: model2\\assets\n"
     ]
    },
    {
     "name": "stdout",
     "output_type": "stream",
     "text": [
      "375/375 [==============================] - 13s 34ms/step - loss: 63.5392 - root_mean_squared_error: 7.9711 - val_loss: 9.5849 - val_root_mean_squared_error: 3.0960\n",
      "Epoch 24/25\n",
      "370/375 [============================>.] - ETA: 0s - loss: 59.2452 - root_mean_squared_error: 7.6971"
     ]
    },
    {
     "name": "stderr",
     "output_type": "stream",
     "text": [
      "WARNING:absl:Found untraced functions such as lstm_cell_2_layer_call_fn, lstm_cell_2_layer_call_and_return_conditional_losses while saving (showing 2 of 2). These functions will not be directly callable after loading.\n"
     ]
    },
    {
     "name": "stdout",
     "output_type": "stream",
     "text": [
      "INFO:tensorflow:Assets written to: model2\\assets\n"
     ]
    },
    {
     "name": "stderr",
     "output_type": "stream",
     "text": [
      "INFO:tensorflow:Assets written to: model2\\assets\n"
     ]
    },
    {
     "name": "stdout",
     "output_type": "stream",
     "text": [
      "375/375 [==============================] - 14s 37ms/step - loss: 59.1016 - root_mean_squared_error: 7.6878 - val_loss: 9.3805 - val_root_mean_squared_error: 3.0628\n",
      "Epoch 25/25\n",
      "373/375 [============================>.] - ETA: 0s - loss: 55.2300 - root_mean_squared_error: 7.4317"
     ]
    },
    {
     "name": "stderr",
     "output_type": "stream",
     "text": [
      "WARNING:absl:Found untraced functions such as lstm_cell_2_layer_call_fn, lstm_cell_2_layer_call_and_return_conditional_losses while saving (showing 2 of 2). These functions will not be directly callable after loading.\n"
     ]
    },
    {
     "name": "stdout",
     "output_type": "stream",
     "text": [
      "INFO:tensorflow:Assets written to: model2\\assets\n"
     ]
    },
    {
     "name": "stderr",
     "output_type": "stream",
     "text": [
      "INFO:tensorflow:Assets written to: model2\\assets\n"
     ]
    },
    {
     "name": "stdout",
     "output_type": "stream",
     "text": [
      "375/375 [==============================] - 11s 30ms/step - loss: 55.1874 - root_mean_squared_error: 7.4288 - val_loss: 9.2209 - val_root_mean_squared_error: 3.0366\n"
     ]
    },
    {
     "data": {
      "text/plain": [
       "<keras.callbacks.History at 0x252a8e14d60>"
      ]
     },
     "execution_count": 41,
     "metadata": {},
     "output_type": "execute_result"
    }
   ],
   "source": [
    "model2.fit(X2_train,y2_train, validation_data=(X2_val,y2_val), epochs=25, callbacks=[cp2])"
   ]
  },
  {
   "attachments": {},
   "cell_type": "markdown",
   "metadata": {},
   "source": [
    "29. Load the model so we can work with the best one. "
   ]
  },
  {
   "cell_type": "code",
   "execution_count": 42,
   "metadata": {},
   "outputs": [],
   "source": [
    "model2 = load_model('model2/')"
   ]
  },
  {
   "attachments": {},
   "cell_type": "markdown",
   "metadata": {},
   "source": [
    "30. Calculate the predicted values for the training set and add them to a dataframe along with the actuals."
   ]
  },
  {
   "cell_type": "code",
   "execution_count": 43,
   "metadata": {},
   "outputs": [
    {
     "name": "stdout",
     "output_type": "stream",
     "text": [
      "375/375 [==============================] - 3s 6ms/step\n"
     ]
    },
    {
     "data": {
      "text/html": [
       "<div>\n",
       "<style scoped>\n",
       "    .dataframe tbody tr th:only-of-type {\n",
       "        vertical-align: middle;\n",
       "    }\n",
       "\n",
       "    .dataframe tbody tr th {\n",
       "        vertical-align: top;\n",
       "    }\n",
       "\n",
       "    .dataframe thead th {\n",
       "        text-align: right;\n",
       "    }\n",
       "</style>\n",
       "<table border=\"1\" class=\"dataframe\">\n",
       "  <thead>\n",
       "    <tr style=\"text-align: right;\">\n",
       "      <th></th>\n",
       "      <th>Train Predictions</th>\n",
       "      <th>Actuals</th>\n",
       "    </tr>\n",
       "  </thead>\n",
       "  <tbody>\n",
       "    <tr>\n",
       "      <th>0</th>\n",
       "      <td>17.873972</td>\n",
       "      <td>16.85</td>\n",
       "    </tr>\n",
       "    <tr>\n",
       "      <th>1</th>\n",
       "      <td>18.535341</td>\n",
       "      <td>15.64</td>\n",
       "    </tr>\n",
       "    <tr>\n",
       "      <th>2</th>\n",
       "      <td>14.584927</td>\n",
       "      <td>13.76</td>\n",
       "    </tr>\n",
       "    <tr>\n",
       "      <th>3</th>\n",
       "      <td>11.356527</td>\n",
       "      <td>9.90</td>\n",
       "    </tr>\n",
       "    <tr>\n",
       "      <th>4</th>\n",
       "      <td>7.110726</td>\n",
       "      <td>6.93</td>\n",
       "    </tr>\n",
       "    <tr>\n",
       "      <th>...</th>\n",
       "      <td>...</td>\n",
       "      <td>...</td>\n",
       "    </tr>\n",
       "    <tr>\n",
       "      <th>11995</th>\n",
       "      <td>3.446333</td>\n",
       "      <td>4.54</td>\n",
       "    </tr>\n",
       "    <tr>\n",
       "      <th>11996</th>\n",
       "      <td>5.014188</td>\n",
       "      <td>5.91</td>\n",
       "    </tr>\n",
       "    <tr>\n",
       "      <th>11997</th>\n",
       "      <td>6.887482</td>\n",
       "      <td>7.60</td>\n",
       "    </tr>\n",
       "    <tr>\n",
       "      <th>11998</th>\n",
       "      <td>8.971600</td>\n",
       "      <td>11.78</td>\n",
       "    </tr>\n",
       "    <tr>\n",
       "      <th>11999</th>\n",
       "      <td>14.050548</td>\n",
       "      <td>12.08</td>\n",
       "    </tr>\n",
       "  </tbody>\n",
       "</table>\n",
       "<p>12000 rows × 2 columns</p>\n",
       "</div>"
      ],
      "text/plain": [
       "       Train Predictions  Actuals\n",
       "0              17.873972    16.85\n",
       "1              18.535341    15.64\n",
       "2              14.584927    13.76\n",
       "3              11.356527     9.90\n",
       "4               7.110726     6.93\n",
       "...                  ...      ...\n",
       "11995           3.446333     4.54\n",
       "11996           5.014188     5.91\n",
       "11997           6.887482     7.60\n",
       "11998           8.971600    11.78\n",
       "11999          14.050548    12.08\n",
       "\n",
       "[12000 rows x 2 columns]"
      ]
     },
     "execution_count": 43,
     "metadata": {},
     "output_type": "execute_result"
    }
   ],
   "source": [
    "train_predictions2 = model2.predict(X2_train).flatten()\n",
    "train_results2 = pd.DataFrame(data={'Train Predictions': train_predictions2, 'Actuals': y2_train})\n",
    "train_results2"
   ]
  },
  {
   "attachments": {},
   "cell_type": "markdown",
   "metadata": {},
   "source": [
    "31. Visualize the data to compare predicted values to the actual values for the training set. Again, the model did a pretty good job of predicting values since the lines are pretty close together, but it seems like it had a harder time predicting the larger spikes. "
   ]
  },
  {
   "cell_type": "code",
   "execution_count": 44,
   "metadata": {},
   "outputs": [
    {
     "data": {
      "image/png": "[encoded data removed]",
      "text/plain": [
       "<Figure size 640x480 with 1 Axes>"
      ]
     },
     "metadata": {},
     "output_type": "display_data"
    }
   ],
   "source": [
    "plt.plot(train_results2['Train Predictions'][:100])\n",
    "plt.plot(train_results2['Actuals'][:100])\n",
    "plt.title('Predicted vs Actual Values for Training Set')\n",
    "plt.legend(['Predictions','Actuals']);"
   ]
  },
  {
   "attachments": {},
   "cell_type": "markdown",
   "metadata": {},
   "source": [
    "32. Calculate the predicted values for the validation set and add them to a dataframe along with the actuals."
   ]
  },
  {
   "cell_type": "code",
   "execution_count": 45,
   "metadata": {},
   "outputs": [
    {
     "name": "stdout",
     "output_type": "stream",
     "text": [
      "94/94 [==============================] - 1s 6ms/step\n"
     ]
    },
    {
     "data": {
      "text/html": [
       "<div>\n",
       "<style scoped>\n",
       "    .dataframe tbody tr th:only-of-type {\n",
       "        vertical-align: middle;\n",
       "    }\n",
       "\n",
       "    .dataframe tbody tr th {\n",
       "        vertical-align: top;\n",
       "    }\n",
       "\n",
       "    .dataframe thead th {\n",
       "        text-align: right;\n",
       "    }\n",
       "</style>\n",
       "<table border=\"1\" class=\"dataframe\">\n",
       "  <thead>\n",
       "    <tr style=\"text-align: right;\">\n",
       "      <th></th>\n",
       "      <th>Val Predictions</th>\n",
       "      <th>Actuals</th>\n",
       "    </tr>\n",
       "  </thead>\n",
       "  <tbody>\n",
       "    <tr>\n",
       "      <th>0</th>\n",
       "      <td>13.275600</td>\n",
       "      <td>5.95</td>\n",
       "    </tr>\n",
       "    <tr>\n",
       "      <th>1</th>\n",
       "      <td>3.794433</td>\n",
       "      <td>6.47</td>\n",
       "    </tr>\n",
       "    <tr>\n",
       "      <th>2</th>\n",
       "      <td>5.530428</td>\n",
       "      <td>8.21</td>\n",
       "    </tr>\n",
       "    <tr>\n",
       "      <th>3</th>\n",
       "      <td>8.309831</td>\n",
       "      <td>4.67</td>\n",
       "    </tr>\n",
       "    <tr>\n",
       "      <th>4</th>\n",
       "      <td>3.313483</td>\n",
       "      <td>4.16</td>\n",
       "    </tr>\n",
       "    <tr>\n",
       "      <th>...</th>\n",
       "      <td>...</td>\n",
       "      <td>...</td>\n",
       "    </tr>\n",
       "    <tr>\n",
       "      <th>2995</th>\n",
       "      <td>17.495689</td>\n",
       "      <td>17.85</td>\n",
       "    </tr>\n",
       "    <tr>\n",
       "      <th>2996</th>\n",
       "      <td>17.310095</td>\n",
       "      <td>18.36</td>\n",
       "    </tr>\n",
       "    <tr>\n",
       "      <th>2997</th>\n",
       "      <td>18.682594</td>\n",
       "      <td>18.85</td>\n",
       "    </tr>\n",
       "    <tr>\n",
       "      <th>2998</th>\n",
       "      <td>19.540623</td>\n",
       "      <td>16.84</td>\n",
       "    </tr>\n",
       "    <tr>\n",
       "      <th>2999</th>\n",
       "      <td>16.586569</td>\n",
       "      <td>17.90</td>\n",
       "    </tr>\n",
       "  </tbody>\n",
       "</table>\n",
       "<p>3000 rows × 2 columns</p>\n",
       "</div>"
      ],
      "text/plain": [
       "      Val Predictions  Actuals\n",
       "0           13.275600     5.95\n",
       "1            3.794433     6.47\n",
       "2            5.530428     8.21\n",
       "3            8.309831     4.67\n",
       "4            3.313483     4.16\n",
       "...               ...      ...\n",
       "2995        17.495689    17.85\n",
       "2996        17.310095    18.36\n",
       "2997        18.682594    18.85\n",
       "2998        19.540623    16.84\n",
       "2999        16.586569    17.90\n",
       "\n",
       "[3000 rows x 2 columns]"
      ]
     },
     "execution_count": 45,
     "metadata": {},
     "output_type": "execute_result"
    }
   ],
   "source": [
    "val_predictions2 = model2.predict(X2_val).flatten()\n",
    "val_results2 = pd.DataFrame(data={'Val Predictions': val_predictions2, 'Actuals': y2_val})\n",
    "val_results2"
   ]
  },
  {
   "attachments": {},
   "cell_type": "markdown",
   "metadata": {},
   "source": [
    "33. Visualize the data to compare predicted values to the actual values for the validation set. For this set, it looks like the model did a little better at predicting that larger spike."
   ]
  },
  {
   "cell_type": "code",
   "execution_count": 46,
   "metadata": {},
   "outputs": [
    {
     "data": {
      "image/png": "[encoded data removed]",
      "text/plain": [
       "<Figure size 640x480 with 1 Axes>"
      ]
     },
     "metadata": {},
     "output_type": "display_data"
    }
   ],
   "source": [
    "plt.plot(val_results2['Val Predictions'][:100])\n",
    "plt.plot(val_results2['Actuals'][:100])\n",
    "plt.title('Predicted vs Actual Values for Validation Set')\n",
    "plt.legend(['Predictions','Actuals']);"
   ]
  },
  {
   "attachments": {},
   "cell_type": "markdown",
   "metadata": {},
   "source": [
    "34. Calculate the predicted values for the training set and add them to a dataframe along with the actuals."
   ]
  },
  {
   "cell_type": "code",
   "execution_count": 47,
   "metadata": {},
   "outputs": [
    {
     "name": "stdout",
     "output_type": "stream",
     "text": [
      "96/96 [==============================] - 1s 7ms/step\n"
     ]
    },
    {
     "data": {
      "text/html": [
       "<div>\n",
       "<style scoped>\n",
       "    .dataframe tbody tr th:only-of-type {\n",
       "        vertical-align: middle;\n",
       "    }\n",
       "\n",
       "    .dataframe tbody tr th {\n",
       "        vertical-align: top;\n",
       "    }\n",
       "\n",
       "    .dataframe thead th {\n",
       "        text-align: right;\n",
       "    }\n",
       "</style>\n",
       "<table border=\"1\" class=\"dataframe\">\n",
       "  <thead>\n",
       "    <tr style=\"text-align: right;\">\n",
       "      <th></th>\n",
       "      <th>Test Predictions</th>\n",
       "      <th>Actuals</th>\n",
       "    </tr>\n",
       "  </thead>\n",
       "  <tbody>\n",
       "    <tr>\n",
       "      <th>0</th>\n",
       "      <td>18.242033</td>\n",
       "      <td>19.42</td>\n",
       "    </tr>\n",
       "    <tr>\n",
       "      <th>1</th>\n",
       "      <td>19.925526</td>\n",
       "      <td>22.37</td>\n",
       "    </tr>\n",
       "    <tr>\n",
       "      <th>2</th>\n",
       "      <td>22.964333</td>\n",
       "      <td>26.01</td>\n",
       "    </tr>\n",
       "    <tr>\n",
       "      <th>3</th>\n",
       "      <td>26.658348</td>\n",
       "      <td>23.03</td>\n",
       "    </tr>\n",
       "    <tr>\n",
       "      <th>4</th>\n",
       "      <td>20.474720</td>\n",
       "      <td>17.09</td>\n",
       "    </tr>\n",
       "    <tr>\n",
       "      <th>...</th>\n",
       "      <td>...</td>\n",
       "      <td>...</td>\n",
       "    </tr>\n",
       "    <tr>\n",
       "      <th>3048</th>\n",
       "      <td>31.832180</td>\n",
       "      <td>36.08</td>\n",
       "    </tr>\n",
       "    <tr>\n",
       "      <th>3049</th>\n",
       "      <td>45.119289</td>\n",
       "      <td>45.75</td>\n",
       "    </tr>\n",
       "    <tr>\n",
       "      <th>3050</th>\n",
       "      <td>49.981342</td>\n",
       "      <td>50.21</td>\n",
       "    </tr>\n",
       "    <tr>\n",
       "      <th>3051</th>\n",
       "      <td>45.954525</td>\n",
       "      <td>48.14</td>\n",
       "    </tr>\n",
       "    <tr>\n",
       "      <th>3052</th>\n",
       "      <td>42.549065</td>\n",
       "      <td>44.33</td>\n",
       "    </tr>\n",
       "  </tbody>\n",
       "</table>\n",
       "<p>3053 rows × 2 columns</p>\n",
       "</div>"
      ],
      "text/plain": [
       "      Test Predictions  Actuals\n",
       "0            18.242033    19.42\n",
       "1            19.925526    22.37\n",
       "2            22.964333    26.01\n",
       "3            26.658348    23.03\n",
       "4            20.474720    17.09\n",
       "...                ...      ...\n",
       "3048         31.832180    36.08\n",
       "3049         45.119289    45.75\n",
       "3050         49.981342    50.21\n",
       "3051         45.954525    48.14\n",
       "3052         42.549065    44.33\n",
       "\n",
       "[3053 rows x 2 columns]"
      ]
     },
     "execution_count": 47,
     "metadata": {},
     "output_type": "execute_result"
    }
   ],
   "source": [
    "test_predictions2 = model2.predict(X2_test).flatten()\n",
    "test_results2 = pd.DataFrame(data={'Test Predictions': test_predictions2, 'Actuals': y2_test})\n",
    "test_results2"
   ]
  },
  {
   "attachments": {},
   "cell_type": "markdown",
   "metadata": {},
   "source": [
    "35. Visualize the data to compare predicted values to the actual values for the testing set. For this set, it looks like the model's predictions overshot the actuals for the larger spikes."
   ]
  },
  {
   "cell_type": "code",
   "execution_count": 48,
   "metadata": {},
   "outputs": [
    {
     "data": {
      "image/png": "[encoded data removed]",
      "text/plain": [
       "<Figure size 640x480 with 1 Axes>"
      ]
     },
     "metadata": {},
     "output_type": "display_data"
    }
   ],
   "source": [
    "plt.plot(test_results2['Test Predictions'][:100])\n",
    "plt.plot(test_results2['Actuals'][:100])\n",
    "plt.title('Predicted vs Actual Values for Testing Set')\n",
    "plt.legend(['Predictions','Actuals']);"
   ]
  },
  {
   "attachments": {},
   "cell_type": "markdown",
   "metadata": {},
   "source": [
    "36. Calculate the coefficient of determination for the training set, validation set, and testing set. As you can see, in general the model performed well. It performed better on the training and testing sets, but it performed worse on the validation set. The first model's values for training and testing were .86 and .80 respectively, and now they are .92 and .89. The coefficient of determination for the last model's validation set was .99 and this model's is .91, which is .09 lower. If you average all three scores for each model you get .88 and .90 respectively, so in general the second model did improve, though the improvement is only by .02. This suggests that time features are not as necessary for predicting time series data with a LSTM model as compared to a XGBoost model. "
   ]
  },
  {
   "cell_type": "code",
   "execution_count": 49,
   "metadata": {},
   "outputs": [
    {
     "data": {
      "text/plain": [
       "0.9263558724635546"
      ]
     },
     "execution_count": 49,
     "metadata": {},
     "output_type": "execute_result"
    }
   ],
   "source": [
    "train2_r2 = r2_score(train_results2['Actuals'],train_results2['Train Predictions'])\n",
    "train2_r2"
   ]
  },
  {
   "cell_type": "code",
   "execution_count": 50,
   "metadata": {},
   "outputs": [
    {
     "data": {
      "text/plain": [
       "0.9126026396977276"
      ]
     },
     "execution_count": 50,
     "metadata": {},
     "output_type": "execute_result"
    }
   ],
   "source": [
    "val2_r2 = r2_score(val_results2['Actuals'],val_results2['Val Predictions'])\n",
    "val2_r2"
   ]
  },
  {
   "cell_type": "code",
   "execution_count": 51,
   "metadata": {},
   "outputs": [
    {
     "data": {
      "text/plain": [
       "0.896015881985729"
      ]
     },
     "execution_count": 51,
     "metadata": {},
     "output_type": "execute_result"
    }
   ],
   "source": [
    "test2_r2 = r2_score(test_results2['Actuals'],test_results2['Test Predictions'])\n",
    "test2_r2"
   ]
  }
 ],
 "metadata": {
  "kernelspec": {
   "display_name": "base",
   "language": "python",
   "name": "python3"
  },
  "language_info": {
   "codemirror_mode": {
    "name": "ipython",
    "version": 3
   },
   "file_extension": ".py",
   "mimetype": "text/x-python",
   "name": "python",
   "nbconvert_exporter": "python",
   "pygments_lexer": "ipython3",
   "version": "3.9.13"
  },
  "orig_nbformat": 4,
  "vscode": {
   "interpreter": {
    "hash": "7939009c0f665b034ac7d0d020f8ea7c93f1de027612b5d929de2dae80f6a8fb"
   }
  }
 },
 "nbformat": 4,
 "nbformat_minor": 2
}
