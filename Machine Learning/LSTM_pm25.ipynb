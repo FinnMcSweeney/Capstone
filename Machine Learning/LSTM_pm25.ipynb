{
 "cells": [
  {
   "cell_type": "code",
   "execution_count": 56,
   "metadata": {},
   "outputs": [],
   "source": [
    "import tensorflow as tf\n",
    "import os\n",
    "import pandas as pd\n",
    "import numpy as np"
   ]
  },
  {
   "attachments": {},
   "cell_type": "markdown",
   "metadata": {},
   "source": [
    "1. Load in the csv file. "
   ]
  },
  {
   "cell_type": "code",
   "execution_count": 57,
   "metadata": {},
   "outputs": [],
   "source": [
    "df = pd.read_csv('aqi_ny.csv')"
   ]
  },
  {
   "attachments": {},
   "cell_type": "markdown",
   "metadata": {},
   "source": [
    "2. Drop the extra index."
   ]
  },
  {
   "cell_type": "code",
   "execution_count": 58,
   "metadata": {},
   "outputs": [],
   "source": [
    "df = df.drop('Unnamed: 0', axis=1)"
   ]
  },
  {
   "cell_type": "code",
   "execution_count": 59,
   "metadata": {},
   "outputs": [
    {
     "data": {
      "text/html": [
       "<div>\n",
       "<style scoped>\n",
       "    .dataframe tbody tr th:only-of-type {\n",
       "        vertical-align: middle;\n",
       "    }\n",
       "\n",
       "    .dataframe tbody tr th {\n",
       "        vertical-align: top;\n",
       "    }\n",
       "\n",
       "    .dataframe thead th {\n",
       "        text-align: right;\n",
       "    }\n",
       "</style>\n",
       "<table border=\"1\" class=\"dataframe\">\n",
       "  <thead>\n",
       "    <tr style=\"text-align: right;\">\n",
       "      <th></th>\n",
       "      <th>date</th>\n",
       "      <th>co</th>\n",
       "      <th>no</th>\n",
       "      <th>no2</th>\n",
       "      <th>o3</th>\n",
       "      <th>so2</th>\n",
       "      <th>pm2_5</th>\n",
       "      <th>pm10</th>\n",
       "      <th>nh3</th>\n",
       "      <th>aqi</th>\n",
       "      <th>latitude</th>\n",
       "      <th>longitude</th>\n",
       "      <th>city</th>\n",
       "    </tr>\n",
       "  </thead>\n",
       "  <tbody>\n",
       "    <tr>\n",
       "      <th>0</th>\n",
       "      <td>2020-12-01 05:00:00</td>\n",
       "      <td>373.84</td>\n",
       "      <td>1.50</td>\n",
       "      <td>43.87</td>\n",
       "      <td>8.49</td>\n",
       "      <td>6.86</td>\n",
       "      <td>9.31</td>\n",
       "      <td>11.75</td>\n",
       "      <td>1.30</td>\n",
       "      <td>2</td>\n",
       "      <td>40.7127</td>\n",
       "      <td>-74.006</td>\n",
       "      <td>New York, NY</td>\n",
       "    </tr>\n",
       "    <tr>\n",
       "      <th>1</th>\n",
       "      <td>2020-12-01 06:00:00</td>\n",
       "      <td>343.80</td>\n",
       "      <td>1.16</td>\n",
       "      <td>37.70</td>\n",
       "      <td>9.39</td>\n",
       "      <td>7.09</td>\n",
       "      <td>8.43</td>\n",
       "      <td>10.47</td>\n",
       "      <td>1.09</td>\n",
       "      <td>1</td>\n",
       "      <td>40.7127</td>\n",
       "      <td>-74.006</td>\n",
       "      <td>New York, NY</td>\n",
       "    </tr>\n",
       "    <tr>\n",
       "      <th>2</th>\n",
       "      <td>2020-12-01 07:00:00</td>\n",
       "      <td>337.12</td>\n",
       "      <td>1.79</td>\n",
       "      <td>35.99</td>\n",
       "      <td>6.35</td>\n",
       "      <td>7.21</td>\n",
       "      <td>8.55</td>\n",
       "      <td>10.80</td>\n",
       "      <td>1.08</td>\n",
       "      <td>1</td>\n",
       "      <td>40.7127</td>\n",
       "      <td>-74.006</td>\n",
       "      <td>New York, NY</td>\n",
       "    </tr>\n",
       "    <tr>\n",
       "      <th>3</th>\n",
       "      <td>2020-12-01 08:00:00</td>\n",
       "      <td>337.12</td>\n",
       "      <td>3.38</td>\n",
       "      <td>34.96</td>\n",
       "      <td>3.09</td>\n",
       "      <td>7.63</td>\n",
       "      <td>8.92</td>\n",
       "      <td>11.57</td>\n",
       "      <td>1.08</td>\n",
       "      <td>1</td>\n",
       "      <td>40.7127</td>\n",
       "      <td>-74.006</td>\n",
       "      <td>New York, NY</td>\n",
       "    </tr>\n",
       "    <tr>\n",
       "      <th>4</th>\n",
       "      <td>2020-12-01 09:00:00</td>\n",
       "      <td>340.46</td>\n",
       "      <td>5.87</td>\n",
       "      <td>33.59</td>\n",
       "      <td>1.16</td>\n",
       "      <td>8.23</td>\n",
       "      <td>9.62</td>\n",
       "      <td>12.64</td>\n",
       "      <td>1.09</td>\n",
       "      <td>1</td>\n",
       "      <td>40.7127</td>\n",
       "      <td>-74.006</td>\n",
       "      <td>New York, NY</td>\n",
       "    </tr>\n",
       "    <tr>\n",
       "      <th>...</th>\n",
       "      <td>...</td>\n",
       "      <td>...</td>\n",
       "      <td>...</td>\n",
       "      <td>...</td>\n",
       "      <td>...</td>\n",
       "      <td>...</td>\n",
       "      <td>...</td>\n",
       "      <td>...</td>\n",
       "      <td>...</td>\n",
       "      <td>...</td>\n",
       "      <td>...</td>\n",
       "      <td>...</td>\n",
       "      <td>...</td>\n",
       "    </tr>\n",
       "    <tr>\n",
       "      <th>18056</th>\n",
       "      <td>2022-12-31 13:00:00</td>\n",
       "      <td>821.11</td>\n",
       "      <td>62.58</td>\n",
       "      <td>61.69</td>\n",
       "      <td>0.00</td>\n",
       "      <td>5.48</td>\n",
       "      <td>36.08</td>\n",
       "      <td>44.15</td>\n",
       "      <td>3.39</td>\n",
       "      <td>3</td>\n",
       "      <td>40.7127</td>\n",
       "      <td>-74.006</td>\n",
       "      <td>New York, NY</td>\n",
       "    </tr>\n",
       "    <tr>\n",
       "      <th>18057</th>\n",
       "      <td>2022-12-31 14:00:00</td>\n",
       "      <td>1028.06</td>\n",
       "      <td>92.09</td>\n",
       "      <td>69.23</td>\n",
       "      <td>0.12</td>\n",
       "      <td>6.56</td>\n",
       "      <td>45.75</td>\n",
       "      <td>56.04</td>\n",
       "      <td>3.96</td>\n",
       "      <td>3</td>\n",
       "      <td>40.7127</td>\n",
       "      <td>-74.006</td>\n",
       "      <td>New York, NY</td>\n",
       "    </tr>\n",
       "    <tr>\n",
       "      <th>18058</th>\n",
       "      <td>2022-12-31 15:00:00</td>\n",
       "      <td>1134.87</td>\n",
       "      <td>104.61</td>\n",
       "      <td>69.23</td>\n",
       "      <td>0.46</td>\n",
       "      <td>8.11</td>\n",
       "      <td>50.21</td>\n",
       "      <td>61.68</td>\n",
       "      <td>4.12</td>\n",
       "      <td>4</td>\n",
       "      <td>40.7127</td>\n",
       "      <td>-74.006</td>\n",
       "      <td>New York, NY</td>\n",
       "    </tr>\n",
       "    <tr>\n",
       "      <th>18059</th>\n",
       "      <td>2022-12-31 16:00:00</td>\n",
       "      <td>1121.52</td>\n",
       "      <td>101.92</td>\n",
       "      <td>64.43</td>\n",
       "      <td>0.44</td>\n",
       "      <td>9.42</td>\n",
       "      <td>48.14</td>\n",
       "      <td>59.03</td>\n",
       "      <td>4.18</td>\n",
       "      <td>3</td>\n",
       "      <td>40.7127</td>\n",
       "      <td>-74.006</td>\n",
       "      <td>New York, NY</td>\n",
       "    </tr>\n",
       "    <tr>\n",
       "      <th>18060</th>\n",
       "      <td>2022-12-31 17:00:00</td>\n",
       "      <td>1054.76</td>\n",
       "      <td>97.45</td>\n",
       "      <td>56.89</td>\n",
       "      <td>0.51</td>\n",
       "      <td>10.25</td>\n",
       "      <td>44.33</td>\n",
       "      <td>54.28</td>\n",
       "      <td>4.24</td>\n",
       "      <td>3</td>\n",
       "      <td>40.7127</td>\n",
       "      <td>-74.006</td>\n",
       "      <td>New York, NY</td>\n",
       "    </tr>\n",
       "  </tbody>\n",
       "</table>\n",
       "<p>18061 rows × 13 columns</p>\n",
       "</div>"
      ],
      "text/plain": [
       "                      date       co      no    no2    o3    so2  pm2_5   pm10  \\\n",
       "0      2020-12-01 05:00:00   373.84    1.50  43.87  8.49   6.86   9.31  11.75   \n",
       "1      2020-12-01 06:00:00   343.80    1.16  37.70  9.39   7.09   8.43  10.47   \n",
       "2      2020-12-01 07:00:00   337.12    1.79  35.99  6.35   7.21   8.55  10.80   \n",
       "3      2020-12-01 08:00:00   337.12    3.38  34.96  3.09   7.63   8.92  11.57   \n",
       "4      2020-12-01 09:00:00   340.46    5.87  33.59  1.16   8.23   9.62  12.64   \n",
       "...                    ...      ...     ...    ...   ...    ...    ...    ...   \n",
       "18056  2022-12-31 13:00:00   821.11   62.58  61.69  0.00   5.48  36.08  44.15   \n",
       "18057  2022-12-31 14:00:00  1028.06   92.09  69.23  0.12   6.56  45.75  56.04   \n",
       "18058  2022-12-31 15:00:00  1134.87  104.61  69.23  0.46   8.11  50.21  61.68   \n",
       "18059  2022-12-31 16:00:00  1121.52  101.92  64.43  0.44   9.42  48.14  59.03   \n",
       "18060  2022-12-31 17:00:00  1054.76   97.45  56.89  0.51  10.25  44.33  54.28   \n",
       "\n",
       "        nh3  aqi  latitude  longitude          city  \n",
       "0      1.30    2   40.7127    -74.006  New York, NY  \n",
       "1      1.09    1   40.7127    -74.006  New York, NY  \n",
       "2      1.08    1   40.7127    -74.006  New York, NY  \n",
       "3      1.08    1   40.7127    -74.006  New York, NY  \n",
       "4      1.09    1   40.7127    -74.006  New York, NY  \n",
       "...     ...  ...       ...        ...           ...  \n",
       "18056  3.39    3   40.7127    -74.006  New York, NY  \n",
       "18057  3.96    3   40.7127    -74.006  New York, NY  \n",
       "18058  4.12    4   40.7127    -74.006  New York, NY  \n",
       "18059  4.18    3   40.7127    -74.006  New York, NY  \n",
       "18060  4.24    3   40.7127    -74.006  New York, NY  \n",
       "\n",
       "[18061 rows x 13 columns]"
      ]
     },
     "execution_count": 59,
     "metadata": {},
     "output_type": "execute_result"
    }
   ],
   "source": [
    "df"
   ]
  },
  {
   "attachments": {},
   "cell_type": "markdown",
   "metadata": {},
   "source": [
    "3. Make the date column the index, and get rid of the extra date column so there's not a duplicate."
   ]
  },
  {
   "cell_type": "code",
   "execution_count": 60,
   "metadata": {},
   "outputs": [],
   "source": [
    "df.index = pd.to_datetime(df['date'])"
   ]
  },
  {
   "cell_type": "code",
   "execution_count": 61,
   "metadata": {},
   "outputs": [],
   "source": [
    "df = df.drop('date', axis=1)"
   ]
  },
  {
   "cell_type": "code",
   "execution_count": 62,
   "metadata": {},
   "outputs": [],
   "source": [
    "pm25 = df['pm2_5']"
   ]
  },
  {
   "attachments": {},
   "cell_type": "markdown",
   "metadata": {},
   "source": [
    "4. Visualize your data. "
   ]
  },
  {
   "cell_type": "code",
   "execution_count": 63,
   "metadata": {},
   "outputs": [
    {
     "data": {
      "image/png": "[encoded data removed]",
      "text/plain": [
       "<Figure size 640x480 with 1 Axes>"
      ]
     },
     "metadata": {},
     "output_type": "display_data"
    }
   ],
   "source": [
    "pm25.plot(title= 'PM2.5 Over Time', ylabel = 'PM2.5', xlabel = 'Date');"
   ]
  },
  {
   "attachments": {},
   "cell_type": "markdown",
   "metadata": {},
   "source": [
    "6. What makes LSTM much better at predicting time series data is that it takes into account a certain amount of values to predict the next one. In this case, the window size is 8, so it is looking at the first 8 values to predict value number 9, next it uses values 2 to 9 to predict 10, and so on. This function gets the data into this format, where X are the predictor values and y is what is being predicted. "
   ]
  },
  {
   "cell_type": "code",
   "execution_count": 64,
   "metadata": {},
   "outputs": [],
   "source": [
    "def df_to_X_y(df, window_size=8):\n",
    "    df_as_np = df.to_numpy()\n",
    "    X = []\n",
    "    y = []\n",
    "    for i in range(len(df_as_np)-window_size):\n",
    "        row = [[a] for a in df_as_np[i:i+8]]\n",
    "        X.append(row)\n",
    "        label = df_as_np[i+5]\n",
    "        y.append(label)\n",
    "    return np.array(X), np.array(y)"
   ]
  },
  {
   "attachments": {},
   "cell_type": "markdown",
   "metadata": {},
   "source": [
    "7. This shows us the shape of X and y, for both there are 18056 arrays, but X has 8 lists in each array since our window size is 8, and y only has one since we are predicting one value at a time. "
   ]
  },
  {
   "cell_type": "code",
   "execution_count": 65,
   "metadata": {},
   "outputs": [
    {
     "data": {
      "text/plain": [
       "((18053, 8, 1), (18053,))"
      ]
     },
     "execution_count": 65,
     "metadata": {},
     "output_type": "execute_result"
    }
   ],
   "source": [
    "window_size = 8\n",
    "X, y = df_to_X_y(pm25, window_size)\n",
    "X.shape, y.shape"
   ]
  },
  {
   "attachments": {},
   "cell_type": "markdown",
   "metadata": {},
   "source": [
    "8. Split the data into a training set, a validation set, and a testing set. "
   ]
  },
  {
   "cell_type": "code",
   "execution_count": 66,
   "metadata": {},
   "outputs": [
    {
     "data": {
      "text/plain": [
       "((12000, 8, 1), (12000,), (3000, 8, 1), (3000,), (3053, 8, 1), (3053,))"
      ]
     },
     "execution_count": 66,
     "metadata": {},
     "output_type": "execute_result"
    }
   ],
   "source": [
    "X_train, y_train = X[:12000], y[:12000]\n",
    "X_val, y_val = X[12000:15000], y[12000:15000]\n",
    "X_test, y_test = X[15000:], y[15000:]\n",
    "X_train.shape, y_train.shape, X_val.shape, y_val.shape, X_test.shape, y_test.shape"
   ]
  },
  {
   "cell_type": "code",
   "execution_count": 67,
   "metadata": {},
   "outputs": [],
   "source": [
    "from keras.models import Sequential\n",
    "from keras.layers import *\n",
    "from keras.callbacks import ModelCheckpoint\n",
    "from keras.losses import MeanSquaredError\n",
    "from keras.metrics import RootMeanSquaredError\n",
    "from keras.optimizers import Adam "
   ]
  },
  {
   "attachments": {},
   "cell_type": "markdown",
   "metadata": {},
   "source": [
    "9. Create the model. For the first layer you have to specify the shape of your model, since the window size is 8 and we only have one predictor the layer is 8 by 1. Next comes 1 LSTM layer, since LSTM is a neural network you have to specify the number of neurons, 32, 64, 128, and 256 are all common. Two dense layers follow the LSTM layer, the last dense layer is responsible for the regression task, and in this case we specify 1 because we want the output to be 1 predicted value."
   ]
  },
  {
   "cell_type": "code",
   "execution_count": 68,
   "metadata": {},
   "outputs": [
    {
     "name": "stdout",
     "output_type": "stream",
     "text": [
      "Model: \"sequential_3\"\n",
      "_________________________________________________________________\n",
      " Layer (type)                Output Shape              Param #   \n",
      "=================================================================\n",
      " lstm_3 (LSTM)               (None, 64)                16896     \n",
      "                                                                 \n",
      " dense_6 (Dense)             (None, 8)                 520       \n",
      "                                                                 \n",
      " dense_7 (Dense)             (None, 1)                 9         \n",
      "                                                                 \n",
      "=================================================================\n",
      "Total params: 17,425\n",
      "Trainable params: 17,425\n",
      "Non-trainable params: 0\n",
      "_________________________________________________________________\n"
     ]
    }
   ],
   "source": [
    "model1 = Sequential()\n",
    "model1.add(InputLayer((8,1)))\n",
    "model1.add(LSTM(64))\n",
    "model1.add(Dense(8,'relu'))\n",
    "model1.add(Dense(1,'linear'))\n",
    "\n",
    "model1.summary()"
   ]
  },
  {
   "attachments": {},
   "cell_type": "markdown",
   "metadata": {},
   "source": [
    "10. Create a checkpoint that saves the best performing model. Just like our XGBoost model, we are using a low learning rate so it will be slower. "
   ]
  },
  {
   "cell_type": "code",
   "execution_count": 69,
   "metadata": {},
   "outputs": [],
   "source": [
    "cp = ModelCheckpoint('model1/',save_best_only=True)\n",
    "model1.compile(loss=MeanSquaredError(), optimizer = Adam(learning_rate=0.0001), metrics=RootMeanSquaredError())"
   ]
  },
  {
   "attachments": {},
   "cell_type": "markdown",
   "metadata": {},
   "source": [
    "11. Fit the model. The number you choose for your epochs specifies how many times you will run through the data, so the larger the number the longer it will take to run. "
   ]
  },
  {
   "cell_type": "code",
   "execution_count": 70,
   "metadata": {},
   "outputs": [
    {
     "name": "stdout",
     "output_type": "stream",
     "text": [
      "Epoch 1/25\n",
      "372/375 [============================>.] - ETA: 0s - loss: 993.7001 - root_mean_squared_error: 31.5230"
     ]
    },
    {
     "name": "stderr",
     "output_type": "stream",
     "text": [
      "WARNING:absl:Found untraced functions such as lstm_cell_4_layer_call_fn, lstm_cell_4_layer_call_and_return_conditional_losses while saving (showing 2 of 2). These functions will not be directly callable after loading.\n"
     ]
    },
    {
     "name": "stdout",
     "output_type": "stream",
     "text": [
      "INFO:tensorflow:Assets written to: model1\\assets\n"
     ]
    },
    {
     "name": "stderr",
     "output_type": "stream",
     "text": [
      "INFO:tensorflow:Assets written to: model1\\assets\n"
     ]
    },
    {
     "name": "stdout",
     "output_type": "stream",
     "text": [
      "375/375 [==============================] - 17s 36ms/step - loss: 993.5306 - root_mean_squared_error: 31.5203 - val_loss: 142.4574 - val_root_mean_squared_error: 11.9355\n",
      "Epoch 2/25\n",
      "373/375 [============================>.] - ETA: 0s - loss: 829.1007 - root_mean_squared_error: 28.7941"
     ]
    },
    {
     "name": "stderr",
     "output_type": "stream",
     "text": [
      "WARNING:absl:Found untraced functions such as lstm_cell_4_layer_call_fn, lstm_cell_4_layer_call_and_return_conditional_losses while saving (showing 2 of 2). These functions will not be directly callable after loading.\n"
     ]
    },
    {
     "name": "stdout",
     "output_type": "stream",
     "text": [
      "INFO:tensorflow:Assets written to: model1\\assets\n"
     ]
    },
    {
     "name": "stderr",
     "output_type": "stream",
     "text": [
      "INFO:tensorflow:Assets written to: model1\\assets\n"
     ]
    },
    {
     "name": "stdout",
     "output_type": "stream",
     "text": [
      "375/375 [==============================] - 11s 30ms/step - loss: 830.7561 - root_mean_squared_error: 28.8228 - val_loss: 75.1489 - val_root_mean_squared_error: 8.6688\n",
      "Epoch 3/25\n",
      "374/375 [============================>.] - ETA: 0s - loss: 676.0946 - root_mean_squared_error: 26.0018"
     ]
    },
    {
     "name": "stderr",
     "output_type": "stream",
     "text": [
      "WARNING:absl:Found untraced functions such as lstm_cell_4_layer_call_fn, lstm_cell_4_layer_call_and_return_conditional_losses while saving (showing 2 of 2). These functions will not be directly callable after loading.\n"
     ]
    },
    {
     "name": "stdout",
     "output_type": "stream",
     "text": [
      "INFO:tensorflow:Assets written to: model1\\assets\n"
     ]
    },
    {
     "name": "stderr",
     "output_type": "stream",
     "text": [
      "INFO:tensorflow:Assets written to: model1\\assets\n"
     ]
    },
    {
     "name": "stdout",
     "output_type": "stream",
     "text": [
      "375/375 [==============================] - 12s 33ms/step - loss: 675.5547 - root_mean_squared_error: 25.9914 - val_loss: 42.6986 - val_root_mean_squared_error: 6.5344\n",
      "Epoch 4/25\n",
      "370/375 [============================>.] - ETA: 0s - loss: 568.0804 - root_mean_squared_error: 23.8344"
     ]
    },
    {
     "name": "stderr",
     "output_type": "stream",
     "text": [
      "WARNING:absl:Found untraced functions such as lstm_cell_4_layer_call_fn, lstm_cell_4_layer_call_and_return_conditional_losses while saving (showing 2 of 2). These functions will not be directly callable after loading.\n"
     ]
    },
    {
     "name": "stdout",
     "output_type": "stream",
     "text": [
      "INFO:tensorflow:Assets written to: model1\\assets\n"
     ]
    },
    {
     "name": "stderr",
     "output_type": "stream",
     "text": [
      "INFO:tensorflow:Assets written to: model1\\assets\n"
     ]
    },
    {
     "name": "stdout",
     "output_type": "stream",
     "text": [
      "375/375 [==============================] - 11s 29ms/step - loss: 564.7515 - root_mean_squared_error: 23.7645 - val_loss: 26.7786 - val_root_mean_squared_error: 5.1748\n",
      "Epoch 5/25\n",
      "374/375 [============================>.] - ETA: 0s - loss: 484.6100 - root_mean_squared_error: 22.0139"
     ]
    },
    {
     "name": "stderr",
     "output_type": "stream",
     "text": [
      "WARNING:absl:Found untraced functions such as lstm_cell_4_layer_call_fn, lstm_cell_4_layer_call_and_return_conditional_losses while saving (showing 2 of 2). These functions will not be directly callable after loading.\n"
     ]
    },
    {
     "name": "stdout",
     "output_type": "stream",
     "text": [
      "INFO:tensorflow:Assets written to: model1\\assets\n"
     ]
    },
    {
     "name": "stderr",
     "output_type": "stream",
     "text": [
      "INFO:tensorflow:Assets written to: model1\\assets\n"
     ]
    },
    {
     "name": "stdout",
     "output_type": "stream",
     "text": [
      "375/375 [==============================] - 12s 31ms/step - loss: 484.9815 - root_mean_squared_error: 22.0223 - val_loss: 18.2044 - val_root_mean_squared_error: 4.2667\n",
      "Epoch 6/25\n",
      "371/375 [============================>.] - ETA: 0s - loss: 420.9887 - root_mean_squared_error: 20.5180"
     ]
    },
    {
     "name": "stderr",
     "output_type": "stream",
     "text": [
      "WARNING:absl:Found untraced functions such as lstm_cell_4_layer_call_fn, lstm_cell_4_layer_call_and_return_conditional_losses while saving (showing 2 of 2). These functions will not be directly callable after loading.\n"
     ]
    },
    {
     "name": "stdout",
     "output_type": "stream",
     "text": [
      "INFO:tensorflow:Assets written to: model1\\assets\n"
     ]
    },
    {
     "name": "stderr",
     "output_type": "stream",
     "text": [
      "INFO:tensorflow:Assets written to: model1\\assets\n"
     ]
    },
    {
     "name": "stdout",
     "output_type": "stream",
     "text": [
      "375/375 [==============================] - 12s 31ms/step - loss: 421.2431 - root_mean_squared_error: 20.5242 - val_loss: 12.9816 - val_root_mean_squared_error: 3.6030\n",
      "Epoch 7/25\n",
      "375/375 [==============================] - ETA: 0s - loss: 367.3641 - root_mean_squared_error: 19.1667"
     ]
    },
    {
     "name": "stderr",
     "output_type": "stream",
     "text": [
      "WARNING:absl:Found untraced functions such as lstm_cell_4_layer_call_fn, lstm_cell_4_layer_call_and_return_conditional_losses while saving (showing 2 of 2). These functions will not be directly callable after loading.\n"
     ]
    },
    {
     "name": "stdout",
     "output_type": "stream",
     "text": [
      "INFO:tensorflow:Assets written to: model1\\assets\n"
     ]
    },
    {
     "name": "stderr",
     "output_type": "stream",
     "text": [
      "INFO:tensorflow:Assets written to: model1\\assets\n"
     ]
    },
    {
     "name": "stdout",
     "output_type": "stream",
     "text": [
      "375/375 [==============================] - 10s 28ms/step - loss: 367.3641 - root_mean_squared_error: 19.1667 - val_loss: 9.7863 - val_root_mean_squared_error: 3.1283\n",
      "Epoch 8/25\n",
      "372/375 [============================>.] - ETA: 0s - loss: 320.2713 - root_mean_squared_error: 17.8961"
     ]
    },
    {
     "name": "stderr",
     "output_type": "stream",
     "text": [
      "WARNING:absl:Found untraced functions such as lstm_cell_4_layer_call_fn, lstm_cell_4_layer_call_and_return_conditional_losses while saving (showing 2 of 2). These functions will not be directly callable after loading.\n"
     ]
    },
    {
     "name": "stdout",
     "output_type": "stream",
     "text": [
      "INFO:tensorflow:Assets written to: model1\\assets\n"
     ]
    },
    {
     "name": "stderr",
     "output_type": "stream",
     "text": [
      "INFO:tensorflow:Assets written to: model1\\assets\n"
     ]
    },
    {
     "name": "stdout",
     "output_type": "stream",
     "text": [
      "375/375 [==============================] - 12s 31ms/step - loss: 321.1198 - root_mean_squared_error: 17.9198 - val_loss: 7.2986 - val_root_mean_squared_error: 2.7016\n",
      "Epoch 9/25\n",
      "375/375 [==============================] - ETA: 0s - loss: 281.4089 - root_mean_squared_error: 16.7752"
     ]
    },
    {
     "name": "stderr",
     "output_type": "stream",
     "text": [
      "WARNING:absl:Found untraced functions such as lstm_cell_4_layer_call_fn, lstm_cell_4_layer_call_and_return_conditional_losses while saving (showing 2 of 2). These functions will not be directly callable after loading.\n"
     ]
    },
    {
     "name": "stdout",
     "output_type": "stream",
     "text": [
      "INFO:tensorflow:Assets written to: model1\\assets\n"
     ]
    },
    {
     "name": "stderr",
     "output_type": "stream",
     "text": [
      "INFO:tensorflow:Assets written to: model1\\assets\n"
     ]
    },
    {
     "name": "stdout",
     "output_type": "stream",
     "text": [
      "375/375 [==============================] - 12s 31ms/step - loss: 281.4089 - root_mean_squared_error: 16.7752 - val_loss: 5.4477 - val_root_mean_squared_error: 2.3340\n",
      "Epoch 10/25\n",
      "371/375 [============================>.] - ETA: 0s - loss: 247.9922 - root_mean_squared_error: 15.7478"
     ]
    },
    {
     "name": "stderr",
     "output_type": "stream",
     "text": [
      "WARNING:absl:Found untraced functions such as lstm_cell_4_layer_call_fn, lstm_cell_4_layer_call_and_return_conditional_losses while saving (showing 2 of 2). These functions will not be directly callable after loading.\n"
     ]
    },
    {
     "name": "stdout",
     "output_type": "stream",
     "text": [
      "INFO:tensorflow:Assets written to: model1\\assets\n"
     ]
    },
    {
     "name": "stderr",
     "output_type": "stream",
     "text": [
      "INFO:tensorflow:Assets written to: model1\\assets\n"
     ]
    },
    {
     "name": "stdout",
     "output_type": "stream",
     "text": [
      "375/375 [==============================] - 10s 27ms/step - loss: 247.5501 - root_mean_squared_error: 15.7337 - val_loss: 4.2661 - val_root_mean_squared_error: 2.0655\n",
      "Epoch 11/25\n",
      "374/375 [============================>.] - ETA: 0s - loss: 218.6090 - root_mean_squared_error: 14.7854"
     ]
    },
    {
     "name": "stderr",
     "output_type": "stream",
     "text": [
      "WARNING:absl:Found untraced functions such as lstm_cell_4_layer_call_fn, lstm_cell_4_layer_call_and_return_conditional_losses while saving (showing 2 of 2). These functions will not be directly callable after loading.\n"
     ]
    },
    {
     "name": "stdout",
     "output_type": "stream",
     "text": [
      "INFO:tensorflow:Assets written to: model1\\assets\n"
     ]
    },
    {
     "name": "stderr",
     "output_type": "stream",
     "text": [
      "INFO:tensorflow:Assets written to: model1\\assets\n"
     ]
    },
    {
     "name": "stdout",
     "output_type": "stream",
     "text": [
      "375/375 [==============================] - 11s 28ms/step - loss: 218.1438 - root_mean_squared_error: 14.7697 - val_loss: 3.0596 - val_root_mean_squared_error: 1.7492\n",
      "Epoch 12/25\n",
      "373/375 [============================>.] - ETA: 0s - loss: 193.5870 - root_mean_squared_error: 13.9136"
     ]
    },
    {
     "name": "stderr",
     "output_type": "stream",
     "text": [
      "WARNING:absl:Found untraced functions such as lstm_cell_4_layer_call_fn, lstm_cell_4_layer_call_and_return_conditional_losses while saving (showing 2 of 2). These functions will not be directly callable after loading.\n"
     ]
    },
    {
     "name": "stdout",
     "output_type": "stream",
     "text": [
      "INFO:tensorflow:Assets written to: model1\\assets\n"
     ]
    },
    {
     "name": "stderr",
     "output_type": "stream",
     "text": [
      "INFO:tensorflow:Assets written to: model1\\assets\n"
     ]
    },
    {
     "name": "stdout",
     "output_type": "stream",
     "text": [
      "375/375 [==============================] - 11s 28ms/step - loss: 192.5783 - root_mean_squared_error: 13.8773 - val_loss: 2.4745 - val_root_mean_squared_error: 1.5731\n",
      "Epoch 13/25\n",
      "374/375 [============================>.] - ETA: 0s - loss: 170.7498 - root_mean_squared_error: 13.0671"
     ]
    },
    {
     "name": "stderr",
     "output_type": "stream",
     "text": [
      "WARNING:absl:Found untraced functions such as lstm_cell_4_layer_call_fn, lstm_cell_4_layer_call_and_return_conditional_losses while saving (showing 2 of 2). These functions will not be directly callable after loading.\n"
     ]
    },
    {
     "name": "stdout",
     "output_type": "stream",
     "text": [
      "INFO:tensorflow:Assets written to: model1\\assets\n"
     ]
    },
    {
     "name": "stderr",
     "output_type": "stream",
     "text": [
      "INFO:tensorflow:Assets written to: model1\\assets\n"
     ]
    },
    {
     "name": "stdout",
     "output_type": "stream",
     "text": [
      "375/375 [==============================] - 11s 30ms/step - loss: 170.4258 - root_mean_squared_error: 13.0547 - val_loss: 2.0557 - val_root_mean_squared_error: 1.4338\n",
      "Epoch 14/25\n",
      "373/375 [============================>.] - ETA: 0s - loss: 151.6713 - root_mean_squared_error: 12.3155"
     ]
    },
    {
     "name": "stderr",
     "output_type": "stream",
     "text": [
      "WARNING:absl:Found untraced functions such as lstm_cell_4_layer_call_fn, lstm_cell_4_layer_call_and_return_conditional_losses while saving (showing 2 of 2). These functions will not be directly callable after loading.\n"
     ]
    },
    {
     "name": "stdout",
     "output_type": "stream",
     "text": [
      "INFO:tensorflow:Assets written to: model1\\assets\n"
     ]
    },
    {
     "name": "stderr",
     "output_type": "stream",
     "text": [
      "INFO:tensorflow:Assets written to: model1\\assets\n"
     ]
    },
    {
     "name": "stdout",
     "output_type": "stream",
     "text": [
      "375/375 [==============================] - 10s 28ms/step - loss: 150.9049 - root_mean_squared_error: 12.2843 - val_loss: 1.7523 - val_root_mean_squared_error: 1.3237\n",
      "Epoch 15/25\n",
      "375/375 [==============================] - ETA: 0s - loss: 133.6581 - root_mean_squared_error: 11.5611"
     ]
    },
    {
     "name": "stderr",
     "output_type": "stream",
     "text": [
      "WARNING:absl:Found untraced functions such as lstm_cell_4_layer_call_fn, lstm_cell_4_layer_call_and_return_conditional_losses while saving (showing 2 of 2). These functions will not be directly callable after loading.\n"
     ]
    },
    {
     "name": "stdout",
     "output_type": "stream",
     "text": [
      "INFO:tensorflow:Assets written to: model1\\assets\n"
     ]
    },
    {
     "name": "stderr",
     "output_type": "stream",
     "text": [
      "INFO:tensorflow:Assets written to: model1\\assets\n"
     ]
    },
    {
     "name": "stdout",
     "output_type": "stream",
     "text": [
      "375/375 [==============================] - 13s 34ms/step - loss: 133.6581 - root_mean_squared_error: 11.5611 - val_loss: 1.4926 - val_root_mean_squared_error: 1.2217\n",
      "Epoch 16/25\n",
      "370/375 [============================>.] - ETA: 0s - loss: 119.1624 - root_mean_squared_error: 10.9162"
     ]
    },
    {
     "name": "stderr",
     "output_type": "stream",
     "text": [
      "WARNING:absl:Found untraced functions such as lstm_cell_4_layer_call_fn, lstm_cell_4_layer_call_and_return_conditional_losses while saving (showing 2 of 2). These functions will not be directly callable after loading.\n"
     ]
    },
    {
     "name": "stdout",
     "output_type": "stream",
     "text": [
      "INFO:tensorflow:Assets written to: model1\\assets\n"
     ]
    },
    {
     "name": "stderr",
     "output_type": "stream",
     "text": [
      "INFO:tensorflow:Assets written to: model1\\assets\n"
     ]
    },
    {
     "name": "stdout",
     "output_type": "stream",
     "text": [
      "375/375 [==============================] - 11s 29ms/step - loss: 118.6376 - root_mean_squared_error: 10.8921 - val_loss: 1.3288 - val_root_mean_squared_error: 1.1527\n",
      "Epoch 17/25\n",
      "371/375 [============================>.] - ETA: 0s - loss: 105.1783 - root_mean_squared_error: 10.2556"
     ]
    },
    {
     "name": "stderr",
     "output_type": "stream",
     "text": [
      "WARNING:absl:Found untraced functions such as lstm_cell_4_layer_call_fn, lstm_cell_4_layer_call_and_return_conditional_losses while saving (showing 2 of 2). These functions will not be directly callable after loading.\n"
     ]
    },
    {
     "name": "stdout",
     "output_type": "stream",
     "text": [
      "INFO:tensorflow:Assets written to: model1\\assets\n"
     ]
    },
    {
     "name": "stderr",
     "output_type": "stream",
     "text": [
      "INFO:tensorflow:Assets written to: model1\\assets\n"
     ]
    },
    {
     "name": "stdout",
     "output_type": "stream",
     "text": [
      "375/375 [==============================] - 12s 31ms/step - loss: 105.5423 - root_mean_squared_error: 10.2734 - val_loss: 1.1952 - val_root_mean_squared_error: 1.0933\n",
      "Epoch 18/25\n",
      "373/375 [============================>.] - ETA: 0s - loss: 94.4067 - root_mean_squared_error: 9.7163"
     ]
    },
    {
     "name": "stderr",
     "output_type": "stream",
     "text": [
      "WARNING:absl:Found untraced functions such as lstm_cell_4_layer_call_fn, lstm_cell_4_layer_call_and_return_conditional_losses while saving (showing 2 of 2). These functions will not be directly callable after loading.\n"
     ]
    },
    {
     "name": "stdout",
     "output_type": "stream",
     "text": [
      "INFO:tensorflow:Assets written to: model1\\assets\n"
     ]
    },
    {
     "name": "stderr",
     "output_type": "stream",
     "text": [
      "INFO:tensorflow:Assets written to: model1\\assets\n"
     ]
    },
    {
     "name": "stdout",
     "output_type": "stream",
     "text": [
      "375/375 [==============================] - 12s 32ms/step - loss: 94.0527 - root_mean_squared_error: 9.6981 - val_loss: 1.0714 - val_root_mean_squared_error: 1.0351\n",
      "Epoch 19/25\n",
      "375/375 [==============================] - ETA: 0s - loss: 84.1603 - root_mean_squared_error: 9.1739"
     ]
    },
    {
     "name": "stderr",
     "output_type": "stream",
     "text": [
      "WARNING:absl:Found untraced functions such as lstm_cell_4_layer_call_fn, lstm_cell_4_layer_call_and_return_conditional_losses while saving (showing 2 of 2). These functions will not be directly callable after loading.\n"
     ]
    },
    {
     "name": "stdout",
     "output_type": "stream",
     "text": [
      "INFO:tensorflow:Assets written to: model1\\assets\n"
     ]
    },
    {
     "name": "stderr",
     "output_type": "stream",
     "text": [
      "INFO:tensorflow:Assets written to: model1\\assets\n"
     ]
    },
    {
     "name": "stdout",
     "output_type": "stream",
     "text": [
      "375/375 [==============================] - 10s 27ms/step - loss: 84.1603 - root_mean_squared_error: 9.1739 - val_loss: 0.9807 - val_root_mean_squared_error: 0.9903\n",
      "Epoch 20/25\n",
      "373/375 [============================>.] - ETA: 0s - loss: 75.8632 - root_mean_squared_error: 8.7099"
     ]
    },
    {
     "name": "stderr",
     "output_type": "stream",
     "text": [
      "WARNING:absl:Found untraced functions such as lstm_cell_4_layer_call_fn, lstm_cell_4_layer_call_and_return_conditional_losses while saving (showing 2 of 2). These functions will not be directly callable after loading.\n"
     ]
    },
    {
     "name": "stdout",
     "output_type": "stream",
     "text": [
      "INFO:tensorflow:Assets written to: model1\\assets\n"
     ]
    },
    {
     "name": "stderr",
     "output_type": "stream",
     "text": [
      "INFO:tensorflow:Assets written to: model1\\assets\n"
     ]
    },
    {
     "name": "stdout",
     "output_type": "stream",
     "text": [
      "375/375 [==============================] - 12s 31ms/step - loss: 75.4994 - root_mean_squared_error: 8.6890 - val_loss: 0.9218 - val_root_mean_squared_error: 0.9601\n",
      "Epoch 21/25\n",
      "372/375 [============================>.] - ETA: 0s - loss: 68.3178 - root_mean_squared_error: 8.2655"
     ]
    },
    {
     "name": "stderr",
     "output_type": "stream",
     "text": [
      "WARNING:absl:Found untraced functions such as lstm_cell_4_layer_call_fn, lstm_cell_4_layer_call_and_return_conditional_losses while saving (showing 2 of 2). These functions will not be directly callable after loading.\n"
     ]
    },
    {
     "name": "stdout",
     "output_type": "stream",
     "text": [
      "INFO:tensorflow:Assets written to: model1\\assets\n"
     ]
    },
    {
     "name": "stderr",
     "output_type": "stream",
     "text": [
      "INFO:tensorflow:Assets written to: model1\\assets\n"
     ]
    },
    {
     "name": "stdout",
     "output_type": "stream",
     "text": [
      "375/375 [==============================] - 10s 27ms/step - loss: 67.8017 - root_mean_squared_error: 8.2342 - val_loss: 0.8253 - val_root_mean_squared_error: 0.9085\n",
      "Epoch 22/25\n",
      "375/375 [==============================] - 5s 13ms/step - loss: 60.9369 - root_mean_squared_error: 7.8062 - val_loss: 0.8526 - val_root_mean_squared_error: 0.9233\n",
      "Epoch 23/25\n",
      "375/375 [==============================] - 5s 13ms/step - loss: 54.9483 - root_mean_squared_error: 7.4127 - val_loss: 0.8323 - val_root_mean_squared_error: 0.9123\n",
      "Epoch 24/25\n",
      "373/375 [============================>.] - ETA: 0s - loss: 49.8590 - root_mean_squared_error: 7.0611"
     ]
    },
    {
     "name": "stderr",
     "output_type": "stream",
     "text": [
      "WARNING:absl:Found untraced functions such as lstm_cell_4_layer_call_fn, lstm_cell_4_layer_call_and_return_conditional_losses while saving (showing 2 of 2). These functions will not be directly callable after loading.\n"
     ]
    },
    {
     "name": "stdout",
     "output_type": "stream",
     "text": [
      "INFO:tensorflow:Assets written to: model1\\assets\n"
     ]
    },
    {
     "name": "stderr",
     "output_type": "stream",
     "text": [
      "INFO:tensorflow:Assets written to: model1\\assets\n"
     ]
    },
    {
     "name": "stdout",
     "output_type": "stream",
     "text": [
      "375/375 [==============================] - 12s 33ms/step - loss: 49.6727 - root_mean_squared_error: 7.0479 - val_loss: 0.7276 - val_root_mean_squared_error: 0.8530\n",
      "Epoch 25/25\n",
      "374/375 [============================>.] - ETA: 0s - loss: 45.1426 - root_mean_squared_error: 6.7188"
     ]
    },
    {
     "name": "stderr",
     "output_type": "stream",
     "text": [
      "WARNING:absl:Found untraced functions such as lstm_cell_4_layer_call_fn, lstm_cell_4_layer_call_and_return_conditional_losses while saving (showing 2 of 2). These functions will not be directly callable after loading.\n"
     ]
    },
    {
     "name": "stdout",
     "output_type": "stream",
     "text": [
      "INFO:tensorflow:Assets written to: model1\\assets\n"
     ]
    },
    {
     "name": "stderr",
     "output_type": "stream",
     "text": [
      "INFO:tensorflow:Assets written to: model1\\assets\n"
     ]
    },
    {
     "name": "stdout",
     "output_type": "stream",
     "text": [
      "375/375 [==============================] - 10s 28ms/step - loss: 45.0238 - root_mean_squared_error: 6.7100 - val_loss: 0.7141 - val_root_mean_squared_error: 0.8450\n"
     ]
    },
    {
     "data": {
      "text/plain": [
       "<keras.callbacks.History at 0x15efbd2eac0>"
      ]
     },
     "execution_count": 70,
     "metadata": {},
     "output_type": "execute_result"
    }
   ],
   "source": [
    "model1.fit(X_train,y_train, validation_data=(X_val,y_val), epochs=25, callbacks=[cp])"
   ]
  },
  {
   "cell_type": "code",
   "execution_count": 71,
   "metadata": {},
   "outputs": [],
   "source": [
    "from keras.models import load_model"
   ]
  },
  {
   "attachments": {},
   "cell_type": "markdown",
   "metadata": {},
   "source": [
    "12. Load the model so we can work with the best one. "
   ]
  },
  {
   "cell_type": "code",
   "execution_count": 72,
   "metadata": {},
   "outputs": [],
   "source": [
    "model1 = load_model('model1/')"
   ]
  },
  {
   "attachments": {},
   "cell_type": "markdown",
   "metadata": {},
   "source": [
    "13. Calculate the predicted values for the training set and add them to a dataframe with the actuals."
   ]
  },
  {
   "cell_type": "code",
   "execution_count": 73,
   "metadata": {},
   "outputs": [
    {
     "name": "stdout",
     "output_type": "stream",
     "text": [
      "375/375 [==============================] - 2s 5ms/step\n"
     ]
    },
    {
     "data": {
      "text/html": [
       "<div>\n",
       "<style scoped>\n",
       "    .dataframe tbody tr th:only-of-type {\n",
       "        vertical-align: middle;\n",
       "    }\n",
       "\n",
       "    .dataframe tbody tr th {\n",
       "        vertical-align: top;\n",
       "    }\n",
       "\n",
       "    .dataframe thead th {\n",
       "        text-align: right;\n",
       "    }\n",
       "</style>\n",
       "<table border=\"1\" class=\"dataframe\">\n",
       "  <thead>\n",
       "    <tr style=\"text-align: right;\">\n",
       "      <th></th>\n",
       "      <th>Train Predictions</th>\n",
       "      <th>Actuals</th>\n",
       "    </tr>\n",
       "  </thead>\n",
       "  <tbody>\n",
       "    <tr>\n",
       "      <th>0</th>\n",
       "      <td>10.353524</td>\n",
       "      <td>10.60</td>\n",
       "    </tr>\n",
       "    <tr>\n",
       "      <th>1</th>\n",
       "      <td>12.202385</td>\n",
       "      <td>11.92</td>\n",
       "    </tr>\n",
       "    <tr>\n",
       "      <th>2</th>\n",
       "      <td>14.896389</td>\n",
       "      <td>15.04</td>\n",
       "    </tr>\n",
       "    <tr>\n",
       "      <th>3</th>\n",
       "      <td>16.422392</td>\n",
       "      <td>16.85</td>\n",
       "    </tr>\n",
       "    <tr>\n",
       "      <th>4</th>\n",
       "      <td>16.002851</td>\n",
       "      <td>15.64</td>\n",
       "    </tr>\n",
       "    <tr>\n",
       "      <th>...</th>\n",
       "      <td>...</td>\n",
       "      <td>...</td>\n",
       "    </tr>\n",
       "    <tr>\n",
       "      <th>11995</th>\n",
       "      <td>2.340687</td>\n",
       "      <td>2.45</td>\n",
       "    </tr>\n",
       "    <tr>\n",
       "      <th>11996</th>\n",
       "      <td>2.651696</td>\n",
       "      <td>2.90</td>\n",
       "    </tr>\n",
       "    <tr>\n",
       "      <th>11997</th>\n",
       "      <td>3.267350</td>\n",
       "      <td>3.48</td>\n",
       "    </tr>\n",
       "    <tr>\n",
       "      <th>11998</th>\n",
       "      <td>4.309959</td>\n",
       "      <td>4.54</td>\n",
       "    </tr>\n",
       "    <tr>\n",
       "      <th>11999</th>\n",
       "      <td>5.388726</td>\n",
       "      <td>5.91</td>\n",
       "    </tr>\n",
       "  </tbody>\n",
       "</table>\n",
       "<p>12000 rows × 2 columns</p>\n",
       "</div>"
      ],
      "text/plain": [
       "       Train Predictions  Actuals\n",
       "0              10.353524    10.60\n",
       "1              12.202385    11.92\n",
       "2              14.896389    15.04\n",
       "3              16.422392    16.85\n",
       "4              16.002851    15.64\n",
       "...                  ...      ...\n",
       "11995           2.340687     2.45\n",
       "11996           2.651696     2.90\n",
       "11997           3.267350     3.48\n",
       "11998           4.309959     4.54\n",
       "11999           5.388726     5.91\n",
       "\n",
       "[12000 rows x 2 columns]"
      ]
     },
     "execution_count": 73,
     "metadata": {},
     "output_type": "execute_result"
    }
   ],
   "source": [
    "train_predictions = model1.predict(X_train).flatten()\n",
    "train_results = pd.DataFrame(data={'Train Predictions':train_predictions, 'Actuals':y_train})\n",
    "train_results"
   ]
  },
  {
   "attachments": {},
   "cell_type": "markdown",
   "metadata": {},
   "source": [
    "14. Visualize the data to compare predicted values to the actual values for the training set. As you can see, the model did a very good job of predicting values since the lines are pretty much on top of each other."
   ]
  },
  {
   "cell_type": "code",
   "execution_count": 74,
   "metadata": {},
   "outputs": [
    {
     "data": {
      "image/png": "[encoded data removed]",
      "text/plain": [
       "<Figure size 640x480 with 1 Axes>"
      ]
     },
     "metadata": {},
     "output_type": "display_data"
    }
   ],
   "source": [
    "import matplotlib.pyplot as plt\n",
    "plt.plot(train_results['Train Predictions'][:100])\n",
    "plt.plot(train_results['Actuals'][:100])\n",
    "plt.title('Predicted vs Actual Values for Training Set')\n",
    "plt.legend(['Predictions','Actuals']);"
   ]
  },
  {
   "attachments": {},
   "cell_type": "markdown",
   "metadata": {},
   "source": [
    "15. Calculate the predicted values for the validation set and add them to a dataframe with the actuals."
   ]
  },
  {
   "cell_type": "code",
   "execution_count": 75,
   "metadata": {},
   "outputs": [
    {
     "name": "stdout",
     "output_type": "stream",
     "text": [
      "94/94 [==============================] - 2s 7ms/step\n"
     ]
    },
    {
     "data": {
      "text/html": [
       "<div>\n",
       "<style scoped>\n",
       "    .dataframe tbody tr th:only-of-type {\n",
       "        vertical-align: middle;\n",
       "    }\n",
       "\n",
       "    .dataframe tbody tr th {\n",
       "        vertical-align: top;\n",
       "    }\n",
       "\n",
       "    .dataframe thead th {\n",
       "        text-align: right;\n",
       "    }\n",
       "</style>\n",
       "<table border=\"1\" class=\"dataframe\">\n",
       "  <thead>\n",
       "    <tr style=\"text-align: right;\">\n",
       "      <th></th>\n",
       "      <th>Val Predictions</th>\n",
       "      <th>Actuals</th>\n",
       "    </tr>\n",
       "  </thead>\n",
       "  <tbody>\n",
       "    <tr>\n",
       "      <th>0</th>\n",
       "      <td>8.392590</td>\n",
       "      <td>7.60</td>\n",
       "    </tr>\n",
       "    <tr>\n",
       "      <th>1</th>\n",
       "      <td>11.923605</td>\n",
       "      <td>11.78</td>\n",
       "    </tr>\n",
       "    <tr>\n",
       "      <th>2</th>\n",
       "      <td>10.300395</td>\n",
       "      <td>12.08</td>\n",
       "    </tr>\n",
       "    <tr>\n",
       "      <th>3</th>\n",
       "      <td>7.234483</td>\n",
       "      <td>5.95</td>\n",
       "    </tr>\n",
       "    <tr>\n",
       "      <th>4</th>\n",
       "      <td>7.085346</td>\n",
       "      <td>6.47</td>\n",
       "    </tr>\n",
       "    <tr>\n",
       "      <th>...</th>\n",
       "      <td>...</td>\n",
       "      <td>...</td>\n",
       "    </tr>\n",
       "    <tr>\n",
       "      <th>2995</th>\n",
       "      <td>20.295280</td>\n",
       "      <td>20.61</td>\n",
       "    </tr>\n",
       "    <tr>\n",
       "      <th>2996</th>\n",
       "      <td>19.356161</td>\n",
       "      <td>19.86</td>\n",
       "    </tr>\n",
       "    <tr>\n",
       "      <th>2997</th>\n",
       "      <td>18.134218</td>\n",
       "      <td>18.63</td>\n",
       "    </tr>\n",
       "    <tr>\n",
       "      <th>2998</th>\n",
       "      <td>17.664373</td>\n",
       "      <td>17.85</td>\n",
       "    </tr>\n",
       "    <tr>\n",
       "      <th>2999</th>\n",
       "      <td>18.293549</td>\n",
       "      <td>18.36</td>\n",
       "    </tr>\n",
       "  </tbody>\n",
       "</table>\n",
       "<p>3000 rows × 2 columns</p>\n",
       "</div>"
      ],
      "text/plain": [
       "      Val Predictions  Actuals\n",
       "0            8.392590     7.60\n",
       "1           11.923605    11.78\n",
       "2           10.300395    12.08\n",
       "3            7.234483     5.95\n",
       "4            7.085346     6.47\n",
       "...               ...      ...\n",
       "2995        20.295280    20.61\n",
       "2996        19.356161    19.86\n",
       "2997        18.134218    18.63\n",
       "2998        17.664373    17.85\n",
       "2999        18.293549    18.36\n",
       "\n",
       "[3000 rows x 2 columns]"
      ]
     },
     "execution_count": 75,
     "metadata": {},
     "output_type": "execute_result"
    }
   ],
   "source": [
    "val_predictions = model1.predict(X_val).flatten()\n",
    "val_results = pd.DataFrame(data={'Val Predictions':val_predictions, 'Actuals':y_val})\n",
    "val_results"
   ]
  },
  {
   "attachments": {},
   "cell_type": "markdown",
   "metadata": {},
   "source": [
    "16. Visualize the data to compare predicted values to the actual values for the validation set. It looks like the model did a good job, but the predicted values are a little lower when it comes to the big spikes. "
   ]
  },
  {
   "cell_type": "code",
   "execution_count": 76,
   "metadata": {},
   "outputs": [
    {
     "data": {
      "image/png": "[encoded data removed]",
      "text/plain": [
       "<Figure size 640x480 with 1 Axes>"
      ]
     },
     "metadata": {},
     "output_type": "display_data"
    }
   ],
   "source": [
    "plt.plot(val_results['Val Predictions'][:100])\n",
    "plt.plot(val_results['Actuals'][:100])\n",
    "plt.title('Predicted vs Actual Values for Validation Set')\n",
    "plt.legend(['Predictions','Actuals']);"
   ]
  },
  {
   "attachments": {},
   "cell_type": "markdown",
   "metadata": {},
   "source": [
    "17. Calculate the predicted values for the test set and add them to a dataframe along with the actuals."
   ]
  },
  {
   "cell_type": "code",
   "execution_count": 77,
   "metadata": {},
   "outputs": [
    {
     "name": "stdout",
     "output_type": "stream",
     "text": [
      "96/96 [==============================] - 1s 7ms/step\n"
     ]
    },
    {
     "data": {
      "text/html": [
       "<div>\n",
       "<style scoped>\n",
       "    .dataframe tbody tr th:only-of-type {\n",
       "        vertical-align: middle;\n",
       "    }\n",
       "\n",
       "    .dataframe tbody tr th {\n",
       "        vertical-align: top;\n",
       "    }\n",
       "\n",
       "    .dataframe thead th {\n",
       "        text-align: right;\n",
       "    }\n",
       "</style>\n",
       "<table border=\"1\" class=\"dataframe\">\n",
       "  <thead>\n",
       "    <tr style=\"text-align: right;\">\n",
       "      <th></th>\n",
       "      <th>Test Predictions</th>\n",
       "      <th>Actuals</th>\n",
       "    </tr>\n",
       "  </thead>\n",
       "  <tbody>\n",
       "    <tr>\n",
       "      <th>0</th>\n",
       "      <td>17.937584</td>\n",
       "      <td>18.85</td>\n",
       "    </tr>\n",
       "    <tr>\n",
       "      <th>1</th>\n",
       "      <td>17.294014</td>\n",
       "      <td>16.84</td>\n",
       "    </tr>\n",
       "    <tr>\n",
       "      <th>2</th>\n",
       "      <td>17.434206</td>\n",
       "      <td>17.90</td>\n",
       "    </tr>\n",
       "    <tr>\n",
       "      <th>3</th>\n",
       "      <td>19.384207</td>\n",
       "      <td>19.42</td>\n",
       "    </tr>\n",
       "    <tr>\n",
       "      <th>4</th>\n",
       "      <td>23.092365</td>\n",
       "      <td>22.37</td>\n",
       "    </tr>\n",
       "    <tr>\n",
       "      <th>...</th>\n",
       "      <td>...</td>\n",
       "      <td>...</td>\n",
       "    </tr>\n",
       "    <tr>\n",
       "      <th>3048</th>\n",
       "      <td>16.173412</td>\n",
       "      <td>16.50</td>\n",
       "    </tr>\n",
       "    <tr>\n",
       "      <th>3049</th>\n",
       "      <td>18.179623</td>\n",
       "      <td>17.82</td>\n",
       "    </tr>\n",
       "    <tr>\n",
       "      <th>3050</th>\n",
       "      <td>24.886572</td>\n",
       "      <td>24.86</td>\n",
       "    </tr>\n",
       "    <tr>\n",
       "      <th>3051</th>\n",
       "      <td>36.014240</td>\n",
       "      <td>36.08</td>\n",
       "    </tr>\n",
       "    <tr>\n",
       "      <th>3052</th>\n",
       "      <td>46.618923</td>\n",
       "      <td>45.75</td>\n",
       "    </tr>\n",
       "  </tbody>\n",
       "</table>\n",
       "<p>3053 rows × 2 columns</p>\n",
       "</div>"
      ],
      "text/plain": [
       "      Test Predictions  Actuals\n",
       "0            17.937584    18.85\n",
       "1            17.294014    16.84\n",
       "2            17.434206    17.90\n",
       "3            19.384207    19.42\n",
       "4            23.092365    22.37\n",
       "...                ...      ...\n",
       "3048         16.173412    16.50\n",
       "3049         18.179623    17.82\n",
       "3050         24.886572    24.86\n",
       "3051         36.014240    36.08\n",
       "3052         46.618923    45.75\n",
       "\n",
       "[3053 rows x 2 columns]"
      ]
     },
     "execution_count": 77,
     "metadata": {},
     "output_type": "execute_result"
    }
   ],
   "source": [
    "test_predictions = model1.predict(X_test).flatten()\n",
    "test_results = pd.DataFrame(data={'Test Predictions':test_predictions, 'Actuals':y_test})\n",
    "test_results"
   ]
  },
  {
   "attachments": {},
   "cell_type": "markdown",
   "metadata": {},
   "source": [
    "18. Visualize the data to compare predicted values to the actual values for the test set. This time, it looks like the model overshot the actual values since the predicted line rises above the line for the actuals on the first two spikes. "
   ]
  },
  {
   "cell_type": "code",
   "execution_count": 78,
   "metadata": {},
   "outputs": [
    {
     "data": {
      "image/png": "[encoded data removed]",
      "text/plain": [
       "<Figure size 640x480 with 1 Axes>"
      ]
     },
     "metadata": {},
     "output_type": "display_data"
    }
   ],
   "source": [
    "plt.plot(test_results['Test Predictions'][:100])\n",
    "plt.plot(test_results['Actuals'][:100])\n",
    "plt.title('Predicted vs Actual Values for Test Set')\n",
    "plt.legend(['Predictions','Actuals']);"
   ]
  },
  {
   "cell_type": "code",
   "execution_count": 79,
   "metadata": {},
   "outputs": [],
   "source": [
    "from sklearn.metrics import r2_score"
   ]
  },
  {
   "attachments": {},
   "cell_type": "markdown",
   "metadata": {},
   "source": [
    "19. Calculate the coefficient of determination for the training set, validation set, and testing set. As you can see, the model performed very well when you consider that we did not have to add any extra features like we had to for the XGBoost model. When we tested the XGBoost model's training score with no added features it was .12, so this model performs much better at its most basic level. "
   ]
  },
  {
   "cell_type": "code",
   "execution_count": 80,
   "metadata": {},
   "outputs": [
    {
     "data": {
      "text/plain": [
       "0.9409562592403462"
      ]
     },
     "execution_count": 80,
     "metadata": {},
     "output_type": "execute_result"
    }
   ],
   "source": [
    "train_r2 = r2_score(train_results['Actuals'],train_results['Train Predictions'])\n",
    "train_r2"
   ]
  },
  {
   "cell_type": "code",
   "execution_count": 81,
   "metadata": {},
   "outputs": [
    {
     "data": {
      "text/plain": [
       "0.9932296933631557"
      ]
     },
     "execution_count": 81,
     "metadata": {},
     "output_type": "execute_result"
    }
   ],
   "source": [
    "val_r2 = r2_score(val_results['Actuals'],val_results['Val Predictions'])\n",
    "val_r2"
   ]
  },
  {
   "cell_type": "code",
   "execution_count": 82,
   "metadata": {},
   "outputs": [
    {
     "data": {
      "text/plain": [
       "0.8882142638376501"
      ]
     },
     "execution_count": 82,
     "metadata": {},
     "output_type": "execute_result"
    }
   ],
   "source": [
    "test_r2 = r2_score(test_results['Actuals'],test_results['Test Predictions'])\n",
    "test_r2"
   ]
  },
  {
   "attachments": {},
   "cell_type": "markdown",
   "metadata": {},
   "source": [
    "20. Create a second model. This time we are adding features to help it get a better sense of how the data progresses with time so that its performance is hopefully improved. As we saw before, this is not as necessary as when you use XGBoost to predict time series data, but we want to try and refine our model. "
   ]
  },
  {
   "cell_type": "code",
   "execution_count": 83,
   "metadata": {},
   "outputs": [
    {
     "data": {
      "text/html": [
       "<div>\n",
       "<style scoped>\n",
       "    .dataframe tbody tr th:only-of-type {\n",
       "        vertical-align: middle;\n",
       "    }\n",
       "\n",
       "    .dataframe tbody tr th {\n",
       "        vertical-align: top;\n",
       "    }\n",
       "\n",
       "    .dataframe thead th {\n",
       "        text-align: right;\n",
       "    }\n",
       "</style>\n",
       "<table border=\"1\" class=\"dataframe\">\n",
       "  <thead>\n",
       "    <tr style=\"text-align: right;\">\n",
       "      <th></th>\n",
       "      <th>pm2_5</th>\n",
       "      <th>seconds</th>\n",
       "    </tr>\n",
       "    <tr>\n",
       "      <th>date</th>\n",
       "      <th></th>\n",
       "      <th></th>\n",
       "    </tr>\n",
       "  </thead>\n",
       "  <tbody>\n",
       "    <tr>\n",
       "      <th>2020-12-01 05:00:00</th>\n",
       "      <td>9.31</td>\n",
       "      <td>1.606799e+09</td>\n",
       "    </tr>\n",
       "    <tr>\n",
       "      <th>2020-12-01 06:00:00</th>\n",
       "      <td>8.43</td>\n",
       "      <td>1.606802e+09</td>\n",
       "    </tr>\n",
       "    <tr>\n",
       "      <th>2020-12-01 07:00:00</th>\n",
       "      <td>8.55</td>\n",
       "      <td>1.606806e+09</td>\n",
       "    </tr>\n",
       "    <tr>\n",
       "      <th>2020-12-01 08:00:00</th>\n",
       "      <td>8.92</td>\n",
       "      <td>1.606810e+09</td>\n",
       "    </tr>\n",
       "    <tr>\n",
       "      <th>2020-12-01 09:00:00</th>\n",
       "      <td>9.62</td>\n",
       "      <td>1.606813e+09</td>\n",
       "    </tr>\n",
       "    <tr>\n",
       "      <th>...</th>\n",
       "      <td>...</td>\n",
       "      <td>...</td>\n",
       "    </tr>\n",
       "    <tr>\n",
       "      <th>2022-12-31 13:00:00</th>\n",
       "      <td>36.08</td>\n",
       "      <td>1.672492e+09</td>\n",
       "    </tr>\n",
       "    <tr>\n",
       "      <th>2022-12-31 14:00:00</th>\n",
       "      <td>45.75</td>\n",
       "      <td>1.672495e+09</td>\n",
       "    </tr>\n",
       "    <tr>\n",
       "      <th>2022-12-31 15:00:00</th>\n",
       "      <td>50.21</td>\n",
       "      <td>1.672499e+09</td>\n",
       "    </tr>\n",
       "    <tr>\n",
       "      <th>2022-12-31 16:00:00</th>\n",
       "      <td>48.14</td>\n",
       "      <td>1.672502e+09</td>\n",
       "    </tr>\n",
       "    <tr>\n",
       "      <th>2022-12-31 17:00:00</th>\n",
       "      <td>44.33</td>\n",
       "      <td>1.672506e+09</td>\n",
       "    </tr>\n",
       "  </tbody>\n",
       "</table>\n",
       "<p>18061 rows × 2 columns</p>\n",
       "</div>"
      ],
      "text/plain": [
       "                     pm2_5       seconds\n",
       "date                                    \n",
       "2020-12-01 05:00:00   9.31  1.606799e+09\n",
       "2020-12-01 06:00:00   8.43  1.606802e+09\n",
       "2020-12-01 07:00:00   8.55  1.606806e+09\n",
       "2020-12-01 08:00:00   8.92  1.606810e+09\n",
       "2020-12-01 09:00:00   9.62  1.606813e+09\n",
       "...                    ...           ...\n",
       "2022-12-31 13:00:00  36.08  1.672492e+09\n",
       "2022-12-31 14:00:00  45.75  1.672495e+09\n",
       "2022-12-31 15:00:00  50.21  1.672499e+09\n",
       "2022-12-31 16:00:00  48.14  1.672502e+09\n",
       "2022-12-31 17:00:00  44.33  1.672506e+09\n",
       "\n",
       "[18061 rows x 2 columns]"
      ]
     },
     "execution_count": 83,
     "metadata": {},
     "output_type": "execute_result"
    }
   ],
   "source": [
    "pm25_df = pd.DataFrame({'pm2_5':pm25})\n",
    "pm25_df['seconds'] = pm25_df.index.map(pd.Timestamp.timestamp)\n",
    "pm25_df"
   ]
  },
  {
   "attachments": {},
   "cell_type": "markdown",
   "metadata": {},
   "source": [
    "21. Use the seconds column to create columns for Day sin, Day cos, Year sin, and Year cos. These features are similar to the lag features that we used for our XGBoost model in that they are there to give a sense of relative time, but these are referred to as cyclical features. "
   ]
  },
  {
   "cell_type": "code",
   "execution_count": 84,
   "metadata": {},
   "outputs": [],
   "source": [
    "day = 60*60*24\n",
    "year = 365.2425*day \n",
    "\n",
    "pm25_df['Day sin'] = np.sin(pm25_df['seconds'] * (2*np.pi / day))\n",
    "pm25_df['Day cos'] = np.cos(pm25_df['seconds'] * (2*np.pi / day))\n",
    "pm25_df['Year sin'] = np.sin(pm25_df['seconds'] * (2*np.pi / year))\n",
    "pm25_df['Year cos'] = np.cos(pm25_df['seconds'] * (2*np.pi / year))"
   ]
  },
  {
   "cell_type": "code",
   "execution_count": 85,
   "metadata": {},
   "outputs": [
    {
     "data": {
      "text/html": [
       "<div>\n",
       "<style scoped>\n",
       "    .dataframe tbody tr th:only-of-type {\n",
       "        vertical-align: middle;\n",
       "    }\n",
       "\n",
       "    .dataframe tbody tr th {\n",
       "        vertical-align: top;\n",
       "    }\n",
       "\n",
       "    .dataframe thead th {\n",
       "        text-align: right;\n",
       "    }\n",
       "</style>\n",
       "<table border=\"1\" class=\"dataframe\">\n",
       "  <thead>\n",
       "    <tr style=\"text-align: right;\">\n",
       "      <th></th>\n",
       "      <th>pm2_5</th>\n",
       "      <th>seconds</th>\n",
       "      <th>Day sin</th>\n",
       "      <th>Day cos</th>\n",
       "      <th>Year sin</th>\n",
       "      <th>Year cos</th>\n",
       "    </tr>\n",
       "    <tr>\n",
       "      <th>date</th>\n",
       "      <th></th>\n",
       "      <th></th>\n",
       "      <th></th>\n",
       "      <th></th>\n",
       "      <th></th>\n",
       "      <th></th>\n",
       "    </tr>\n",
       "  </thead>\n",
       "  <tbody>\n",
       "    <tr>\n",
       "      <th>2020-12-01 05:00:00</th>\n",
       "      <td>9.31</td>\n",
       "      <td>1.606799e+09</td>\n",
       "      <td>0.965926</td>\n",
       "      <td>2.588190e-01</td>\n",
       "      <td>-0.495857</td>\n",
       "      <td>0.868404</td>\n",
       "    </tr>\n",
       "    <tr>\n",
       "      <th>2020-12-01 06:00:00</th>\n",
       "      <td>8.43</td>\n",
       "      <td>1.606802e+09</td>\n",
       "      <td>1.000000</td>\n",
       "      <td>1.086286e-11</td>\n",
       "      <td>-0.495234</td>\n",
       "      <td>0.868759</td>\n",
       "    </tr>\n",
       "    <tr>\n",
       "      <th>2020-12-01 07:00:00</th>\n",
       "      <td>8.55</td>\n",
       "      <td>1.606806e+09</td>\n",
       "      <td>0.965926</td>\n",
       "      <td>-2.588190e-01</td>\n",
       "      <td>-0.494612</td>\n",
       "      <td>0.869114</td>\n",
       "    </tr>\n",
       "    <tr>\n",
       "      <th>2020-12-01 08:00:00</th>\n",
       "      <td>8.92</td>\n",
       "      <td>1.606810e+09</td>\n",
       "      <td>0.866025</td>\n",
       "      <td>-5.000000e-01</td>\n",
       "      <td>-0.493988</td>\n",
       "      <td>0.869468</td>\n",
       "    </tr>\n",
       "    <tr>\n",
       "      <th>2020-12-01 09:00:00</th>\n",
       "      <td>9.62</td>\n",
       "      <td>1.606813e+09</td>\n",
       "      <td>0.707107</td>\n",
       "      <td>-7.071068e-01</td>\n",
       "      <td>-0.493365</td>\n",
       "      <td>0.869822</td>\n",
       "    </tr>\n",
       "    <tr>\n",
       "      <th>...</th>\n",
       "      <td>...</td>\n",
       "      <td>...</td>\n",
       "      <td>...</td>\n",
       "      <td>...</td>\n",
       "      <td>...</td>\n",
       "      <td>...</td>\n",
       "    </tr>\n",
       "    <tr>\n",
       "      <th>2022-12-31 13:00:00</th>\n",
       "      <td>36.08</td>\n",
       "      <td>1.672492e+09</td>\n",
       "      <td>-0.258819</td>\n",
       "      <td>-9.659258e-01</td>\n",
       "      <td>-0.005347</td>\n",
       "      <td>0.999986</td>\n",
       "    </tr>\n",
       "    <tr>\n",
       "      <th>2022-12-31 14:00:00</th>\n",
       "      <td>45.75</td>\n",
       "      <td>1.672495e+09</td>\n",
       "      <td>-0.500000</td>\n",
       "      <td>-8.660254e-01</td>\n",
       "      <td>-0.004630</td>\n",
       "      <td>0.999989</td>\n",
       "    </tr>\n",
       "    <tr>\n",
       "      <th>2022-12-31 15:00:00</th>\n",
       "      <td>50.21</td>\n",
       "      <td>1.672499e+09</td>\n",
       "      <td>-0.707107</td>\n",
       "      <td>-7.071068e-01</td>\n",
       "      <td>-0.003914</td>\n",
       "      <td>0.999992</td>\n",
       "    </tr>\n",
       "    <tr>\n",
       "      <th>2022-12-31 16:00:00</th>\n",
       "      <td>48.14</td>\n",
       "      <td>1.672502e+09</td>\n",
       "      <td>-0.866025</td>\n",
       "      <td>-5.000000e-01</td>\n",
       "      <td>-0.003197</td>\n",
       "      <td>0.999995</td>\n",
       "    </tr>\n",
       "    <tr>\n",
       "      <th>2022-12-31 17:00:00</th>\n",
       "      <td>44.33</td>\n",
       "      <td>1.672506e+09</td>\n",
       "      <td>-0.965926</td>\n",
       "      <td>-2.588190e-01</td>\n",
       "      <td>-0.002480</td>\n",
       "      <td>0.999997</td>\n",
       "    </tr>\n",
       "  </tbody>\n",
       "</table>\n",
       "<p>18061 rows × 6 columns</p>\n",
       "</div>"
      ],
      "text/plain": [
       "                     pm2_5       seconds   Day sin       Day cos  Year sin  \\\n",
       "date                                                                         \n",
       "2020-12-01 05:00:00   9.31  1.606799e+09  0.965926  2.588190e-01 -0.495857   \n",
       "2020-12-01 06:00:00   8.43  1.606802e+09  1.000000  1.086286e-11 -0.495234   \n",
       "2020-12-01 07:00:00   8.55  1.606806e+09  0.965926 -2.588190e-01 -0.494612   \n",
       "2020-12-01 08:00:00   8.92  1.606810e+09  0.866025 -5.000000e-01 -0.493988   \n",
       "2020-12-01 09:00:00   9.62  1.606813e+09  0.707107 -7.071068e-01 -0.493365   \n",
       "...                    ...           ...       ...           ...       ...   \n",
       "2022-12-31 13:00:00  36.08  1.672492e+09 -0.258819 -9.659258e-01 -0.005347   \n",
       "2022-12-31 14:00:00  45.75  1.672495e+09 -0.500000 -8.660254e-01 -0.004630   \n",
       "2022-12-31 15:00:00  50.21  1.672499e+09 -0.707107 -7.071068e-01 -0.003914   \n",
       "2022-12-31 16:00:00  48.14  1.672502e+09 -0.866025 -5.000000e-01 -0.003197   \n",
       "2022-12-31 17:00:00  44.33  1.672506e+09 -0.965926 -2.588190e-01 -0.002480   \n",
       "\n",
       "                     Year cos  \n",
       "date                           \n",
       "2020-12-01 05:00:00  0.868404  \n",
       "2020-12-01 06:00:00  0.868759  \n",
       "2020-12-01 07:00:00  0.869114  \n",
       "2020-12-01 08:00:00  0.869468  \n",
       "2020-12-01 09:00:00  0.869822  \n",
       "...                       ...  \n",
       "2022-12-31 13:00:00  0.999986  \n",
       "2022-12-31 14:00:00  0.999989  \n",
       "2022-12-31 15:00:00  0.999992  \n",
       "2022-12-31 16:00:00  0.999995  \n",
       "2022-12-31 17:00:00  0.999997  \n",
       "\n",
       "[18061 rows x 6 columns]"
      ]
     },
     "execution_count": 85,
     "metadata": {},
     "output_type": "execute_result"
    }
   ],
   "source": [
    "pm25_df"
   ]
  },
  {
   "attachments": {},
   "cell_type": "markdown",
   "metadata": {},
   "source": [
    "22. Drop the seconds column since it is no longer necessary now that we have created the extra columns. "
   ]
  },
  {
   "cell_type": "code",
   "execution_count": 86,
   "metadata": {},
   "outputs": [],
   "source": [
    "aqi_df = pm25_df.drop('seconds', axis=1)"
   ]
  },
  {
   "cell_type": "code",
   "execution_count": 87,
   "metadata": {},
   "outputs": [
    {
     "data": {
      "text/html": [
       "<div>\n",
       "<style scoped>\n",
       "    .dataframe tbody tr th:only-of-type {\n",
       "        vertical-align: middle;\n",
       "    }\n",
       "\n",
       "    .dataframe tbody tr th {\n",
       "        vertical-align: top;\n",
       "    }\n",
       "\n",
       "    .dataframe thead th {\n",
       "        text-align: right;\n",
       "    }\n",
       "</style>\n",
       "<table border=\"1\" class=\"dataframe\">\n",
       "  <thead>\n",
       "    <tr style=\"text-align: right;\">\n",
       "      <th></th>\n",
       "      <th>pm2_5</th>\n",
       "      <th>Day sin</th>\n",
       "      <th>Day cos</th>\n",
       "      <th>Year sin</th>\n",
       "      <th>Year cos</th>\n",
       "    </tr>\n",
       "    <tr>\n",
       "      <th>date</th>\n",
       "      <th></th>\n",
       "      <th></th>\n",
       "      <th></th>\n",
       "      <th></th>\n",
       "      <th></th>\n",
       "    </tr>\n",
       "  </thead>\n",
       "  <tbody>\n",
       "    <tr>\n",
       "      <th>2020-12-01 05:00:00</th>\n",
       "      <td>9.31</td>\n",
       "      <td>0.965926</td>\n",
       "      <td>2.588190e-01</td>\n",
       "      <td>-0.495857</td>\n",
       "      <td>0.868404</td>\n",
       "    </tr>\n",
       "    <tr>\n",
       "      <th>2020-12-01 06:00:00</th>\n",
       "      <td>8.43</td>\n",
       "      <td>1.000000</td>\n",
       "      <td>1.086286e-11</td>\n",
       "      <td>-0.495234</td>\n",
       "      <td>0.868759</td>\n",
       "    </tr>\n",
       "    <tr>\n",
       "      <th>2020-12-01 07:00:00</th>\n",
       "      <td>8.55</td>\n",
       "      <td>0.965926</td>\n",
       "      <td>-2.588190e-01</td>\n",
       "      <td>-0.494612</td>\n",
       "      <td>0.869114</td>\n",
       "    </tr>\n",
       "    <tr>\n",
       "      <th>2020-12-01 08:00:00</th>\n",
       "      <td>8.92</td>\n",
       "      <td>0.866025</td>\n",
       "      <td>-5.000000e-01</td>\n",
       "      <td>-0.493988</td>\n",
       "      <td>0.869468</td>\n",
       "    </tr>\n",
       "    <tr>\n",
       "      <th>2020-12-01 09:00:00</th>\n",
       "      <td>9.62</td>\n",
       "      <td>0.707107</td>\n",
       "      <td>-7.071068e-01</td>\n",
       "      <td>-0.493365</td>\n",
       "      <td>0.869822</td>\n",
       "    </tr>\n",
       "    <tr>\n",
       "      <th>...</th>\n",
       "      <td>...</td>\n",
       "      <td>...</td>\n",
       "      <td>...</td>\n",
       "      <td>...</td>\n",
       "      <td>...</td>\n",
       "    </tr>\n",
       "    <tr>\n",
       "      <th>2022-12-31 13:00:00</th>\n",
       "      <td>36.08</td>\n",
       "      <td>-0.258819</td>\n",
       "      <td>-9.659258e-01</td>\n",
       "      <td>-0.005347</td>\n",
       "      <td>0.999986</td>\n",
       "    </tr>\n",
       "    <tr>\n",
       "      <th>2022-12-31 14:00:00</th>\n",
       "      <td>45.75</td>\n",
       "      <td>-0.500000</td>\n",
       "      <td>-8.660254e-01</td>\n",
       "      <td>-0.004630</td>\n",
       "      <td>0.999989</td>\n",
       "    </tr>\n",
       "    <tr>\n",
       "      <th>2022-12-31 15:00:00</th>\n",
       "      <td>50.21</td>\n",
       "      <td>-0.707107</td>\n",
       "      <td>-7.071068e-01</td>\n",
       "      <td>-0.003914</td>\n",
       "      <td>0.999992</td>\n",
       "    </tr>\n",
       "    <tr>\n",
       "      <th>2022-12-31 16:00:00</th>\n",
       "      <td>48.14</td>\n",
       "      <td>-0.866025</td>\n",
       "      <td>-5.000000e-01</td>\n",
       "      <td>-0.003197</td>\n",
       "      <td>0.999995</td>\n",
       "    </tr>\n",
       "    <tr>\n",
       "      <th>2022-12-31 17:00:00</th>\n",
       "      <td>44.33</td>\n",
       "      <td>-0.965926</td>\n",
       "      <td>-2.588190e-01</td>\n",
       "      <td>-0.002480</td>\n",
       "      <td>0.999997</td>\n",
       "    </tr>\n",
       "  </tbody>\n",
       "</table>\n",
       "<p>18061 rows × 5 columns</p>\n",
       "</div>"
      ],
      "text/plain": [
       "                     pm2_5   Day sin       Day cos  Year sin  Year cos\n",
       "date                                                                  \n",
       "2020-12-01 05:00:00   9.31  0.965926  2.588190e-01 -0.495857  0.868404\n",
       "2020-12-01 06:00:00   8.43  1.000000  1.086286e-11 -0.495234  0.868759\n",
       "2020-12-01 07:00:00   8.55  0.965926 -2.588190e-01 -0.494612  0.869114\n",
       "2020-12-01 08:00:00   8.92  0.866025 -5.000000e-01 -0.493988  0.869468\n",
       "2020-12-01 09:00:00   9.62  0.707107 -7.071068e-01 -0.493365  0.869822\n",
       "...                    ...       ...           ...       ...       ...\n",
       "2022-12-31 13:00:00  36.08 -0.258819 -9.659258e-01 -0.005347  0.999986\n",
       "2022-12-31 14:00:00  45.75 -0.500000 -8.660254e-01 -0.004630  0.999989\n",
       "2022-12-31 15:00:00  50.21 -0.707107 -7.071068e-01 -0.003914  0.999992\n",
       "2022-12-31 16:00:00  48.14 -0.866025 -5.000000e-01 -0.003197  0.999995\n",
       "2022-12-31 17:00:00  44.33 -0.965926 -2.588190e-01 -0.002480  0.999997\n",
       "\n",
       "[18061 rows x 5 columns]"
      ]
     },
     "execution_count": 87,
     "metadata": {},
     "output_type": "execute_result"
    }
   ],
   "source": [
    "aqi_df"
   ]
  },
  {
   "attachments": {},
   "cell_type": "markdown",
   "metadata": {},
   "source": [
    "23. This is the same function as before, but it makes it so that there are 8 lists in each array since the window size is 8, and each array has 5 values since we have 5 features now (PM2.5, day sin, day cos, year sin, and year cos)."
   ]
  },
  {
   "cell_type": "code",
   "execution_count": 88,
   "metadata": {},
   "outputs": [],
   "source": [
    "def df_to_X_y2(df, window_size=8):\n",
    "    df_as_np = df.to_numpy()\n",
    "    X = []\n",
    "    y = []\n",
    "    for i in range(len(df_as_np)-window_size):\n",
    "        row = [r for r in df_as_np[i:i+window_size]]\n",
    "        X.append(row)\n",
    "        label = df_as_np[i+window_size][0]\n",
    "        y.append(label)\n",
    "    return np.array(X), np.array(y)"
   ]
  },
  {
   "cell_type": "code",
   "execution_count": 89,
   "metadata": {},
   "outputs": [
    {
     "data": {
      "text/plain": [
       "((18053, 8, 5), (18053,))"
      ]
     },
     "execution_count": 89,
     "metadata": {},
     "output_type": "execute_result"
    }
   ],
   "source": [
    "X2, y2 = df_to_X_y2(aqi_df)\n",
    "X2.shape, y2.shape "
   ]
  },
  {
   "attachments": {},
   "cell_type": "markdown",
   "metadata": {},
   "source": [
    "24. Separate the data into a training set, a validation set, and a testing set. "
   ]
  },
  {
   "cell_type": "code",
   "execution_count": 90,
   "metadata": {},
   "outputs": [
    {
     "data": {
      "text/plain": [
       "((12000, 8, 5), (12000,), (3000, 8, 5), (3000,), (3053, 8, 5), (3053,))"
      ]
     },
     "execution_count": 90,
     "metadata": {},
     "output_type": "execute_result"
    }
   ],
   "source": [
    "X2_train, y2_train = X2[:12000], y2[:12000]\n",
    "X2_val, y2_val = X2[12000:15000], y2[12000:15000]\n",
    "X2_test, y2_test = X2[15000:], y2[15000:]\n",
    "X2_train.shape, y2_train.shape, X2_val.shape, y2_val.shape, X2_test.shape, y2_test.shape"
   ]
  },
  {
   "attachments": {},
   "cell_type": "markdown",
   "metadata": {},
   "source": [
    "25. Standardize the data so that all the values are on a similar scale. "
   ]
  },
  {
   "cell_type": "code",
   "execution_count": 91,
   "metadata": {},
   "outputs": [],
   "source": [
    "pm25_training_mean = np.mean(X2_train[:, :, 0])\n",
    "pm25_training_std = np.std(X2_train[:, :, 0])\n",
    "\n",
    "def preprocess(X):\n",
    "    X[:, :, 0] = (X[:, :, 0] - pm25_training_mean) / pm25_training_std\n",
    "    return X"
   ]
  },
  {
   "cell_type": "code",
   "execution_count": 92,
   "metadata": {},
   "outputs": [
    {
     "data": {
      "text/plain": [
       "array([[[ 7.63055244e-02,  9.65925826e-01,  2.58819045e-01,\n",
       "         -7.79677220e-01, -6.26181629e-01],\n",
       "        [ 4.83556901e-02,  1.00000000e+00,  9.43975630e-12,\n",
       "         -7.80125855e-01, -6.25622610e-01],\n",
       "        [ 2.51796176e-03,  9.65925826e-01, -2.58819045e-01,\n",
       "         -7.80574090e-01, -6.25063269e-01],\n",
       "        ...,\n",
       "        [ 1.07165798e-02,  5.00000000e-01, -8.66025404e-01,\n",
       "         -7.81916387e-01, -6.23383320e-01],\n",
       "        [-6.41889762e-02,  2.58819045e-01, -9.65925826e-01,\n",
       "         -7.82363017e-01, -6.22822696e-01],\n",
       "        [-2.46865437e-02,  1.20031004e-11, -1.00000000e+00,\n",
       "         -7.82809244e-01, -6.22261752e-01]],\n",
       "\n",
       "       [[ 4.83556901e-02,  1.00000000e+00,  9.43975630e-12,\n",
       "         -7.80125855e-01, -6.25622610e-01],\n",
       "        [ 2.51796176e-03,  9.65925826e-01, -2.58819045e-01,\n",
       "         -7.80574090e-01, -6.25063269e-01],\n",
       "        [-2.65498660e-02,  8.66025404e-01, -5.00000000e-01,\n",
       "         -7.81021924e-01, -6.24503606e-01],\n",
       "        ...,\n",
       "        [-6.41889762e-02,  2.58819045e-01, -9.65925826e-01,\n",
       "         -7.82363017e-01, -6.22822696e-01],\n",
       "        [-2.46865437e-02,  1.20031004e-11, -1.00000000e+00,\n",
       "         -7.82809244e-01, -6.22261752e-01],\n",
       "        [ 3.19584539e-02, -2.58819045e-01, -9.65925826e-01,\n",
       "         -7.83255069e-01, -6.21700488e-01]],\n",
       "\n",
       "       [[ 2.51796176e-03,  9.65925826e-01, -2.58819045e-01,\n",
       "         -7.80574090e-01, -6.25063269e-01],\n",
       "        [-2.65498660e-02,  8.66025404e-01, -5.00000000e-01,\n",
       "         -7.81021924e-01, -6.24503606e-01],\n",
       "        [-7.54397861e-03,  7.07106781e-01, -7.07106781e-01,\n",
       "         -7.81469356e-01, -6.23943623e-01],\n",
       "        ...,\n",
       "        [-2.46865437e-02,  1.20031004e-11, -1.00000000e+00,\n",
       "         -7.82809244e-01, -6.22261752e-01],\n",
       "        [ 3.19584539e-02, -2.58819045e-01, -9.65925826e-01,\n",
       "         -7.83255069e-01, -6.21700488e-01],\n",
       "        [ 1.41894469e-01, -5.00000000e-01, -8.66025404e-01,\n",
       "         -7.83700492e-01, -6.21138905e-01]],\n",
       "\n",
       "       ...,\n",
       "\n",
       "       [[-2.20778925e-02,  9.65925826e-01, -2.58819045e-01,\n",
       "         -9.64774114e-03,  9.99953459e-01],\n",
       "        [-7.27602588e-02,  8.66025404e-01, -5.00000000e-01,\n",
       "         -8.93098970e-03,  9.99960118e-01],\n",
       "        [-8.54308503e-02,  7.07106781e-01, -7.07106781e-01,\n",
       "         -8.21423368e-03,  9.99966263e-01],\n",
       "        ...,\n",
       "        [ 2.34687919e-01,  6.16585827e-12, -1.00000000e+00,\n",
       "         -6.06394176e-03,  9.99981614e-01],\n",
       "        [ 6.52817441e-01, -2.58819045e-01, -9.65925826e-01,\n",
       "         -5.34717106e-03,  9.99985704e-01],\n",
       "        [ 1.01318397e+00, -5.00000000e-01, -8.66025404e-01,\n",
       "         -4.63039762e-03,  9.99989280e-01]],\n",
       "\n",
       "       [[-7.27602588e-02,  8.66025404e-01, -5.00000000e-01,\n",
       "         -8.93098970e-03,  9.99960118e-01],\n",
       "        [-8.54308503e-02,  7.07106781e-01, -7.07106781e-01,\n",
       "         -8.21423368e-03,  9.99966263e-01],\n",
       "        [-7.68595678e-02,  5.00000000e-01, -8.66025404e-01,\n",
       "         -7.49747343e-03,  9.99971894e-01],\n",
       "        ...,\n",
       "        [ 6.52817441e-01, -2.58819045e-01, -9.65925826e-01,\n",
       "         -5.34717106e-03,  9.99985704e-01],\n",
       "        [ 1.01318397e+00, -5.00000000e-01, -8.66025404e-01,\n",
       "         -4.63039762e-03,  9.99989280e-01],\n",
       "        [ 1.17939232e+00, -7.07106781e-01, -7.07106781e-01,\n",
       "         -3.91362179e-03,  9.99992342e-01]],\n",
       "\n",
       "       [[-8.54308503e-02,  7.07106781e-01, -7.07106781e-01,\n",
       "         -8.21423368e-03,  9.99966263e-01],\n",
       "        [-7.68595678e-02,  5.00000000e-01, -8.66025404e-01,\n",
       "         -7.49747343e-03,  9.99971894e-01],\n",
       "        [-2.76678593e-02,  2.58819045e-01, -9.65925826e-01,\n",
       "         -6.78070934e-03,  9.99977011e-01],\n",
       "        ...,\n",
       "        [ 1.01318397e+00, -5.00000000e-01, -8.66025404e-01,\n",
       "         -4.63039762e-03,  9.99989280e-01],\n",
       "        [ 1.17939232e+00, -7.07106781e-01, -7.07106781e-01,\n",
       "         -3.91362179e-03,  9.99992342e-01],\n",
       "        [ 1.10225078e+00, -8.66025404e-01, -5.00000000e-01,\n",
       "         -3.19684396e-03,  9.99994890e-01]]])"
      ]
     },
     "execution_count": 92,
     "metadata": {},
     "output_type": "execute_result"
    }
   ],
   "source": [
    "preprocess(X2_train)\n",
    "preprocess(X2_val)\n",
    "preprocess(X2_test)"
   ]
  },
  {
   "attachments": {},
   "cell_type": "markdown",
   "metadata": {},
   "source": [
    "26. Create the model, everything stays the same as the first attempt but the InputLayer since the dimensions have now changed because we added those extra time features. "
   ]
  },
  {
   "cell_type": "code",
   "execution_count": 93,
   "metadata": {},
   "outputs": [
    {
     "name": "stdout",
     "output_type": "stream",
     "text": [
      "Model: \"sequential_4\"\n",
      "_________________________________________________________________\n",
      " Layer (type)                Output Shape              Param #   \n",
      "=================================================================\n",
      " lstm_4 (LSTM)               (None, 64)                17920     \n",
      "                                                                 \n",
      " dense_8 (Dense)             (None, 8)                 520       \n",
      "                                                                 \n",
      " dense_9 (Dense)             (None, 1)                 9         \n",
      "                                                                 \n",
      "=================================================================\n",
      "Total params: 18,449\n",
      "Trainable params: 18,449\n",
      "Non-trainable params: 0\n",
      "_________________________________________________________________\n"
     ]
    }
   ],
   "source": [
    "model2 = Sequential()\n",
    "model2.add(InputLayer((8, 5)))\n",
    "model2.add(LSTM(64))\n",
    "model2.add(Dense(8,'relu'))\n",
    "model2.add(Dense(1,'linear'))\n",
    "\n",
    "model2.summary()"
   ]
  },
  {
   "attachments": {},
   "cell_type": "markdown",
   "metadata": {},
   "source": [
    "27. Create the checkpoint to save the best model."
   ]
  },
  {
   "cell_type": "code",
   "execution_count": 94,
   "metadata": {},
   "outputs": [],
   "source": [
    "cp2 = ModelCheckpoint('model2/',save_best_only=True)\n",
    "model2.compile(loss=MeanSquaredError(), optimizer = Adam(learning_rate=0.0001), metrics=RootMeanSquaredError())"
   ]
  },
  {
   "attachments": {},
   "cell_type": "markdown",
   "metadata": {},
   "source": [
    "28. Fit the model."
   ]
  },
  {
   "cell_type": "code",
   "execution_count": 95,
   "metadata": {},
   "outputs": [
    {
     "name": "stdout",
     "output_type": "stream",
     "text": [
      "Epoch 1/25\n",
      "373/375 [============================>.] - ETA: 0s - loss: 985.4294 - root_mean_squared_error: 31.3916"
     ]
    },
    {
     "name": "stderr",
     "output_type": "stream",
     "text": [
      "WARNING:absl:Found untraced functions such as lstm_cell_6_layer_call_fn, lstm_cell_6_layer_call_and_return_conditional_losses while saving (showing 2 of 2). These functions will not be directly callable after loading.\n"
     ]
    },
    {
     "name": "stdout",
     "output_type": "stream",
     "text": [
      "INFO:tensorflow:Assets written to: model2\\assets\n"
     ]
    },
    {
     "name": "stderr",
     "output_type": "stream",
     "text": [
      "INFO:tensorflow:Assets written to: model2\\assets\n"
     ]
    },
    {
     "name": "stdout",
     "output_type": "stream",
     "text": [
      "375/375 [==============================] - 15s 31ms/step - loss: 981.9498 - root_mean_squared_error: 31.3361 - val_loss: 206.6634 - val_root_mean_squared_error: 14.3758\n",
      "Epoch 2/25\n",
      "370/375 [============================>.] - ETA: 0s - loss: 659.4167 - root_mean_squared_error: 25.6791"
     ]
    },
    {
     "name": "stderr",
     "output_type": "stream",
     "text": [
      "WARNING:absl:Found untraced functions such as lstm_cell_6_layer_call_fn, lstm_cell_6_layer_call_and_return_conditional_losses while saving (showing 2 of 2). These functions will not be directly callable after loading.\n"
     ]
    },
    {
     "name": "stdout",
     "output_type": "stream",
     "text": [
      "INFO:tensorflow:Assets written to: model2\\assets\n"
     ]
    },
    {
     "name": "stderr",
     "output_type": "stream",
     "text": [
      "INFO:tensorflow:Assets written to: model2\\assets\n"
     ]
    },
    {
     "name": "stdout",
     "output_type": "stream",
     "text": [
      "375/375 [==============================] - 11s 30ms/step - loss: 663.7059 - root_mean_squared_error: 25.7625 - val_loss: 80.8315 - val_root_mean_squared_error: 8.9906\n",
      "Epoch 3/25\n",
      "372/375 [============================>.] - ETA: 0s - loss: 570.3365 - root_mean_squared_error: 23.8817"
     ]
    },
    {
     "name": "stderr",
     "output_type": "stream",
     "text": [
      "WARNING:absl:Found untraced functions such as lstm_cell_6_layer_call_fn, lstm_cell_6_layer_call_and_return_conditional_losses while saving (showing 2 of 2). These functions will not be directly callable after loading.\n"
     ]
    },
    {
     "name": "stdout",
     "output_type": "stream",
     "text": [
      "INFO:tensorflow:Assets written to: model2\\assets\n"
     ]
    },
    {
     "name": "stderr",
     "output_type": "stream",
     "text": [
      "INFO:tensorflow:Assets written to: model2\\assets\n"
     ]
    },
    {
     "name": "stdout",
     "output_type": "stream",
     "text": [
      "375/375 [==============================] - 12s 32ms/step - loss: 570.7507 - root_mean_squared_error: 23.8904 - val_loss: 77.5388 - val_root_mean_squared_error: 8.8056\n",
      "Epoch 4/25\n",
      "372/375 [============================>.] - ETA: 0s - loss: 510.5986 - root_mean_squared_error: 22.5964"
     ]
    },
    {
     "name": "stderr",
     "output_type": "stream",
     "text": [
      "WARNING:absl:Found untraced functions such as lstm_cell_6_layer_call_fn, lstm_cell_6_layer_call_and_return_conditional_losses while saving (showing 2 of 2). These functions will not be directly callable after loading.\n"
     ]
    },
    {
     "name": "stdout",
     "output_type": "stream",
     "text": [
      "INFO:tensorflow:Assets written to: model2\\assets\n"
     ]
    },
    {
     "name": "stderr",
     "output_type": "stream",
     "text": [
      "INFO:tensorflow:Assets written to: model2\\assets\n"
     ]
    },
    {
     "name": "stdout",
     "output_type": "stream",
     "text": [
      "375/375 [==============================] - 11s 29ms/step - loss: 513.4573 - root_mean_squared_error: 22.6596 - val_loss: 68.7425 - val_root_mean_squared_error: 8.2911\n",
      "Epoch 5/25\n",
      "372/375 [============================>.] - ETA: 0s - loss: 460.3982 - root_mean_squared_error: 21.4569"
     ]
    },
    {
     "name": "stderr",
     "output_type": "stream",
     "text": [
      "WARNING:absl:Found untraced functions such as lstm_cell_6_layer_call_fn, lstm_cell_6_layer_call_and_return_conditional_losses while saving (showing 2 of 2). These functions will not be directly callable after loading.\n"
     ]
    },
    {
     "name": "stdout",
     "output_type": "stream",
     "text": [
      "INFO:tensorflow:Assets written to: model2\\assets\n"
     ]
    },
    {
     "name": "stderr",
     "output_type": "stream",
     "text": [
      "INFO:tensorflow:Assets written to: model2\\assets\n"
     ]
    },
    {
     "name": "stdout",
     "output_type": "stream",
     "text": [
      "375/375 [==============================] - 13s 34ms/step - loss: 457.5724 - root_mean_squared_error: 21.3909 - val_loss: 55.2728 - val_root_mean_squared_error: 7.4346\n",
      "Epoch 6/25\n",
      "373/375 [============================>.] - ETA: 0s - loss: 398.1480 - root_mean_squared_error: 19.9536"
     ]
    },
    {
     "name": "stderr",
     "output_type": "stream",
     "text": [
      "WARNING:absl:Found untraced functions such as lstm_cell_6_layer_call_fn, lstm_cell_6_layer_call_and_return_conditional_losses while saving (showing 2 of 2). These functions will not be directly callable after loading.\n"
     ]
    },
    {
     "name": "stdout",
     "output_type": "stream",
     "text": [
      "INFO:tensorflow:Assets written to: model2\\assets\n"
     ]
    },
    {
     "name": "stderr",
     "output_type": "stream",
     "text": [
      "INFO:tensorflow:Assets written to: model2\\assets\n"
     ]
    },
    {
     "name": "stdout",
     "output_type": "stream",
     "text": [
      "375/375 [==============================] - 15s 41ms/step - loss: 401.9180 - root_mean_squared_error: 20.0479 - val_loss: 47.1988 - val_root_mean_squared_error: 6.8701\n",
      "Epoch 7/25\n",
      "374/375 [============================>.] - ETA: 0s - loss: 342.3224 - root_mean_squared_error: 18.5020"
     ]
    },
    {
     "name": "stderr",
     "output_type": "stream",
     "text": [
      "WARNING:absl:Found untraced functions such as lstm_cell_6_layer_call_fn, lstm_cell_6_layer_call_and_return_conditional_losses while saving (showing 2 of 2). These functions will not be directly callable after loading.\n"
     ]
    },
    {
     "name": "stdout",
     "output_type": "stream",
     "text": [
      "INFO:tensorflow:Assets written to: model2\\assets\n"
     ]
    },
    {
     "name": "stderr",
     "output_type": "stream",
     "text": [
      "INFO:tensorflow:Assets written to: model2\\assets\n"
     ]
    },
    {
     "name": "stdout",
     "output_type": "stream",
     "text": [
      "375/375 [==============================] - 11s 30ms/step - loss: 343.3746 - root_mean_squared_error: 18.5304 - val_loss: 44.0600 - val_root_mean_squared_error: 6.6378\n",
      "Epoch 8/25\n",
      "371/375 [============================>.] - ETA: 0s - loss: 297.7581 - root_mean_squared_error: 17.2557"
     ]
    },
    {
     "name": "stderr",
     "output_type": "stream",
     "text": [
      "WARNING:absl:Found untraced functions such as lstm_cell_6_layer_call_fn, lstm_cell_6_layer_call_and_return_conditional_losses while saving (showing 2 of 2). These functions will not be directly callable after loading.\n"
     ]
    },
    {
     "name": "stdout",
     "output_type": "stream",
     "text": [
      "INFO:tensorflow:Assets written to: model2\\assets\n"
     ]
    },
    {
     "name": "stderr",
     "output_type": "stream",
     "text": [
      "INFO:tensorflow:Assets written to: model2\\assets\n"
     ]
    },
    {
     "name": "stdout",
     "output_type": "stream",
     "text": [
      "375/375 [==============================] - 11s 28ms/step - loss: 298.4804 - root_mean_squared_error: 17.2766 - val_loss: 40.8866 - val_root_mean_squared_error: 6.3943\n",
      "Epoch 9/25\n",
      "375/375 [==============================] - ETA: 0s - loss: 261.6330 - root_mean_squared_error: 16.1751"
     ]
    },
    {
     "name": "stderr",
     "output_type": "stream",
     "text": [
      "WARNING:absl:Found untraced functions such as lstm_cell_6_layer_call_fn, lstm_cell_6_layer_call_and_return_conditional_losses while saving (showing 2 of 2). These functions will not be directly callable after loading.\n"
     ]
    },
    {
     "name": "stdout",
     "output_type": "stream",
     "text": [
      "INFO:tensorflow:Assets written to: model2\\assets\n"
     ]
    },
    {
     "name": "stderr",
     "output_type": "stream",
     "text": [
      "INFO:tensorflow:Assets written to: model2\\assets\n"
     ]
    },
    {
     "name": "stdout",
     "output_type": "stream",
     "text": [
      "375/375 [==============================] - 13s 35ms/step - loss: 261.6330 - root_mean_squared_error: 16.1751 - val_loss: 36.1683 - val_root_mean_squared_error: 6.0140\n",
      "Epoch 10/25\n",
      "374/375 [============================>.] - ETA: 0s - loss: 229.9015 - root_mean_squared_error: 15.1625"
     ]
    },
    {
     "name": "stderr",
     "output_type": "stream",
     "text": [
      "WARNING:absl:Found untraced functions such as lstm_cell_6_layer_call_fn, lstm_cell_6_layer_call_and_return_conditional_losses while saving (showing 2 of 2). These functions will not be directly callable after loading.\n"
     ]
    },
    {
     "name": "stdout",
     "output_type": "stream",
     "text": [
      "INFO:tensorflow:Assets written to: model2\\assets\n"
     ]
    },
    {
     "name": "stderr",
     "output_type": "stream",
     "text": [
      "INFO:tensorflow:Assets written to: model2\\assets\n"
     ]
    },
    {
     "name": "stdout",
     "output_type": "stream",
     "text": [
      "375/375 [==============================] - 12s 33ms/step - loss: 229.5378 - root_mean_squared_error: 15.1505 - val_loss: 31.2608 - val_root_mean_squared_error: 5.5911\n",
      "Epoch 11/25\n",
      "375/375 [==============================] - ETA: 0s - loss: 201.7273 - root_mean_squared_error: 14.2031"
     ]
    },
    {
     "name": "stderr",
     "output_type": "stream",
     "text": [
      "WARNING:absl:Found untraced functions such as lstm_cell_6_layer_call_fn, lstm_cell_6_layer_call_and_return_conditional_losses while saving (showing 2 of 2). These functions will not be directly callable after loading.\n"
     ]
    },
    {
     "name": "stdout",
     "output_type": "stream",
     "text": [
      "INFO:tensorflow:Assets written to: model2\\assets\n"
     ]
    },
    {
     "name": "stderr",
     "output_type": "stream",
     "text": [
      "INFO:tensorflow:Assets written to: model2\\assets\n"
     ]
    },
    {
     "name": "stdout",
     "output_type": "stream",
     "text": [
      "375/375 [==============================] - 11s 29ms/step - loss: 201.7273 - root_mean_squared_error: 14.2031 - val_loss: 28.3406 - val_root_mean_squared_error: 5.3236\n",
      "Epoch 12/25\n",
      "373/375 [============================>.] - ETA: 0s - loss: 178.6057 - root_mean_squared_error: 13.3643"
     ]
    },
    {
     "name": "stderr",
     "output_type": "stream",
     "text": [
      "WARNING:absl:Found untraced functions such as lstm_cell_6_layer_call_fn, lstm_cell_6_layer_call_and_return_conditional_losses while saving (showing 2 of 2). These functions will not be directly callable after loading.\n"
     ]
    },
    {
     "name": "stdout",
     "output_type": "stream",
     "text": [
      "INFO:tensorflow:Assets written to: model2\\assets\n"
     ]
    },
    {
     "name": "stderr",
     "output_type": "stream",
     "text": [
      "INFO:tensorflow:Assets written to: model2\\assets\n"
     ]
    },
    {
     "name": "stdout",
     "output_type": "stream",
     "text": [
      "375/375 [==============================] - 11s 29ms/step - loss: 178.3912 - root_mean_squared_error: 13.3563 - val_loss: 25.3502 - val_root_mean_squared_error: 5.0349\n",
      "Epoch 13/25\n",
      "373/375 [============================>.] - ETA: 0s - loss: 159.7720 - root_mean_squared_error: 12.6401"
     ]
    },
    {
     "name": "stderr",
     "output_type": "stream",
     "text": [
      "WARNING:absl:Found untraced functions such as lstm_cell_6_layer_call_fn, lstm_cell_6_layer_call_and_return_conditional_losses while saving (showing 2 of 2). These functions will not be directly callable after loading.\n"
     ]
    },
    {
     "name": "stdout",
     "output_type": "stream",
     "text": [
      "INFO:tensorflow:Assets written to: model2\\assets\n"
     ]
    },
    {
     "name": "stderr",
     "output_type": "stream",
     "text": [
      "INFO:tensorflow:Assets written to: model2\\assets\n"
     ]
    },
    {
     "name": "stdout",
     "output_type": "stream",
     "text": [
      "375/375 [==============================] - 12s 31ms/step - loss: 159.2440 - root_mean_squared_error: 12.6192 - val_loss: 23.0973 - val_root_mean_squared_error: 4.8060\n",
      "Epoch 14/25\n",
      "372/375 [============================>.] - ETA: 0s - loss: 143.4374 - root_mean_squared_error: 11.9765"
     ]
    },
    {
     "name": "stderr",
     "output_type": "stream",
     "text": [
      "WARNING:absl:Found untraced functions such as lstm_cell_6_layer_call_fn, lstm_cell_6_layer_call_and_return_conditional_losses while saving (showing 2 of 2). These functions will not be directly callable after loading.\n"
     ]
    },
    {
     "name": "stdout",
     "output_type": "stream",
     "text": [
      "INFO:tensorflow:Assets written to: model2\\assets\n"
     ]
    },
    {
     "name": "stderr",
     "output_type": "stream",
     "text": [
      "INFO:tensorflow:Assets written to: model2\\assets\n"
     ]
    },
    {
     "name": "stdout",
     "output_type": "stream",
     "text": [
      "375/375 [==============================] - 11s 30ms/step - loss: 142.7332 - root_mean_squared_error: 11.9471 - val_loss: 20.2255 - val_root_mean_squared_error: 4.4973\n",
      "Epoch 15/25\n",
      "373/375 [============================>.] - ETA: 0s - loss: 128.5934 - root_mean_squared_error: 11.3399"
     ]
    },
    {
     "name": "stderr",
     "output_type": "stream",
     "text": [
      "WARNING:absl:Found untraced functions such as lstm_cell_6_layer_call_fn, lstm_cell_6_layer_call_and_return_conditional_losses while saving (showing 2 of 2). These functions will not be directly callable after loading.\n"
     ]
    },
    {
     "name": "stdout",
     "output_type": "stream",
     "text": [
      "INFO:tensorflow:Assets written to: model2\\assets\n"
     ]
    },
    {
     "name": "stderr",
     "output_type": "stream",
     "text": [
      "INFO:tensorflow:Assets written to: model2\\assets\n"
     ]
    },
    {
     "name": "stdout",
     "output_type": "stream",
     "text": [
      "375/375 [==============================] - 11s 29ms/step - loss: 128.1568 - root_mean_squared_error: 11.3206 - val_loss: 18.0099 - val_root_mean_squared_error: 4.2438\n",
      "Epoch 16/25\n",
      "371/375 [============================>.] - ETA: 0s - loss: 116.3709 - root_mean_squared_error: 10.7875"
     ]
    },
    {
     "name": "stderr",
     "output_type": "stream",
     "text": [
      "WARNING:absl:Found untraced functions such as lstm_cell_6_layer_call_fn, lstm_cell_6_layer_call_and_return_conditional_losses while saving (showing 2 of 2). These functions will not be directly callable after loading.\n"
     ]
    },
    {
     "name": "stdout",
     "output_type": "stream",
     "text": [
      "INFO:tensorflow:Assets written to: model2\\assets\n"
     ]
    },
    {
     "name": "stderr",
     "output_type": "stream",
     "text": [
      "INFO:tensorflow:Assets written to: model2\\assets\n"
     ]
    },
    {
     "name": "stdout",
     "output_type": "stream",
     "text": [
      "375/375 [==============================] - 11s 29ms/step - loss: 115.4998 - root_mean_squared_error: 10.7471 - val_loss: 16.6394 - val_root_mean_squared_error: 4.0791\n",
      "Epoch 17/25\n",
      "375/375 [==============================] - ETA: 0s - loss: 104.5207 - root_mean_squared_error: 10.2235"
     ]
    },
    {
     "name": "stderr",
     "output_type": "stream",
     "text": [
      "WARNING:absl:Found untraced functions such as lstm_cell_6_layer_call_fn, lstm_cell_6_layer_call_and_return_conditional_losses while saving (showing 2 of 2). These functions will not be directly callable after loading.\n"
     ]
    },
    {
     "name": "stdout",
     "output_type": "stream",
     "text": [
      "INFO:tensorflow:Assets written to: model2\\assets\n"
     ]
    },
    {
     "name": "stderr",
     "output_type": "stream",
     "text": [
      "INFO:tensorflow:Assets written to: model2\\assets\n"
     ]
    },
    {
     "name": "stdout",
     "output_type": "stream",
     "text": [
      "375/375 [==============================] - 13s 34ms/step - loss: 104.5207 - root_mean_squared_error: 10.2235 - val_loss: 14.8934 - val_root_mean_squared_error: 3.8592\n",
      "Epoch 18/25\n",
      "371/375 [============================>.] - ETA: 0s - loss: 95.9082 - root_mean_squared_error: 9.7933"
     ]
    },
    {
     "name": "stderr",
     "output_type": "stream",
     "text": [
      "WARNING:absl:Found untraced functions such as lstm_cell_6_layer_call_fn, lstm_cell_6_layer_call_and_return_conditional_losses while saving (showing 2 of 2). These functions will not be directly callable after loading.\n"
     ]
    },
    {
     "name": "stdout",
     "output_type": "stream",
     "text": [
      "INFO:tensorflow:Assets written to: model2\\assets\n"
     ]
    },
    {
     "name": "stderr",
     "output_type": "stream",
     "text": [
      "INFO:tensorflow:Assets written to: model2\\assets\n"
     ]
    },
    {
     "name": "stdout",
     "output_type": "stream",
     "text": [
      "375/375 [==============================] - 12s 31ms/step - loss: 95.0323 - root_mean_squared_error: 9.7485 - val_loss: 13.8607 - val_root_mean_squared_error: 3.7230\n",
      "Epoch 19/25\n",
      "373/375 [============================>.] - ETA: 0s - loss: 85.2300 - root_mean_squared_error: 9.2320"
     ]
    },
    {
     "name": "stderr",
     "output_type": "stream",
     "text": [
      "WARNING:absl:Found untraced functions such as lstm_cell_6_layer_call_fn, lstm_cell_6_layer_call_and_return_conditional_losses while saving (showing 2 of 2). These functions will not be directly callable after loading.\n"
     ]
    },
    {
     "name": "stdout",
     "output_type": "stream",
     "text": [
      "INFO:tensorflow:Assets written to: model2\\assets\n"
     ]
    },
    {
     "name": "stderr",
     "output_type": "stream",
     "text": [
      "INFO:tensorflow:Assets written to: model2\\assets\n"
     ]
    },
    {
     "name": "stdout",
     "output_type": "stream",
     "text": [
      "375/375 [==============================] - 18s 47ms/step - loss: 86.8241 - root_mean_squared_error: 9.3179 - val_loss: 12.8277 - val_root_mean_squared_error: 3.5816\n",
      "Epoch 20/25\n",
      "373/375 [============================>.] - ETA: 0s - loss: 78.5402 - root_mean_squared_error: 8.8623"
     ]
    },
    {
     "name": "stderr",
     "output_type": "stream",
     "text": [
      "WARNING:absl:Found untraced functions such as lstm_cell_6_layer_call_fn, lstm_cell_6_layer_call_and_return_conditional_losses while saving (showing 2 of 2). These functions will not be directly callable after loading.\n"
     ]
    },
    {
     "name": "stdout",
     "output_type": "stream",
     "text": [
      "INFO:tensorflow:Assets written to: model2\\assets\n"
     ]
    },
    {
     "name": "stderr",
     "output_type": "stream",
     "text": [
      "INFO:tensorflow:Assets written to: model2\\assets\n"
     ]
    },
    {
     "name": "stdout",
     "output_type": "stream",
     "text": [
      "375/375 [==============================] - 19s 51ms/step - loss: 79.4194 - root_mean_squared_error: 8.9118 - val_loss: 11.7958 - val_root_mean_squared_error: 3.4345\n",
      "Epoch 21/25\n",
      "373/375 [============================>.] - ETA: 0s - loss: 73.3029 - root_mean_squared_error: 8.5617"
     ]
    },
    {
     "name": "stderr",
     "output_type": "stream",
     "text": [
      "WARNING:absl:Found untraced functions such as lstm_cell_6_layer_call_fn, lstm_cell_6_layer_call_and_return_conditional_losses while saving (showing 2 of 2). These functions will not be directly callable after loading.\n"
     ]
    },
    {
     "name": "stdout",
     "output_type": "stream",
     "text": [
      "INFO:tensorflow:Assets written to: model2\\assets\n"
     ]
    },
    {
     "name": "stderr",
     "output_type": "stream",
     "text": [
      "INFO:tensorflow:Assets written to: model2\\assets\n"
     ]
    },
    {
     "name": "stdout",
     "output_type": "stream",
     "text": [
      "375/375 [==============================] - 17s 45ms/step - loss: 73.0044 - root_mean_squared_error: 8.5443 - val_loss: 11.2130 - val_root_mean_squared_error: 3.3486\n",
      "Epoch 22/25\n",
      "375/375 [==============================] - ETA: 0s - loss: 67.1559 - root_mean_squared_error: 8.1949"
     ]
    },
    {
     "name": "stderr",
     "output_type": "stream",
     "text": [
      "WARNING:absl:Found untraced functions such as lstm_cell_6_layer_call_fn, lstm_cell_6_layer_call_and_return_conditional_losses while saving (showing 2 of 2). These functions will not be directly callable after loading.\n"
     ]
    },
    {
     "name": "stdout",
     "output_type": "stream",
     "text": [
      "INFO:tensorflow:Assets written to: model2\\assets\n"
     ]
    },
    {
     "name": "stderr",
     "output_type": "stream",
     "text": [
      "INFO:tensorflow:Assets written to: model2\\assets\n"
     ]
    },
    {
     "name": "stdout",
     "output_type": "stream",
     "text": [
      "375/375 [==============================] - 18s 49ms/step - loss: 67.1559 - root_mean_squared_error: 8.1949 - val_loss: 10.9693 - val_root_mean_squared_error: 3.3120\n",
      "Epoch 23/25\n",
      "375/375 [==============================] - ETA: 0s - loss: 62.0631 - root_mean_squared_error: 7.8780"
     ]
    },
    {
     "name": "stderr",
     "output_type": "stream",
     "text": [
      "WARNING:absl:Found untraced functions such as lstm_cell_6_layer_call_fn, lstm_cell_6_layer_call_and_return_conditional_losses while saving (showing 2 of 2). These functions will not be directly callable after loading.\n"
     ]
    },
    {
     "name": "stdout",
     "output_type": "stream",
     "text": [
      "INFO:tensorflow:Assets written to: model2\\assets\n"
     ]
    },
    {
     "name": "stderr",
     "output_type": "stream",
     "text": [
      "INFO:tensorflow:Assets written to: model2\\assets\n"
     ]
    },
    {
     "name": "stdout",
     "output_type": "stream",
     "text": [
      "375/375 [==============================] - 17s 46ms/step - loss: 62.0631 - root_mean_squared_error: 7.8780 - val_loss: 10.2911 - val_root_mean_squared_error: 3.2080\n",
      "Epoch 24/25\n",
      "373/375 [============================>.] - ETA: 0s - loss: 57.4823 - root_mean_squared_error: 7.5817"
     ]
    },
    {
     "name": "stderr",
     "output_type": "stream",
     "text": [
      "WARNING:absl:Found untraced functions such as lstm_cell_6_layer_call_fn, lstm_cell_6_layer_call_and_return_conditional_losses while saving (showing 2 of 2). These functions will not be directly callable after loading.\n"
     ]
    },
    {
     "name": "stdout",
     "output_type": "stream",
     "text": [
      "INFO:tensorflow:Assets written to: model2\\assets\n"
     ]
    },
    {
     "name": "stderr",
     "output_type": "stream",
     "text": [
      "INFO:tensorflow:Assets written to: model2\\assets\n"
     ]
    },
    {
     "name": "stdout",
     "output_type": "stream",
     "text": [
      "375/375 [==============================] - 14s 36ms/step - loss: 57.5985 - root_mean_squared_error: 7.5894 - val_loss: 9.8247 - val_root_mean_squared_error: 3.1344\n",
      "Epoch 25/25\n",
      "372/375 [============================>.] - ETA: 0s - loss: 54.1629 - root_mean_squared_error: 7.3595"
     ]
    },
    {
     "name": "stderr",
     "output_type": "stream",
     "text": [
      "WARNING:absl:Found untraced functions such as lstm_cell_6_layer_call_fn, lstm_cell_6_layer_call_and_return_conditional_losses while saving (showing 2 of 2). These functions will not be directly callable after loading.\n"
     ]
    },
    {
     "name": "stdout",
     "output_type": "stream",
     "text": [
      "INFO:tensorflow:Assets written to: model2\\assets\n"
     ]
    },
    {
     "name": "stderr",
     "output_type": "stream",
     "text": [
      "INFO:tensorflow:Assets written to: model2\\assets\n"
     ]
    },
    {
     "name": "stdout",
     "output_type": "stream",
     "text": [
      "375/375 [==============================] - 12s 33ms/step - loss: 53.8561 - root_mean_squared_error: 7.3387 - val_loss: 9.5864 - val_root_mean_squared_error: 3.0962\n"
     ]
    },
    {
     "data": {
      "text/plain": [
       "<keras.callbacks.History at 0x15efbcfa7c0>"
      ]
     },
     "execution_count": 95,
     "metadata": {},
     "output_type": "execute_result"
    }
   ],
   "source": [
    "model2.fit(X2_train,y2_train, validation_data=(X2_val,y2_val), epochs=25, callbacks=[cp2])"
   ]
  },
  {
   "attachments": {},
   "cell_type": "markdown",
   "metadata": {},
   "source": [
    "29. Load the model so we can work with the best one. "
   ]
  },
  {
   "cell_type": "code",
   "execution_count": 96,
   "metadata": {},
   "outputs": [],
   "source": [
    "model2 = load_model('model2/')"
   ]
  },
  {
   "attachments": {},
   "cell_type": "markdown",
   "metadata": {},
   "source": [
    "30. Calculate the predicted values for the training set and add them to a dataframe along with the actuals."
   ]
  },
  {
   "cell_type": "code",
   "execution_count": 97,
   "metadata": {},
   "outputs": [
    {
     "name": "stdout",
     "output_type": "stream",
     "text": [
      "375/375 [==============================] - 3s 6ms/step\n"
     ]
    },
    {
     "data": {
      "text/html": [
       "<div>\n",
       "<style scoped>\n",
       "    .dataframe tbody tr th:only-of-type {\n",
       "        vertical-align: middle;\n",
       "    }\n",
       "\n",
       "    .dataframe tbody tr th {\n",
       "        vertical-align: top;\n",
       "    }\n",
       "\n",
       "    .dataframe thead th {\n",
       "        text-align: right;\n",
       "    }\n",
       "</style>\n",
       "<table border=\"1\" class=\"dataframe\">\n",
       "  <thead>\n",
       "    <tr style=\"text-align: right;\">\n",
       "      <th></th>\n",
       "      <th>Train Predictions</th>\n",
       "      <th>Actuals</th>\n",
       "    </tr>\n",
       "  </thead>\n",
       "  <tbody>\n",
       "    <tr>\n",
       "      <th>0</th>\n",
       "      <td>17.563658</td>\n",
       "      <td>16.85</td>\n",
       "    </tr>\n",
       "    <tr>\n",
       "      <th>1</th>\n",
       "      <td>18.413067</td>\n",
       "      <td>15.64</td>\n",
       "    </tr>\n",
       "    <tr>\n",
       "      <th>2</th>\n",
       "      <td>14.568844</td>\n",
       "      <td>13.76</td>\n",
       "    </tr>\n",
       "    <tr>\n",
       "      <th>3</th>\n",
       "      <td>11.244500</td>\n",
       "      <td>9.90</td>\n",
       "    </tr>\n",
       "    <tr>\n",
       "      <th>4</th>\n",
       "      <td>7.124734</td>\n",
       "      <td>6.93</td>\n",
       "    </tr>\n",
       "    <tr>\n",
       "      <th>...</th>\n",
       "      <td>...</td>\n",
       "      <td>...</td>\n",
       "    </tr>\n",
       "    <tr>\n",
       "      <th>11995</th>\n",
       "      <td>2.915717</td>\n",
       "      <td>4.54</td>\n",
       "    </tr>\n",
       "    <tr>\n",
       "      <th>11996</th>\n",
       "      <td>4.148431</td>\n",
       "      <td>5.91</td>\n",
       "    </tr>\n",
       "    <tr>\n",
       "      <th>11997</th>\n",
       "      <td>5.846397</td>\n",
       "      <td>7.60</td>\n",
       "    </tr>\n",
       "    <tr>\n",
       "      <th>11998</th>\n",
       "      <td>7.899353</td>\n",
       "      <td>11.78</td>\n",
       "    </tr>\n",
       "    <tr>\n",
       "      <th>11999</th>\n",
       "      <td>12.715192</td>\n",
       "      <td>12.08</td>\n",
       "    </tr>\n",
       "  </tbody>\n",
       "</table>\n",
       "<p>12000 rows × 2 columns</p>\n",
       "</div>"
      ],
      "text/plain": [
       "       Train Predictions  Actuals\n",
       "0              17.563658    16.85\n",
       "1              18.413067    15.64\n",
       "2              14.568844    13.76\n",
       "3              11.244500     9.90\n",
       "4               7.124734     6.93\n",
       "...                  ...      ...\n",
       "11995           2.915717     4.54\n",
       "11996           4.148431     5.91\n",
       "11997           5.846397     7.60\n",
       "11998           7.899353    11.78\n",
       "11999          12.715192    12.08\n",
       "\n",
       "[12000 rows x 2 columns]"
      ]
     },
     "execution_count": 97,
     "metadata": {},
     "output_type": "execute_result"
    }
   ],
   "source": [
    "train_predictions2 = model2.predict(X2_train).flatten()\n",
    "train_results2 = pd.DataFrame(data={'Train Predictions': train_predictions2, 'Actuals': y2_train})\n",
    "train_results2"
   ]
  },
  {
   "attachments": {},
   "cell_type": "markdown",
   "metadata": {},
   "source": [
    "31. Visualize the data to compare predicted values to the actual values for the training set. Again, the model did a pretty good job of predicting values since the lines are pretty close together, but it seems like it had a harder time predicting the larger spikes. "
   ]
  },
  {
   "cell_type": "code",
   "execution_count": 98,
   "metadata": {},
   "outputs": [
    {
     "data": {
      "image/png": "[encoded data removed]",
      "text/plain": [
       "<Figure size 640x480 with 1 Axes>"
      ]
     },
     "metadata": {},
     "output_type": "display_data"
    }
   ],
   "source": [
    "plt.plot(train_results2['Train Predictions'][:100])\n",
    "plt.plot(train_results2['Actuals'][:100])\n",
    "plt.title('Predicted vs Actual Values for Training Set')\n",
    "plt.legend(['Predictions','Actuals']);"
   ]
  },
  {
   "attachments": {},
   "cell_type": "markdown",
   "metadata": {},
   "source": [
    "32. Calculate the predicted values for the validation set and add them to a dataframe along with the actuals."
   ]
  },
  {
   "cell_type": "code",
   "execution_count": 99,
   "metadata": {},
   "outputs": [
    {
     "name": "stdout",
     "output_type": "stream",
     "text": [
      "94/94 [==============================] - 1s 6ms/step\n"
     ]
    },
    {
     "data": {
      "text/html": [
       "<div>\n",
       "<style scoped>\n",
       "    .dataframe tbody tr th:only-of-type {\n",
       "        vertical-align: middle;\n",
       "    }\n",
       "\n",
       "    .dataframe tbody tr th {\n",
       "        vertical-align: top;\n",
       "    }\n",
       "\n",
       "    .dataframe thead th {\n",
       "        text-align: right;\n",
       "    }\n",
       "</style>\n",
       "<table border=\"1\" class=\"dataframe\">\n",
       "  <thead>\n",
       "    <tr style=\"text-align: right;\">\n",
       "      <th></th>\n",
       "      <th>Val Predictions</th>\n",
       "      <th>Actuals</th>\n",
       "    </tr>\n",
       "  </thead>\n",
       "  <tbody>\n",
       "    <tr>\n",
       "      <th>0</th>\n",
       "      <td>13.158305</td>\n",
       "      <td>5.95</td>\n",
       "    </tr>\n",
       "    <tr>\n",
       "      <th>1</th>\n",
       "      <td>4.460679</td>\n",
       "      <td>6.47</td>\n",
       "    </tr>\n",
       "    <tr>\n",
       "      <th>2</th>\n",
       "      <td>4.719938</td>\n",
       "      <td>8.21</td>\n",
       "    </tr>\n",
       "    <tr>\n",
       "      <th>3</th>\n",
       "      <td>7.801720</td>\n",
       "      <td>4.67</td>\n",
       "    </tr>\n",
       "    <tr>\n",
       "      <th>4</th>\n",
       "      <td>3.740158</td>\n",
       "      <td>4.16</td>\n",
       "    </tr>\n",
       "    <tr>\n",
       "      <th>...</th>\n",
       "      <td>...</td>\n",
       "      <td>...</td>\n",
       "    </tr>\n",
       "    <tr>\n",
       "      <th>2995</th>\n",
       "      <td>18.051649</td>\n",
       "      <td>17.85</td>\n",
       "    </tr>\n",
       "    <tr>\n",
       "      <th>2996</th>\n",
       "      <td>18.084139</td>\n",
       "      <td>18.36</td>\n",
       "    </tr>\n",
       "    <tr>\n",
       "      <th>2997</th>\n",
       "      <td>19.454304</td>\n",
       "      <td>18.85</td>\n",
       "    </tr>\n",
       "    <tr>\n",
       "      <th>2998</th>\n",
       "      <td>20.259136</td>\n",
       "      <td>16.84</td>\n",
       "    </tr>\n",
       "    <tr>\n",
       "      <th>2999</th>\n",
       "      <td>17.171370</td>\n",
       "      <td>17.90</td>\n",
       "    </tr>\n",
       "  </tbody>\n",
       "</table>\n",
       "<p>3000 rows × 2 columns</p>\n",
       "</div>"
      ],
      "text/plain": [
       "      Val Predictions  Actuals\n",
       "0           13.158305     5.95\n",
       "1            4.460679     6.47\n",
       "2            4.719938     8.21\n",
       "3            7.801720     4.67\n",
       "4            3.740158     4.16\n",
       "...               ...      ...\n",
       "2995        18.051649    17.85\n",
       "2996        18.084139    18.36\n",
       "2997        19.454304    18.85\n",
       "2998        20.259136    16.84\n",
       "2999        17.171370    17.90\n",
       "\n",
       "[3000 rows x 2 columns]"
      ]
     },
     "execution_count": 99,
     "metadata": {},
     "output_type": "execute_result"
    }
   ],
   "source": [
    "val_predictions2 = model2.predict(X2_val).flatten()\n",
    "val_results2 = pd.DataFrame(data={'Val Predictions': val_predictions2, 'Actuals': y2_val})\n",
    "val_results2"
   ]
  },
  {
   "attachments": {},
   "cell_type": "markdown",
   "metadata": {},
   "source": [
    "33. Visualize the data to compare predicted values to the actual values for the validation set. For this set, it looks like the model did a little better at predicting that larger spike."
   ]
  },
  {
   "cell_type": "code",
   "execution_count": 100,
   "metadata": {},
   "outputs": [
    {
     "data": {
      "image/png": "[encoded data removed]",
      "text/plain": [
       "<Figure size 640x480 with 1 Axes>"
      ]
     },
     "metadata": {},
     "output_type": "display_data"
    }
   ],
   "source": [
    "plt.plot(val_results2['Val Predictions'][:100])\n",
    "plt.plot(val_results2['Actuals'][:100])\n",
    "plt.title('Predicted vs Actual Values for Training Set')\n",
    "plt.legend(['Predictions','Actuals']);"
   ]
  },
  {
   "attachments": {},
   "cell_type": "markdown",
   "metadata": {},
   "source": [
    "34. Calculate the predicted values for the training set and add them to a dataframe along with the actuals."
   ]
  },
  {
   "cell_type": "code",
   "execution_count": 101,
   "metadata": {},
   "outputs": [
    {
     "name": "stdout",
     "output_type": "stream",
     "text": [
      "96/96 [==============================] - 1s 7ms/step\n"
     ]
    },
    {
     "data": {
      "text/html": [
       "<div>\n",
       "<style scoped>\n",
       "    .dataframe tbody tr th:only-of-type {\n",
       "        vertical-align: middle;\n",
       "    }\n",
       "\n",
       "    .dataframe tbody tr th {\n",
       "        vertical-align: top;\n",
       "    }\n",
       "\n",
       "    .dataframe thead th {\n",
       "        text-align: right;\n",
       "    }\n",
       "</style>\n",
       "<table border=\"1\" class=\"dataframe\">\n",
       "  <thead>\n",
       "    <tr style=\"text-align: right;\">\n",
       "      <th></th>\n",
       "      <th>Test Predictions</th>\n",
       "      <th>Actuals</th>\n",
       "    </tr>\n",
       "  </thead>\n",
       "  <tbody>\n",
       "    <tr>\n",
       "      <th>0</th>\n",
       "      <td>18.444698</td>\n",
       "      <td>19.42</td>\n",
       "    </tr>\n",
       "    <tr>\n",
       "      <th>1</th>\n",
       "      <td>20.248428</td>\n",
       "      <td>22.37</td>\n",
       "    </tr>\n",
       "    <tr>\n",
       "      <th>2</th>\n",
       "      <td>23.055328</td>\n",
       "      <td>26.01</td>\n",
       "    </tr>\n",
       "    <tr>\n",
       "      <th>3</th>\n",
       "      <td>26.662588</td>\n",
       "      <td>23.03</td>\n",
       "    </tr>\n",
       "    <tr>\n",
       "      <th>4</th>\n",
       "      <td>20.726311</td>\n",
       "      <td>17.09</td>\n",
       "    </tr>\n",
       "    <tr>\n",
       "      <th>...</th>\n",
       "      <td>...</td>\n",
       "      <td>...</td>\n",
       "    </tr>\n",
       "    <tr>\n",
       "      <th>3048</th>\n",
       "      <td>30.673546</td>\n",
       "      <td>36.08</td>\n",
       "    </tr>\n",
       "    <tr>\n",
       "      <th>3049</th>\n",
       "      <td>44.360867</td>\n",
       "      <td>45.75</td>\n",
       "    </tr>\n",
       "    <tr>\n",
       "      <th>3050</th>\n",
       "      <td>50.461403</td>\n",
       "      <td>50.21</td>\n",
       "    </tr>\n",
       "    <tr>\n",
       "      <th>3051</th>\n",
       "      <td>48.213852</td>\n",
       "      <td>48.14</td>\n",
       "    </tr>\n",
       "    <tr>\n",
       "      <th>3052</th>\n",
       "      <td>43.971603</td>\n",
       "      <td>44.33</td>\n",
       "    </tr>\n",
       "  </tbody>\n",
       "</table>\n",
       "<p>3053 rows × 2 columns</p>\n",
       "</div>"
      ],
      "text/plain": [
       "      Test Predictions  Actuals\n",
       "0            18.444698    19.42\n",
       "1            20.248428    22.37\n",
       "2            23.055328    26.01\n",
       "3            26.662588    23.03\n",
       "4            20.726311    17.09\n",
       "...                ...      ...\n",
       "3048         30.673546    36.08\n",
       "3049         44.360867    45.75\n",
       "3050         50.461403    50.21\n",
       "3051         48.213852    48.14\n",
       "3052         43.971603    44.33\n",
       "\n",
       "[3053 rows x 2 columns]"
      ]
     },
     "execution_count": 101,
     "metadata": {},
     "output_type": "execute_result"
    }
   ],
   "source": [
    "test_predictions2 = model2.predict(X2_test).flatten()\n",
    "test_results2 = pd.DataFrame(data={'Test Predictions': test_predictions2, 'Actuals': y2_test})\n",
    "test_results2"
   ]
  },
  {
   "attachments": {},
   "cell_type": "markdown",
   "metadata": {},
   "source": [
    "35. Visualize the data to compare predicted values to the actual values for the testing set. For this set, it looks like the model's predictions overshot the actuals for the larger spikes."
   ]
  },
  {
   "cell_type": "code",
   "execution_count": 102,
   "metadata": {},
   "outputs": [
    {
     "data": {
      "image/png": "[encoded data removed]",
      "text/plain": [
       "<Figure size 640x480 with 1 Axes>"
      ]
     },
     "metadata": {},
     "output_type": "display_data"
    }
   ],
   "source": [
    "plt.plot(test_results2['Test Predictions'][:100])\n",
    "plt.plot(test_results2['Actuals'][:100])\n",
    "plt.title('Predicted vs Actual Values for Training Set')\n",
    "plt.legend(['Predictions','Actuals']);"
   ]
  },
  {
   "attachments": {},
   "cell_type": "markdown",
   "metadata": {},
   "source": [
    "36. Calculate the coefficient of determination for the training set, validation set, and testing set. As you can see, the model performed well but it only performed better on the test set, the values for the other two sets are lower than our first LSTM model. Those values were .94 and .99 respectively, and now they are .92 and .90. The coefficient of determination for the last model's test set was .88 and this model's is .90, so while it is better, it only improved by .02. You could definitely refine the model to improve it, but overall it does not seem as if the added features are necessary like they were for XGBoost since our fist model performed quite well. "
   ]
  },
  {
   "cell_type": "code",
   "execution_count": 103,
   "metadata": {},
   "outputs": [
    {
     "data": {
      "text/plain": [
       "0.9281797642925328"
      ]
     },
     "execution_count": 103,
     "metadata": {},
     "output_type": "execute_result"
    }
   ],
   "source": [
    "train2_r2 = r2_score(train_results2['Actuals'],train_results2['Train Predictions'])\n",
    "train2_r2"
   ]
  },
  {
   "cell_type": "code",
   "execution_count": 104,
   "metadata": {},
   "outputs": [
    {
     "data": {
      "text/plain": [
       "0.909138075244249"
      ]
     },
     "execution_count": 104,
     "metadata": {},
     "output_type": "execute_result"
    }
   ],
   "source": [
    "val2_r2 = r2_score(val_results2['Actuals'],val_results2['Val Predictions'])\n",
    "val2_r2"
   ]
  },
  {
   "cell_type": "code",
   "execution_count": 105,
   "metadata": {},
   "outputs": [
    {
     "data": {
      "text/plain": [
       "0.9011490413852712"
      ]
     },
     "execution_count": 105,
     "metadata": {},
     "output_type": "execute_result"
    }
   ],
   "source": [
    "test2_r2 = r2_score(test_results2['Actuals'],test_results2['Test Predictions'])\n",
    "test2_r2"
   ]
  }
 ],
 "metadata": {
  "kernelspec": {
   "display_name": "base",
   "language": "python",
   "name": "python3"
  },
  "language_info": {
   "codemirror_mode": {
    "name": "ipython",
    "version": 3
   },
   "file_extension": ".py",
   "mimetype": "text/x-python",
   "name": "python",
   "nbconvert_exporter": "python",
   "pygments_lexer": "ipython3",
   "version": "3.9.13 (main, Aug 25 2022, 23:51:50) [MSC v.1916 64 bit (AMD64)]"
  },
  "orig_nbformat": 4,
  "vscode": {
   "interpreter": {
    "hash": "7939009c0f665b034ac7d0d020f8ea7c93f1de027612b5d929de2dae80f6a8fb"
   }
  }
 },
 "nbformat": 4,
 "nbformat_minor": 2
}
